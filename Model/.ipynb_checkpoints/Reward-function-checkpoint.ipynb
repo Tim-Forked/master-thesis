{
 "cells": [
  {
   "cell_type": "markdown",
   "metadata": {},
   "source": [
    "# Rewards function for solving the product delivery problem with reinforcement learning techniques"
   ]
  },
  {
   "cell_type": "code",
   "execution_count": 3,
   "metadata": {},
   "outputs": [],
   "source": [
    "import numpy as np\n",
    "import matplotlib.pyplot as plt\n",
    "import matplotlib as mpl"
   ]
  },
  {
   "cell_type": "code",
   "execution_count": 4,
   "metadata": {},
   "outputs": [],
   "source": [
    "#########\n",
    "#Example of values\n",
    "\n",
    "b = 0.2\n",
    "c = 0.61\n",
    "e = 0.9\n",
    "\n",
    "p0 = 0.7\n",
    "\n",
    "M = 10**2\n",
    "P1 = -10**2\n",
    "P2 = -10**3\n",
    "\n",
    "######\n",
    "\n",
    "\n",
    "a = b/10\n",
    "f = 1-(1-e)/10\n",
    "d = p0*e+(1-p0)*c\n",
    "\n",
    "\n",
    "\n",
    "def str_line1(x):\n",
    "    m = 1\n",
    "    n = -c\n",
    "    return((m*x+n)/(c-b))\n",
    "\n",
    "def str_line2(x):\n",
    "    m = 1\n",
    "    n = -c\n",
    "    return(M*(m*x+n)/(d-c))\n",
    "\n",
    "def str_line3(x):\n",
    "    m = 1\n",
    "    n = -e\n",
    "    return(M*(m*x+n)/(d-e))\n",
    "\n",
    "def exp1(x):\n",
    "    A = -P1*(P2/P1)**(1/(1-b/a))\n",
    "    l1 = (1/a-1/b)**(-1) * np.log(P2/P1)\n",
    "    return(-A*np.exp(l1/x))\n",
    "\n",
    "def exp2(x):\n",
    "    B = -P1*(P2/P1)**( 1/(1-(1-e)/(1-f)) )\n",
    "    l2= (1/(1-f)-1/(1-e))**(-1) * np.log(P2/P1)\n",
    "    return(-B * np.exp(l2/(1-x)) ) \n",
    "\n",
    "    "
   ]
  },
  {
   "cell_type": "code",
   "execution_count": 5,
   "metadata": {},
   "outputs": [
    {
     "data": {
      "text/plain": [
       "[<matplotlib.lines.Line2D at 0x7f6185a3a128>]"
      ]
     },
     "execution_count": 5,
     "metadata": {},
     "output_type": "execute_result"
    },
    {
     "data": {
      "image/png": "[encoded data removed]",
      "text/plain": [
       "<matplotlib.figure.Figure at 0x7f6187a6ac50>"
      ]
     },
     "metadata": {},
     "output_type": "display_data"
    }
   ],
   "source": [
    "x = np.linspace(0,1, 1000)\n",
    "conditions = [(x>=0) & (x < a),\n",
    "              (x>=a) & (x<b),\n",
    "              (x>=b) & (x<c),\n",
    "              (x>=c) & (x<d),\n",
    "              (x>=d) & (x<e),\n",
    "              (x>=e) & (x<f),\n",
    "              (x>f) & (x<=1)]\n",
    "\n",
    "functions = [P2,\n",
    "             lambda x: exp1(x),\n",
    "             lambda x: str_line1(x),\n",
    "             lambda x: str_line2(x),\n",
    "             lambda x: str_line3(x),\n",
    "             lambda x: exp2(x),\n",
    "             P2]\n",
    "R = np.piecewise(x,conditions , functions)\n",
    "plt.plot(x,R)"
   ]
  },
  {
   "cell_type": "code",
   "execution_count": null,
   "metadata": {},
   "outputs": [],
   "source": []
  }
 ],
 "metadata": {
  "kernelspec": {
   "display_name": "Python 3",
   "language": "python",
   "name": "python3"
  },
  "language_info": {
   "codemirror_mode": {
    "name": "ipython",
    "version": 3
   },
   "file_extension": ".py",
   "mimetype": "text/x-python",
   "name": "python",
   "nbconvert_exporter": "python",
   "pygments_lexer": "ipython3",
   "version": "3.5.4"
  },
  "toc": {
   "nav_menu": {},
   "number_sections": true,
   "sideBar": true,
   "skip_h1_title": false,
   "title_cell": "Table of Contents",
   "title_sidebar": "Contents",
   "toc_cell": false,
   "toc_position": {},
   "toc_section_display": true,
   "toc_window_display": false
  }
 },
 "nbformat": 4,
 "nbformat_minor": 2
}
