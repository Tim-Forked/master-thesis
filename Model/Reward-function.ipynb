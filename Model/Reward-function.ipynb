{
 "cells": [
  {
   "cell_type": "markdown",
   "metadata": {},
   "source": [
    "# Rewards function for solving the product delivery problem with reinforcement learning techniques"
   ]
  },
  {
   "cell_type": "code",
   "execution_count": 4,
   "metadata": {
    "collapsed": true
   },
   "outputs": [],
   "source": [
    "import numpy as np\n",
    "import matplotlib.pyplot as plt\n",
    "import matplotlib as mpl\n",
    "% matplotlib inline"
   ]
  },
  {
   "cell_type": "code",
   "execution_count": 53,
   "metadata": {
    "collapsed": true
   },
   "outputs": [],
   "source": [
    "#########\n",
    "#Example of values\n",
    "\n",
    "b = 0.25\n",
    "c = 0.60\n",
    "e = 0.80\n",
    "\n",
    "p0 = 0.7\n",
    "\n",
    "M = 10**2\n",
    "P1 = -10**2\n",
    "P2 = -10**3\n",
    "\n",
    "######\n",
    "\n",
    "\n",
    "a = b/10\n",
    "f = 1-(1-e)/10\n",
    "d = p0*e+(1-p0)*c\n",
    "\n",
    "\n",
    "\n",
    "def str_line1(x):\n",
    "    m = 1\n",
    "    n = -c\n",
    "    return((m*x+n)/(c-b))\n",
    "\n",
    "def str_line2(x):\n",
    "    m = 1\n",
    "    n = -c\n",
    "    return(M*(m*x+n)/(d-c))\n",
    "\n",
    "def str_line3(x):\n",
    "    m = 1\n",
    "    n = -e\n",
    "    return(M*(m*x+n)/(d-e))\n",
    "\n",
    "def exp1(x):\n",
    "    A = -P1*(P2/P1)**(1/(1-b/a))\n",
    "    l1 = (1/a-1/b)**(-1) * np.log(P2/P1)\n",
    "    return(-A*np.exp(l1/x))\n",
    "\n",
    "def exp2(x):\n",
    "    B = -P1*(P2/P1)**( 1/(1-(1-e)/(1-f)) )\n",
    "    l2= (1/(1-f)-1/(1-e))**(-1) * np.log(P2/P1)\n",
    "    return(-B * np.exp(l2/(1-x)) ) \n",
    "\n",
    "    "
   ]
  },
  {
   "cell_type": "code",
   "execution_count": 56,
   "metadata": {},
   "outputs": [
    {
     "data": {
      "text/plain": [
       "<matplotlib.lines.Line2D at 0x7ff0eba395c0>"
      ]
     },
     "execution_count": 56,
     "metadata": {},
     "output_type": "execute_result"
    },
    {
     "data": {
      "image/png": "[encoded data removed]",
      "text/plain": [
       "<Figure size 432x288 with 1 Axes>"
      ]
     },
     "metadata": {},
     "output_type": "display_data"
    }
   ],
   "source": [
    "x = np.linspace(0,1, 1000)\n",
    "conditions = [(x>=0) & (x < a),\n",
    "              (x>=a) & (x<b),\n",
    "              (x>=b) & (x<c),\n",
    "              (x>=c) & (x<d),\n",
    "              (x>=d) & (x<e),\n",
    "              (x>=e) & (x<f),\n",
    "              (x>f) & (x<=1)]\n",
    "\n",
    "functions = [P2,\n",
    "             lambda x: exp1(x),\n",
    "             lambda x: str_line1(x),\n",
    "             lambda x: str_line2(x),\n",
    "             lambda x: str_line3(x),\n",
    "             lambda x: exp2(x),\n",
    "             P2]\n",
    "R = np.piecewise(x,conditions , functions)\n",
    "\n",
    "#Plots\n",
    "lvl_colors = [\"Red\", \"Green\",\"Orange\"]\n",
    "\n",
    "plt.plot(x,R, linewidth=4)\n",
    "plt.xticks(np.array([0.0-0.01, a,b,c,d,e,f, 1.0+0.01]), np.array(['0','a', 'b', 'c', 'd', 'e', 'f', '1']), \n",
    "           rotation='vertical')\n",
    "\n",
    "\n",
    "plt.axhline(y= 0, xmin=0, xmax=1, hold=None, \n",
    "                color = \"black\", linestyle = ':')\n",
    "\n",
    "plt.axvline(x =  0-0.01,  hold=None, \n",
    "                color = lvl_colors[0], linestyle = '--')\n",
    "plt.axvline(x =  1+0.01,  hold=None, \n",
    "                color = lvl_colors[0], linestyle = '--')\n",
    "plt.axvline(x =  a,  hold=None, \n",
    "                color = \"black\", linestyle = ':')\n",
    "plt.axvline(x =  b,  hold=None, \n",
    "                color = lvl_colors[2], linestyle = '--')\n",
    "plt.axvline(x =  c,  hold=None, \n",
    "                color = lvl_colors[1], linestyle = '--')\n",
    "plt.axvline(x =  d,  hold=None, \n",
    "                color = \"black\", linestyle = ':')\n",
    "plt.axvline(x =  e,  hold=None, \n",
    "                color = lvl_colors[2], linestyle = '--')\n",
    "plt.axvline(x =  f,  hold=None, \n",
    "                color = \"black\", linestyle = ':')"
   ]
  },
  {
   "cell_type": "code",
   "execution_count": null,
   "metadata": {
    "collapsed": true
   },
   "outputs": [],
   "source": []
  },
  {
   "cell_type": "code",
   "execution_count": null,
   "metadata": {},
   "outputs": [],
   "source": []
  },
  {
   "cell_type": "code",
   "execution_count": null,
   "metadata": {
    "collapsed": true
   },
   "outputs": [],
   "source": []
  }
 ],
 "metadata": {
  "kernelspec": {
   "display_name": "Python 3",
   "language": "python",
   "name": "python3"
  },
  "language_info": {
   "codemirror_mode": {
    "name": "ipython",
    "version": 3
   },
   "file_extension": ".py",
   "mimetype": "text/x-python",
   "name": "python",
   "nbconvert_exporter": "python",
   "pygments_lexer": "ipython3",
   "version": "3.6.3"
  },
  "toc": {
   "nav_menu": {},
   "number_sections": true,
   "sideBar": true,
   "skip_h1_title": false,
   "title_cell": "Table of Contents",
   "title_sidebar": "Contents",
   "toc_cell": false,
   "toc_position": {},
   "toc_section_display": true,
   "toc_window_display": false
  }
 },
 "nbformat": 4,
 "nbformat_minor": 2
}
