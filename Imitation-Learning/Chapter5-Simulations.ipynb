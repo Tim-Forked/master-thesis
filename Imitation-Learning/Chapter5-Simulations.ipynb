{
 "cells": [
  {
   "cell_type": "code",
   "execution_count": 17,
   "metadata": {},
   "outputs": [],
   "source": [
    "\"\"\" \n",
    "This notebook contains the simulations, figures and results \n",
    "presented in Chapter 5 of the master's thesis.\n",
    "\n",
    "In the notebook NN-Classifier-for-hardcoded-policy there is all the code used\n",
    "initially.\n",
    "\n",
    "Author: Daniel Salgado Rojo\n",
    "\"\"\"\n",
    "import tensorflow as tf\n",
    "import numpy as np\n",
    "import gym\n",
    "import gym_pdsystem\n",
    "from gym import wrappers\n",
    "import argparse\n",
    "import pprint as pp\n",
    "\n",
    "from datetime import datetime\n",
    "\n",
    "import random\n",
    "from gym_pdsystem.envs.pdsystem_env import PDSystemEnv\n",
    "\n",
    "import gym_pdsystem.utils.utilsq as ut\n",
    "import gym_pdsystem.utils.constants as ct\n",
    "\n",
    "\n",
    "from matplotlib import animation, rc\n",
    "import matplotlib.pyplot as plt\n",
    "from IPython.display import HTML\n",
    "\n",
    "import os\n",
    "import time \n",
    "import pandas as pd\n",
    "#TO OMMIT WARNINGS\n",
    "import warnings\n",
    "warnings.filterwarnings('ignore')"
   ]
  },
  {
   "cell_type": "markdown",
   "metadata": {},
   "source": [
    "# The leftmost-empties-tank policy ($\\pi_m$)"
   ]
  },
  {
   "cell_type": "code",
   "execution_count": 2,
   "metadata": {
    "collapsed": true
   },
   "outputs": [],
   "source": [
    "# Hard-coded policy\n",
    "\n",
    "def leftmost_emptiest_tank_policy(s, system):\n",
    "    \"\"\"\n",
    "    It is assumed a system with only one Truck (k=1)\n",
    "    \n",
    "    Given a PDSystem and its state 's' this (deterministic function) returns\n",
    "    the tank with minimum load (in case of ties, the leftmost), unless the total load of the truck does not fit\n",
    "    in that tank (in which case the number of tanks is returned, which stands for staying at the depot).\n",
    "    Note that if the load of the truck does not fit in the tank with minimum load, it will fit even less\n",
    "    in the others.\n",
    "    \"\"\"\n",
    "    min_boolean_indexes = np.isin(s, np.min(s))\n",
    "    min_indexes = np.where(min_boolean_indexes)\n",
    "    min_indexes = min_indexes[0]\n",
    "\n",
    "    possible_indexes = []\n",
    "    \n",
    "    for tank_visited in min_indexes:\n",
    "        hypothetical_next_tank_state = s[tank_visited] + system.truck_max_loads\n",
    "        if hypothetical_next_tank_state <= system.tank_max_loads[tank_visited]:\n",
    "                    possible_indexes.append(tank_visited)\n",
    "    \n",
    "    \n",
    "    if len(possible_indexes) != 0:\n",
    "        tank_to_go = possible_indexes[0] # THIS IS WHAT CHANGES WITH RESPECT TO THE emptiest_tank_policy()\n",
    "        return tank_to_go\n",
    "    else:\n",
    "        return system.n #stay in the depot"
   ]
  },
  {
   "cell_type": "markdown",
   "metadata": {},
   "source": [
    "# Creating train, validation and test sets"
   ]
  },
  {
   "cell_type": "code",
   "execution_count": 3,
   "metadata": {
    "collapsed": true
   },
   "outputs": [],
   "source": [
    "################################################################################\n",
    "# Example k = 1 (trucks), n = 3 (tanks)\n",
    "################################################################################\n",
    "\n",
    "# Variables to initialize a gym-pdsystem environment\n",
    "# ENSURE THAT THE FOLLOWING VARIABLES COINCIDES WITH THE CASE k=1 n=3 in the constants.py file\n",
    "# AND ALSO THAT CASE = -1 (or other negative number)\n",
    "\n",
    "TANK_MAX_LOADS = np.array([100., 200, 100.])\n",
    "LEVEL_PERCENTAGES = np.array([ #b , c, e\n",
    "                                                [0.02, 0.31, 0.9],\n",
    "                                                [0.01, 0.03, 0.9],\n",
    "                                                [0.05, 0.16, 0.9]\n",
    "                                                   ])\n",
    "TRUCK_MAX_LOADS = np.array([50.])\n",
    "GRAPH_WEIGHTS = np.array([32., 159., 162., 0.]) #useless in the current notbook\n",
    "\n",
    "DISCRETE = True\n",
    "################################################################################\n",
    "\n",
    "boolean = (not np.array_equal(TANK_MAX_LOADS, ct.TANK_MAX_LOADS) ) or  (not np.array_equal(LEVEL_PERCENTAGES,ct.LEVEL_PERCENTAGES)) \n",
    "boolean = boolean or ( not np.array_equal(TRUCK_MAX_LOADS, ct.TRUCK_MAX_LOADS))\n",
    "boolean = boolean or  (not np.array_equal(GRAPH_WEIGHTS, ct.GRAPH_WEIGHTS))\n",
    "boolean = boolean or not (DISCRETE == ct.DISCRETE)\n",
    "if boolean:\n",
    "    raise Exception(\"ENSURE THAT THE VARIABLES ABOVE COINCIDE WITH THE CASE k=1 n=3 in the constants.py file\")"
   ]
  },
  {
   "cell_type": "code",
   "execution_count": 4,
   "metadata": {},
   "outputs": [
    {
     "name": "stdout",
     "output_type": "stream",
     "text": [
      "Creating train.txt file...\n",
      "Created train.txt file.\n",
      "Creating validation.txt file...\n",
      "Created validation.txt file.\n",
      "Creating test.txt file...\n",
      "Created test.txt file.\n"
     ]
    }
   ],
   "source": [
    "# Environment initialization and random seeds for reproducibility\n",
    "episode_length = 30\n",
    "seed = 42\n",
    "\n",
    "system = PDSystemEnv(tank_max_loads = TANK_MAX_LOADS, level_percentages = LEVEL_PERCENTAGES,\n",
    "                     truck_max_loads = TRUCK_MAX_LOADS, graph_weights = GRAPH_WEIGHTS,  \n",
    "                     discrete = DISCRETE)\n",
    "\n",
    "env = gym.make(\"PDSystemEnv-v0\")\n",
    "env._max_episode_steps = episode_length\n",
    "\n",
    "np.random.seed(seed)\n",
    "tf.set_random_seed(seed)\n",
    "env.seed(seed)\n",
    "\n",
    "# Sizes for the train, validation and test data. And filenames to save them.\n",
    "N_TRAIN = 10**4; SEED_TRAIN = 42; train_file = 'train.txt'\n",
    "N_VAL = 10**3; SEED_VAL = 50; validation_file = 'validation.txt'\n",
    "N_TEST = 10**3; SEED_TEST = 58; test_file = 'test.txt'\n",
    "\n",
    "# Number of decimals to round the outputted data\n",
    "round_decimals = 5\n",
    "\n",
    "# Set to True only when wanting to create the datasets.\n",
    "CREATE_DATASETS = True\n",
    "\n",
    "def create_datasets(outputfile, n_observations, seed = None, round_decimals = round_decimals): \n",
    "    \"\"\"\n",
    "    Creates train, validation and test sets for multiclass classification, initializing\n",
    "    each of the tanks of the gym-pdsystem uniformly. Each observation consists in the initial levels \n",
    "    of each tank (x) and the action that the truck should do according to the leftmost-emptiest-tank policy\n",
    "    (the target y).\n",
    "    \"\"\"\n",
    "    if seed != None:\n",
    "        np.random.seed(seed)\n",
    "        \n",
    "    with open('{}'.format(outputfile),'w') as f:\n",
    "        np.savetxt(f, [np.array(['tank1', 'tank2', 'tank3', 'target'])], fmt = \"%s\", delimiter=',')\n",
    "        print(f\"Creating {outputfile} file...\")\n",
    "        for i in range(n_observations):\n",
    "            if i % (int(n_observations / 100)) == 0:\n",
    "                p = round(i/n_observations *100,1)\n",
    "                print(\"\\rPercentage: {} %\".format(p), end=\"\")\n",
    "            obs = []\n",
    "            for max_load in TANK_MAX_LOADS:\n",
    "                random_load = np.random.random() * max_load\n",
    "                obs.append(np.round(random_load,round_decimals)  )\n",
    "\n",
    "            obs.append(leftmost_emptiest_tank_policy(np.array(obs), system))   \n",
    "            np.savetxt(f, [np.array(obs)], fmt = ('%f','%f', '%f', '%d'), delimiter=',')  #!! fmt only for n=3\n",
    "    print(f\"\\rCreated {outputfile} file.\")\n",
    "    \n",
    "if CREATE_DATASETS:          \n",
    "    create_datasets(train_file, N_TRAIN, SEED_TRAIN) \n",
    "    create_datasets(validation_file, N_VAL, SEED_VAL)      \n",
    "    create_datasets(test_file, N_TEST, SEED_TEST)            "
   ]
  },
  {
   "cell_type": "code",
   "execution_count": 5,
   "metadata": {
    "collapsed": true
   },
   "outputs": [],
   "source": [
    "train = pd.read_table(train_file, sep = \",\")\n",
    "test = pd.read_table(test_file, sep = \",\")\n",
    "validation = pd.read_table(validation_file, sep = \",\")"
   ]
  },
  {
   "cell_type": "markdown",
   "metadata": {},
   "source": [
    "# Exploring the train dataset"
   ]
  },
  {
   "cell_type": "markdown",
   "metadata": {},
   "source": [
    "As expected the load of the tanks is initialized with a uniform distribution between 0 and the maximum\n",
    "load capacity of each tank.\n",
    "\n",
    "Note that the dataset is not balanced in terms of the target values, since we have about two times of observations\n",
    "for when the targets are tank 0 and tank 2, compared to tank 1 and ``staying at the depot'' (y=3).\n",
    "\n",
    "The fact that tank 1 appears as target about half the times it does with tanks 0 and 2 is intuitively explained by the fact that tank 1 has de double of maximum capacity than the other two so the probability of being the tank with minium load is half the probability that the other two tanks were the ones with the minimum."
   ]
  },
  {
   "cell_type": "code",
   "execution_count": 6,
   "metadata": {},
   "outputs": [
    {
     "data": {
      "image/png": "[encoded data removed]",
      "text/plain": [
       "<Figure size 432x288 with 4 Axes>"
      ]
     },
     "metadata": {},
     "output_type": "display_data"
    }
   ],
   "source": [
    "train.hist()\n",
    "plt.show()"
   ]
  },
  {
   "cell_type": "code",
   "execution_count": 7,
   "metadata": {},
   "outputs": [
    {
     "data": {
      "image/png": "[encoded data removed]",
      "text/plain": [
       "<Figure size 432x288 with 4 Axes>"
      ]
     },
     "metadata": {},
     "output_type": "display_data"
    }
   ],
   "source": [
    "shops = [train['tank1'], train['tank2'], train['tank3']]\n",
    "actions = train['target']\n",
    "\n",
    "colors = [\"Blue\", \"Yellow\", \"Red\", \"Black\"]\n",
    "\n",
    "bins = 20\n",
    "for i in range(1,len(shops)+1):\n",
    "    plt.subplot(2,2, i)    \n",
    "    plt.hist([shops[i-1]], color = colors[i-1], alpha = 0.7, bins = bins)\n",
    "    plt.yticks([0, int(N_TRAIN/bins)])\n",
    "    plt.xlabel(\"Stock\")\n",
    "    plt.ylabel(\"Frequency\")\n",
    "    plt.title('Shop {}'.format(i))\n",
    "\n",
    "# Actions' histogram \n",
    "plt.subplot(2,2, 4)    \n",
    "plt.hist([actions])\n",
    "#hist = np.histogram([actions])\n",
    "#print(hist)\n",
    "plt.yticks([0, int(N_TRAIN/6), int(N_TRAIN/3)])\n",
    "plt.title('Actions')\n",
    "plt.xlabel(\"Action\")\n",
    "plt.ylabel(\"Frequency\")\n",
    " \n",
    "plt.tight_layout() \n",
    "plt.show()\n",
    "#plt.savefig('./../Images/train-data-histograms' + '.pdf')"
   ]
  },
  {
   "cell_type": "code",
   "execution_count": 8,
   "metadata": {},
   "outputs": [
    {
     "name": "stdout",
     "output_type": "stream",
     "text": [
      "[16.5  4.  10.5]\n"
     ]
    }
   ],
   "source": [
    "# Print the daily consumption rates of each tank\n",
    "print(system.tank_consumption_rates)"
   ]
  },
  {
   "cell_type": "markdown",
   "metadata": {},
   "source": [
    "## Prepare data for feeding it to different classifiers"
   ]
  },
  {
   "cell_type": "code",
   "execution_count": 9,
   "metadata": {
    "collapsed": true
   },
   "outputs": [],
   "source": [
    "y_train = train[\"target\"].values#.reshape((N_TRAIN, ))\n",
    "X_train = train[[\"tank1\", \"tank2\",\"tank3\"]].values\n",
    "\n",
    "y_test = test[\"target\"].values#.reshape((N_TEST, ))\n",
    "X_test = test[[\"tank1\", \"tank2\",\"tank3\"]].values\n",
    "\n",
    "y_val = validation[\"target\"]#.reshape((N_VAL, ))\n",
    "X_val = validation[[\"tank1\", \"tank2\",\"tank3\"]].values\n",
    "\n",
    "X_train = X_train.astype('float32')\n",
    "X_test = X_test.astype('float32')\n",
    "X_val = X_val.astype('float32')"
   ]
  },
  {
   "cell_type": "markdown",
   "metadata": {},
   "source": [
    "# Stochastic Gradient Descent classifier"
   ]
  },
  {
   "cell_type": "code",
   "execution_count": 10,
   "metadata": {
    "collapsed": true
   },
   "outputs": [],
   "source": [
    "from sklearn.linear_model import SGDClassifier\n",
    "from sklearn.model_selection import cross_val_predict, cross_val_score\n",
    "from sklearn.metrics import confusion_matrix"
   ]
  },
  {
   "cell_type": "code",
   "execution_count": 11,
   "metadata": {
    "collapsed": true
   },
   "outputs": [],
   "source": [
    "sgd_clf = SGDClassifier(random_state = 42)\n",
    "sgd_clf.fit(X_train, y_train);"
   ]
  },
  {
   "cell_type": "code",
   "execution_count": null,
   "metadata": {
    "collapsed": true
   },
   "outputs": [],
   "source": []
  },
  {
   "cell_type": "markdown",
   "metadata": {},
   "source": [
    "# Random forest classifier"
   ]
  },
  {
   "cell_type": "code",
   "execution_count": null,
   "metadata": {
    "collapsed": true
   },
   "outputs": [],
   "source": []
  },
  {
   "cell_type": "code",
   "execution_count": null,
   "metadata": {
    "collapsed": true
   },
   "outputs": [],
   "source": []
  },
  {
   "cell_type": "markdown",
   "metadata": {},
   "source": [
    "# Neural Network Classifier"
   ]
  },
  {
   "cell_type": "code",
   "execution_count": 12,
   "metadata": {
    "collapsed": true
   },
   "outputs": [],
   "source": [
    "def reset_graph(seed=42):\n",
    "    tf.reset_default_graph()\n",
    "    tf.set_random_seed(seed)\n",
    "    np.random.seed(seed)"
   ]
  },
  {
   "cell_type": "markdown",
   "metadata": {},
   "source": [
    "## Deep Neural Network model"
   ]
  },
  {
   "cell_type": "code",
   "execution_count": 13,
   "metadata": {
    "collapsed": true
   },
   "outputs": [],
   "source": [
    "SIMULATION = 1\n",
    "# Simulation parameters\n"
   ]
  },
  {
   "cell_type": "code",
   "execution_count": 14,
   "metadata": {},
   "outputs": [
    {
     "name": "stdout",
     "output_type": "stream",
     "text": [
      "WARNING:tensorflow:From /home/dsalgador/anaconda3/lib/python3.6/site-packages/tensorflow/contrib/learn/python/learn/datasets/base.py:198: retry (from tensorflow.contrib.learn.python.learn.datasets.base) is deprecated and will be removed in a future version.\n",
      "Instructions for updating:\n",
      "Use the retry module or similar alternatives.\n"
     ]
    }
   ],
   "source": [
    "reset_graph()\n",
    "\n",
    "seed = 42\n",
    "learning_rate = 0.01 #0.01\n",
    "\n",
    "model_file = './final_nn_classifier_sim{}.ckpt'.format(SIMULATION)\n",
    "graph_file =  '{}.meta'.format(model_file)\n",
    "epochs = 10 #2000\n",
    "batch_size = 50 #50\n",
    "\n",
    "summary_freq = 10#np.ceil(epochs/10) #200\n",
    "output_freq = 10*summary_freq #np.ceil(epochs/10) #200\n",
    "\n",
    "\n",
    "hidden1_neurons = 20 #100\n",
    "hidden2_neurons = 10 #50\n",
    "\n",
    "scaling = False\n",
    "\n",
    "if scaling:\n",
    "    scaler = StandardScaler()\n",
    "    X_train = scaler.fit_transform(X_train.astype(np.float64))\n",
    "    X_val = scaler.fit_transform(X_val.astype(np.float64))\n",
    "    X_test = scaler.fit_transform(X_test.astype(np.float64))\n",
    "    model_file = './final_nn_classifier_scaled_{}.ckpt'.format(learning_rate)\n",
    "\n",
    "with tf.name_scope(\"dnn\"):\n",
    "            tf.set_random_seed(seed)\n",
    "            # 1. Parameters to determine the NN architecture\n",
    "\n",
    "            n_inputs = env.observation_space.shape[1]\n",
    "            n_hidden1 = hidden1_neurons; activation1 = tf.nn.elu\n",
    "            n_hidden2 = hidden2_neurons; activation2 = tf.nn.elu\n",
    "            n_outputs = env.action_space.shape[1]\n",
    "\n",
    "            initializer = tf.contrib.layers.variance_scaling_initializer()\n",
    "\n",
    "            # 2. Build the Neural Network\n",
    "            \n",
    "            X = tf.placeholder(tf.float32, shape = (None, n_inputs), name = \"X\")\n",
    "            y = tf.placeholder(tf.int64, shape = (None), name = \"y\")\n",
    "            \n",
    "            hidden1 = tf.layers.dense(X, n_hidden1, activation = activation1,\n",
    "                                     kernel_initializer = initializer)\n",
    "            hidden2 = tf.layers.dense(hidden1, n_hidden2, activation = activation2,\n",
    "                                     kernel_initializer = initializer)\n",
    "            logits = tf.layers.dense(hidden2, n_outputs,kernel_initializer = initializer)\n",
    "            \n",
    "with tf.name_scope(\"loss\"):\n",
    "            \n",
    "            xentropy = tf.nn.sparse_softmax_cross_entropy_with_logits(labels = y,\n",
    "                                                                      logits = logits)\n",
    "            loss = tf.reduce_mean(xentropy, name = \"loss\")\n",
    "            \n",
    "tf.summary.scalar('average_cross_entropy', loss)\n",
    "            \n",
    "with tf.name_scope(\"train\"):\n",
    "            # Optimization Op\n",
    "            optimizer = tf.train.AdamOptimizer(learning_rate)\n",
    "            optimize = optimizer.minimize(loss)\n",
    "            \n",
    "with tf.name_scope(\"eval\"):\n",
    "            correct = tf.nn.in_top_k(logits, y, 1)\n",
    "            accuracy = tf.reduce_mean(tf.cast(correct,tf.float32))\n",
    "tf.summary.scalar('accuracy', accuracy)\n",
    "\n",
    "            \n",
    "with tf.name_scope(\"action\"):\n",
    "            outputs = tf.nn.softmax(logits)\n",
    "            # 3. Select a random action (where to go) based on the estimated probabilities\n",
    "            action = tf.multinomial(tf.log(outputs), num_samples = 1)\n",
    "\n",
    "merged = tf.summary.merge_all()\n",
    "init = tf.global_variables_initializer()\n",
    "        \n",
    "if model_file != None:\n",
    "            saver = tf.train.Saver()\n",
    "        \n",
    "\n",
    "def fetch_batch(X,y,epoch, batch_index, batch_size, data_size, n_batches):\n",
    "        #np.random.seed(epoch * n_batches + batch_index)  \n",
    "        indices = np.random.randint(data_size, size=batch_size)  \n",
    "        X_batch = X[indices] \n",
    "        y_batch = y[indices] \n",
    "        return X_batch, y_batch\n",
    "\n",
    "now = datetime.utcnow().strftime(\"%Y%m%d%H%M%S\")\n",
    "root_logdir = \"tf_logs\"\n",
    "log_dir = \"{}/run-{}/\".format(root_logdir, now)\n"
   ]
  },
  {
   "cell_type": "markdown",
   "metadata": {},
   "source": [
    "## Training"
   ]
  },
  {
   "cell_type": "code",
   "execution_count": 20,
   "metadata": {},
   "outputs": [
    {
     "name": "stdout",
     "output_type": "stream",
     "text": [
      "Epoch: 0. Train (batch) accuracy:  0.42  Validation accuracy:  0.474  Best Validation accuracy:  0\n",
      ". Saved model with validation accuracy  0.474\n",
      "Epoch: 10. Saved model with validation accuracy  0.88\n",
      "Elapsed time  0.04  minutes.  Best Validation accuracy:  0.88\n"
     ]
    }
   ],
   "source": [
    "round_time = 2\n",
    "    \n",
    "best_acc_val = 0\n",
    "acc_val = 0\n",
    "\n",
    "with tf.Session() as sess:\n",
    "        time_start = time.time()\n",
    "        \n",
    "        train_writer = tf.summary.FileWriter(log_dir + '/train', sess.graph)\n",
    "        val_writer = tf.summary.FileWriter(log_dir + '/val')\n",
    "        \n",
    "        init.run()\n",
    "        N_TRAIN = X_train.shape[0]\n",
    "        m = y_train.shape[0]\n",
    "        \n",
    "        n_batches = int(np.ceil(N_TRAIN/ batch_size))\n",
    "        #print(n_batches)\n",
    "             \n",
    "        for epoch in range(epochs+1):\n",
    "            print(\"\\rEpoch: {}\".format(epoch), end=\"\")            \n",
    "            for batch_index in range(n_batches):\n",
    "                X_batch, y_batch = fetch_batch(X_train,y_train,epoch, batch_index, batch_size, m, n_batches)\n",
    "                #print(\"Xbatch shape\",X_batch.shape, \"y_batch shape\", y_batch.shape)\n",
    "                sess.run(optimize, feed_dict={\n",
    "                                    y: y_batch,\n",
    "                                    X: X_batch\n",
    "                                })\n",
    "    \n",
    "            if summary_freq != None: \n",
    "                            \n",
    "                if epoch % summary_freq  == 0:\n",
    "                    \n",
    "\n",
    "                    summary, acc_train = sess.run([merged, accuracy], feed_dict={\n",
    "                                        y: y_batch,\n",
    "                                        X: X_batch\n",
    "                                    })\n",
    "                    train_writer.add_summary(summary, epoch)\n",
    "\n",
    "                    summary, acc_val = sess.run([merged, accuracy], feed_dict={\n",
    "                                        y: y_val,\n",
    "                                        X: X_val\n",
    "                                    }) \n",
    "                                    \n",
    "                    val_writer.add_summary(summary, epoch)\n",
    "\n",
    "                    if epoch % output_freq  == 0:\n",
    "                        print(\". Train (batch) accuracy: \", acc_train, \n",
    "                              \" Validation accuracy: \", acc_val,\n",
    "                             \" Best Validation accuracy: \", best_acc_val)\n",
    "                    if best_acc_val < acc_val:                        \n",
    "                        save_path = saver.save(sess, model_file)\n",
    "                        print(\". Saved model with validation accuracy \", acc_val)\n",
    "                        \n",
    "                    best_acc_val = max(best_acc_val, acc_val)\n",
    "                    \n",
    "        train_writer.close()\n",
    "        val_writer.close()\n",
    "        time_end = time.time()\n",
    "        print(\"\\rElapsed time \", round( (time_end-time_start)/60., round_time), \" minutes.\", \" Best Validation accuracy: \", best_acc_val)\n",
    "        #save_path = saver.save(sess, model_file)   "
   ]
  },
  {
   "cell_type": "markdown",
   "metadata": {},
   "source": [
    "## Testing"
   ]
  },
  {
   "cell_type": "code",
   "execution_count": null,
   "metadata": {},
   "outputs": [],
   "source": [
    "with tf.Session() as sess: \n",
    "    saver.restore(sess, model_file)\n",
    "    acc_test = sess.run(accuracy, feed_dict={\n",
    "                                    y: y_test,\n",
    "                                    X: X_test\n",
    "                               })\n",
    "    print(\" Test accuracy of the best model saved (according to validation accuracy): \", acc_test)"
   ]
  },
  {
   "cell_type": "markdown",
   "metadata": {},
   "source": [
    "## \"Playing\" the product delivery game with the learnt policy"
   ]
  },
  {
   "cell_type": "code",
   "execution_count": null,
   "metadata": {
    "collapsed": true
   },
   "outputs": [],
   "source": [
    "episode_length = 30\n",
    "seed = 80\n",
    "\n",
    "system = PDSystemEnv(tank_max_loads = TANK_MAX_LOADS, level_percentages = LEVEL_PERCENTAGES,\n",
    "                     truck_max_loads = TRUCK_MAX_LOADS, graph_weights = GRAPH_WEIGHTS,  \n",
    "                     discrete = DISCRETE)\n",
    "# ENSURE TO SET CASE = -1 (or another negative number) in the\n",
    "# constants.py file\n",
    "\n",
    "env = gym.make(\"PDSystemEnv-v0\")\n",
    "env._max_episode_steps = episode_length"
   ]
  },
  {
   "cell_type": "code",
   "execution_count": null,
   "metadata": {},
   "outputs": [],
   "source": [
    "frames = []\n",
    "n_episodes = 10\n",
    "\n",
    "with tf.Session() as sess:\n",
    "        sess.run(init)\n",
    "        saver.restore(sess, model_file)\n",
    "        for episode in range(n_episodes):\n",
    "            state = env.reset()\n",
    "            for step in range(episode_length):\n",
    "                system.state = state\n",
    "                img = system.visualize()\n",
    "                frames.append(img)\n",
    "\n",
    "                action_val = action.eval(feed_dict={X: state.reshape(1, n_inputs)})\n",
    " \n",
    "                state, reward, done, info = env.step(action_val[0])\n",
    "                #print(action_val[0],emptiest_tank_policy(state, system))\n",
    "        \n",
    "                if done:\n",
    "                    break\n",
    "        env.close()"
   ]
  },
  {
   "cell_type": "markdown",
   "metadata": {},
   "source": [
    "### Visualizing the performance of the policy\n"
   ]
  },
  {
   "cell_type": "code",
   "execution_count": null,
   "metadata": {},
   "outputs": [],
   "source": [
    "test_anim = ut.create_system_animation(frames, n_episodes * episode_length)\n",
    "plt.close()\n",
    "\n",
    "HTML(test_anim.to_html5_video())"
   ]
  }
 ],
 "metadata": {
  "kernelspec": {
   "display_name": "Python 3",
   "language": "python",
   "name": "python3"
  },
  "language_info": {
   "codemirror_mode": {
    "name": "ipython",
    "version": 3
   },
   "file_extension": ".py",
   "mimetype": "text/x-python",
   "name": "python",
   "nbconvert_exporter": "python",
   "pygments_lexer": "ipython3",
   "version": "3.6.3"
  },
  "toc": {
   "nav_menu": {},
   "number_sections": true,
   "sideBar": true,
   "skip_h1_title": false,
   "title_cell": "Table of Contents",
   "title_sidebar": "Contents",
   "toc_cell": false,
   "toc_position": {},
   "toc_section_display": true,
   "toc_window_display": false
  }
 },
 "nbformat": 4,
 "nbformat_minor": 2
}
