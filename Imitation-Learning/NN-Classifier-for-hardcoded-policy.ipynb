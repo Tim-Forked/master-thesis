{
 "cells": [
  {
   "cell_type": "code",
   "execution_count": 1,
   "metadata": {},
   "outputs": [
    {
     "name": "stderr",
     "output_type": "stream",
     "text": [
      "/home/dsalgador/anaconda3/lib/python3.6/site-packages/h5py/__init__.py:34: FutureWarning: Conversion of the second argument of issubdtype from `float` to `np.floating` is deprecated. In future, it will be treated as `np.float64 == np.dtype(float).type`.\n",
      "  from ._conv import register_converters as _register_converters\n"
     ]
    }
   ],
   "source": [
    "\"\"\" \n",
    "TO DO\n",
    "\n",
    "Author: Daniel Salgado Rojo\n",
    "\n",
    "Note: part of code has been adapted to the product delivery problem data I work with \n",
    "from the Book with repository in https://github.com/ageron/handson-ml .\n",
    "\"\"\"\n",
    "import tensorflow as tf\n",
    "import numpy as np\n",
    "import gym\n",
    "import gym_pdsystem\n",
    "from gym import wrappers\n",
    "import argparse\n",
    "import pprint as pp\n",
    "\n",
    "from datetime import datetime\n",
    "\n",
    "import random\n",
    "from gym_pdsystem.envs.pdsystem_env import PDSystemEnv\n",
    "\n",
    "import gym_pdsystem.utils.utilsq as ut\n",
    "import gym_pdsystem.utils.constants as ct\n",
    "\n",
    "\n",
    "from matplotlib import animation, rc\n",
    "import matplotlib.pyplot as plt\n",
    "from IPython.display import HTML\n",
    "\n",
    "\n",
    "#TO OMMIT WARNINGS\n",
    "import warnings\n",
    "warnings.filterwarnings('ignore')"
   ]
  },
  {
   "cell_type": "markdown",
   "metadata": {},
   "source": [
    "# The leftmost-emptiest-tank policy"
   ]
  },
  {
   "cell_type": "code",
   "execution_count": 2,
   "metadata": {
    "collapsed": true
   },
   "outputs": [],
   "source": [
    "# Hard-coded policy\n",
    "\n",
    "def leftmost_emptiest_tank_policy(s, system):\n",
    "    \"\"\"\n",
    "    It is assumed a system with only one Truck (k=1)\n",
    "    \n",
    "    Given a PDSystem and its state 's' this (deterministic function) returns\n",
    "    the tank with minimum load (in case of ties, the leftmost), unless the total load of the truck does not fit\n",
    "    in that tank (in which case the number of tanks is returned, which stands for staying at the depot).\n",
    "    Note that if the load of the truck does not fit in the tank with minimum load, it will fit even less\n",
    "    in the others.\n",
    "    \"\"\"\n",
    "    min_boolean_indexes = np.isin(s, np.min(s))\n",
    "    min_indexes = np.where(min_boolean_indexes)\n",
    "    min_indexes = min_indexes[0]\n",
    "\n",
    "    possible_indexes = []\n",
    "    \n",
    "    for tank_visited in min_indexes:\n",
    "        hypothetical_next_tank_state = s[tank_visited] + system.truck_max_loads\n",
    "        if hypothetical_next_tank_state <= system.tank_max_loads[tank_visited]:\n",
    "                    possible_indexes.append(tank_visited)\n",
    "    \n",
    "    \n",
    "    if len(possible_indexes) != 0:\n",
    "        tank_to_go = possible_indexes[0] # THIS IS WHAT CHANGES WITH RESPECT TO THE emptiest_tank_policy()\n",
    "        return tank_to_go\n",
    "    else:\n",
    "        return system.n #stay in the depot"
   ]
  },
  {
   "cell_type": "markdown",
   "metadata": {},
   "source": [
    "# Creating train, validation and test sets"
   ]
  },
  {
   "cell_type": "code",
   "execution_count": 5,
   "metadata": {
    "collapsed": true
   },
   "outputs": [],
   "source": [
    "################################################################################\n",
    "# Example k = 1 (trucks), n = 3 (tanks)\n",
    "################################################################################\n",
    "\n",
    "# Variables to initialize a gym-pdsystem environment\n",
    "# ENSURE THAT THE FOLLOWING VARIABLES COINCIDES WITH THE CASE k=1 n=3 in the pdsysyem_env.py file\n",
    "# AND ALSO THAT CASE = -1 (or other negative number)\n",
    "\n",
    "TANK_MAX_LOADS = np.array([100., 200, 100.])\n",
    "LEVEL_PERCENTAGES = np.array([ #b , c, e\n",
    "                                                [0.02, 0.31, 0.9],\n",
    "                                                [0.01, 0.03, 0.9],\n",
    "                                                [0.05, 0.16, 0.9]\n",
    "                                                   ])\n",
    "TRUCK_MAX_LOADS = np.array([50.])\n",
    "GRAPH_WEIGHTS = np.array([32., 159., 162., 0.])\n",
    "\n",
    "DISCRETE = True\n",
    "################################################################################"
   ]
  },
  {
   "cell_type": "code",
   "execution_count": 6,
   "metadata": {},
   "outputs": [],
   "source": [
    "# Environment initialization and random seeds for reproducibility\n",
    "episode_length = 30\n",
    "seed = 42\n",
    "\n",
    "system = PDSystemEnv(tank_max_loads = TANK_MAX_LOADS, level_percentages = LEVEL_PERCENTAGES,\n",
    "                     truck_max_loads = TRUCK_MAX_LOADS, graph_weights = GRAPH_WEIGHTS,  \n",
    "                     discrete = DISCRETE)\n",
    "\n",
    "env = gym.make(\"PDSystemEnv-v0\")\n",
    "env._max_episode_steps = episode_length\n",
    "\n",
    "np.random.seed(seed)\n",
    "tf.set_random_seed(seed)\n",
    "env.seed(seed)\n",
    "\n",
    "\n",
    "# Sizes for the train, validation and test data. And filenames to save them.\n",
    "N_TRAIN = 10**4; SEED_TRAIN = 42; train_file = 'train.txt'\n",
    "N_VAL = 10**3; SEED_VAL = 50; validation_file = 'validation.txt'\n",
    "N_TEST = 10**3; SEED_TEST = 58; test_file = 'test.txt'\n",
    "\n",
    "# Number of decimals to round the outputted data\n",
    "round_decimals = 5\n",
    "\n",
    "# Set to True only when wanting to create the datasets.\n",
    "CREATE_DATASETS = False\n",
    "\n",
    "def create_datasets(outputfile, n_observations, seed = None, round_decimals = round_decimals): \n",
    "    \"\"\"\n",
    "    Creates train, validation and test sets for multiclass classification, initializing\n",
    "    each of the tanks of the gym-pdsystem uniformly. Each observation consists in the initial levels \n",
    "    of each tank (x) and the action that the truck should do according to the leftmost-emptiest-tank policy\n",
    "    (the target y).\n",
    "    \"\"\"\n",
    "    if seed != None:\n",
    "        np.random.seed(seed)\n",
    "        \n",
    "    with open('{}'.format(outputfile),'w') as f:\n",
    "        np.savetxt(f, [np.array(['tank1', 'tank2', 'tank3', 'target'])], fmt = \"%s\", delimiter=',')\n",
    "        for i in range(n_observations):\n",
    "            obs = []\n",
    "            for max_load in TANK_MAX_LOADS:\n",
    "                random_load = np.random.random() * max_load\n",
    "                obs.append(np.round(random_load,round_decimals)  )\n",
    "\n",
    "            obs.append(leftmost_emptiest_tank_policy(np.array(obs), system))   \n",
    "            np.savetxt(f, [np.array(obs)], fmt = ('%f','%f', '%f', '%d'), delimiter=',')  #!! fmt only for n=3\n",
    "\n",
    "if CREATE_DATASETS:          \n",
    "    create_datasets(train_file, N_TRAIN, SEED_TRAIN) \n",
    "    create_datasets(validation_file, N_VAL, SEED_VAL)      \n",
    "    create_datasets(test_file, N_TEST, SEED_TEST)            "
   ]
  },
  {
   "cell_type": "markdown",
   "metadata": {},
   "source": [
    "# Exploring data sets"
   ]
  },
  {
   "cell_type": "code",
   "execution_count": 7,
   "metadata": {
    "collapsed": true
   },
   "outputs": [],
   "source": [
    "import pandas as pd"
   ]
  },
  {
   "cell_type": "code",
   "execution_count": 8,
   "metadata": {
    "collapsed": true
   },
   "outputs": [],
   "source": [
    "train = pd.read_table(train_file, sep = \",\")\n",
    "test = pd.read_table(test_file, sep = \",\")\n",
    "validation = pd.read_table(validation_file, sep = \",\")"
   ]
  },
  {
   "cell_type": "markdown",
   "metadata": {},
   "source": [
    "## Train set"
   ]
  },
  {
   "cell_type": "markdown",
   "metadata": {},
   "source": [
    "As expected the load of the tanks is initialized with a uniform distribution between 0 and the maximum\n",
    "load capacity of each tank.\n",
    "\n",
    "Note that the dataset is not balanced in terms of the target values, since we have about two times of observations\n",
    "for when the targets are tank 0 and tank 2, compared to tank 1 and ``staying at the depot'' (y=3).\n",
    "\n",
    "The fact that tank 1 appears as target about half the times it does with tanks 0 and 2 is intuitively explained by the fact that tank 1 has de double of maximum capacity than the other two so the probability of being the tank with minium load is half the probability that the other two tanks were the ones with the minimum."
   ]
  },
  {
   "cell_type": "code",
   "execution_count": 9,
   "metadata": {},
   "outputs": [
    {
     "data": {
      "image/png": "[encoded data removed]",
      "text/plain": [
       "<Figure size 432x288 with 4 Axes>"
      ]
     },
     "metadata": {},
     "output_type": "display_data"
    }
   ],
   "source": [
    "train.hist()\n",
    "plt.show()"
   ]
  },
  {
   "cell_type": "markdown",
   "metadata": {},
   "source": [
    "## Validation set"
   ]
  },
  {
   "cell_type": "code",
   "execution_count": 10,
   "metadata": {},
   "outputs": [
    {
     "data": {
      "image/png": "[encoded data removed]",
      "text/plain": [
       "<Figure size 432x288 with 4 Axes>"
      ]
     },
     "metadata": {},
     "output_type": "display_data"
    }
   ],
   "source": [
    "validation.hist()\n",
    "plt.show()"
   ]
  },
  {
   "cell_type": "markdown",
   "metadata": {},
   "source": [
    "## Make data ready for classification"
   ]
  },
  {
   "cell_type": "code",
   "execution_count": 11,
   "metadata": {
    "collapsed": true
   },
   "outputs": [],
   "source": [
    "y_train = train[\"target\"].values#.reshape((N_TRAIN, ))\n",
    "X_train = train[[\"tank1\", \"tank2\",\"tank3\"]].values\n",
    "\n",
    "y_test = test[\"target\"].values#.reshape((N_TEST, ))\n",
    "X_test = test[[\"tank1\", \"tank2\",\"tank3\"]].values\n",
    "\n",
    "y_val = validation[\"target\"]#.reshape((N_VAL, ))\n",
    "X_val = validation[[\"tank1\", \"tank2\",\"tank3\"]].values"
   ]
  },
  {
   "cell_type": "code",
   "execution_count": 12,
   "metadata": {
    "collapsed": true
   },
   "outputs": [],
   "source": [
    "X_train = X_train.astype('float32')\n",
    "X_test = X_test.astype('float32')\n",
    "X_val = X_val.astype('float32')"
   ]
  },
  {
   "cell_type": "markdown",
   "metadata": {},
   "source": [
    "# Stochastic gradient descent classifier "
   ]
  },
  {
   "cell_type": "code",
   "execution_count": 13,
   "metadata": {
    "collapsed": true
   },
   "outputs": [],
   "source": [
    "from sklearn.linear_model import SGDClassifier"
   ]
  },
  {
   "cell_type": "code",
   "execution_count": 14,
   "metadata": {
    "collapsed": true
   },
   "outputs": [],
   "source": [
    "from sklearn.model_selection import cross_val_predict, cross_val_score\n",
    "from sklearn.metrics import confusion_matrix"
   ]
  },
  {
   "cell_type": "code",
   "execution_count": 15,
   "metadata": {
    "collapsed": true
   },
   "outputs": [],
   "source": [
    "sgd_clf = SGDClassifier(random_state = 42)\n",
    "sgd_clf.fit(X_train, y_train);"
   ]
  },
  {
   "cell_type": "markdown",
   "metadata": {},
   "source": [
    "## Cross validation accuracy"
   ]
  },
  {
   "cell_type": "code",
   "execution_count": 16,
   "metadata": {
    "collapsed": true
   },
   "outputs": [],
   "source": [
    "CV = 10"
   ]
  },
  {
   "cell_type": "code",
   "execution_count": 17,
   "metadata": {
    "scrolled": true
   },
   "outputs": [
    {
     "name": "stdout",
     "output_type": "stream",
     "text": [
      "Average cross validation score:  0.805050233881416\n"
     ]
    }
   ],
   "source": [
    "cvs = cross_val_score(sgd_clf, X_train, y_train, cv = CV, scoring = \"accuracy\")\n",
    "print(\"Average cross validation score: \", np.mean(cvs))"
   ]
  },
  {
   "cell_type": "markdown",
   "metadata": {},
   "source": [
    "We now try to see how changes the accuracy when rescaling the data"
   ]
  },
  {
   "cell_type": "code",
   "execution_count": 18,
   "metadata": {
    "collapsed": true
   },
   "outputs": [],
   "source": [
    "from sklearn.preprocessing import StandardScaler"
   ]
  },
  {
   "cell_type": "code",
   "execution_count": 19,
   "metadata": {
    "collapsed": true
   },
   "outputs": [],
   "source": [
    "scaler = StandardScaler()\n",
    "X_train_scaled = scaler.fit_transform(X_train.astype(np.float64))"
   ]
  },
  {
   "cell_type": "code",
   "execution_count": 20,
   "metadata": {},
   "outputs": [
    {
     "name": "stdout",
     "output_type": "stream",
     "text": [
      "Average cross validation score for scaled train data:  0.9026149060019663\n"
     ]
    }
   ],
   "source": [
    "cvs = cross_val_score(sgd_clf, X_train_scaled, y_train, cv = CV, scoring = \"accuracy\")\n",
    "print(\"Average cross validation score for scaled train data: \", np.mean(cvs));"
   ]
  },
  {
   "cell_type": "markdown",
   "metadata": {},
   "source": [
    "In this case accuracy improves when rescaling train data"
   ]
  },
  {
   "cell_type": "markdown",
   "metadata": {},
   "source": [
    "## Error Analysis"
   ]
  },
  {
   "cell_type": "markdown",
   "metadata": {},
   "source": [
    "Confusion matrix"
   ]
  },
  {
   "cell_type": "code",
   "execution_count": 21,
   "metadata": {},
   "outputs": [
    {
     "data": {
      "text/plain": [
       "array([[3218,   33,   64,    8],\n",
       "       [ 112, 1420,   45,   66],\n",
       "       [ 198,   89, 3027,   52],\n",
       "       [ 188,   64,   55, 1361]])"
      ]
     },
     "execution_count": 21,
     "metadata": {},
     "output_type": "execute_result"
    }
   ],
   "source": [
    "y_train_pred = cross_val_predict(sgd_clf, X_train_scaled, y_train, cv = CV)\n",
    "conf_mx = confusion_matrix(y_train, y_train_pred)\n",
    "conf_mx"
   ]
  },
  {
   "cell_type": "markdown",
   "metadata": {},
   "source": [
    "Note that the squares in the diagonal corresponding to tank 1 and \"staying at the depot (3)\" are \n",
    "slightly darker. This could mean that there are fewer observations of tank 1 and \"staying at the depot\" being targets or that the classifier does not perform as well on 1,3 as on 0,2 targets."
   ]
  },
  {
   "cell_type": "code",
   "execution_count": 22,
   "metadata": {},
   "outputs": [
    {
     "data": {
      "image/png": "[encoded data removed]",
      "text/plain": [
       "<Figure size 288x288 with 1 Axes>"
      ]
     },
     "metadata": {},
     "output_type": "display_data"
    }
   ],
   "source": [
    "plt.matshow(conf_mx, cmap = plt.cm.gray)\n",
    "plt.show()"
   ]
  },
  {
   "cell_type": "markdown",
   "metadata": {},
   "source": [
    "If we look at the errors, we see that there is a tendency to classify observations to class 0 \n",
    "when they do not correspond to class 0:"
   ]
  },
  {
   "cell_type": "code",
   "execution_count": 23,
   "metadata": {
    "collapsed": true
   },
   "outputs": [],
   "source": [
    "row_sums = conf_mx.sum(axis = 1, keepdims = True)\n",
    "norm_conf_mx = conf_mx / row_sums"
   ]
  },
  {
   "cell_type": "code",
   "execution_count": 24,
   "metadata": {},
   "outputs": [
    {
     "data": {
      "image/png": "[encoded data removed]",
      "text/plain": [
       "<Figure size 288x288 with 1 Axes>"
      ]
     },
     "metadata": {},
     "output_type": "display_data"
    }
   ],
   "source": [
    "np.fill_diagonal(norm_conf_mx, 0)\n",
    "plt.matshow(norm_conf_mx, cmap = plt.cm.gray)\n",
    "plt.show()"
   ]
  },
  {
   "cell_type": "markdown",
   "metadata": {},
   "source": [
    "## Test prediction accuracy of the model trained on the whole train set"
   ]
  },
  {
   "cell_type": "code",
   "execution_count": 25,
   "metadata": {
    "collapsed": true
   },
   "outputs": [],
   "source": [
    "y_test_pred = sgd_clf.predict(X_test)"
   ]
  },
  {
   "cell_type": "code",
   "execution_count": 26,
   "metadata": {},
   "outputs": [
    {
     "data": {
      "text/plain": [
       "array([[344,  10,   0,   0],\n",
       "       [  9, 119,  13,   0],\n",
       "       [ 30,  14, 300,   0],\n",
       "       [ 73,  25,  16,  47]])"
      ]
     },
     "execution_count": 26,
     "metadata": {},
     "output_type": "execute_result"
    }
   ],
   "source": [
    "conf_mx = confusion_matrix(y_test, y_test_pred)\n",
    "conf_mx"
   ]
  },
  {
   "cell_type": "code",
   "execution_count": 27,
   "metadata": {},
   "outputs": [
    {
     "data": {
      "text/plain": [
       "0.81"
      ]
     },
     "execution_count": 27,
     "metadata": {},
     "output_type": "execute_result"
    }
   ],
   "source": [
    "test_accuracy = np.trace(np.asarray(conf_mx))/conf_mx.sum()\n",
    "test_accuracy"
   ]
  },
  {
   "cell_type": "code",
   "execution_count": 28,
   "metadata": {},
   "outputs": [
    {
     "data": {
      "text/plain": [
       "0.928"
      ]
     },
     "execution_count": 28,
     "metadata": {},
     "output_type": "execute_result"
    }
   ],
   "source": [
    "sgdscaled_clf = SGDClassifier(random_state = 42)\n",
    "sgdscaled_clf.fit(X_train_scaled, y_train);\n",
    "\n",
    "scaler = StandardScaler()\n",
    "X_test_scaled = scaler.fit_transform(X_test.astype(np.float64))\n",
    "\n",
    "y_test_scaled_pred = sgdscaled_clf.predict(X_test_scaled)\n",
    "conf_mx = confusion_matrix(y_test, y_test_scaled_pred)\n",
    "test_accuracy = np.trace(np.asarray(conf_mx))/conf_mx.sum()\n",
    "test_accuracy"
   ]
  },
  {
   "cell_type": "code",
   "execution_count": 29,
   "metadata": {},
   "outputs": [
    {
     "data": {
      "image/png": "[encoded data removed]",
      "text/plain": [
       "<Figure size 288x288 with 1 Axes>"
      ]
     },
     "metadata": {},
     "output_type": "display_data"
    }
   ],
   "source": [
    "plt.matshow(conf_mx, cmap = plt.cm.gray)\n",
    "plt.show()"
   ]
  },
  {
   "cell_type": "code",
   "execution_count": 30,
   "metadata": {
    "collapsed": true
   },
   "outputs": [],
   "source": [
    "row_sums = conf_mx.sum(axis = 1, keepdims = True)\n",
    "norm_conf_mx = conf_mx / row_sums"
   ]
  },
  {
   "cell_type": "code",
   "execution_count": 31,
   "metadata": {},
   "outputs": [
    {
     "data": {
      "image/png": "[encoded data removed]",
      "text/plain": [
       "<Figure size 288x288 with 1 Axes>"
      ]
     },
     "metadata": {},
     "output_type": "display_data"
    }
   ],
   "source": [
    "np.fill_diagonal(norm_conf_mx, 0)\n",
    "plt.matshow(norm_conf_mx, cmap = plt.cm.gray)\n",
    "plt.show()"
   ]
  },
  {
   "cell_type": "markdown",
   "metadata": {},
   "source": [
    "# Random forest classifier"
   ]
  },
  {
   "cell_type": "code",
   "execution_count": 32,
   "metadata": {
    "collapsed": true
   },
   "outputs": [],
   "source": [
    "from sklearn.ensemble import RandomForestClassifier\n",
    "\n",
    "rf_clf = RandomForestClassifier(random_state = 42)\n",
    "rf_clf.fit(X_train, y_train);"
   ]
  },
  {
   "cell_type": "markdown",
   "metadata": {},
   "source": [
    "## Cross validation accuracy"
   ]
  },
  {
   "cell_type": "code",
   "execution_count": 33,
   "metadata": {
    "collapsed": true
   },
   "outputs": [],
   "source": [
    "CV = 10"
   ]
  },
  {
   "cell_type": "code",
   "execution_count": 34,
   "metadata": {
    "scrolled": true
   },
   "outputs": [
    {
     "name": "stdout",
     "output_type": "stream",
     "text": [
      "Average cross validation score:  0.9851987684034821\n"
     ]
    }
   ],
   "source": [
    "cvs = cross_val_score(rf_clf, X_train, y_train, cv = CV, scoring = \"accuracy\")\n",
    "print(\"Average cross validation score: \", np.mean(cvs))"
   ]
  },
  {
   "cell_type": "code",
   "execution_count": 35,
   "metadata": {
    "collapsed": true
   },
   "outputs": [],
   "source": [
    "from sklearn.preprocessing import StandardScaler\n"
   ]
  },
  {
   "cell_type": "code",
   "execution_count": 36,
   "metadata": {
    "collapsed": true
   },
   "outputs": [],
   "source": [
    "scaler = StandardScaler()\n",
    "X_train_scaled = scaler.fit_transform(X_train.astype(np.float64))"
   ]
  },
  {
   "cell_type": "code",
   "execution_count": 37,
   "metadata": {},
   "outputs": [
    {
     "name": "stdout",
     "output_type": "stream",
     "text": [
      "Average cross validation score for scaled train data:  0.9851987684034821\n"
     ]
    }
   ],
   "source": [
    "cvs = cross_val_score(rf_clf, X_train_scaled, y_train, cv = CV, scoring = \"accuracy\")\n",
    "print(\"Average cross validation score for scaled train data: \", np.mean(cvs));"
   ]
  },
  {
   "cell_type": "markdown",
   "metadata": {},
   "source": [
    "The results are the same with scaling and without scaling"
   ]
  },
  {
   "cell_type": "markdown",
   "metadata": {},
   "source": [
    "## Error Analysis"
   ]
  },
  {
   "cell_type": "code",
   "execution_count": 38,
   "metadata": {},
   "outputs": [
    {
     "data": {
      "text/plain": [
       "array([[3285,   17,   20,    1],\n",
       "       [  23, 1594,   13,   13],\n",
       "       [  32,   19, 3315,    0],\n",
       "       [   0,   10,    0, 1658]])"
      ]
     },
     "execution_count": 38,
     "metadata": {},
     "output_type": "execute_result"
    }
   ],
   "source": [
    "y_train_pred = cross_val_predict(rf_clf, X_train_scaled, y_train, cv = CV)\n",
    "conf_mx = confusion_matrix(y_train, y_train_pred)\n",
    "conf_mx"
   ]
  },
  {
   "cell_type": "code",
   "execution_count": 39,
   "metadata": {},
   "outputs": [
    {
     "data": {
      "image/png": "[encoded data removed]",
      "text/plain": [
       "<Figure size 288x288 with 1 Axes>"
      ]
     },
     "metadata": {},
     "output_type": "display_data"
    }
   ],
   "source": [
    "plt.matshow(conf_mx, cmap = plt.cm.gray)\n",
    "plt.show()"
   ]
  },
  {
   "cell_type": "markdown",
   "metadata": {},
   "source": [
    "Note that almost all observation are well-classified, so the fact that squares corresponding to tank 1 and\n",
    "\"staying at the depot\" are darker just due to the fact that its abundancy is half the abundancy of tanks 0 and 2."
   ]
  },
  {
   "cell_type": "code",
   "execution_count": 40,
   "metadata": {
    "collapsed": true
   },
   "outputs": [],
   "source": [
    "row_sums = conf_mx.sum(axis = 1, keepdims = True)\n",
    "norm_conf_mx = conf_mx / row_sums"
   ]
  },
  {
   "cell_type": "code",
   "execution_count": 41,
   "metadata": {},
   "outputs": [
    {
     "data": {
      "image/png": "[encoded data removed]",
      "text/plain": [
       "<Figure size 288x288 with 1 Axes>"
      ]
     },
     "metadata": {},
     "output_type": "display_data"
    }
   ],
   "source": [
    "np.fill_diagonal(norm_conf_mx, 0)\n",
    "plt.matshow(norm_conf_mx, cmap = plt.cm.gray)\n",
    "plt.show()"
   ]
  },
  {
   "cell_type": "markdown",
   "metadata": {},
   "source": [
    "## Test prediction accuracy of the model trained on the whole train set"
   ]
  },
  {
   "cell_type": "code",
   "execution_count": 42,
   "metadata": {
    "collapsed": true
   },
   "outputs": [],
   "source": [
    "y_test_pred = rf_clf.predict(X_test)"
   ]
  },
  {
   "cell_type": "code",
   "execution_count": 43,
   "metadata": {},
   "outputs": [
    {
     "data": {
      "text/plain": [
       "array([[349,   3,   2,   0],\n",
       "       [  0, 140,   0,   1],\n",
       "       [  2,   0, 342,   0],\n",
       "       [  0,   2,   0, 159]])"
      ]
     },
     "execution_count": 43,
     "metadata": {},
     "output_type": "execute_result"
    }
   ],
   "source": [
    "conf_mx = confusion_matrix(y_test, y_test_pred)\n",
    "conf_mx"
   ]
  },
  {
   "cell_type": "code",
   "execution_count": 44,
   "metadata": {},
   "outputs": [
    {
     "data": {
      "text/plain": [
       "0.99"
      ]
     },
     "execution_count": 44,
     "metadata": {},
     "output_type": "execute_result"
    }
   ],
   "source": [
    "test_accuracy = np.trace(np.asarray(conf_mx))/conf_mx.sum()\n",
    "test_accuracy"
   ]
  },
  {
   "cell_type": "code",
   "execution_count": 45,
   "metadata": {},
   "outputs": [
    {
     "data": {
      "text/plain": [
       "0.977"
      ]
     },
     "execution_count": 45,
     "metadata": {},
     "output_type": "execute_result"
    }
   ],
   "source": [
    "rfscaled_clf = RandomForestClassifier(random_state = 42)\n",
    "rfscaled_clf.fit(X_train_scaled, y_train);\n",
    "\n",
    "scaler = StandardScaler()\n",
    "X_test_scaled = scaler.fit_transform(X_test.astype(np.float64))\n",
    "\n",
    "y_test_scaled_pred = rfscaled_clf.predict(X_test_scaled)\n",
    "conf_mx = confusion_matrix(y_test, y_test_scaled_pred)\n",
    "test_accuracy = np.trace(np.asarray(conf_mx))/conf_mx.sum()\n",
    "test_accuracy"
   ]
  },
  {
   "cell_type": "code",
   "execution_count": 46,
   "metadata": {},
   "outputs": [
    {
     "data": {
      "image/png": "[encoded data removed]",
      "text/plain": [
       "<Figure size 288x288 with 1 Axes>"
      ]
     },
     "metadata": {},
     "output_type": "display_data"
    }
   ],
   "source": [
    "plt.matshow(conf_mx, cmap = plt.cm.gray)\n",
    "plt.show()"
   ]
  },
  {
   "cell_type": "code",
   "execution_count": 47,
   "metadata": {
    "collapsed": true
   },
   "outputs": [],
   "source": [
    "row_sums = conf_mx.sum(axis = 1, keepdims = True)\n",
    "norm_conf_mx = conf_mx / row_sums"
   ]
  },
  {
   "cell_type": "code",
   "execution_count": 48,
   "metadata": {},
   "outputs": [
    {
     "data": {
      "image/png": "[encoded data removed]",
      "text/plain": [
       "<Figure size 288x288 with 1 Axes>"
      ]
     },
     "metadata": {},
     "output_type": "display_data"
    }
   ],
   "source": [
    "np.fill_diagonal(norm_conf_mx, 0)\n",
    "plt.matshow(norm_conf_mx, cmap = plt.cm.gray)\n",
    "plt.show()"
   ]
  },
  {
   "cell_type": "markdown",
   "metadata": {},
   "source": [
    "# Neural Network Classifier"
   ]
  },
  {
   "cell_type": "code",
   "execution_count": 49,
   "metadata": {
    "collapsed": true
   },
   "outputs": [],
   "source": [
    "def reset_graph(seed=42):\n",
    "    tf.reset_default_graph()\n",
    "    tf.set_random_seed(seed)\n",
    "    np.random.seed(seed)\n"
   ]
  },
  {
   "cell_type": "code",
   "execution_count": 50,
   "metadata": {
    "collapsed": true
   },
   "outputs": [],
   "source": [
    "class NNClassifier(object):\n",
    "    \"\"\"\n",
    "    Input to the network is the state, output is the action\n",
    "    under a deterministic policy.\n",
    "    \"\"\"\n",
    "\n",
    "    def __init__(self, sess, learning_rate, model_file = None):\n",
    "        self.sess = sess\n",
    "        self.learning_rate = learning_rate\n",
    "\n",
    "        # Network architecture\n",
    "        self.action = self.create_network()\n",
    "        self.network_params = tf.trainable_variables()\n",
    "        \n",
    "    def create_network(self):\n",
    "       \n",
    "        with tf.name_scope(\"dnn\"):\n",
    "            tf.set_random_seed(seed)\n",
    "            # 1. Parameters to determine the NN architecture\n",
    "\n",
    "            n_inputs = env.observation_space.shape[1]\n",
    "            n_hidden1 = 20; activation1 = tf.nn.elu\n",
    "            n_hidden2 = 6; activation2 = tf.nn.elu\n",
    "            n_outputs = env.action_space.shape[1]\n",
    "\n",
    "            self.initializer = tf.contrib.layers.variance_scaling_initializer()\n",
    "\n",
    "            # 2. Build the Neural Network\n",
    "            \n",
    "            self.X = tf.placeholder(tf.float32, shape = (None, n_inputs), name = \"X\")\n",
    "            self.y = tf.placeholder(tf.int64, shape = (None), name = \"y\")\n",
    "            \n",
    "            hidden1 = tf.layers.dense(self.X, n_hidden1, activation = activation1,\n",
    "                                     kernel_initializer = self.initializer)\n",
    "            hidden2 = tf.layers.dense(hidden1, n_hidden2, activation = activation2,\n",
    "                                     kernel_initializer = self.initializer)\n",
    "            logits = tf.layers.dense(hidden2, n_outputs,kernel_initializer = self.initializer)\n",
    "            \n",
    "        with tf.name_scope(\"loss\"):\n",
    "            xentropy = tf.nn.sparse_softmax_cross_entropy_with_logits(labels = self.y,\n",
    "                                                                      logits = logits)\n",
    "            loss = tf.reduce_mean(xentropy, name = \"loss\")\n",
    "            \n",
    "        with tf.name_scope(\"train\"):\n",
    "            # Optimization Op\n",
    "            optimizer = tf.train.AdamOptimizer(self.learning_rate)\n",
    "            self.optimize = optimizer.minimize(loss)\n",
    "            \n",
    "        with tf.name_scope(\"eval\"):\n",
    "            correct = tf.nn.in_top_k(logits, self.y, 1)\n",
    "            self.accuracy = tf.reduce_mean(tf.cast(correct,tf.float32))\n",
    "      \n",
    "        with tf.name_scope(\"action\"):\n",
    "            outputs = tf.nn.softmax(logits)\n",
    "            # 3. Select a random action (where to go) based on the estimated probabilities\n",
    "            self.action = tf.multinomial(tf.log(outputs), num_samples = 1)\n",
    "\n",
    "        self.init = tf.global_variables_initializer()\n",
    "        \n",
    "        if model_file != None:\n",
    "            self.saver = tf.train.Saver()\n",
    "        \n",
    "        return self.action#, y, X\n",
    "\n",
    "    def train(self,X,y):\n",
    "        self.sess.run(self.optimize, feed_dict={\n",
    "            self.y: y,\n",
    "            self.X: X\n",
    "        })\n",
    "\n",
    "    def predict_action(self, X, y):\n",
    "        return self.sess.run(self.action, feed_dict={\n",
    "            self.X: X,\n",
    "            self.y: y\n",
    "        })\n",
    "    \n",
    "    def get_accuracy(self, X, y):\n",
    "        return self.sess.run(self.accuracy, feed_dict={\n",
    "            self.X: X,\n",
    "            self.y: y\n",
    "        })\n",
    "\n",
    "    def get_num_trainable_vars(self):\n",
    "        return self.num_trainable_vars\n",
    "    \n",
    "    def fetch_batch(self, X,y,epoch, batch_index, batch_size, data_size, n_batches):\n",
    "        # hands-on book\n",
    "        #np.random.seed(epoch * n_batches + batch_index)  \n",
    "        indices = np.random.randint(data_size, size=batch_size)  \n",
    "        X_batch = X[indices] \n",
    "        y_batch = y[indices] \n",
    "        return X_batch, y_batch\n",
    "\n",
    "    def fit(self, X_train, y_train, X_val, y_val, epochs = 10, batch_size = 50, summary_freq = None):\n",
    "        N_TRAIN = X_train.shape[0]\n",
    "        m = y_train.shape[0]\n",
    "        \n",
    "        n_batches = int(np.ceil(N_TRAIN/ batch_size))\n",
    "             \n",
    "        for epoch in range(epochs+1):\n",
    "            for batch_index in range(n_batches):\n",
    "                X_batch, y_batch = self.fetch_batch(X_train,y_train,epoch, batch_index, batch_size, m, n_batches)\n",
    "                self.train(X_batch, y_batch)\n",
    "            if summary_freq != None:    \n",
    "                acc_train = self.get_accuracy(X_batch, y_batch)\n",
    "                acc_val = self.get_accuracy(X_val, y_val)\n",
    "                if epoch % summary_freq  == 0:\n",
    "                    print(\"Epoch: \", epoch, \" Train (batch) accuracy: \", acc_train, \" Validation accuracy: \", acc_val)\n"
   ]
  },
  {
   "cell_type": "code",
   "execution_count": 53,
   "metadata": {},
   "outputs": [
    {
     "name": "stdout",
     "output_type": "stream",
     "text": [
      "Epoch:  0  Train (batch) accuracy:  0.82  Validation accuracy:  0.868\n",
      "Epoch:  25  Train (batch) accuracy:  0.99  Validation accuracy:  0.973\n",
      "Epoch:  50  Train (batch) accuracy:  0.97  Validation accuracy:  0.972\n",
      "Epoch:  75  Train (batch) accuracy:  0.95  Validation accuracy:  0.965\n",
      "Epoch:  100  Train (batch) accuracy:  1.0  Validation accuracy:  0.975\n",
      "Epoch:  125  Train (batch) accuracy:  0.98  Validation accuracy:  0.985\n",
      "Epoch:  150  Train (batch) accuracy:  1.0  Validation accuracy:  0.97\n",
      "Epoch:  175  Train (batch) accuracy:  0.94  Validation accuracy:  0.957\n",
      "Epoch:  200  Train (batch) accuracy:  0.99  Validation accuracy:  0.986\n",
      "Epoch:  225  Train (batch) accuracy:  0.99  Validation accuracy:  0.974\n",
      "Epoch:  250  Train (batch) accuracy:  0.99  Validation accuracy:  0.983\n",
      "All Train accuracy 0.9873  Test accuracy:  0.98\n"
     ]
    }
   ],
   "source": [
    "reset_graph()\n",
    "\n",
    "seed = 43\n",
    "np.random.seed(seed)\n",
    "\n",
    "epochs = 250\n",
    "batch_size = 100\n",
    "\n",
    "learning_rate = 0.01\n",
    "summary_freq = np.ceil(epochs/10)\n",
    "\n",
    "\n",
    "model_file = None#'./final_nn_classifier.ckpt'\n",
    "\n",
    "\n",
    "with tf.Session() as sess:\n",
    "\n",
    "                nn_clf = NNClassifier(sess, learning_rate, model_file)\n",
    "                nn_clf.init.run()\n",
    "                nn_clf.fit(X_train, y_train, X_val, y_val, epochs = epochs, batch_size = batch_size, summary_freq = summary_freq)\n",
    "                acc_test = nn_clf.get_accuracy(X_test, y_test)\n",
    "                acc_train = nn_clf.get_accuracy(X_train, y_train)\n",
    "\n",
    "                print(\"All Train accuracy\", acc_train, \" Test accuracy: \", acc_test)"
   ]
  },
  {
   "cell_type": "markdown",
   "metadata": {},
   "source": [
    "## Saving and restoring models"
   ]
  },
  {
   "cell_type": "code",
   "execution_count": 54,
   "metadata": {},
   "outputs": [
    {
     "name": "stdout",
     "output_type": "stream",
     "text": [
      "Epoch:  0  Train (batch) accuracy:  0.96  Validation accuracy:  0.923\n",
      "Saved model with validation accuracy  0.923\n",
      "Epoch:  200  Train (batch) accuracy:  1.0  Validation accuracy:  0.983\n",
      "Saved model with validation accuracy  0.983\n",
      "Epoch:  400  Train (batch) accuracy:  1.0  Validation accuracy:  0.982\n",
      "Epoch:  600  Train (batch) accuracy:  1.0  Validation accuracy:  0.987\n",
      "Saved model with validation accuracy  0.987\n",
      "Epoch:  800  Train (batch) accuracy:  1.0  Validation accuracy:  0.988\n",
      "Saved model with validation accuracy  0.988\n",
      "Epoch:  1000  Train (batch) accuracy:  0.98  Validation accuracy:  0.989\n",
      "Saved model with validation accuracy  0.989\n",
      "Epoch:  1200  Train (batch) accuracy:  1.0  Validation accuracy:  0.997\n",
      "Saved model with validation accuracy  0.997\n",
      "Epoch:  1400  Train (batch) accuracy:  1.0  Validation accuracy:  0.994\n",
      "Epoch:  1600  Train (batch) accuracy:  1.0  Validation accuracy:  0.991\n",
      "Epoch:  1800  Train (batch) accuracy:  1.0  Validation accuracy:  0.993\n",
      "Epoch:  2000  Train (batch) accuracy:  0.98  Validation accuracy:  0.992\n"
     ]
    }
   ],
   "source": [
    "reset_graph()\n",
    "\n",
    "seed = 42\n",
    "learning_rate = 0.01 #0.01\n",
    "\n",
    "model_file = './final_nn_classifier_{}.ckpt'.format(learning_rate)\n",
    "graph_file =  '{}.meta'.format(model_file)\n",
    "epochs = 2000 #2000\n",
    "batch_size = 50 #50\n",
    "\n",
    "summary_freq = 200#np.ceil(epochs/10) #200\n",
    "\n",
    "\n",
    "hidden1_neurons = 100 #100\n",
    "hidden2_neurons = 50 #50\n",
    "\n",
    "scaling = False\n",
    "\n",
    "if scaling:\n",
    "    scaler = StandardScaler()\n",
    "    X_train = scaler.fit_transform(X_train.astype(np.float64))\n",
    "    X_val = scaler.fit_transform(X_val.astype(np.float64))\n",
    "    X_test = scaler.fit_transform(X_test.astype(np.float64))\n",
    "    model_file = './final_nn_classifier_scaled_{}.ckpt'.format(learning_rate)\n",
    "\n",
    "\n",
    "with tf.name_scope(\"dnn\"):\n",
    "            tf.set_random_seed(seed)\n",
    "            # 1. Parameters to determine the NN architecture\n",
    "\n",
    "            n_inputs = env.observation_space.shape[1]\n",
    "            n_hidden1 = hidden1_neurons; activation1 = tf.nn.elu\n",
    "            n_hidden2 = hidden2_neurons; activation2 = tf.nn.elu\n",
    "            n_outputs = env.action_space.shape[1]\n",
    "\n",
    "            initializer = tf.contrib.layers.variance_scaling_initializer()\n",
    "\n",
    "            # 2. Build the Neural Network\n",
    "            \n",
    "            X = tf.placeholder(tf.float32, shape = (None, n_inputs), name = \"X\")\n",
    "            y = tf.placeholder(tf.int64, shape = (None), name = \"y\")\n",
    "            \n",
    "            hidden1 = tf.layers.dense(X, n_hidden1, activation = activation1,\n",
    "                                     kernel_initializer = initializer)\n",
    "            hidden2 = tf.layers.dense(hidden1, n_hidden2, activation = activation2,\n",
    "                                     kernel_initializer = initializer)\n",
    "            logits = tf.layers.dense(hidden2, n_outputs,kernel_initializer = initializer)\n",
    "            \n",
    "with tf.name_scope(\"loss\"):\n",
    "            xentropy = tf.nn.sparse_softmax_cross_entropy_with_logits(labels = y,\n",
    "                                                                      logits = logits)\n",
    "            loss = tf.reduce_mean(xentropy, name = \"loss\")\n",
    "            \n",
    "with tf.name_scope(\"train\"):\n",
    "            # Optimization Op\n",
    "            optimizer = tf.train.AdamOptimizer(learning_rate)\n",
    "            optimize = optimizer.minimize(loss)\n",
    "            \n",
    "with tf.name_scope(\"eval\"):\n",
    "            correct = tf.nn.in_top_k(logits, y, 1)\n",
    "            accuracy = tf.reduce_mean(tf.cast(correct,tf.float32))\n",
    "            \n",
    "with tf.name_scope(\"action\"):\n",
    "            outputs = tf.nn.softmax(logits)\n",
    "            # 3. Select a random action (where to go) based on the estimated probabilities\n",
    "            action = tf.multinomial(tf.log(outputs), num_samples = 1)\n",
    "\n",
    "init = tf.global_variables_initializer()\n",
    "        \n",
    "if model_file != None:\n",
    "            saver = tf.train.Saver()\n",
    "        \n",
    "\n",
    "def fetch_batch(X,y,epoch, batch_index, batch_size, data_size, n_batches):\n",
    "        #np.random.seed(epoch * n_batches + batch_index)  \n",
    "        indices = np.random.randint(data_size, size=batch_size)  \n",
    "        X_batch = X[indices] \n",
    "        y_batch = y[indices] \n",
    "        return X_batch, y_batch\n",
    "    \n",
    "    \n",
    "best_acc_val = 0\n",
    "acc_val = 0\n",
    "# early_stopping = True\n",
    "# stopping_counter = 0\n",
    "# max_stopping_counter = 100\n",
    "\n",
    "with tf.Session() as sess:\n",
    "        init.run()\n",
    "        N_TRAIN = X_train.shape[0]\n",
    "        m = y_train.shape[0]\n",
    "        \n",
    "        n_batches = int(np.ceil(N_TRAIN/ batch_size))\n",
    "             \n",
    "        for epoch in range(epochs+1):\n",
    "            print(\"\\rEpoch: {}\".format(epoch), end=\"\")\n",
    "            for batch_index in range(n_batches):\n",
    "                X_batch, y_batch = fetch_batch(X_train,y_train,epoch, batch_index, batch_size, m, n_batches)\n",
    "                #print(\"Xbatch shape\",X_batch.shape, \"y_batch shape\", y_batch.shape)\n",
    "                sess.run(optimize, feed_dict={\n",
    "                                    y: y_batch,\n",
    "                                    X: X_batch\n",
    "                                })\n",
    "    \n",
    "            if summary_freq != None: \n",
    "                            \n",
    "                if epoch % summary_freq  == 0:\n",
    "                    \n",
    "\n",
    "                    acc_train = sess.run(accuracy, feed_dict={\n",
    "                                        y: y_batch,\n",
    "                                        X: X_batch\n",
    "                                    })\n",
    "                    acc_val = sess.run(accuracy, feed_dict={\n",
    "                                        y: y_val,\n",
    "                                        X: X_val\n",
    "                                    }) \n",
    "                                    \n",
    "                    \n",
    "                    best_acc_val = max(best_acc_val, acc_val)\n",
    "\n",
    "                    print(\". Train (batch) accuracy: \", acc_train, \n",
    "                          \" Validation accuracy: \", acc_val)\n",
    "                    if best_acc_val <= acc_val:                        \n",
    "                        save_path = saver.save(sess, model_file)\n",
    "                        print(\"Saved model with validation accuracy \", acc_val)\n",
    "                                     \n",
    "        #save_path = saver.save(sess, model_file)   "
   ]
  },
  {
   "cell_type": "code",
   "execution_count": 55,
   "metadata": {},
   "outputs": [
    {
     "name": "stdout",
     "output_type": "stream",
     "text": [
      "INFO:tensorflow:Restoring parameters from ./final_nn_classifier_0.01.ckpt\n",
      " Test accuracy of the best model saved (according to validation accuracy):  0.992\n"
     ]
    }
   ],
   "source": [
    "with tf.Session() as sess: \n",
    "    saver.restore(sess, model_file)\n",
    "    acc_test = sess.run(accuracy, feed_dict={\n",
    "                                    y: y_test,\n",
    "                                    X: X_test\n",
    "                               })\n",
    "    print(\" Test accuracy of the best model saved (according to validation accuracy): \", acc_test)\n",
    "    \n",
    "    "
   ]
  },
  {
   "cell_type": "markdown",
   "metadata": {},
   "source": [
    "## Adding summaries to visualize performance metrics with TensorBoard"
   ]
  },
  {
   "cell_type": "code",
   "execution_count": 57,
   "metadata": {},
   "outputs": [
    {
     "name": "stdout",
     "output_type": "stream",
     "text": [
      "Epoch: 0. Train (batch) accuracy:  0.96  Validation accuracy:  0.921\n",
      "Saved model with validation accuracy  0.921\n",
      "Epoch: 100. Train (batch) accuracy:  0.96  Validation accuracy:  0.938\n",
      "Saved model with validation accuracy  0.938\n",
      "Epoch: 200. Train (batch) accuracy:  0.98  Validation accuracy:  0.986\n",
      "Saved model with validation accuracy  0.986\n",
      "Epoch: 300. Train (batch) accuracy:  1.0  Validation accuracy:  0.99\n",
      "Saved model with validation accuracy  0.99\n",
      "Epoch: 400. Train (batch) accuracy:  0.98  Validation accuracy:  0.985\n",
      "Epoch: 500. Train (batch) accuracy:  0.96  Validation accuracy:  0.983\n",
      "Epoch: 600. Train (batch) accuracy:  1.0  Validation accuracy:  0.988\n",
      "Epoch: 700. Train (batch) accuracy:  1.0  Validation accuracy:  0.967\n",
      "Epoch: 800. Train (batch) accuracy:  1.0  Validation accuracy:  0.985\n",
      "Epoch: 900. Train (batch) accuracy:  1.0  Validation accuracy:  0.992\n",
      "Saved model with validation accuracy  0.992\n",
      "Epoch: 1000. Train (batch) accuracy:  0.98  Validation accuracy:  0.988\n",
      "Epoch: 1100. Train (batch) accuracy:  0.98  Validation accuracy:  0.995\n",
      "Saved model with validation accuracy  0.995\n",
      "Epoch: 1200. Train (batch) accuracy:  1.0  Validation accuracy:  0.982\n",
      "Epoch: 1300. Train (batch) accuracy:  1.0  Validation accuracy:  0.987\n",
      "Epoch: 1400. Train (batch) accuracy:  1.0  Validation accuracy:  0.993\n",
      "Epoch: 1500. Train (batch) accuracy:  1.0  Validation accuracy:  0.988\n",
      "Epoch: 1600. Train (batch) accuracy:  0.98  Validation accuracy:  0.979\n",
      "Epoch: 1700. Train (batch) accuracy:  1.0  Validation accuracy:  0.986\n",
      "Epoch: 1800. Train (batch) accuracy:  0.98  Validation accuracy:  0.991\n",
      "Epoch: 1900. Train (batch) accuracy:  1.0  Validation accuracy:  0.99\n",
      "Epoch: 2000. Train (batch) accuracy:  0.98  Validation accuracy:  0.993\n"
     ]
    }
   ],
   "source": [
    "reset_graph()\n",
    "\n",
    "seed = 42\n",
    "learning_rate = 0.01 #0.01\n",
    "\n",
    "model_file = './final_nn_classifier_{}.ckpt'.format(learning_rate)\n",
    "graph_file =  '{}.meta'.format(model_file)\n",
    "epochs = 2000 #2000\n",
    "batch_size = 50 #50\n",
    "\n",
    "summary_freq = 100#np.ceil(epochs/10) #200\n",
    "\n",
    "\n",
    "hidden1_neurons = 100 #100\n",
    "hidden2_neurons = 50 #50\n",
    "\n",
    "scaling = False\n",
    "\n",
    "if scaling:\n",
    "    scaler = StandardScaler()\n",
    "    X_train = scaler.fit_transform(X_train.astype(np.float64))\n",
    "    X_val = scaler.fit_transform(X_val.astype(np.float64))\n",
    "    X_test = scaler.fit_transform(X_test.astype(np.float64))\n",
    "    model_file = './final_nn_classifier_scaled_{}.ckpt'.format(learning_rate)\n",
    "\n",
    "with tf.name_scope(\"dnn\"):\n",
    "            tf.set_random_seed(seed)\n",
    "            # 1. Parameters to determine the NN architecture\n",
    "\n",
    "            n_inputs = env.observation_space.shape[1]\n",
    "            n_hidden1 = hidden1_neurons; activation1 = tf.nn.elu\n",
    "            n_hidden2 = hidden2_neurons; activation2 = tf.nn.elu\n",
    "            n_outputs = env.action_space.shape[1]\n",
    "\n",
    "            initializer = tf.contrib.layers.variance_scaling_initializer()\n",
    "\n",
    "            # 2. Build the Neural Network\n",
    "            \n",
    "            X = tf.placeholder(tf.float32, shape = (None, n_inputs), name = \"X\")\n",
    "            y = tf.placeholder(tf.int64, shape = (None), name = \"y\")\n",
    "            \n",
    "            hidden1 = tf.layers.dense(X, n_hidden1, activation = activation1,\n",
    "                                     kernel_initializer = initializer)\n",
    "            hidden2 = tf.layers.dense(hidden1, n_hidden2, activation = activation2,\n",
    "                                     kernel_initializer = initializer)\n",
    "            logits = tf.layers.dense(hidden2, n_outputs,kernel_initializer = initializer)\n",
    "            \n",
    "with tf.name_scope(\"loss\"):\n",
    "            \n",
    "            xentropy = tf.nn.sparse_softmax_cross_entropy_with_logits(labels = y,\n",
    "                                                                      logits = logits)\n",
    "            loss = tf.reduce_mean(xentropy, name = \"loss\")\n",
    "            \n",
    "tf.summary.scalar('average_cross_entropy', loss)\n",
    "            \n",
    "with tf.name_scope(\"train\"):\n",
    "            # Optimization Op\n",
    "            optimizer = tf.train.AdamOptimizer(learning_rate)\n",
    "            optimize = optimizer.minimize(loss)\n",
    "            \n",
    "with tf.name_scope(\"eval\"):\n",
    "            correct = tf.nn.in_top_k(logits, y, 1)\n",
    "            accuracy = tf.reduce_mean(tf.cast(correct,tf.float32))\n",
    "tf.summary.scalar('accuracy', accuracy)\n",
    "\n",
    "            \n",
    "with tf.name_scope(\"action\"):\n",
    "            outputs = tf.nn.softmax(logits)\n",
    "            # 3. Select a random action (where to go) based on the estimated probabilities\n",
    "            action = tf.multinomial(tf.log(outputs), num_samples = 1)\n",
    "\n",
    "merged = tf.summary.merge_all()\n",
    "init = tf.global_variables_initializer()\n",
    "        \n",
    "if model_file != None:\n",
    "            saver = tf.train.Saver()\n",
    "        \n",
    "\n",
    "def fetch_batch(X,y,epoch, batch_index, batch_size, data_size, n_batches):\n",
    "        #np.random.seed(epoch * n_batches + batch_index)  \n",
    "        indices = np.random.randint(data_size, size=batch_size)  \n",
    "        X_batch = X[indices] \n",
    "        y_batch = y[indices] \n",
    "        return X_batch, y_batch\n",
    "    \n",
    "    \n",
    "best_acc_val = 0\n",
    "acc_val = 0\n",
    "\n",
    "now = datetime.utcnow().strftime(\"%Y%m%d%H%M%S\")\n",
    "root_logdir = \"tf_logs\"\n",
    "log_dir = \"{}/run-{}/\".format(root_logdir, now)\n",
    "\n",
    "with tf.Session() as sess:\n",
    "        train_writer = tf.summary.FileWriter(log_dir + '/train', sess.graph)\n",
    "        val_writer = tf.summary.FileWriter(log_dir + '/val')\n",
    "        \n",
    "        init.run()\n",
    "        N_TRAIN = X_train.shape[0]\n",
    "        m = y_train.shape[0]\n",
    "        \n",
    "        n_batches = int(np.ceil(N_TRAIN/ batch_size))\n",
    "        #print(n_batches)\n",
    "             \n",
    "        for epoch in range(epochs+1):\n",
    "            print(\"\\rEpoch: {}\".format(epoch), end=\"\")            \n",
    "            for batch_index in range(n_batches):\n",
    "                X_batch, y_batch = fetch_batch(X_train,y_train,epoch, batch_index, batch_size, m, n_batches)\n",
    "                #print(\"Xbatch shape\",X_batch.shape, \"y_batch shape\", y_batch.shape)\n",
    "                sess.run(optimize, feed_dict={\n",
    "                                    y: y_batch,\n",
    "                                    X: X_batch\n",
    "                                })\n",
    "    \n",
    "            if summary_freq != None: \n",
    "                            \n",
    "                if epoch % summary_freq  == 0:\n",
    "                    \n",
    "\n",
    "                    summary, acc_train = sess.run([merged, accuracy], feed_dict={\n",
    "                                        y: y_batch,\n",
    "                                        X: X_batch\n",
    "                                    })\n",
    "                    train_writer.add_summary(summary, epoch)\n",
    "\n",
    "                    summary, acc_val = sess.run([merged, accuracy], feed_dict={\n",
    "                                        y: y_val,\n",
    "                                        X: X_val\n",
    "                                    }) \n",
    "                                    \n",
    "                    val_writer.add_summary(summary, epoch)\n",
    "\n",
    "                    best_acc_val = max(best_acc_val, acc_val)\n",
    "\n",
    "                    print(\". Train (batch) accuracy: \", acc_train, \n",
    "                          \" Validation accuracy: \", acc_val)\n",
    "                    if best_acc_val <= acc_val:                        \n",
    "                        save_path = saver.save(sess, model_file)\n",
    "                        print(\"Saved model with validation accuracy \", acc_val)\n",
    "        train_writer.close()\n",
    "        val_writer.close()                            \n",
    "        #save_path = saver.save(sess, model_file)   "
   ]
  },
  {
   "cell_type": "code",
   "execution_count": 58,
   "metadata": {},
   "outputs": [
    {
     "name": "stdout",
     "output_type": "stream",
     "text": [
      "INFO:tensorflow:Restoring parameters from ./final_nn_classifier_0.01.ckpt\n",
      " Test accuracy of the best model saved (according to validation accuracy):  0.989\n"
     ]
    }
   ],
   "source": [
    "with tf.Session() as sess: \n",
    "    saver.restore(sess, model_file)\n",
    "    acc_test = sess.run(accuracy, feed_dict={\n",
    "                                    y: y_test,\n",
    "                                    X: X_test\n",
    "                               })\n",
    "    print(\" Test accuracy of the best model saved (according to validation accuracy): \", acc_test)"
   ]
  },
  {
   "cell_type": "markdown",
   "metadata": {},
   "source": [
    "## \"Playing\" the product delivery game with the learnt policy"
   ]
  },
  {
   "cell_type": "code",
   "execution_count": 59,
   "metadata": {},
   "outputs": [],
   "source": [
    "episode_length = 30\n",
    "seed = 80\n",
    "\n",
    "system = PDSystemEnv(tank_max_loads = TANK_MAX_LOADS, level_percentages = LEVEL_PERCENTAGES,\n",
    "                     truck_max_loads = TRUCK_MAX_LOADS, graph_weights = GRAPH_WEIGHTS,  \n",
    "                     discrete = DISCRETE)\n",
    "# ENSURE TO SET CASE = -1 (or another negative number) in the pdsystem_env.py\n",
    "env = gym.make(\"PDSystemEnv-v0\")\n",
    "env._max_episode_steps = episode_length\n",
    "\n",
    "test  = True"
   ]
  },
  {
   "cell_type": "code",
   "execution_count": 60,
   "metadata": {},
   "outputs": [
    {
     "name": "stdout",
     "output_type": "stream",
     "text": [
      "INFO:tensorflow:Restoring parameters from ./final_nn_classifier_0.01.ckpt\n"
     ]
    }
   ],
   "source": [
    "frames = []\n",
    "n_episodes = 10\n",
    "\n",
    "with tf.Session() as sess:\n",
    "        sess.run(init)\n",
    "        saver.restore(sess, model_file)\n",
    "        for episode in range(n_episodes):\n",
    "            state = env.reset()\n",
    "            for step in range(episode_length):\n",
    "                system.state = state\n",
    "                img = system.visualize()\n",
    "                frames.append(img)\n",
    "\n",
    "                action_val = action.eval(feed_dict={X: state.reshape(1, n_inputs)})\n",
    " \n",
    "                state, reward, done, info = env.step(action_val[0])\n",
    "                #print(action_val[0],emptiest_tank_policy(state, system))\n",
    "        \n",
    "                if done:\n",
    "                    break\n",
    "        env.close()\n",
    "    "
   ]
  },
  {
   "cell_type": "code",
   "execution_count": 61,
   "metadata": {},
   "outputs": [
    {
     "data": {
      "text/html": [
       "<video width=\"432\" height=\"288\" controls autoplay>\n",
       "  <source type=\"video/mp4\" src=\"data:video/mp4;base64,AAAAHGZ0eXBNNFYgAAACAGlzb21pc28yYXZjMQAAAAhmcmVlAADDzm1kYXQAAAKuBgX//6rcRem9\n",
       "5tlIt5Ys2CDZI+7veDI2NCAtIGNvcmUgMTUyIHIyODU0IGU5YTU5MDMgLSBILjI2NC9NUEVHLTQg\n",
       "QVZDIGNvZGVjIC0gQ29weWxlZnQgMjAwMy0yMDE3IC0gaHR0cDovL3d3dy52aWRlb2xhbi5vcmcv\n",
       "eDI2NC5odG1sIC0gb3B0aW9uczogY2FiYWM9MSByZWY9MyBkZWJsb2NrPTE6MDowIGFuYWx5c2U9\n",
       "MHgzOjB4MTEzIG1lPWhleCBzdWJtZT03IHBzeT0xIHBzeV9yZD0xLjAwOjAuMDAgbWl4ZWRfcmVm\n",
       "PTEgbWVfcmFuZ2U9MTYgY2hyb21hX21lPTEgdHJlbGxpcz0xIDh4OGRjdD0xIGNxbT0wIGRlYWR6\n",
       "b25lPTIxLDExIGZhc3RfcHNraXA9MSBjaHJvbWFfcXBfb2Zmc2V0PS0yIHRocmVhZHM9OSBsb29r\n",
       "YWhlYWRfdGhyZWFkcz0xIHNsaWNlZF90aHJlYWRzPTAgbnI9MCBkZWNpbWF0ZT0xIGludGVybGFj\n",
       "ZWQ9MCBibHVyYXlfY29tcGF0PTAgY29uc3RyYWluZWRfaW50cmE9MCBiZnJhbWVzPTMgYl9weXJh\n",
       "bWlkPTIgYl9hZGFwdD0xIGJfYmlhcz0wIGRpcmVjdD0xIHdlaWdodGI9MSBvcGVuX2dvcD0wIHdl\n",
       "aWdodHA9MiBrZXlpbnQ9MjUwIGtleWludF9taW49MTAgc2NlbmVjdXQ9NDAgaW50cmFfcmVmcmVz\n",
       "aD0wIHJjX2xvb2thaGVhZD00MCByYz1jcmYgbWJ0cmVlPTEgY3JmPTIzLjAgcWNvbXA9MC42MCBx\n",
       "cG1pbj0wIHFwbWF4PTY5IHFwc3RlcD00IGlwX3JhdGlvPTEuNDAgYXE9MToxLjAwAIAAAA06ZYiE\n",
       "ABD//veBvzLLXyK6yXH5530srM885DxyXYmuuNAAAAMADN2InuDwrXQ9FeAAIdqvwV2uIFyuvHMD\n",
       "yR5pPdHJHFBuHRRiPYVnF3K+jIXExkxwoCmIwV4EYu9rnjS16428Eowic5JEEljxCw/4mtrWylKu\n",
       "lpJX++XTo7Ee4Q+YEHLkDwD6QWlxictpywioBv4cGeVpJC1ibQLL7ZPKZhgOc4DEZk6DawmdzUjl\n",
       "20nV8K1owWLfIYQF68Fp32+h3cVRw4UPj1Prfy516xwsff5aolCgGE8wywhGli4Zc4CWBq9OLH8y\n",
       "QWX3X2vtXP4Ks+zIAy2IrYaWqG9ayvJAME2FW3did9sEGp9/PBcmTL7CTPQkykKQa7LXvehqMLHD\n",
       "lDCBedViPSMkNkJc0TspnDp/bFpuMR1TrfbIT25aurGFtOhvUgwjCuKr3Rq51OtOEZu8ZjIfRN6A\n",
       "4sb8fNxD3VFP61H6sLYu9iQo/aewEEm2T5JYoOeNb5EmD3SPdxcfp5slHmDFcv+n1Y8tfs4Xm52q\n",
       "VrBFKhClCH0aP0X+QtZEykimjeNFo1FgXY4/BItgmLQf0hz4FQ6Lyq2VKLoACeTUyhzcTF2GFWft\n",
       "h10U4h2y9ieAWNJ64pnwbwcZS+oXsPE9iBtcjgR5ADG+SYtxaL4fIYvxApI/Cm31g4ifGqLgUOmf\n",
       "DJ+d80tHX21VL4c2PPhE7dP5Ey9gJIKxyzvh3GQD+QYfSpAZsh18jqF4g3ph1JH5PTj9Fc93A3vd\n",
       "NYdKRMIlgOldRSnI5nwBSq2L770QxpNIXX+hZK1C2JYRK6Kb+gZA1KedComjvdOxH25XaefB0C4t\n",
       "e+Xz70DYyCdvNiMyIpDRotWboVDH/ZzjrpI49qirUn12lZZ9uDUQkJ09TJjfFZnD5m7nXF11gfhm\n",
       "SxU2PWoTCpHXo+AzbR1oV5QVuVrS6mhZafKhpHhqeIcsm9fl6bJOTBzhZlxPt7ydgTUDh5qwK1PW\n",
       "sSxj1pd6JXincR6BF9/EpARUrz+Hw4NjRSaO30KV6Tpxh6ROyUyY7DSHKlPSnPyeOiM5XP+UV74a\n",
       "G6NwVQI9ne/mYHrbTjylv8nf8E3qZ1CHV+mPZYuNGJSyH+V5KkicnrvuMRvHf5JmbOcC1ijtrsDW\n",
       "7NX9aqUootBq5T8lKq0SUDgwfrSfe4YRfcoOFGoF5tPYcjpen2Xme6KaJww/A5O84XRxH5FE77oK\n",
       "YDDVy9Xujv66rzxN3xgbRBl31QOG1xhERMpvsbYrBeZRNztvwl7BCwwR29ufqVJRfO4d5reF1q9Q\n",
       "vKTF8FF5kBEZh4g2GUhhcKlPhueTUCVLHk1ZshHpr2NsYqb//NXDdppX/rz6D78SMqi06WEViglK\n",
       "xQWSDjhVNrdTbbtDIPPmUHYDP1hc0IMtHt7l5ixux2M8h9Qeaw0VPHIuV+lhP0XWCgf0n+pAexGc\n",
       "UjsND5EXIPtioeFAsABjtv+RH///E/d7RJhwPW2M10QjW0CR77NbBvdq/TgeOkuyahUZvz4Z/FyT\n",
       "OtyavcAhsmjliRAOH130k3PzHqIPqtM7Tw9QohNfFMOHsvKR2feSn1M0lCwUSDuZPILiAsZbDy5Z\n",
       "eWRK0TrK56wVmcdxOFeFnNrRdO7rGD0ZMzkU7SBBkm8zjDgbc+PbOYpqLi1/KGjlygPwrj67eU96\n",
       "5+WNwFHP7iLOr0Zu4AAAAwCAAwN/g3XujaO09rAxj5Swun63/3pXMaZWpsVvd6JBZYKQouLVhVYA\n",
       "JpleJO5w01hiQm6Mpj5ekdujkdrYdFlfUTSK8zkzAOF1fEge36W6IUXO3z3gNtXV8tzwrW00X7e7\n",
       "frkDTHQc6PN7UXJ2dgX247tW5+1DwHyKxnPb+nSPqD+BKxgPtUkjvgCW2hxotwW71ZAdTwqexjJe\n",
       "+YSvztzv6oSIDXQQ+rbhtzq5GoG65iidBmJ11b5QBVP88toH+PQEFyudSw51VgdFdBSOJI4ZrCo7\n",
       "vyvPM0nn1YJmcX1iPP92XPchIHTc3cuL+yqIuBniokDAu29ODXO90j5kHDT5A8kY1xg59rxsX14N\n",
       "OoW/Sj9XACfO+N3I8QhhP8Dx568j87q08nWSPCgntaZ4oEtqojOxMDRzGKWme2ZojKRBsCg8ClMZ\n",
       "am4Ii0H1LHM+J8wQQzASfbJbW8m4N08jOBInyZzhrsPa4MzEI+FaqjEIo2cHY71wFQ7hdXDom7a7\n",
       "c7Zz/Gu8/mKIE6C9f2TB915EbVf9HKwVqbI1SUCtL6sy4uToM84IivrMtCsC/VCK6nuZsGt1udoX\n",
       "eGPN/orliA3RdW1t2Bf6eujo2z6ASttj+S0X7bUdatrUdnmJRv3wY302QXvqgZLm0CFwFkoKO3oI\n",
       "LYigLmfxzNSqGU80ULCn63h4FerJKXyujsUbUYWw7CD5CE+31H6kNMbPP4StVeAgLudLf0yKSlSm\n",
       "4zjSP+I19Cj1ou6dsawwj+tvRpOGnBFD/9hMy/Y2Y5dcQmldlxKVkPVSNOmb1LpciBqluHct8l8r\n",
       "DEfI58WOP2YzNp47TG0Eql8XaGhJkSSE3180SwFd4Vp+htpkwTRkXyaN6R9LOY3nQhOXHlA2LUOw\n",
       "DD1Roq36UF/aQoPxDEpTO77E3COD6Afo03cf8LVRovdXO2NeZeSOMVUq5DIoHBNRWQy1fOTnBuGJ\n",
       "QaXoRR8N4mOOVg0tWAgrob6aiOiaBohGMcZkfpvi/ycZxSt6hU8LhHem5irDw/rGn84U3Goov/F8\n",
       "AhyNyYtYhZX6ABYqX3k10FmcBFJIpK1yTsHN8UQIvbqegRjGDbNpPwoJOQeZH/o+indakIxZvhHE\n",
       "I1nfUQu343dHakmrS64b+qG3aeOzaWMBazBF8lC2CBhxTvEfVsAeCZZMD8pz81VLyCHRrhdXFmzg\n",
       "7lKjjPBGqQRXGqXVrIZ3U2JBiPgipVF6h7/RhRfeAdD7QYe+alLSmqYkbYlRhZa9I3nI++J6i8M0\n",
       "DQxKT/RlH+E4W3KO9GwEoWLBnkcyBSB75qlvp6fMHLLO6CESoM3gZXWv4p55Q66dyH5pwACf2r13\n",
       "qfOe7cWxsOQhnm6wYul3d2DGmIE5siRmC6cM8N8IGQQATtdKEqFT/6/L+dMlvqPJQAz/pSXeMT7G\n",
       "tB8CkD3zVLfOsDi/4kyfAfPht51AEwu3e90jtQEqEyyaJA2WXWgM/gDZMQBXJaCr52EjOYHekS1S\n",
       "FKGw7mE7ixAPJwpf+RAuITQBUYIZw/jv3XjEHqiTmkbn+ZStIxkDjYbgFPPD307A2KqQmHu2Giha\n",
       "i9PtY8QPHyvfdoLdMFNhF23yYPdhO+UdJegNClm1YlmunPgBUCk6x8Y2w3Hp9MODlXTGENX6dCrK\n",
       "GLbundikcV/3SAOleU/kvldXh1C05bTiNryD+445vQwXYKtl3yVH9ZY8svyvmBxtKRloJHwzcb3A\n",
       "cvXPh+jLvEePc5yeMIdPQlb6xORXyDeCL4i1fGK93tO5ccuHscWij04XlYOwxFeEZ/vZin0+HTAI\n",
       "2ePan4KH0ak1VcrIiUCmpcWAt19acEY2BInaYTYHwrxCliK3wBVTSy+CkUZexWy15fVJFmZDdbTH\n",
       "T5pbYzCEc1VMH+M3Se2l8IVlnpdL3/WjQEoo2sKQGnbqlOxiraPV5ro/7cBPI43Yc/lfKE+PH/FB\n",
       "Ih0/Hcw7KmVCaeMkTSlV2/+koWFirxmlkC0e5bGOBEGYzBc24YXw9MJUz+CIUe7qRpTIJvlOoPRw\n",
       "F617p+hjZ79rL5NhkgaSg9JbGWKZrHpWHozN+zICLdps//sYmoOeudmexT7EdObnsStNLf4xltuh\n",
       "T2Ee7ZRtLyf4VBEe1E6N13fc+WuievcG3P41O3RXFRUx4TPv5jBq3mcrY4XbOiv1tBM8RJWuF1jV\n",
       "jhKpIMdr4j93/bxZHYBsmpokYp7i1/IkXwjoHvNdn9MtIx11IdHbqDrPmQ20jwgb7dGpNGlH2RKk\n",
       "Gn2o2op0kZfrlhJ9SrqJ3jjkxJ4ZWkGTPJgRAzAi/5ewQASd9QyfrcmvLV/XLPBb5O9HdnlGeQLc\n",
       "vB+bQREKxKU9t9I1hRwcD8dA42L8l7hs15nsPTltzq1tjAkUbKxKmV4uhwRSW4AupvQXQufBhxhX\n",
       "zR/+jG9p/B8MK9kyiSF685kS2o/saSER23P/Y5GuDqgiNkJtNX+PIzq/aJ1sO4SwZ6/+alW5QeTv\n",
       "P3d2gvRJeCZKx3UKehgfPQzsGLv8S5aNpMBjjAHJk5k9EmNX/ZbZROSXb5237utMYA5P1O0P7DIk\n",
       "zHFbluBuDvrIF0GtLi09mVUeiaq9XU9QCKsn82fsPRGMZDP7e7qwC3cj6WZ0DJt/aR2ETLGNHsR6\n",
       "tLXcMjpxCiMO1AqWhRVYsSMRxhfcfO6ATXHdXLlEQ0LXZIQyVf/iqfR1R1pfu3wRDYQkJcbLEhk6\n",
       "1xTDAXLR21O2XjZIxOROUqegAdlQ2ORcS20hEMo37W38HNZj9jeltT7yYajQYY1RBQ/lARy8Y6Uj\n",
       "EBk9HuFbE45CAACyRACUgAGiAbcAAAF2QZoibEEP/qpVADDgBhugAHLRi0g1gD24F/pbx/p7S3g5\n",
       "UIQ011xjdwJENTCVMv2z+Y7jnFd5ArNmCb4yN5vU70JsiaFS+MHesdeES5x3QuwGHj8ly2J7re3h\n",
       "JRySolSm7IFRVdr/QEdkkRxhq2tLgviZGQO6DaPzD4djpYq70ErX37/Uh4bkDLt8T1jKSRLhrumk\n",
       "VHEk0ox2ZX1qwSXNv2iOSSgKsYdCPqaGq+oQ1X1yboG2tcpVhqkyqD2q0PZ0sIeG8jIQJDJFIrer\n",
       "mCCCSWcqbKHPhwGjKUnQWtDDJ2CYCZ13ZnQNBXNc8VZ0fIzV6OySscOJDZmETnbR9vQ/r/9HfvMj\n",
       "Ep9Kwty5+0oAEiVb8nMO16AQw3ze43uJZJ4oHupavtXMbFWHI9dvSV1f/XKQXEiptFguAKcW1zaj\n",
       "JUMY0JQ4GbpwI98g8ip2Wfcq+1O7XZJ5GVTGXnCFGuV5dvcYQwOMQr8WAKEGFaZBs7ofum2fVUAA\n",
       "AAB4AZ5BeQ3/AH9GkZUJZtLTFtXWl/ZN09DGVVbJZyWnrAiIXTvgXiqPQA28EgsZYIL0r+0UHN4R\n",
       "W232vvqZolaw7JoEFiacUT+9+otOfajI4+6cg3S0bjVsWXrKDZql63RkneXsQM8RVH3kB2cUbB3X\n",
       "04At3rpgb2M3AAAAakGaRTwhkymEP//+qZYAC8fCtrw9QTR2bCsRv+faSsAFtmPqt7paATp21EFV\n",
       "3K0hLD0qf7w6KUYzTKvg1fE9otKeOzKnZxQttVLAAGvKCxDmguZJRZ17Fta5VBhcDP/6bv7XdgAK\n",
       "jG3FLOAAAADNQZ5jalPDfwAILGSkYbDBMRiZ5xGv5JpH4mlKbtZKsjbcH/XXgAdd7wtXt2f1GMns\n",
       "KOX3TNKrU5NQkCpvX94bPnMDeKkuQDrgwoEaQi1NzI1uNuYkVgp/WeQiQ4jLDWc/M9kBtkkt/Mlf\n",
       "rNbk7Y4ONOdXrCWiMr7nZYIXIBp9WcYOLEhm76rsMuoUNwxSTc1iiJfgBzYLwvqpJDphkpZO/D8r\n",
       "T4LyGVQ3aKjUGq5IjWPt+jkPYxJGYaANCBLQqGtwaCXT88qsgdKSSpZAtwAAAFMBnoRqQ38AA/cm\n",
       "kos0gBB3hFfaZPl2Ve3SRzs0YBfSBoghZC4MP8NzKuhJhX7353PpUaA2arXkIKFxGHm+agbpUUaU\n",
       "Wrr/DA4jYz0qSrjj+rgL1QAAAHZBmoZJqEFomUwIf//+qZYABbfk6/aaAv1qn3mh4dfWgAvFHrMM\n",
       "bNJUnYIOolGq0isrlv6Mi2guRxJy6oxZ83UTOKaLiCLZ/HT9fzok6dlrUv6ATaXGu/pjPd7qlz4x\n",
       "QPcLCaDX9VobTh2WiceqpibiF2W9AReZAAAAbEGap0nhClJlMCH//qmWAAW/4VteHqCaOzay0J2X\n",
       "+yxkR+CympF8gRzqr0P1DPvqz9NAALU5aqE1yILVC8yGGgC+KCFJd0jiYP2BYZMpGLUS4AJZYTc2\n",
       "fN3NTlfquUnDeqMUvzKl59cq4NcqYQAAALpBmshJ4Q6JlMCCH/6qVQAAu4CcwmYUYoOfAjtHh/vH\n",
       "sFT/EGlDLH/rHuqTwoblyMvqTQJd9fMf2GqjPJAFUZq9IpNazKBrsrLEEMLEoYyG+geIgxSTuIFo\n",
       "GKViQTq8ySvyIDp3pxKWkH7p+suSdPHOv/zKIcHkcx5aMjrDmGxRCu+6iY9V+Ssya26V4ZgEPHky\n",
       "Ee3JuUhaDjz9BvyaST7cgGr33dcOCpGnjnM3LOJqJrseuUe/w0a0KHgAAABxQZrqSeEPJlMFETw/\n",
       "//6plgAC2/Lc3tznqGtOqF1K98RX792pH152jSEYiDjAHgk7aNAOTRh7YCrufH1b3hrzlI+Zsy/K\n",
       "9pXpOCpRia+Gg2P8N7xfv0essonv1W7jK3ifHpxZOqAEdNrh1Nj9liWDytgAAABWAZ8JakN/AAH8\n",
       "CMrzPiXXcbz8RcsjKjFsu36nLUrI0e5NOBPY71Vti25M38cRPAzPspUXgzHbSRRW1vBjgvjLGvpR\n",
       "po0+hPKtuit6afFeEWjH43grRJEAAABuQZsLSeEPJlMCH//+qZYAAt/wra8PUE0dm1loUpkIALhN\n",
       "u6zmsuU8TIhkITQM7CFrCssVX/9qG5DWJ29TRSP9gBycMNqMejm88c9ufJbBq5K/QQDCv2ONOPI4\n",
       "xfJYwMiPyKgwrzZHY7LVd7ZnDugAAACzQZssSeEPJlMCH//+qZYAAbKbJYAj5C1KDrb0LyiLWRqQ\n",
       "nmncJ1vSAkZDdhHXc+cIHLGWrBD8ZSKRHp+zG+zkw+lmhsLHNiL4m3Y8TluhbE5a7b/WLXAHYbkn\n",
       "qBdNXycGyGcP7WOTujVHPiWyCevce8vKDqSuEsZhgLcUVpjc9pdWEMLNnVyQEK/6VuOu+vww9b0r\n",
       "FiZh3ESJslxprKfJ6jP/2lIjtguYtpJYxUSZNgdjqxwAAADFQZtNSeEPJlMCH//+qZYAAbK5giIS\n",
       "YwwjeC85whwqgi6E9tZyKAWu7KSNGIh6Bt1wJ7YEyyHbQNg2JVFF0xU/yHo5gqEjX9f73RUevJIn\n",
       "oTkfS0zgtIEw238JRJRcxFRuW8HgV0eQf+4H6Brr9h2mPutvGEBTL/7g6g+k+/3qHF7AxE7msOeA\n",
       "mbQiEjBExoFIAi8OZtrXrmSfwA6bLIu//IY8i5LLpn/tFfcBkrhg44adkm3cvkKM40XAeW5t0one\n",
       "f6mR2BEAAABbQZtuSeEPJlMCH//+qZYAAXj4VvJ1gKQvvSRfFO07KctXKx4TOJp0X3DROj7/zIvl\n",
       "a5oWzXJqzXPUjUFpvMMrt3Uywb/kj2CDvbfQGFHQ6rdV+0Vp0pHAJOFkfQAAAGRBm49J4Q8mUwII\n",
       "f/6qVQAAbzLnS49Zcl0UB971GnSega3kZaeu9T11AF7v66D1PNGMK4FpT4waN0cVyjklF3en4gAy\n",
       "peq3QJbgy5eBWDxY4P9wQEWNJr+v6b6BR61vNIZv/sppAAAA20GbsUnhDyZTBRE8P//+qZYAAbK5\n",
       "giISYwwi+t2OAhVAt0ewJ8MiOvZoI8zooMgw1vxlU8+0L/jaCVGAf/4K7Vwthgv3/JtExkcTGTGH\n",
       "3juNVUIjQfcYarrxTeZFz7+byWgEmoI//9W36CZdzhzGthYYcaMYpiXipxtLm+7vvjTfn9UI8/kl\n",
       "EdiDfiHpVJ4sF9dUvQKV2p/JjghmDekgB5tYXQNw3iqBbU0hcus9BiUnA1dXadyMbRsiHqDCUgD4\n",
       "EvJ9bO+bxWciR/QGVFcw3+tSt7Gt3XtGv/6sWAAAAGYBn9BqQ38AATWMlIw2GFeek6Mc8K7JWAit\n",
       "8mKBG/84GbnqhtbVr7Wm8YcNkzP6W0zYE8miT1GHYd1BYKGodbtAfqd00gNszWd1imAShRBj3s53\n",
       "+dOMkaJEawylW2rAuVKRKv5oGjAAAADgQZvSSeEPJlMCCH/+qlUAAG+MaKhIAhdrauA5uCyHnf68\n",
       "LzuR4DCeVL1Y7ul4st5W4wk9KKTN0MiYxujCwGflQTM5heipwkwdOREXLVuF6pTvYAgRs1k9YCHr\n",
       "DFDmroOVeMf6FeG+taJFUE5Q3ylhvtyrWxsO4vfMzLpEsQTMEfRRidxqnRF/aTkmHFm0As8wia/B\n",
       "W0sY4HSuuYvRYep5m+yBmedlaXaDnAGlT3AIF75He5k4PHFGieE3NaIma62WdyyC67WEAjAABP1g\n",
       "kX3JqP5O7tOkjZXQbf+EzpUVUPcAAAC9QZv0SeEPJlMFETw///6plgAC35b+5NR/zJACE7PTGzDy\n",
       "AEIEL/tFA5K9a+YTNNMOJT1Vg/0u2UnPTlU3NLs10YcO+Rf/TdYRRdui0Z9C9bCQh3pNLb1nT2fI\n",
       "QKdepFXpqAWOLZSZ4ve3KblHJAxxco8W7zXePpfS9nipA4rsZEsy3EdHR4lIgahhcu182WuiyHyS\n",
       "47529GPkPLUAGRpv5kYcQgCiueQb436qJawFXYIeC3X54JQHtB9xlgb0AAAAdQGeE2pDfwAD4wyB\n",
       "PMFwdCNXaTg+bctQCvSGhs4M4NyvL9JYHVmY0xDScPF+m/qAAI9y+JVaVfNXWB61PfaiHbgzvMsj\n",
       "0R+ChxBasPGj9/D3SUY+2B698739TdQYxT/OilgEhbtwBOMhZwAADsnMcS1LWFRMwAAAAGFBmhVJ\n",
       "4Q8mUwIIf/6qVQAAu4CcwmYJNEcZ1i1LfL9qFMrJYza7ZuAAAoS8lVPmi9mq/HEiQN3XRvYICD1c\n",
       "QaZNEndXby1HwzYIz/FeG+PPFdNtTL8JNEv+T2FshMYVx5EnAAAA4UGaNknhDyZTAgh//qpVAAC7\n",
       "gJzVxQb+Ao2Ir5US+92ptLKVqINak/bJUnoBrETGN0a/dWxWBP0ER10/2kW3ZjFGsnadOuYiOX/8\n",
       "LC7fMUFT4EPxkPc+lItIhJoxAf2S/nvUY6uszGqm+zYUq2kwEF2pnmD8kHJDX1YTWF9+cdm//pJH\n",
       "ur5Bn3c1+psrzyrcmEa5AX4jpzlt1ZBFXumDEc2nd4SyBL8qMhLCuirUEBS0E4PrsCBLSfyuKTcQ\n",
       "udI0XigFr+mtd7eQlWZTerJLekfyMLPlDDMpVxHiMP7vpQhswAAAAHtBmldJ4Q8mUwIIf/6qVQAA\n",
       "vHxevVdjgIwPYUARkbNVvY61KRYsIub4x9Gk7+dFK3qeVGxvtb6JSVcSV+eYtX94iHjEV6+7Q9+J\n",
       "9VZrtI8Lpk1EEZ9ZSKAoDT7W8E60eW096ntqK6+QIRc++sng3x8HxkUuijDbNN9+wVMAAAC0QZp7\n",
       "SeEPJlMCH//+qZYAAbQ46AmwBBpcddAUdcwGYIoiH4tXXyAHfgqYzvzfTqb0NPdYrnDpUZ6t+pO4\n",
       "dTTpIzbQBrlWFkZA+QKA7UNT2jzXnP1oCyvROmu4e5jZIfVZlVKt2XkPOq2F2NolOkVYExvKY3Qz\n",
       "LES98IVEEzOkwtJRp4vlXyGPU4+DRoRgea1dlZw9pIgABN/AHVczTglnwT/e/2e/jXYwLAqhIYM+\n",
       "ScUy7hdxAAAAa0GemUURPDv/AAHDUgWHi26B/8YuuY57hxgsiNjHnwVIJPFnPgA4lJfYAerajDsY\n",
       "CX8NU3AfzXBSAMCY/Ibk2KhNGaulCSXDdGZeaEzz8T6yGBQAs81Dv4kNgYrPg+RWDgB9p6npB7ca\n",
       "+zELAAAAcwGeuHRDfwACjnfWEDdbO/sVceCu2GuzGI8CZBWmycCLUGhhntPpMgs3oPBNDkzARVMB\n",
       "3wGOqxLv1O9U63Uok9SwAas3IVsGd51EApGmu2jY1XGlsDaDXZjVXuyu0iVkAc6dEOcKAWlBq5TA\n",
       "TkFZzXyAFBEAAABmAZ66akN/AAKO9C5FaOJCBa/Q43cLfWhbx86lXMpsZNgscRcOGtxOPQAFXU23\n",
       "G+X01XCi5KZbO213xKXHpV8zHJChT+pbw30IQHHXaxIyUt13W3MHllakC2AJZvN214Ssw+jcLDAg\n",
       "AAAAXUGavEmoQWiZTAgh//6qVQAAbzAhgV8P3IHa6WvPTVvzxLpVGzqZSkCCvQAUUFPY9O03Uycg\n",
       "JGpbJ9PH8OOLNsg4yx/VZSOY/k68pUGPeXWpSHYV5bAksGHxrE256QAAAMRBmt1J4QpSZTAgh//+\n",
       "qlUAAXjKy6Tr/uCACXp6aWoaOoV3oDeMJdSGJvPCUsAxViS3ot7u9DAox7EFcTS6PA12HfIwvNlg\n",
       "xsapWxvU6vkHd04GjGTGUyZucYbR3Ih72C1xK/k8qiERaONfqRimzE2E7tZl2BYs0ek1hWR5d6Lo\n",
       "sYJN6HMSH3dv6ilTFzB4okv7tZiEa6UvX6DcMJdfdqc8z1W5GT9EgXfAv8LwTfsYalvWZdRp5tkn\n",
       "uiwi1hTW7oxrL5I/AAAAwEGa/knhDomUwII//rUqgAC7dSQD5krpsHVWlPOvCUDOvSW0UbCGb7R5\n",
       "tlXAAagPx+RSLzaEAEn1JtxSnXLdZYJz+EFAEHtKA/+woM6a7rbFoZ2TpW/xu+FCZB9sZZ+oAlb/\n",
       "I7Hxf29l38HBguzXpWfKAhpbX5GMfanQ7Kze/AdWZzqy/pyMjfa6c3qtat9XCX/FX8LIsUWjPYp7\n",
       "Ko6FIYvi1+w7D0SZZI9d/xrJqX61Pi5F42Z2VJrFUQA+mnEGVAAAAHFBmwFJ4Q8mUwIIf/6qVQAA\n",
       "Lx/VwAPl6VU5Cr5FD4DN6dp1w5l5UWOYDaE8oz/elSVc+LpdJi5b9in4SGSffgx+RjrFoLJc/Svl\n",
       "WVrwQM75+hOfXGmVXygu61EBsp85B4Xwv8o0+VyBviKA5IY8aPNnwAAAAHpBnz9FETw3/wABNP1K\n",
       "C4LSv9rE/p1g/yyRAPRoUuJA9swz082Jwj0sif32RHZCmaYctACVnAOZCYm3GU4sOnjr0wRXYvoa\n",
       "NkGZzvUZ2pHvi4rXQzZePIORjuSynlQEpPz0N2fqe6zrJoahYZ79oz0W0kIAYH0Ixe6RGwAAAFAB\n",
       "n0BqQ38AATWMlIw2GE9U7H0jIv7g8LDryzNiNK9PLiiHqmRqqpKzgmnR/IfggmWle9jdHGt3p2ew\n",
       "Uc953AZQAC5UQQ0OSbYEIRYhxscIOAAAAFdBm0RJqEFomUwIIf/+qlUAAC3+/4FYzIJw5/ufFJn+\n",
       "OMTg9cps2tNSOWAlbokuOYu2NKa+L3H+/eDkAqSJ2o/1TjGVZ1FjwKUtmf1Y857Q9idTYByzj2cA\n",
       "AAB2QZ9iRREsN/8AATXIvVpwfUftLKjZeBW8FFINSqf+OZEN8mvoDwEKy2tWlFCkICgfgTukB68M\n",
       "50sIJIvYLE715BsmmnbzZSLurvf3BqFE/GWXakoXaiJGkaABcK4BiBVkQTe5ijWh9T3lA1n5P/fB\n",
       "F+2t720F3AAAAF4Bn4NqQ38AATWMlIw2GE5TSA5AAtouw38Y7DpfbApvOamfoa5HlppAaVaY5Hy1\n",
       "l/9IVXkpvv1hIn23kZsD7PNlSmZr//UuZqzcPCuLl0yHAmRDDqqKTTTMTSiYJB6RAAAAS0Gbhkmo\n",
       "QWyZTBRMEP/+qlUAADfDpjH25jurOsGorhXiHMiRQon4wHf7XyaFNAuKvyUSte4VAYNC5pwr8ij7\n",
       "JmFxaj98SAjZdIk2gQAAAI4Bn6VqQ38AATT9Rj1gAZKTQ8KJceAkkj96Cy/nZXH7yAK5G2D1wNKR\n",
       "Y8AdnYEnpL/PDcZvEW5i152FqSD4w0ypu90LTdQla62wkyZDmDHV3WYRoBlEzsrNBbaeh7UzYXBb\n",
       "veemEF0T1sE3Dy8QPpd5TLT/rUC+hPs4LlWxHwhi9FfX4SAnp1V6l5ujiI+BAAAAakGbqEnhClJl\n",
       "MFLBD/6qVQAAN5gQwaXqWOsa7XWBBNYANBwNHSBqc7O93uPUnfWoPWyUwKB6Sm+er9hJrAkc7dbs\n",
       "CuLgnDHK+OXSGPFjOSHkxp1t5XskdeIAlbYJlGMSv17sxJaePGZ4cu8AAACJAZ/HakN/AADdQyAC\n",
       "VMgGHFYKyfA8TyVQW4acqqtGfxqt314TCaxo9VTQB3b7PeWy2adPAeeyxeutEDGkW4Q4rDeDLi4B\n",
       "p9sg3aBvc07iiG/1jOMAg0xFUss4B+SowHyPkpDtShJQWyowPGJ/iJDXkFMRfhYZmJidwl0dWEeY\n",
       "YCU/IwP8PVxapuAAAADdQZvKSeEOiZTBRMEP/qpVAABePVFAUTU4SOXW8SKea99hJGz8CYrHWtQr\n",
       "n0Kctgn38T+Tm+H6cUYO9+964kKC32u0gn2UGCw1NT94/v2D+bIoywC/xCczBVJ/gNbQqFOLdBiK\n",
       "EkPOqmrTV+kHO1bJby+d2yteXJyAcx/8W413zV5CGtt1brVLtqLJlDwTL4ouG62u8PWvg0nMW17d\n",
       "cUZzsZlLHjf+npUEfCVSgSKJe8trkFA9j8XNy1/9hMnZpsaz8GyAfQrQ3LSSkHvQJQbiq3++omnI\n",
       "iTPqPwPgEHAAAABhAZ/pakN/AAD4unYaBRxz61cC56EqG1tV+FTJvGHC1JkD6W1lKyuFrgbBF3Gs\n",
       "Bo2U1OBZ7SzdSBaK1i161SAGxIHRhnzpgpxvTL+btarfcQcddIvW3PfdghHuf4qqQgyQ8QAAAFtB\n",
       "m+1J4Q8mUwIIf/6qVQAAW4QqVoCXWFgBYl45i9QHe9fHJIsABkalbMj0/u5ySolpUyeb+Q0AK9q1\n",
       "N/1S9JqKiySht08Tnb08Wc7IfC46xHdt68EeLDoPqBeQAAAAmkGeC0URPDf/AAE2UfAAMo/CC8Sg\n",
       "i2gb7FAjTERhVSM0p6Y2oSBd2TGA4Ttvc/oQBs085i798AfI3xPymo7h/Bg16VX5PIZ+08NSSa3n\n",
       "b8tbeXTY/BD0KceRsznuzLoWunaPwylgW42BqFammk22Jn5GfO5/WIiNqBMMcK+D4gMQSAAAG7gv\n",
       "BmWFsr8CvgokdcSmPYfPni6/BnwAAAB2AZ4sakN/AAE1jJSMNhgmVd4ugAuIK/twQsqG2oUikrdV\n",
       "APeAJUwG2yN+HsmGaeFE8EVUYmmfsezvEu8RlHSpPhWCk73fWndKPEyxBRySOg+ZS05CpIniows7\n",
       "YBddsFHAO9PvGSSRFu16hWyFupN2qJXZs+8j4QAAAIFBmi9JqEFomUwU8EP//qpVAAA3ljCv+kAE\n",
       "7xiKY2EH2moI8fDxkgp9GQ/lzm3bu2hYR5cIhAP/iKvGKVBhEKyuxN8qIFRvLSXawOYBoCm8skS4\n",
       "l34wpKGT20rhv7HNO323+WTyHgWAvLncVtfzhoz9ByuXKgecBUT2jbZwAYaipoEAAABwAZ5OakN/\n",
       "AAE1yL1acH1H7Syo2XiuWFDVyAAU51eYyiB++AEHzVfvfnc+lVhaq+zNzFMUV94H1dKpHgQUD15O\n",
       "IqWSM5UcVNYySwzpbBeJBPJte1VAhO1uhjmZfAK0s8WRUCvbUKq6VYUeNBECfcwekQAAAM9BmlBJ\n",
       "4QpSZTAgh//+qlUAAFA9LUAaxExjdGv3VsVgT9BEddP9pFt2YxRrJ2nTrmIjl//Cwu3zFBVrQuCQ\n",
       "3H/8i0iDpMFD9qdGjcpTXj/aqnbp/mN3LIdIahFT2RrxbDIRO1DnQhS//ySQNi2rnGJRPNldpECy\n",
       "H8EJy5i6c5bdWTTZRyjwJfJ3Z2o4915ZCWFHe5YZf9qOexNnwlR6gEtbdi/t/KSs6r4/IBTpx9NV\n",
       "HVAF5twpbL0k3tPzLQptCIXwYEo0VQ3ud50mfSBrMCAAAAC2QZpzSeEOiZTAh//+qZYAAW/Iof8Q\n",
       "mZIAPwPO9/G8EereMldegyTdsPbAZdetm5PsQFf9oRUxv52SStpjfrAxuXeNqfqb0yNrKPbVn1Uw\n",
       "ovSjeHuq27PSlhNpKyNjvLXjCWSZ/bAlmhJ4TRXBBAPrfLl5xRibSkSO+1akk4L/GHGh5zFwZGxR\n",
       "JhHKnBx5l5hSFOiMFx0gMDMEZjTmTKQ/n1jvzP5fR5BdxCFESB73uLXyzYmnK9wAAABvQZ6RRRE8\n",
       "N/8AATTz/uKZG1xDrK9auHYTJIoTxGdzl4ZdvZ/t1EYIf7Ciw716+pJ/INI/AIALpZtTbPpy5z/0\n",
       "tOVVJKMTDXxy7lqRSHTZY2mKIRtkv7C4YGhPJGi67z+CyJL+Iip0UWL8vYRYlQ7pAAAAWgGesmpD\n",
       "fwAB/Ajq5gAGfuv2vMUETS6EwkGcad4GmH4sKClck4eOS4mfEHr27miyq5dbUYJh9jx+y1flW5LE\n",
       "XyHE5HA48fi6jW9Ns+upGXR4omUSXl+DlgBQQAAAAGVBmrRJqEFomUwIIf/+qlUAAG+MSzEAVYos\n",
       "csnrQu1+mTypTVVfaSfM0zwysG0oLPhwRhCIty9/tLs97Bg+o2G+k9r/qn1w+XAljSKyWGGNRv+h\n",
       "rhSt0GpTat2OSVcOnGeQJPhR8wAAAGdBmtZJ4QpSZTBREsP//qmWAAGyuYIiEmMMI3gx5HOlyYQh\n",
       "xvXvICux0kYmJHXQoHeQYEdyAy9r5gaAyvzfaNh90TDcaI3Vq15DchTQ0YWby1G1eAAFGng3Pxuf\n",
       "quZfhw7XELz3sAMrAAAAfgGe9WpDfwABNYyUjDYYABt021jb4Q+4KVzSZeAD+htaW6qfrBtjzCq5\n",
       "9/gd2//lo0uPMGjn3qE40MYYPk1rkTuF6aTi9P2kJd0f4mhwaMHAWLaK4IBXZbemgWWXXCe7QwFa\n",
       "raqGwOmPUceKbe2H5C5yuLXSAU6Y4KgEGczxgAAAAKJBmvdJ4Q6JlMCCH/6qVQAAbzELbgBHyLZe\n",
       "6dXAy1OnzRSWRMOvZCbjDPLC3jGBtRnP/cUDx3r+rMk3zkJ+hrXyzmjW8t3jTHApByXePl7L6eZs\n",
       "/eNci1bq5DajorjcsrQRaYSJ50jVWjNEfjLT5mZFNkbUP94xNQgRd1HF63tkW6Jrfz17v3oFWYKn\n",
       "g9tcLRqLjRQWqsAjAYxtuSNYOUxQB80AAABkQZsZSeEPJlMFFTw///6plgABsrmCIhJjDCJIICOl\n",
       "LNBUKC7QW8pF2CgymVX4MkSjBwkYSkrb4rJqADYr1lQa2hIhSlH/qZDRRgNCZdL6i9WN65o+n4BR\n",
       "Jgegtt3vqtmrkDRI/wAAAE0BnzhqQ38AATWMlIw2GE03EMMgBauydnqF40pOzwrfd33Xi8/yHwzf\n",
       "Boo0JcduYqt4seKelTceXo7E8w5xxO/IjDeUVC8AvfGrQPkIoAAAALJBmzpJ4Q8mUwIIf/6qVQAA\n",
       "UDxN4A3BP1x64GfoknXRhNcXuOHR61OC+Xfd9JYiIVwF36odgYkTkgWwiguDhFUbO32lH8ido/wj\n",
       "C//V2HZmQaF3KHx+d+NKYOKq3Io3w0vG+2LmuU4rIs1qz/hQpWPhHUM+/zIk8hOKhnZgAepu+k8B\n",
       "aBzau/yNMfU/mXUDqjEN8MJHBv8y6TAOdBAGQW09bWz0x2Uq0CCqSMwbraiYUETBAAAA+0GbW0nh\n",
       "DyZTAgh//qpVAAF4ysuk6/7ggAl6emlqGjqFd6A3jCXUhibzwlLAMVYkt6Le7vQwKMexBXE0ujwN\n",
       "dh3yMLzZYMbGqVsb1Or5B3dOBoxkxlMmbnGG0dyIe9gtcSvMf4dcFj5fHRXImApzZunExdxaipm8\n",
       "kY/LXBOiLsEi9YMMI/fwPyNqebeBSOfzE8VaddGgUBQT6JPdV2JVBn0/R3E+rP3rOk2pl+0YlHNJ\n",
       "szLtUKbCzIIQ9E1MepofmLIlQ1UWdyAAE9v2V30xdbGAABJniBkVHChbUFR10dcrbFkNzRaOCoGO\n",
       "ALUZxcWEDbx5ClqNEfj4wFtAAAAAZkGbfEnhDyZTAgj//rUqgAC7dSQD5krpsHVWlZcad2YyaMHs\n",
       "ZqEkIB8Frr7BxPFNtyqRZobAQH2gwlpkQYUuKTMLM7j6NzONjKSRgWJ2xADbfT7nBF8/z1DJNWLH\n",
       "P+/MVG3jDTEGUQAAAKhBm59J4Q8mUwII//61KoAAXb0lx3Ge3vTsaYWm6ABkEsyePNIHVailsENP\n",
       "ObzXQ66/3Zffp4/7GVXnwn+PAMqNkdq/MwLikLm5rlIvgQsazk1uT4JB4Qu5ZEPZ+bP68Y9grptU\n",
       "1/ZQ0uYf+Fd6NKcuP1Y2ded4BwYZlPg6eExayfoOq+u5ElTSoY+EKfpnuvMbz3ijcdM2t//5dYvy\n",
       "Z2Hu8dYTBLo/6V0AAACjQZ+9RRE8N/8AAfwJJbzcsl13G8+zfabkMu1TWWuWlUAA4XeKLaeUjloB\n",
       "gPiRI9xHFTQ/6HP6hGyCNIO3c9jgB6Q5BKpHZZvL1VVUFbQjK9Gq+yl2KRJowfRfrMtfPr9N2VD4\n",
       "qh0qGnLJi5Q5wImLo5cbXWd86EdrsWNbDBVUrZDpI/Z9jkIuvwOnhASM304WULn56JKa7Gu94osj\n",
       "mQcG9D7swAAAAMoBn95qQ38AAfwIyvM+JddxvPx8pNRBHA/62EAAS2EuTO0ePVUfmPG3P+AouYJU\n",
       "DDKcA+14JSjWinTCoV49lYJ7DvrNkEaxjoJZdNxijY/Re7mvil+zEGV8bTZT5K0OMqdrOzS5Kaoa\n",
       "qEXEWVMBwR0VBFzRoTpMvPs/sZjZTvcbc1QaQAclDDJUosAocPwPgFAZMQNCoB4FpuhyH8nKHZ/h\n",
       "A5WpL/ERPZCw0IMmr/DNR82/GzFlC17VyZwaiK/W5EpfNaG33VHD0NgQAAAAR0GbwkmoQWiZTAgh\n",
       "//6qVQAAXcBeNxSiofFBz4Edpp8/bNC+xRUXEeAeAOQnwL/jmSb+lsgeaUIThPKv2ugPn0Vfux/E\n",
       "ClGfAAAAXUGf4EURLDf/AAD+GvUvGxMiclOFWxfsiaxoQPysIVTkNUR8wLoJ/ACBobZb+CEbXQmn\n",
       "XN7ZHJh35A2Kpdj9gXGagoKAjHl21PVVrqe0bFhR3ufZqPSndxtrqfo2ygAAAFIBngFqQ38AAP4E\n",
       "ZTEcTrgqdhibYVSDQ5nZl6GgyQKAQRIDh4AHIMZEq6qDWArh6EimrmxC4Art+S30tAQvVE7TrfuV\n",
       "beo7L/sEXFOHXOl6CC21AAAAbEGaBUmoQWyZTAgh//6qVQAAXj4vXquxwEYJrpal7zNvRAAtszWt\n",
       "F5X4j5W23PLYtJ8obZVQD3/kjWidLQKRgDDvtA3fH0Sd3YYCGvj13gmO6oWT3OpkjcJ/cwE0DqtS\n",
       "+pGlkjB8/+zX+OoD5gAAAGhBniNFFSw3/wAA/fawjDYYU5fYDIAHTfhwbIpb25yJcq4i+Z4izvX1\n",
       "y6tAuxLWH4nZ5/ee51S/czmiRODwnAJwteWNv1uT9fSQcm4ha3HQ57Zk91Rs7dkxSIdWZ0s5y2fB\n",
       "zPvuE+P0vQAAADsBnkRqQ38AAJrGSkYbDBJLpNLUAGxdZuVWLS+EVmTg/xYZ0qntJCXQfYVXz2Lh\n",
       "mOG1XXtKom48FFHh4wAAAF9BmkdJqEFsmUwUTBD//qpVAAAvHxkIBiKg/qIShlfzrhJWwwwnRZ44\n",
       "V/IUwsPest43k6SAsEMaFzXWx5hJgo1sjyOLyNd+4WWQuB5U2L5bfAlAo+ewCr6PcstUiPT2BwAA\n",
       "AGQBnmZqQ38AAJrOeYFDABvLg02ewpqOk4yoDO003IIK4JTJaj27ZcGI4kXAsq/cqNyUOVZvjNOL\n",
       "3NO5R8ZZ6BOVBi2II3/3mWkx6bsoCF2lFxuTj/ws7BG98q0h8E48qvduk/RdAAAAoUGaaEnhClJl\n",
       "MCCP//61KoAAKCT9IAUGj849dG5PQX5kAqTw4urhSR4uojMD0mVLorgLv1Sogi8/v6NeeFRn88Jd\n",
       "2o2TnXJkIvfbSX//V2/f4h/C3B2o9v9MnM2+KsXVs/HtyPM0lt+MvQSTVWHvFXpswxOuRSDFe4Lb\n",
       "/jLiGOTWcldOkeTFn4O05ahVpUccQPoRZ47FjeeY/F4Rn9BqoNmAAAAAu0Gai0nhDomUwIIf/qpV\n",
       "AAC7d52Cfd5dU3UQ2p/uT44mm1eN/wAGrhM/8MvLSQiMFSOE+/ziTEL7sG/6Hwgc7HgvRDLTXzUI\n",
       "6uqS+pzYTkMVoZvsHyv+mwN5/aAgbZPJoybHAP7n2feOati/EVrInBIE8112e81BH1dt+dBcGvj9\n",
       "R6x34DjhEYpKqh4JE3s4TJKiKZZ7yo0Tp1Xu6q9vx1kqkGv+2RUQeso9R6t0MYf+osftqVW1BoT6\n",
       "zIAAAAB5QZ6pRRE8N/8AAfF05+QJsLNSGnXH5kuGM8jghyrJaj8g9RSZp5WiaM5EANeZZW8J4m6u\n",
       "8EA4ANfZN9JbiZOntueYdbVoZIVxxqQqivjHRkQBo0KunLYJ/PqYaTBKKWNJCliB2QpwasQK/4mf\n",
       "fMPYWfKGLXNWktiBbQAAAEoBnspqQ38AAfwIyvM+JddxvPxFyygOQVNxnY63exKpYAAN+AhQ45pC\n",
       "KZ+CQAlmWhbZRTeD+gGDJJCfknYCnYuRrhopPHho+OCJ8wAAAFVBms5JqEFomUwIIf/+qlUAALcI\n",
       "VK0BLrCwBqu8hoyt6MBVuAML1gDKcfXHUA7tr/X8eQ361MttX510WfnCt96i14B2Eq5NpLocYFqu\n",
       "tjQj8SA/6y/AAAAAcEGe7EURLDf/AAHxdOfkCkYg0cqied9cfmVU/dP6vDzd0xT/AW3qdJy8Br0m\n",
       "QmGmoshdV0QYwLGPXjHjvwKQu2MJPpZOztF2wAAB/M0o9NLDr9uHefzW3dSD3COIYKrAcABFqOh/\n",
       "WQbvhQ7LPu0GFVUAAACdAZ8NakN/AAD9fHkgbAALh2upvoO77gcezBNs6/twQubg26UikrdVAPhv\n",
       "jGitLFbogz/Ca7WpPBFVGJxMVdfCzjqltdxSa0ZtZUFMZCOv+uZLr8iVKftg6rLHIFmjpLhV7eLz\n",
       "yyXEkiZNsyHGxf5EO9WH1f1vlVI33uYrz/Q94zAPqrpOLQpPHicN/mtLdqrVfgGAh4OlruQB4oMB\n",
       "tQAAAFxBmxBJqEFsmUwUTBD//qpVAABdxaSluN6lbrCutkwlor/zroAHJzEJy+jSlZ7pI3MAcU/t\n",
       "TsXVoD9nrWMOcumJSvkUhd0fKq3/2xL7/nl4vg46G4D5GmFDPSjKSQAAAIkBny9qQ38AAP32sjwE\n",
       "VvkxQI3/mwOuXJrAeClf8tu7InPwz+ltUJAKFf/kpdJfH+PNj2hrpQ1MC3dhTP38yJdmT0PwTmOK\n",
       "3e2ZgG626C4qhbOo0F3so4bFV786QAnITOFLY/tM56r956+/G3+aGDUt39+++AtEfsxCnk6kok0y\n",
       "svD+N/c7JLaDgAAAAORBmzFJ4QpSZTAgh//+qlUAAFA9LUAaxExjdGv3VsVgT9BEeaiMw42aQxRr\n",
       "J2nTrmIjl//Cwu3zFBVrQuDa14b0pFpEHSYKH7U6NG5SmvH+1VO3T/MbuWQ6Q1CKnsjXi2GQido1\n",
       "fdSr//kkgbFtXOMTSA2V2kQLIfwQnLmLpzlt1ZNNlHKPAl8ndnajj3XlkJS77o0c8hc9OCeDEuWu\n",
       "pw/tI8EuR15Tv8SR9KTuD6/ZLJBA5uMlXU7kV06j2PZd4DehNRPPXlOFnqVRO9T/iWcl0dgZYrec\n",
       "tYuK8EV3n+SVqtuSrOkAAAA+QZtUSeEOiZTAgh/+qlUAAFBEIYFfD9x/ZCY+uEp0oJ2vIZk53KEa\n",
       "rdkg/uNo6z1QRkBluB2HuqhL6v1JdMEAAABoQZ9yRRE8N/8AAN0AKGs6DBMqbUfdAA5a2FAb3NZW\n",
       "uKG+mOu6SlIZmeiJr1kkT1TqeBXMaDDAYNN7cQj+Ats+d/TH5/Hb4FMZELTMDXahzQynQng7LoBr\n",
       "j/kHPhC8QCaldfKa8u4SKSAAAABkAZ+TakN/AACaxkpGGwwvIYvwUrBcHQWtay9Tw0krdoiHBFbS\n",
       "Z/4CTNwSNrm88rdkRoZLSb7CPK8PbIRRuFd9ON7karWwpUqj9sY5RozxO6t5l4dYm8Hd213zyNX7\n",
       "JFoBDyoHTAAAAHJBm5VJqEFomUwIIf/+qlUAADeY2OpAAFMnuZ0CJkilJGoTTkkJyIypW+RO4f6o\n",
       "jfpspCI1f7CTU7RqtGz037G+eqLniXYZa4Abg0De7FAMr/XOn6LROLpmuT31AlA2tiW46cfK/gnY\n",
       "zpw6/5JAFnCetbUAAACGQZu3SeEKUmUwURLBD/6qVQAAN5gQwaXqWOsa7XV/lwZIAMpwLunmRlCA\n",
       "Oq0XEdGn+APJ7h8A0/L66QoOSm4lTqLFMyInr/8S924pkIpFiPf2QMqouRtfHKhLm9MuBhwUg+DO\n",
       "4qSzjTcAnSPnNP9uZGaJMGY3pzDqzPjQkc6yknAjXo7g1IAAAACnAZ/WakN/AADdcqgAJbd7C1Uq\n",
       "PzKXPh+Bizz60LbWKnDQ59B9CxR5gFligFDoiKuCw3mfFnwiEzH3phwQ0Z0A4sx8pilFKRU7Xrtz\n",
       "WMD0UgRJAA7F3/QUKsrMXzrX8xZ5bLVzwBT+OIbwkAmfJh+zGygCYXHVGY4bxBvTgB8LvrNWLkLd\n",
       "RXGRK2ODlpKSibUR9dvt4ZElkdnBaStVPV4YtmG0YUdD0rcAAAEMQZvZSeEOiZTBRMEP/qpVAAF4\n",
       "ysuk6/7ggAl6emlqGjqFd6A3jCXUhibzwlLAMVYkt6Le7vQwKMexBXE0ujwNdh3yMLzZYMbGqVsb\n",
       "1Or5B3dOBoxkxlMmbnGG0dyIe9gtcSv5PKohEWjjX6kYpswcN2FOo/xn/snxLs4gNH2XCaJdqpHW\n",
       "J17x5G40qHs4y6BRGzTtuIzv4M79FxYYpR9XBw2X8T+Db37sqrbRocGRRbnLmiYTTmrgtciz1kvF\n",
       "sLUPYN/uG6dQ/DUt9+vm5X/vaV2hmfQAfHhxNCV+w6JQZaNEemW949eEil96lxn5Lho3forZ75tL\n",
       "CSlm6zbLbTtDlqRiuM4iwNbKX7ANSQAAAIQBn/hqQ38AA/hQgOc9GkNzXNmxpiGoL3Me0V7OY73w\n",
       "/nwAq7BRN8vMb9U5oTLmiYKZdmRM9BSh2fsf44xWw5Mxp1k4NitHZu+DjlhEAxAsdbRy00wiewXx\n",
       "Fj8g+jwmtmF6MnHSkim8iLVZpbIe+Qzy8OiuYIEgoCi9PAS+HRcZJK8MGVAAAABkQZv6SeEPJlMC\n",
       "CH/+qlUAAXcQqVoCXWFdbJhOD2u4ozTdSkBlcB0QBViF2HqMVVY2IbL3I4lHifXyI2X43OaNFiHX\n",
       "ELHPSm50q8+5bJ1QUwQujbQHZmZdAYlGerSe6bVcKnOSgQAAAOdBmhxJ4Q8mUwURPBD//qpVAAC8\n",
       "ZXP/H+ch4AL5rDSrSX7mAd41k7Vi9g9bwGkGF+Unb4C+FYQZxhpr1xSNOsd9CWvDoUkiJHJxgYze\n",
       "ABDrk+oL5hCHfNFiMhD8deiZv6QvXt7AdLqlsNl/UYnfyjf6AxhsyigqmHiUYIyhjxI6sfBtcIo7\n",
       "8p9sgNKHM33XQbF1LxVXXsLuz6QtugJwiKhvhNYQjGm6hOvAORNgIzYmElkprYUj0C/D7Nm1Lw7g\n",
       "X/K0P9YGg/lt0WfDSOZlV7oXqZKGHVKCZOwJxSJBChn0YueFEhayCqgAAACAAZ47akN/AAH8KEBz\n",
       "no0h1RRlxcEluifYCgBNXBKluqn6wbY8worb/wPjf/y0aXHmDRz71CcaGMMHya1yJ6cUB9yCOCF5\n",
       "nBKy7dZGjBwFi2iuCAV2W3poFll1b+KYSipo6UsKtsbNvmVKiWJNvhxIxJeDMgJnKNcweik9mHWC\n",
       "asEAAACmQZo9SeEPJlMCCH/+qlUAALuIQwK+H7kDyFQ3mgCPkWyjGtzGbZwMYXFP7wD5tNY/GGeW\n",
       "FvGMDajOf+4kCpOlVgqkmGcRPkcov5rBv5E3dQwuCAeQhxhavJLeE7mV2ypnymoG/ZyPjKk0PNj9\n",
       "Hi1xXUH/cL5W5Jprp2xv2SFQAn0ZapzsVepWtTvbGI+YO165MQHL45kEm8A90LKT3UVQFQJLtRlZ\n",
       "gQAAAFJBml9J4Q8mUwURPBD//qpVAABvMCGBXw/cgfceOAHuuT3gqVnInfzKAGgMdZV570Er2BXa\n",
       "0fBXNXAAAGpchj732ePCcnQYv/Eu8lK4IYFymK2YAAAAbgGefmpDfwABNYyUjDYYQWqbcl5MXSfF\n",
       "wVcUfgAcaznxY4p6ZkUijzKWi5PyRetOyAPgqdhir22KYi7aKXQCPDmZanMgK+Y/Wgl/VzrZmOVK\n",
       "edG5aLvWcwGx4c1Ooz8mhYTMoYNwY7EJbXWpJI6YAAAAxEGaYEnhDyZTAgh//qpVAABdwE5hMwSa\n",
       "I4zrFqW9EPAA3CLwd1VwtWbGvp7h/jdSmgpeoh3OHSWIiFeGhHmDG//9mAqQPlz2TRh3zbRh80sq\n",
       "gLxg4GeGAIEciWk6aBinkiA4LZ/JqbydvddBesGxxvdLlCF91LddA7AAr208rzEjUnqvjbfHnSex\n",
       "QBlgUlDZDR3qlrQN+kQHa+cnH/CUJL7EnRy8xZd09kuTQKY/iSnrihgccwIc9GbJEH+I5EsOr+As\n",
       "GpEAAABpQZqCSeEPJlMFETwQ//6qVQAAXj4vXquxwEYJpgrj7o6NVyjPZpKxbT1QAU/QB8SDzQzq\n",
       "EtIxbvMfNTo4/lCvgZxw4AC7mqTIfZec3sm6G7wp4L6h8kXufHzqclp2F0DLu8grkmITqcQ8AAAA\n",
       "XQGeoWpDfwABAo/5gNXB3W8xRRh5lO5Nj/UhaIAWrmEKNlC/NY3tMkVgQoEzUogIEd75LrhocrFB\n",
       "Ka1KpIu+Y92Sup5v36Iya0W6jLPo4G6TOTgmj5mrWafAogitZQAAAMhBmqNJ4Q8mUwIIf/6qVQAA\n",
       "byoPwBHx/+NuIiy4WTBUwSyCmXYUBd61EuJ//6qMWVTTRw4HgACWKEoBV0OZThujDPSIu23FQQbr\n",
       "qq//C2WZttF9m6nrjbmVby1uxvkbkfOQn6Kv2VgwMSCmTwBOyJzSONeU2ARCONuihtHQNJ6moBnu\n",
       "XA2YkmIn9S86QJp0fzMIhAdhL0hXIjMQz4MTeMr5XGbzKGi+5EtaE1bIm4Wcs4Cw4wb424hnEV4L\n",
       "NJLXuDLrgQn09jmmVAAAAKRBmsVJ4Q8mUwURPBD//qpVAABvMCGBXw/cges/CoAbehz5JERH+jSv\n",
       "TrmIq73LvbnczVpRyiPvA+r1jNljzwExVMX/M5KQCwgQAfQxSrwMgJ1EVPf1LNurMFZlPP3xQi8v\n",
       "68/wi5M8EJUyzz0olLzCSM1T43pg/wBUwD9gUZnxBrpVflII2JHCpks1zdq+zFKe9vN/beilEuGK\n",
       "NHriE7g5Rc1ZUwAAAIMBnuRqQ38AATWMlIw2GAAcWCQjEJRG34ZuL53gBLR1vXmsBVMRZ1trVX2j\n",
       "ceLDv1qvjya66xOE+GqYLDbmPI1EYey0hLDg8B1diKEI9ru7xHeiuXW4vO4iUV+pezJoO6xjr5hk\n",
       "GTvL2CPIEauGI99nLUz2fa5NMHQUfWrdMPosI50BvQAAALFBmuhJ4Q8mUwIIf/6qVQAAvGVz/x/n\n",
       "IeACXoIwPLvQek2hVlQsZHn636NfLb2CA885d39pH5JsgEF2vDog0diAf1NAmoMSUKcbH6xQjpZw\n",
       "htqfQfykm6STbVFz6RQ7yI3p0F7qyKaKBonQ2tZ7crL5390tUlxwtuy0/zMfm4TCK1VjneMmUpEm\n",
       "3ZNVdL8p12jD+5ki/AGxRr6CvhMRv2Fn6FUAbppXNdVWr3FRu1OuPIEAAABSQZ8GRRE8N/8AAfwo\n",
       "QHOejSHVCImIifTx54heBO5uJqXaVT6Vh0gAKycpFP87k6XJ9LeXLs7PncFDsZwIiBmi0kBBZlsI\n",
       "TxsRq/u8wiBw9A9PmQAAAHABnydqQ38AAfwI6wIAAhruU4ghOfFftje5L1sYiQxTorhTXUZaDloE\n",
       "HwglKnGVDGbifEgknQAAFf4z85kCMUWcKmHfHc1Ba0RSQC99OHsxytItHjKt0dTcDe0K1PZ1Wjxj\n",
       "1MHxEJ0pUfqrXRwk9BlQAAAA4EGbKUmoQWiZTAgh//6qVQAAvH9XAApGriDC12JscAzenac4Z1V1\n",
       "HCfrVPE0F27/HBM6HMjk+tFJnYF1H1qfoZ3SUVWYZ2xVOIb0PVjKRiXnfWIv/9yMJYS6n++Ss+mF\n",
       "5NBVlBXSIOkv1pYSijr3S9GNNUanVc6xvbZBUjImIwGY543zrId3/0nJKUspvY1uAw6KfLhvOk9k\n",
       "fX9NPcPiNW+QaQuAo7j7hLDV3cPy/FxZnl+iXPdoLqQpXh05vbhfKbMWCxryW9UojwFj4C+4Gqts\n",
       "PKK811a/yfj0rPzCgs/wAAAAYkGbS0nhClJlMFESwQ/+qlUAALf7/gVjMgnDAqZbDw9GGWcg0XrK\n",
       "QrSYOiUsCqDQAdT1enqBIMNzMR6cFOKvZzT1N756HIJ+zk+k4bBv2NbmZWefvvFEpH2g1CCUm5ed\n",
       "a8InAAAAcgGfampDfwAB8XTn5AmxV1kTFkPREYtMoOnOmVZ5aAQbXf+9Gt/e93f7QMb4o2M6ELUe\n",
       "X7dYx5AgNyAAcikvNTVjUZmexTrdtIKo//npuqb0qqbArz+XsrvqfM1Lz1y3L3gvo7VsXz9bUDof\n",
       "Ja/xt4aj/AAAAF1Bm21J4Q6JlMFEwQ/+qlUAAF3FpImzzfHvf+HkMqpDyc1wgADpMU6R0iwAi8Gh\n",
       "IbGtS1KasO7DzxuBtGnsyckWGpdLV8G4c49PHgdqWHlYXhleQEbcdaP+4PexnTAAAACXAZ+MakN/\n",
       "AAE2v5AAOF3ii2nk9GC0b/+H2VYCOKF6iZFWifiOKmh/0Oc+WVDuq6kk7gi5ARz7s4p9a4aLQKJx\n",
       "L+VLIv5LzccaUOoHa54zt2xRTbDh2YQIyb6w3RZ9XWPiVqFzNlHqnq+ADfo//9ixiums8CbtJPsl\n",
       "YKQshlfqFVNuLHafJPfq1ioUMMO2icjGH35ueEwQ8QAAAIhBm49J4Q8mUwU8EP/+qlUAAFv9/wKx\n",
       "mQThjq8gXsZgCicqp2vIgDgAENzpUqDx6gXe26SS4EkbFZa0jODnONIHykCuSxEc2jXMQTo6Idyg\n",
       "GSS/rPFIK8DaX7NU5r/63e9tocARz6kPYmqbdfLdZ/ZiVlfKMyvpYyABABVDowGqCBFoiMo4e1NB\n",
       "AAAAjQGfrmpDfwAA+Lpz8gTYq6yJiyHoiMWmUHTnTKs8tAINrv/ejXCfYlgBLbvXWl+JGmt8POLw\n",
       "lnn1oW2Pc/MAn7aJFWodUhO42zyhB04Us26g+BBj91e2ZDpd5qC0meA/Op3vkW/IkoBBx/x7H3hs\n",
       "NIvjia1c4HdmbytAKrOnrOdyGkjRSGfzsCZQQRg6oQAAAFBBm7JJ4Q8mUwIIf/6qVQAALx8NCHn+\n",
       "3UGYiIFgevR/+hcX0aMre6dnEAAizQ5y9ZIAQfgYcNywL/qe1+hyok7nj78X+CBpAhwI/U1sx8ri\n",
       "4AAAAHxBn9BFETw3/wAAmuXa+N+eAFd3DvjGW+22gVHZVJOpWobOhX1MgWr0LxwH15d7M/loNtI6\n",
       "ekGPTGqI0kB+ZEbKnsURmYPPpLm2TiJSdIRo2cLefEtk/kq7Oq7l2Jn9d/V1rAd6Ei46uC+R65sF\n",
       "wc8xtKQs283s13+7KUdcAAAAaAGf8WpDfwAAmsZKRhsMLyGL8FKwXB0FrWsvU8NJK3aIhwOEABhc\n",
       "sea1/mNmO6+eBg3wIxLMneDJfVPO1Y1SQpYdduDO8ynwj76Io3wqsITB9qGWMw4opj0dCoFdnha+\n",
       "xqJHeo4qoMWBAAAAcUGb9UmoQWiZTAgh//6qVQAAF4/q4AMZygU3LbnEpMUwPxBLa+Ai+QMjfx9H\n",
       "OtZlpt/6NkIncy/tujKMXIrxqkYOjWlEngCi/RT4yNqE7E3L6f1JBYo5k9OVNSP4MN/2n+F9rvTQ\n",
       "EKWeOh2eztzgId3QAAAAXkGeE0URLDf/AACa5F6tOD6j9pZUbLxblLobyYvjPuhfI3xucAGjN+H/\n",
       "cYlwN8HYaBSKUK6oCvDqUhGfUlYXWwJUL9KSF2WzKjmujEgg1sk+4vHLBzJ3nfS8DMrrgkYAAAB9\n",
       "AZ40akN/AACaxkpGGwwrx1DL5lkQAJU59Z7kNQX1gSqEIRbReZ4Ng9JA2dR0Qj54XHWVl/ekXJef\n",
       "tvzGan6NrYvT24NEemCBwNBkd9McDCXu9xnab3ThMCB++4nzHdxe4HzxkVcC7IXHTiMGAGOZNyet\n",
       "i32P5FlfkK0+l4EAAAEaQZo3SahBbJlMFEw///6plgAFvy39zZf5FAAh+qzvZjp8Tc9xTH29l961\n",
       "99VtDSDEr7/rOXrGdCMSBKfknucZE2ymQL1AfPc+Ei9cE6CLIJcZaLgTHDEjiKFGcQT76SfvzN82\n",
       "Z0ym5RhZIlrbxZYGMdOD91INXpw9sHolqgBV+zjqTFIPhPANG/KB5q0iFpsdfID1a13ncIFU1ECD\n",
       "xD+gh5eRddV6Zy2eAjEXs8nl/Pfjk4jf/fWad/C8iPEPh6XUW3j/fGB48mDZGW4oyF2PeMPuT9bT\n",
       "JuoX1g45FAk/aUFuCaTw+BhwtvHuWnnmPUpgA2ECggL5lLKUm+hTfF17pMOP6DQGhh7pKE+EVjD7\n",
       "c7aQZJ94F5PpsAG9AAAArAGeVmpDfwAD+FCA5z0aQ3Nc2bGmIagvcyAUDGABx9fSjWFNQHu6nmQN\n",
       "WhCFxZcRBor1q1zxBhE4dK+TV/pz6ahQWH2PaWBIXE4rXC0o3Cl9C4DJ0uHpO+rYTkAMcwrqU1ZL\n",
       "etur7vH3f+a8wxls4hO5wrXaaiDUVrADND7dJF9NWrKzYxVnkbhaQjqna2Zm0JtkhrdY0EcgjB3H\n",
       "7hVSduKGegZ2D7SdwICNMScAAADbQZpYSeEKUmUwIf/+qZYAC2/MTQpQAb3MNfXwLX2D5DukQeQD\n",
       "aKuB0XefTzkDWI2lP7Fb6dVnAXkrVKrJoVXD3Z1Mlm+sZHOHSZh9KvyKvZnN/V+O96gGve32si94\n",
       "vKA7nL7ARUz6/sployqK8Jw88jSQD1SzWiT6vgG483zKUC17tr7QaBYUHCJF0OvrhcuiU+j5ATIS\n",
       "5o+2kHIZtTlL1YSFjHeHPVwpRfu2dRmCH66Jgs1w+DCHcgmVsfrY+E5i58GQk2nRbRFgABbhDC3S\n",
       "MbhR3WiV1vpToSIHAAAAbkGaeUnhDomUwIIf/qpVAALwiUbvHEBv4CiFS8zZr2iQFg+fQA4TE/zl\n",
       "eEABompyvE9UKgvJt9nyx+wY+qPD800RQdvbJQS37FjBJr0/7ujBom5PMv/yH7HWm6QUOJ/4bt9x\n",
       "DJ2qMjPawxUeoPSAAAAAZkGam0nhDyZTBRE8P//+qZYAC3C2NgH/pVx11GnVLwR3SUyRGabHVlkT\n",
       "Ufp5cH5Nx/JJm3Sp4AMGGIapvbn/WXoU9q2MdFJYhjChpgAAJZb0DDW+3CCZM2Z8R6MRThIMksB2\n",
       "aSwlrQAAAEgBnrpqQ38ACCuxZcnPvWeiKzSft8rN/l0fPKlhlUWvPSmdtsjodiN77Fe9riKQAAH0\n",
       "j387GbzAC5Lf2WVP60/9kQXXn4lNxxwAAADNQZq8SeEPJlMCCH/+qlUAAvHxevVdjgIwcBOBCt5y\n",
       "L/zcbKZrV6wkP4ANjXg7qrhamXOjJcQkC0loGYYr/RpWZu6Eht9KCVPvFUdLnSIBWpZ/fZGeYnvf\n",
       "5kbFGnSetVabt1N84lsg08nOSD9t7d9ov//ZBYIj14M2Qtr+wWUtme9d91bJpnxQjkWl/BxrvcI2\n",
       "hqR+Dm+AW2wrq9gDqJztIF7bK5AS9Ib5Iyp5sNamYK/x50TOTbFf8ChwrLnEtDunUieoAdfyVai8\n",
       "QbtBwQAAAF1Bmt5J4Q8mUwURPD///qmWAAW35bm9uc9Q1p1Quu+fuIqt+4Ycw+LSJYAbviKmWVsQ\n",
       "Bvy2B+CGfYBOgeou4piB9BvkahEtLq+YUTUG4Y6C4zuueu0cuJLnz9NaF3EAAABqAZ79akN/AAgr\n",
       "snGLdhXeUGuTUm7d8kLxnumNmLSAAtnPq7hRT1xCdQJOSwN2ZKRoj/0EAHDIi+3S9jXM1dku2Ash\n",
       "v95+WCHWk1f0FAODT5yE8b1ZNbjCZ4A4Y8wyH8n6HfJcDlvZGW16wAAAAK5Bmv9J4Q8mUwIf//6p\n",
       "lgAFuGfjboB3aZA6vSVbvRssg6Hmw4pgCjiiA7jXHkxiXf/8NtpnmN/6rfVCrE1vUeKYU//4cZO2\n",
       "JLZDy971LlvWEOpG6cCCVDAtCXhYtoLeBVCFnXa20LUi0TDv+4611giw+OUXJZayt/SrUmzPWNhM\n",
       "xAsk8l1EwViE/9oBOcyU3lYKoR+uoRQfJR0kvw/HWZCOeX3U9ACOcr2GwZRGS8AAAABfQZsASeEP\n",
       "JlMCCH/+qlUAAXj4vXquxwEYOAnB+PybQAb3MQnL1NNVE4nRiAwmuDl6LcAo/U6iHMuDG8lFckRy\n",
       "nCXIfuDdJTikNtw+lffGHFKHWx3AAsWYKf+/9HS0M+EAAACyQZshSeEPJlMCCH/+qlUAALuAnMJm\n",
       "CTRHGdYtS4P74Hu1JqOAIRzjuPikw19Pb6sZXfccOkp292ErI/Gh4DEMA+kLUf5k05JIA4zMhqwW\n",
       "Zls2JfSIpB/U3//rsP/xBoAc+hmr1BtFsglvaRs9ihcPS063VhOmjz/Xd+ZWpRwLM4pJc+Y8RVZc\n",
       "bnJgROpvcrf4g4X9L8JFU8iEt0lrVLVi7R+NU9Z5qEmdqjA/A3ZZfWCLgAAAAGlBm0RJ4Q8mUwII\n",
       "f/6qVQAAvHxevVdjgIwS76lj5Ho9lkL/EPR6PooNF+amOeD8VWAAPXS/ieACj4u+KGI+VNR8ir9h\n",
       "mfcuADqEMvl7qT4O7nHGpMmCEG+q82J8uiAV73fDN8SzGmHehlUAAABEQZ9iRRE8N/8ACCuyYeGe\n",
       "5K3OiaYoWRV93ELhSVumwoFgE6iVAAAuFqbGuEk/vhHgAFxZzPVJ2m4a+G5rvIwxL7MZCqgAAABh\n",
       "AZ+DakN/AAH77WR4CKuNMyTJ08Y4Qf5kT1P+pDAmxE4bhu+LBIvdw3de00aU6HKEIag/AgukvAAD\n",
       "lDKd92QtzD2QSGT/fl9xbbXrlH0lvcxNU6yTdQx3ZhnQzdwmGzPBvQAAAKZBm4VJqEFomUwIIf/+\n",
       "qlUAAG8xC24AOPeAhy43A2BJPJn3rSxjTQjDPLC3kN1kjOf8NNXx+aZWSb5yE/Q1r6nB4ffYV6Pr\n",
       "CT0M6gRVsZrhVpcb1myMY1LvL5yTeUR8dxG0H9cS40OkHO9ysjRHrPafz+P6FudT2hwWi/GM0HTJ\n",
       "WDNtqxx43HiGyOqwNf+L+7FXpwSpjCtluBWMe4upYG+FXNCYRPZXAAAAh0Gbp0nhClJlMFESwQ/+\n",
       "qlUAAG8wIYFfD9yBz9S0bIErNvbNt8IaWbltziU0uMS4JfVwMOwop2+E5O+tl0/vVz1Q2YevP87s\n",
       "ZlD06/sbmvZ2/u6VsbUlCf3yAUkek9j6E339PMdp+93/E+CskV67K5hpyuLTyAFVw3K4lDj/dphB\n",
       "JYMZaEaxbQAAAIwBn8ZqQ38ACCuyW6wJZAugjSyrTbWfNOwN45lZUIAByKzS+9q45m1CkUlbqoB9\n",
       "ZAnC+La2aIQ5MM08KJ4IqoxITr/HFOY5afJ6PLQaSJCVt4hCy2KRoTlXuRAWhK0pbauuqgSHBpqN\n",
       "AK1S/SxMIuHq6e7n4YRQBK9HEzvW09szdX3ltDzvAmr+6PAf4QAAAHJBm8lJ4Q6JlMFEw//+qZYA\n",
       "AWb3hAE+Z8nNr03Cgf75bQAbDslIWe/la/F0NIKVqBXQxX6olznTsfAHne9zkAmcYhlhW9SAVyIF\n",
       "7C9wjI103tb846m2mwiPmaqdkDQNROd5njHHVWL0iAY6KN7JPUCTRIwAAABkAZ/oakN/AAgrsluu\n",
       "uXTyDyco6Lm+UkUcc+tW/u9CVDa2q/pBRSjDhZKN+VHqM0rVDBNjKJEvjc6xLA0NgAC5pWNgiAce\n",
       "p0YOqcoTSFvl2KwiPhJkGwz9J6eFX4cjVt6aEIQPSAAAANBBm+pJ4Q8mUwIf//6plgABOED/gIVb\n",
       "S5YIFz/qJ76QMRoa/1xklIKaZVWvvqtopobsL1AboLP//NHamNo52O1fvwXZjQAMOO3TT4HXjMOR\n",
       "jK27CemkSpvqoK5w5bQd6ARQ8aTqn3i3P//ibRUvnqD3ZMn0+fnwMLWa9pkZrfrU/aFifBtLwfLn\n",
       "2Xp73X/2trR3+/14uQf7Of86Pt94kEZJKZ7gKXJnS0MsVbCi91c6wh8uR1zTkHIhN1AooJqIo9+z\n",
       "WXieTpnQtmXkDiZB7QKnAAAA20GaC0nhDyZTAgh//qpVAABvKg/ADj2//adgLi5CKhu+4+2Z8ZJi\n",
       "PBYl+fwr8T63Hl1n/wPqMEg33n45Bmv4+XTlPsRa2O/wpff/tUL1AE3+AQqbToumIuXwBA3I+chP\n",
       "0VfsrBgiovTXI+7meM8Vmv422JAfWPDQdbg7//hEseyvGJrcr5V+UlW6P5eBbWoThI24D/dRREfK\n",
       "QhCpXvsF+Z894ASfF6dKMSGHMIHOZVoCFHaVBWnN+SAxOqhh9Tovw80vKHn+4G30M8mM0AWOEjuz\n",
       "l8PrRwpqGo1/gAAAAKtBmi1J4Q8mUwURPD///qmWAALflv7my/yKAA7EX04sWLYP2g1z7xrTIUOp\n",
       "cYw9nPb1sbU5l+VT7IYRxYbnj1RJ8ZIT4MbSsiY5wgJqgsomKC+HGUtgwNUxTAHto93ctzrAK56e\n",
       "W9YNdg/8C6VrN0hSSpkVtA/6PhgpsTbGzLMqdEFB7dtpjLxTDGsRqRxfg2dmEPIpWlXGgD6BILvO\n",
       "Hk2arRkfmb21XjjgYsAAAABgAZ5MakN/AAgrsmHf/HMwAGjgN/6KhMlPbYGHiWwSnSe4pl0Z7BLt\n",
       "+HrWA887glYBBc2ufHit5KiijNwQD4uhJrMVmJaPMgsh26JynCoTdnU3qAQty4+ZUBPljzqwBULz\n",
       "AAAAaEGaTknhDyZTAgh//qpVAAC7gJzCZgk0RxnWLUrUMBnqQS0De233siARskRp3GK31y16tbXa\n",
       "nO7Y4QZz1ibOX4FEc6t51jDCNDMydyxZrXPZ1DIkIPmt/3dfVRy49BmKv62ALlow4wZ9AAAAbkGa\n",
       "cEnhDyZTBRE8P//+qZYAAtwuJ5L0ATeFWpa03XC2op4JrkM93dZ0+lFRjQCO/+aWZbQzAAdcQgqd\n",
       "tE7ZzxYnhqEKcXZ/8gPnTSo2MYWQUTPbaoJwAAARb/I4+odbwxOhYaV1s2C3PWb51NSBAAAAmQGe\n",
       "j2pDfwAIK7JiVbI2sMH9kEOjylgLavBpsB8TIAiqDfZaSdxX89ko9QWa7xQz+vQWhfunzqcSr7Ya\n",
       "ODkXEzgrIJnw0Ok2QTP41WySYLvEn9O7U1tjQ+s+EQWl+9MOTesKFRRqMqzNRkFIa9G8RFEnfAxH\n",
       "EC2oHJp+X0FZpXe2fyMGnzY+mcWIV3o08YKpgn1bQ/bWwsypgAAAAKBBmpFJ4Q8mUwIIf/6qVQAA\n",
       "bzELbgBHwq/n5ATppO6gaprL8APk4PuksIj/6vhY9b5J/69ocibkfOQn6GtfUyY9xsP5fcLNoiad\n",
       "bNeJW6JwWDLtujQGdpMXL5yTeTzVYXfVajljZCCf8yfSYWXtOnsyQJz7S6/lWDNnTWoLwyI4CkPW\n",
       "XiDwKY5qN46ZxU551jAcN6C84wKSUsLrXfBUBKPgAAAAeEGas0nhDyZTBRE8P//+qZYAAbK5giIS\n",
       "Ywwh3RlhzXUq9ughNOrDPbf4EjtMSCk80a0AHgUGVAQMfltOM1tYZKX1x+d/fRMA4nN1myWX84Jo\n",
       "74ORxVbvQa20A5iIUbeWxA9oKUjrhU0yK3lF+++m6qc8m8qyBigVMQAAADoBntJqQ38ACCuyYlW5\n",
       "4MTi9wPeM38SiKlwDyv7gdxHGlHSnD9T8AAGiRIm5A7pKZ6wbolwnlayyn5AAAAAsUGa1EnhDyZT\n",
       "Ah///qmWAAFv+FbXh6gmjs1o/aIAbgdL3sIDA264CMqnn2YU0lO3usHgKFbljRwD6QvSATHTkkkT\n",
       "KKuWT0WeZP1iIDQlIwv/6zI/8Qb1ZC4OyWkyRGa/UKwbPYoXD0tG7vg3Cw/RA3H5qD8yAjsKPPxV\n",
       "SlPk9GSdIAVQaEdyUA95sUdP6E8y1pKJXyD8ljertlWXa88qRw1+oaVHrrBydrGMuUf22MGFJAAA\n",
       "AR1BmvVJ4Q8mUwIf//6plgAFvy39zZf5FAAh+qzvZjp8Tc9xTH29l96199VtDSDEr7/rOXrGdCMS\n",
       "BKfknucZE2ymQL1AfPc+Ei9cE6CLIJcZaLgTH45J0Iahjgn30k/fmb5szplOSIF4IIzH2vFPLB+6\n",
       "kKifrVaF/cgVRjc46BiD4TwDRvygeatIhabHXyA9Wtd5ziBVNRAhANmgIeXsXWH5sAokBvIi8JUz\n",
       "6x8jaJg06ot/qYGtiAQBLSn92uQUg6yrvTUZ5mb05j13BzakPvAPJKMEqMhfSpHVTfSVRoYm4K+7\n",
       "M0TDhbeP7L5LVRlB252XgX1hCn6IDqiP/HaVa4+mAJ5bXdWzm9rT2BWAAnXDmy2AzSNOKtcpCYoU\n",
       "+YEAAADdQZsWSeEPJlMCCH/+qlUAAu4DApykAGU5npVDt1ZHQ1ve3bI/TS94irH/SFY9YeRdtewZ\n",
       "e32QJ4kF0YWF5Zo6dXAy1Nr5opHUC28VZEzCnh875RjA2idc/qJAn6pUZA4ZBAEujN7WAGEzd1cK\n",
       "4El0ipbN8RpBq1CjIey/em2aB0lonSkfWYKpdgaNSke+39wMQ0ZY2fjLx7W7FZCWNgGicilrf+6B\n",
       "S3oChC6kHRji+xa8Y68FKfhS0GLfUuclV1V9p0ylt78Hbwm52VzjEAfTCaKTdEhonfpyyKoClZkA\n",
       "AACYQZs4SeEPJlMFETw///6plgALb8tze3OeYVgAcLiUgXTe+oiQ6vfESKvT9syE38MEbyyz0Aku\n",
       "Kjr6O2RltfkzF2baYOgGRffl+2qyulA1RjGWwBkAAOKVOFrpzjlhraEVM8Z/Ginsd10xl+r8ePoh\n",
       "YWiQArObXF5Qk5jRiTW38lIidu7RoAgAAJ5bbNA1xPqqtxFkZyhxKuEAAABQAZ9XakN/AAguJLmb\n",
       "KBhJ2OnELMD8oo/YsVeF3n56woASoTt9Yl20t1zrqjw4FWEVsRB1wwiQ3sp+v1uITVHFa7/LcMtf\n",
       "O7pnv6ibtgmTJlEAAADOQZtZSeEPJlMCCH/+qlUAAu43Ub1K3WFdbJhLW3Tkggx/hmZLtUHRALUA\n",
       "ApRSVVg4qp4KLM+pfMFIy6rYwyngZc8UD/619DiLkH2ICwdDpGTi0xrGQH/fsY2CEX+SghInnJNZ\n",
       "CUFPs0DinxGyFX66ggQNXX/5kOF5YAbB2OmqwfjTCd48sL32NB0UAvY93vRIalrTdWHAACBN9mH6\n",
       "QUo4lgC3979I0qHVjkWeqIzJSadARfQ0IlXzoXqltq13JnPdwiEPVW8l6mHI2FipYxYAAABgQZt7\n",
       "SeEPJlMFETw///6plgAFt+W5vbnPUNadULqV73xetqal0PtfB9yJX8IilEGyx2jtOxs6bOEV0qhu\n",
       "k4RRjj1cDVLg6cAAXEgeUdyXiXFJ60u8b0sF9RYwAheLHp7LAAAASAGfmmpDfwAIK7Jxi3YWqKAE\n",
       "qFbRm8AdngVxf8sU9MihSAc+nJoWdNdiZzJaqOFtMCAcME2lksRhGtcMhzt2RLp8YneAV5KaSQAA\n",
       "AM9Bm5xJ4Q8mUwIf//6plgAFv/q4AMZ6VQJXQKRrG4qJ/bEsFzVO3xO75Ct1K3Nhxc/gHQz4NV0I\n",
       "eMZ20IskV+nwmlwzHvMFAXddLqE0f+UD+mQmNDzDmADoUYM7kvgNHB+KxULrzwHHeh2Cqb/+uAPo\n",
       "+vG/8As2+JXUzX4Vdz4ZiYY+CXAgUHAIyBBzqTmmY/K0lEeOFYeQdL/BPSjCC//3cjc3D6zWvwNr\n",
       "qAAjNHeRnjBebdXoTdMpPqNrhZ0LU/6BfZVrC5gDgFKHedIqYk8AAABRQZu9SeEPJlMCCH/+qlUA\n",
       "AXj4vXquxwEYOAnAhW85F/5ucncNg4xyECBgiTTt5y4M4ruhJQS/uEoqkpttMZ2hkXFy2/V8Wug0\n",
       "8VKAAGXBOiWdAAAAwkGb3knhDyZTAgh//qpVAAC7gJzCZgk0RxnWLZkTSOvPu1J4uALXecHdVcLV\n",
       "mxr6e4f43UpoKXqD95iwUX8YtKjIYw176lOv3+nLJxaswH05f2iT2YkUg6uoDMGD8DqaUWvtCWNq\n",
       "dvXRYUq5FOsbgqNoLXQZINWwm77XP2pc62c7ddiJiI1Itc9M86xJBOi2btBozmcGy2hY8c+R2P1p\n",
       "rIpLBZoDLbiivqQHlN+UYiAiqa8YQiy/BProph+gzg01cCZQAAAAaUGb4UnhDyZTAgh//qpVAAC8\n",
       "e/4FYzIJvZKnqlj8+dBRAAuGsnSNmL6HEDbZXj0RxgxW4mJ1ew0UwNAAC7LPPLgPvpeIxxp1Snf6\n",
       "KzclNIiK9+gekHSyJIF4cOrkGLphnNtXgmE9EBp/gAAAAGVBnh9FETw3/wAIK7Jh4Z7krc6JpihZ\n",
       "Fhn1MY5BiAB2SjVPP2dI+l6TJAN44XbHF7+5sw9IfYS5wuZvnM22rq4fGqpCQw5hp77s3ADOhIUJ\n",
       "OvzqeCTVBjuNieW8LBw7zIyus52B0wAAAFsBniBqQ38AAfvtZHgIq40zJMnTxjhB/mRPU/6kMCbE\n",
       "ThuG74sEi93Dd17TOt8cOVY7TIYKSDVKYC1Ye6lDUMAABxWEIN6F5S6rQ5UWhdSixfY7IeTpdOcs\n",
       "nEEXAAAA00GaIkmoQWiZTAgh//6qVQAAXcBOYTMEmiOM6xalvRyWALXecHdVcLUygB38ok+ejbNB\n",
       "0Mg0VwP8bqU0FL1B+8dqf/bLtTOZ4S8oY24a/oG9KRggRShWpGhJ87ASVzGgPYoWScTatBk4cqxW\n",
       "PKq0jO/KNRDXcb//EitICmWwVKc9j+vLPCVGAMHde2VTTvKb5yuor1Dg4S9Wlks69kgD1jTXZ7qs\n",
       "bNEvOhJA1GB6fZ9hVVOmdTCNluxNNg+hW7X9f/dyC9OKxZFXhWtGSU5LvOq8j5kAAACVQZpDSeEK\n",
       "UmUwIIf//qpVAABdwE5hMwSaI4zrFqW+XSIYAumlPkWudKpJznJT+jgf9QmDC/Y4PIXj6mWnrT0g\n",
       "gCJGp9Fh2mAmPCjGFP3yRLIas5awH26nwrco6XasImdleHUrsQrUhrceq5AaHDykcJGreyqLVHnO\n",
       "h/nueCOGA8CL+coggC1R9f0B+Zvf6t1O+rCIxYAAAABlQZplSeEOiZTBTRMEf/61KoAALx9Bhl7N\n",
       "g6qzW374hW46uQQ2H3sjx3MTy4eBV62BZKpBA5/Ggu4z6IQAHXHthhTPNnSDUh5RPkE970FpZIt5\n",
       "T9q5vlQuWlPmaGixaj/VcOEmVsEAAABXAZ6EakN/AAgrslnvQYFwUrBcHQbvNpODuC8FP1v0hffv\n",
       "txmEr+2GDQf4O3Gz+jaFUqawxwmvEVjBPfq7zcakRDuGatxn+Ks39iHXw4O5SYptwiWpdhoRAAAA\n",
       "WkGaiEnhDyZTAgh//qpVAAAvHU0QLF4Zqbb8iISv5Koy9pODD25gzxqrQlsRuU19nppxTqIWtl45\n",
       "0iIzFrjEJISYZpnPMxXH1SXL9frVvM4h1au1T6lLW6BTsQAAAF1BnqZFETw3/wAIK7JW11y6eQeT\n",
       "lHaKPRa7+PphTLB3aRE8tCtlJllHhv9u7/mQBIkEetGySZHlkkwby4DtXyoUSV/+kdeFzco+84x6\n",
       "DG2dbFoCLKwbOXzrZY1je0EAAACoAZ7HakN/AADdcNwAmWMqbQAetdV6z8yl7AAru34PUYg9wL7h\n",
       "HkpxD8bXXS2mKL0e1VnD4EvNMM+CKna9dua9OYqZTj5bSYONDCbbZAI5TZc94mc6d7WovNwQKhQ4\n",
       "bH0w3zyYkW/IaQVJPDzv5IDA0wXOUR2nfrE024iV2XkDx8Di7wFZzSNrC+oSoKoQJeyxInXlQDxk\n",
       "um2ksm2bcZHGbkPS6ShBXB1wAAAA4EGay0moQWiZTAgh//6qVQAAvGVz+J25eYAFwoNLZb05hGQS\n",
       "JIMoZr/RpWD/4mgWt7C7vAAangH6ZO/sf3zCdygFNkVN7ycW6fVLoxTnqvvRQNmpDCOqIRSMto8i\n",
       "rNjsDX2ASM+u2YBGXXVfkjsrC9SkDcGp8szen+6vvRNBO+Edj60mi38Or7k48ZIoaDweqVLHag4p\n",
       "eBjh5l6lKh/CQeHTIcAwv1eyD92NIwfIhxy7XU4MWrqH1q80CInG0XkPAN2GXeubqCXqR5Q9VD1q\n",
       "i8PXjnGPEQtsgVzIQBjsC4eAAAAAVkGe6UURLDf/AAgrsmHhG5lnmYVpbNeS3ielGoAEeqGkhWLQ\n",
       "6B8Yg8zbGmqRDxKNWuVrBfv7yPnK5eF6lRxZA4S3TK0v9HAmUKnV3bpG5KxZv+W0cmM/AAAAPwGf\n",
       "CmpDfwAB/AjK8z4l13G8/EXK6w3dG8IMvuXV8QABCP9FD7semTH576vgAFxBQLz1/wIpNixWNHlP\n",
       "TOAVsAAAAFtBmw5JqEFsmUwIIf/+qlUAALuIVK0BLrCutkKXfxtpSns34PF5JNtxlNxJZ/jjE4PX\n",
       "KbNrD0TO+XW7XSOt8dnkAqSJ2pARCLW82L5/QJs/5k9D5a3Rp6UajwKgAAAAkEGfLEUVLDf/AAgr\n",
       "smHhn3KdouUABVRq6swK/aprUm1f6rDFc96P4nj9QILLY/I0p5DLaieujJnuRJz8uPNm5ROseCl4\n",
       "pHLOzdO1xbWz1o/1ixYOS4q0o7oxiMjCKd3gDYtywdmZXZppRz/0cTWDlpmG0R0z4F5krSdoBsrx\n",
       "EPVXUBVwf3fQAQkBcEWx6BohVwAAAFEBn01qQ38AAfvtYRhsMJ4A7FMzbuC4KlAAQepu0WOX6PAC\n",
       "u7h3w6em298wKQiuLoEef1BH3o+vR2NAM7HWoeiprLILSnwBdIsdvly0HfxOlN0AAABZQZtQSahB\n",
       "bJlMFEwQ//6qVQAAXcBbDE3ykEALO8FGPyEQqns8NwPbh2Pxd7LlKED1lGxhecomJ1bjIsD8Yz1j\n",
       "D28xbeFiINGNC3BRu5JixGYWG4eWpI40c3EAAAB7AZ9vakN/AAguRkwUCVeQOmbFdhvFvZj/3pp3\n",
       "gA3evpRrCmoH8Pu2C8TcR2ztPE1dO4q1KagXipSEYkjp4u5g3+BsrJWXGf9z4V0yJF1v7pVXwgr7\n",
       "PwPhn8GgizhkW0oQZvoLo4Cx5fwEhnHDpgVOiHT7rhnxO/ncHQGfAAAAw0GbcUnhClJlMCCH//6q\n",
       "VQAAXj4vXquxwEYJpguIQBuEXg7qrhas2NfT3D/G6lNBS9QfvMWCj9worKMw0I8yynX7/RUPOLU4\n",
       "0+nIgq0kr38UcAzw1WiUUyY8OtzrkWdTg2djCrkrS+mSg5DmugyQeQ7Y1kaL51O7qHVVATt0M2LJ\n",
       "zbUk/SS7A16hjWb8XXhVPJK1hCD1Vm74QWVACrWYbp/y2OqpeIcGuEOu92I1xwZiLZZ6C6mjcFuN\n",
       "r9Dx2aFxP+zKXgAAASFBm5NJ4Q6JlMFNEwQ//qpVAAF4ysuk6/+bgAHZnpo2+lWflz3FReCjX3sk\n",
       "AVRmfEPFff9Zy/KTt8BdID9ItzjK654GuwvsQcsAMLucIq/UXnSHGKHIllMmbWOCrPdAPOZvolf3\n",
       "0CAQhpSXjkR9cZ30W84h4NS8zVb1pTn0ksQAJlbXkI68IHjLXHw0WsuP6h5Hj+DZ5cLXMtzeWd9r\n",
       "mgIemmQvVemctngI2D8aPJW7pXvRiHz7Fkdw4b9aqNX+nm7WDxyNZxNGJmHoN6cx66wtV18X8K9o\n",
       "k2xlPFpUjqpvpKseffw/tP22PuO2bm213kQunQLZSNvrEZ7YOACXrO1OMrRamc9rPhQAAGsVUVNh\n",
       "ycANwXKSaYYtE3sA6lQ+iwQdAAAAdgGfsmpDfwAIK7JxojcyzzMK0tmvJalxuYYJul37kWd2sADr\n",
       "wezrtAxVR4iAoXhreMvNuMOg/9aQCMG3TY+U5gERdTqWwwVxhbTG8iGDg3GEB+4tXfRSR6rHv/Da\n",
       "l2XXMW71yscD/gbSonoEu1NnJpPvGJdZkRcAAADlQZu0SeEPJlMCCH/+qlUABePVFAATBnzX/Pyu\n",
       "UJ0GpYKZ5wsI5GsnasXh3CdBZaXd+gRVrasvepb2e9ftWdTJRHk63EBSDwGJ1CA2NBfkAAu8R8dL\n",
       "dLW+3UCT2wLbWKs2zx0cmAiyopGDyf5nNA7gTr0jAwOOZiQXsWXSQoGWJH7DLvsINbIXZ6/6U7fr\n",
       "8qbxIgx3f58ZNAB51qBRp0d4KIHKMyK/XwGuq5zw1x0LNaIi3Or72MCRIzt3w9MdJEdn8fLvMoZv\n",
       "ukTgZZ6WRoUm/IHIr3+d+sGjTL5gEFdZxv7FVzb0gAAAAI9Bm9ZJ4Q8mUwURPBD//qpVAAXcQqVo\n",
       "CXWFdbJdgtTVwtCSBpgA6vyMcpLUYOqWyRWfMjBvbPZi1c9ewbu0SUnFMZhP5y4q1FosOz337rfj\n",
       "R0bCfeQ+uGz5kGqi72NUnI1xn1e0ApILiRBoBjjFxYvXkrvsBEmm/JFkD1+gAAWQUoHW8ID31Fxe\n",
       "UNPCj138gQAAAMEBn/VqQ38AD99rCMNhhRjKDq/gCwAtVs9GbR3A24ta3Gef6uJkbTxgj57wCg1h\n",
       "cpaO7DfVGdlGG4S0avh2r3XRaKCejN0ufzTtCMr0a1PpEOm/7s7D9p/icWq73n69J+OCRt1McW+l\n",
       "4lO/4PpKuKnxtbF9V5XH/rRG7VDDBVs+OG68m7FZVwefesTC2+lGWa/FIqifEMuIgfVXnMNxSp35\n",
       "IB6YcO7FcTM5iIaTmSjO2E/cWeNrGsxfTO2OWPy4GSBgAAAAwkGb90nhDyZTAgh//qpVAALuAnMJ\n",
       "mCTRHGdYtS4P4ITcNn/bug17sfyf4AG4QGc+IMoETfqP9GlmNaMNNSwjc/XC2bn5MZW5P/3tQ38m\n",
       "Tel5Usp6AbzkTY1mCc/CeMt7aJuUxk6YdqCYqOUIVod8H90b31Pg+B7BY73oLy0hWYM2knB8f7Ee\n",
       "g3Z3iA3Dr12XyJHP1dKK2835FGLbyNLLe74uPEDO2YRiki0AAAMA1JTiASKoVY3gobekj7WS/tiG\n",
       "mMWBAAAAqkGaGEnhDyZTAgh//qpVAALx/SNAULVxBha7E2OF3X0BG8Cc1zL7RAT0pnYVKseYKYJM\n",
       "23weco8CYAoN//tiJqFfT3tCHYXdetinX+hrsxgis4/GyCsfP/2Byt12MRImU3oyzBXW006er3ww\n",
       "hRRh17kZU2nvfQMHt/egjIBBJzjntMXeIrUrB0TyZ68qUXL4vDJPsj+8RYsgJz7rJ/8Y+hw0sz8O\n",
       "y7sbKgVtAAAAgUGaOknhDyZTBRE8Ef/+tSqAAW/9gM5zTpSq51lnp4hTDY2aGV2bg9dy5458kvep\n",
       "g0Gj4O0oyvvLNYPbEGYI8xT5YZQkm4EUyaL7L2xAsAHgW/LYaPNWY2JylspME/A9nkFBeXCJ2+Y2\n",
       "GUoRLKb/qEmRv1ZhJXGoiV8YF16tzaEomAAAAG8BnllqQ38AB8XTn5AmxV1kTFkPREYtMoOnOmVZ\n",
       "5aAQbXf+9Gt/e93f7QMb4o2M6ELpcbhPS6GWwgsFH1IsSW0IAAA4+Ysudrq26gQA15d7nU6VNUBR\n",
       "huarIiZkuG7hjoPZ3EljpYSejnO47llUODkAAAByQZpeSeEPJlMCCH/+qlUAAXj4aEPP9uoMxEyW\n",
       "phZk3AZgBDdJFK5bXyKu7wzPEY88i3B1QgYif6C5febqgRDi/nEETsF6RjwxUc//3T2sfw3mIKJD\n",
       "jZ8PbvU7MeHAwoxDzKmleErAA0LHRkD8Vhq4cD0gAAAAiUGefEURPDv/AALcXtADwfTUUIqoBrUF\n",
       "Fo+L6P+587gAIHkfkFvg+3G36tTM0g2LLBf+7y6SmGaY0p7MHLly0IYkj81qytMi+AvE8i7MU8Va\n",
       "kEKS6gYxaK6S37gaMOpsQ3tytBJNE6SHFurCEZeGuV3LSmRJiYjJtK1KhqknE1F4HqZw8pFghgR9\n",
       "AAAAgAGem3RDfwAD98JLAzpMqSoPuNbW5J+TDZ6cr41IvsurmON8FxaWZ5YBXDIFJ+/fcjw6vsQA\n",
       "GWN2o+46+APTnQhnQVOajZsCeh3u0pJjSRJeQ+64QPXdTu2VvbGvc94mvfcdasXrsbIOrO8Gig7v\n",
       "+ZgNvGM/C3Qhd/QAyRl5j8h5AAAASwGenWpDfwAD4unPyNNGsOi4/TGpgdEU7xza96w22y5NLGHn\n",
       "LUNE8Ld77UKsYA0eIir/Yq3qbEIISG/s9gxWWIvEdpq3R7yP9d3rYAAAAM9BmoBJqEFomUwU8EP/\n",
       "/qpVAAC8eqKASS29s23xA+W9LseNMNfrMtnyoqCFhkLLlnmafMqAWMDZSZ4vcZ8n3wJSAJ/3nMEF\n",
       "ZRYectKCGO1x64LIgiPN8yuYkuPKc7//28LVEc+BaHVTBwUYN1vkPLrOmUTYcGnkDLVBaKdwq4lc\n",
       "mMpgDxYm5GRAKuL66JBA5CAd/6gDRIcp99srVi3sYPBKi5RHtWRfXvUk+0QTDsp1T0dLdw4zjVQq\n",
       "27NyKU48RYMPeqOsvokvG9vIILpzGJAAAACPAZ6/akN/AAKPMFYVyvdHEm0BXt31tQiCn6bl4VHO\n",
       "B1YHvNs0k/gAcO46UawozIf2XQEqpoFYZ3Z3i/umxMtSwCUeJ/QibIwuRjnbPlDuy2wcbE9gVdTP\n",
       "UxbnX1ojBTegB68gd1mgpVJlb8p4Y+1pvHd8msWE6iduebPRlMbMBl5uE+FM1w+wNf6rItxZVcEA\n",
       "AABPQZqjSeEKUmUwIIf//qpVAAC3+/4FYzIJwwKmXjfD0YZZ170bAlIVpMGtVosn+Rm92PJu4qgm\n",
       "CADKefGOF5CF/A5nih7zvVMywAU2qw9JwAAAAFtBnsFFNEw3/wACjxFgi3LNqFHpjlTFDo3O+N5D\n",
       "+Zj8hRzeCkoiJ+whNgFwZHFdWaxTncXZ91f8+zMewneQw3qG6/RB2qMaUj+80CAGvsm+g21NDMY/\n",
       "LdbVzdb1AAAAgAGe4mpDfwACjvQuQ7h78wvhMItOqEeHK+Xh4Pc0c4ANvcdKNYUbdf7LoSQjxbYh\n",
       "L3B30jRD75AhzYGJdhqNnMuMLwfnwV59ENyYRHiKw9koXpfjPLE6PKQZqsQsMBrbJ2qn4r5BB4mZ\n",
       "GiFp8mRPc0/B8u4TJbWGOlGLqXY6wbAgAAAAlkGa5EmoQWiZTAgh//6qVQAAb4xoqEgCCABc8tzK\n",
       "On3fPO5HgMJ5UvVj27CugZYIButEX5jbszjKLo4mUJaOLpN0NWORAcgwCp719dw22qJgufSSqfi2\n",
       "7A5kem6qUJ/zr5sQrOR1RpDboXjKGAVPedKtUAdg4cK9Rh8q4/5dBJfO0xJRzoHH/0/2jo/5Dxjz\n",
       "g4lkur7DFwAAAH5BmwZJ4QpSZTBREsEP/qpVAABvMCGBXw/cgd/PpACqvRw7MPGmsxVSpasp1AeX\n",
       "9v6ABlNY7AjPURQIA+RfqLWXG4xT1a3lXNuy3dXhZe13/+HnoKCDvZE+zw3uPJIr5PU302AZN3sU\n",
       "kLMFHQ5RrcG5Awcn9xxsTbRex0OMHHEAAAC3AZ8lakN/AAE1jJSMNhhXx9AAD+htaW6qe3oeg5L8\n",
       "QVH8NxV8mePwvHLff/vPi/01fs/BRs+VpATZ0SXg2qHApjXsshiD2V63GBexi29I/jBRpusPncuX\n",
       "vvYGKQd8OhVV0etEEsfE//J4OhIGVPjXRxn25A9+CiH6ah8oiWGmLKvT/iIFpAtDKki+pE+EjBRo\n",
       "yxo3rLwDS824LQP+ampBk6jrEzP/60S7V9/QMvR75dORg34DcCHhAAAAVkGbJ0nhDomUwIIf/qpV\n",
       "AABvMA+AAQ8AgVSR/0i7BoBbeKHe354hXKNs5lvTVuXaejB8mJqIkHX56UT1mE3JEaX5//F/cwzU\n",
       "zCrbCWmpB9jnBxVxJMEZAAAATEGbSUnhDyZTBRU8EP/+qlUAAG8wIYFfD9yB2umxmgMdZV577mR7\n",
       "FHmYcZXC7tQw2p7RUZnpQ+OjcN41MiTSQgoCl/y+xYAFg4mmBJwAAAB1AZ9oakN/AAE1jJSMNhhO\n",
       "U0kNCj0sAKyiXSIQEmwiUBkpboAW3GwKPLKcUP0Tv2snz6ruoxRYOT8wbh/hIjnKr85KoJCqKDmB\n",
       "r9ijFlQes/wc4AEnB7FZ/7RijJnyJa0IBV+NRVR9e0rcjZoac5gehlhZNUFBAAAAwUGbaknhDyZT\n",
       "Agh//qpVAABQPE3gCg3nCOIy0RPluvxkfFoYGbaBsGzdJlDDtwzBUHuv//5V7JS9+RvTHJHlzIjJ\n",
       "pBTgfwiYGYMxFy3Jmef0FeQlt6vT5NUgTtMfdbeMION74sj4nOOwBDz/nbb2gvmJqWG7n3gG+9Ij\n",
       "BTa9+8ytXjqSnt/chG+RQneBQ0hIaX4pjYZkHhCgxTXsFdy4cFIs3IGg/gVuQ1wULAd8hm617UeZ\n",
       "HdybTUcbHIaBYvUdazcAAADZQZuMSeEPJlMFETwQ//6qVQAAvGVz/x/nIeAD+ERJotEu84WEcjWT\n",
       "tWLw7hOgstLu/QIq1tWix/1ij7VnEYO+hLXh0KQXcoB86XVDpEqbGpL5c2oUHDlOzQF7QjHhCJHl\n",
       "pYBtfocF/hOu3OzmLRm2SXS62IJGEsv0GGAn+dn0/aYrc7tJwZmX2nul229E/bb99+2ZQOgaYXrG\n",
       "zQvzFV22wRhFa6aubd9jecLC/EMfS87RnOfKVUZj2YRfkWjKHD11jtsIf8nB+Kp556ieaMdr0JNB\n",
       "+n5gAF1DKgAAAHgBn6tqQ38AAfwoQHOejSG5rmy8PRSA5zIoJBbwAOFMl3+N741JsTl+vSJquSpC\n",
       "450qcesaGkqdZ31qwtRtHjJfwFu+zGzgIUAgtqjYHroq6cHG61zCOf1QFDR0AB2witYA7zVCYJCq\n",
       "5oKHo/gGHTAAAMoAAAX9jpgAAADRQZuuSeEPJlMFPD///qmWAALf8K2vD1BNHZtZaFue/2jg/sod\n",
       "ODO9AQq7KPq+0T0RxD9iLo8CbcDyfUH70wqqhcWnazBHl8CmMYGtusOHkzAPzEFRN15sOWbWgIpP\n",
       "LQxSAIUSRrDozNF+ZZHnL1+//2QCDskdVO3HCIpQwzUrUwlja6nUMDLZK0vpkoOQ05X8gMafUWhj\n",
       "w9X+x7ZMecBS34KHNXlgNc+nohl64SOymsio8R7zCG3zX+dS/25IjIxtumj1bysvP91Kw3WZBRDo\n",
       "x8EAAACcAZ/NakN/AAH8UpPi6A8xSnqyADdjMM6v/yQh/ANFNZSk9Qq+STpYeNcSXpy2DlnHyMiy\n",
       "A/RMWWgYp0haw32iCrxTdoUcsl8ltw2bkf2c+diSSUgodm1RFCZmXwLeixcvJD7mhefb+5iiNbr8\n",
       "c9HdjqtFt9q0elar2z3oqRmX5fqGoM9thB8wkK802suP5KzVmg4sROjiAvghNxB5AAAAVEGbz0nh\n",
       "DyZTAh///qmWAAFt+Tr9poC/NHhgF97VqAUADisVcfmshCpJSPNRhH4m3B/avrAUfNMPNfamWnuU\n",
       "yWlrHGd4xHEBSFqAAAAhNttXNGBsYQAAALFBm/BJ4Q8mUwIf//6plgABsptUIA000APA12sQo6xf\n",
       "/w6ZJnmRe+0fRbkoTU/JAM7a//3OZQ8ZLZD0qbkd8lA8pFIJ//60+ph3rQmamWVZoCyQR7XTsJ6A\n",
       "NakWiYd+gib3yEI12Ob0g4QTfdfMUPU8WruGrSr2f7sdr67xjB1VGkEQX5X9QkeVtPCa+3Mt+hig\n",
       "AqkI4VDez97Vnl4Rz9Bo88mvvoZdXV4m45Feh+L9S34AAADLQZoRSeEPJlMCH//+qZYABb8t/c2T\n",
       "m0sAITqs72Y6fE3Pdq+sgy+9a++q2hpBiV9/1nL1jOhGJAlPyT3OMibZTIF73PnvfCxgOCdBDrJm\n",
       "ue+XGhu1yyAgQziCffST9+ZvmzOmeYXULdbb2tvFlgYx04P3qfwlFUbf9qZ0I8dhy+nDBueZ70hb\n",
       "WNnuAqNRh0ePMyU7Kk8GBRoFpxhxnJ9LjhUdqJJyNj849KkT89kyj/5dN4e8AXNze0CsDrNlcy5j\n",
       "K32pQMZc5eoMh4AAAADzQZoySeEPJlMCCH/+qlUAC7gMLBUs4pf8QmsoAKI9PllLPPlmO1xzsfQ3\n",
       "OUat5l905C70Hy9/F/Q0j0myNwxVxSGthDwAcmC1hgZaYN6l150XwDc0aTJNvW1rp4j/IHxg/1rO\n",
       "PsV1Ev9hLnhLxTwzi9rqMqmYWHFXXG0zMX7fhuLe+8KYEugJw01TCvyp+vqDTdwOAAtbZmDtSnkT\n",
       "e762U/VjTS+0wZnCf3a4SjaDEA79msKMiXDE4P3AJwLPsZfIeqLrrBZfhFxjjk+RDZvNa9atMn9c\n",
       "XtxP2108qtE0QsAfFEwlBeIg7itiU8benROvl8dNAAAAY0GaU0nhDyZTAgh//qpVAAXcBOYTMKMU\n",
       "HPgR2jOgGrjqum6nnfJxWPHq8Ve+Umf44xOD1ymzavr5fY1x1Bmegnb5sACXA23633r79pp47IQb\n",
       "gVULjL1BS4t4G0Oyu56zMZxXegAAAGNBmnVJ4Q8mUwURPBD//qpVAAXj+rgAMpF7xZFrnR/+m9gE\n",
       "6v10IdCuRvS4NheQb/TUXB94+8Gaj6NtS4hZaTRRMCaiRGwSEAAWqoX75WaysrjnZlm7dwOdLICc\n",
       "cx5roFyt0XkAAAC/AZ6UakN/ABBXYsuTn3ixnY8JLbnEN7qDIUpeHtjgS4r0+XZjs8rDdRTEhZ7q\n",
       "6tN44ZQbfZoAKGHjBHzsGPhzkoXunltWKfz+0Xul9FfBkWkJfOjwxYCVLQFbQjK9Gnx/mA/lC4XP\n",
       "yuDhBDYMF/J1muuraeREuwpgzBjcP3blKtuAbinqGDVbxrhapVCXRHLjqe3Oq+qlVSG7mGjmIUTl\n",
       "wIohGMdwrjrFkkk4dQLkdy0AADuAADLAAQC1MYZLmLEAAADCQZqWSeEPJlMCCH/+qlUABePjIQDE\n",
       "VB/UQlDK/nYB8ncT1BkGYq6V97dY+yvymFjwaFdGv4knXRhNcXusHuY5fkKKOKC9DBj4QF36odgY\n",
       "kSVeea6RFhCtgszVYmdhFMQ1QH/+rsOzMg0LuUPj878aUwcVV1fR2KBeN+MXNcp6vAG+WsqPIpok\n",
       "2LwQJL9pTOFOIOuXFccZN6igqMKlxFbXqbR9cBU+MU/LEgRtVh2PkitDgKpkGaACezzlxrGwWFZR\n",
       "zjgAAABXQZq4SeEPJlMFETwQ//6qVQAC7gLYYm+dGKDnwI7/0+fsDp7hkfOvTfomcz9YIUMIB7jF\n",
       "YFNm0Zk9ckgiZiHoMS6pLQAA+7fCBGDU08JnkMOjvxwp00hdAAAAqAGe12pDfwAQV2SV42ruABKV\n",
       "aqkbnFM+uADLuC6/YeaklFcl3bnN6DH/lEaL73jT4MJjX7/Z15YCEbAHW+axdQ+CbMHFUF9LUMCB\n",
       "aUEtyu7nemS+Bo0Cgxr5KO89+jP2/MinWKDYVq5vvBndhmPlc3+0LFR/qA1g7J/AJ0SDiUBuBcxf\n",
       "FhXpk9o49DPlhcZVEqnG8SNPOA8Oe6MmLQAuOQtiNukN6FniPwAAAFlBmtlJ4Q8mUwII//61KoAB\n",
       "dzYY1L/9lf6giWr5LKTp/uc9vCo5fogrHbzWev+WYBhLZDAB0xrhACrZoYHDWTI74tOr5OMiUYx8\n",
       "8co9crGYAK+LtcioaRQv5gAAAN5Bmv1J4Q8mUwIIf/6qVQAC3+/4FYzIJwwN7p4D35P/ECMjwOY8\n",
       "asMrOkQYUActPkAyA+DLdFYESNXCuXM0PGS6YoXP+avR82jdz4srz8HnRVM/KTMXmkW+npsOqcrL\n",
       "yKmfOksrS//x71tdvoUz3FHvDXcg57tFILnEQu1/5TDSX/ygISFdIvYyuIWmn8dL+YPA06/aNdqR\n",
       "+DYdk1lCNPi1/M25DHstScXy+3i+FDimyZgtW3QKIxcOn6QBen7ul61s+4LrgsgwO8y7FC33lNg4\n",
       "lmS3650Ky4rJC+wh0XEAAAC3QZ8bRRE8O/8AC7i6z1cY3jOMwEdhq4MT39D/YE+9NBw4732ASBRe\n",
       "Gr0uo5POrk60fRQAtB0MhylExq0C0ntNtXVdnjoCtQbIpsYdlfHKIoU/n8TsnzNkpe/1nJsxHXKW\n",
       "6RzjYBgQQupljS3M+s6cESpMT+gECvnZpWyf6KSUAX7KVACtCoGgAR8dwUANMwtwChUCwAAABkkP\n",
       "FgUZrUlRePFcYoy6cgxFtQ29QYzDs5gpPRZptWHpAAAAmwGfOnRDfwAHxdOfkCbCzUhp1x+ZLhjP\n",
       "I4IcqyWo/IPUUmaeVoy9f07IRwKZ6Zv9vDLQ5Kmo/5IABlZTa758TRGe9XF0BP6sj8dKzjHMWDu6\n",
       "dDXDpC0rDxg8ydtcygUcqq4wmXV6LohT0GuPr5p0oqJXi/F/8nLtdw+q6XTePVx9mTdcEzDV5Izn\n",
       "8k1lYVmaxk5nZUKL76xj3Aj5AAAAhwGfPGpDfwAD+GvUvGz3AAqnW2WdShr/KldU7ho9MEeUWDFK\n",
       "cPdw6ZBCBIqCShZLL38bPtV7IcMktBciRgKUebH0J2Nhv3suxZRzGkpD5VCxVxbPriIukMYUBrk/\n",
       "dXl1KOUgbum654wCh4CtMnP7eZfSw3YSntlMY1sd1uu3DfhBtAIjuepDgQAAAORBmz9JqEFomUwU\n",
       "8EP//qpVAAFv9/wKxmQThgzDn+CJz6SDliTernRFBfix232Bx3tqHllIBrETGN0a/dWxWBP0ER5q\n",
       "IzDjZpDFGsnadOuYiOX/8LC7fMUFTDK/gOfYf/yLSIOkwUP2p0aNylNeP9qqdun+Y3cqKs/aTYJ8\n",
       "P6+rIX7fdSr//kkgbFtXOMSiebK7SIFkP4ITlzF05y26smmyjlHgS+TuztRx7ryyEsKOa9iW9d/X\n",
       "6JEyDjgJ8LxTej0XGP87U2AkwCjnxKe/D50SpaLEBwehoGUPkThqXGy8GtaEZUAAAACQAZ9eakN/\n",
       "ABBcjIm9GKHqsud19s8uaRO2cFEGayACnKZb5W+b0iCQAIlG8bz5LApHRIXlHE3iMx+CAC4LWD2V\n",
       "yI1H4PonrvwhO5CbqCWHx/XKvT7fYvOZRlOpPOhpMjP5SwKoZeoDMno7XNaRe6Ns8nYQzwonHxn2\n",
       "t8YhoBZNsZXQXdxyTfj6WzHiT0/S4KCAAAAAZ0GbQknhClJlMCCH//6qVQAAvHw0Ief7dQZiCt0D\n",
       "MTJOwAZYuqc0MF3jBU4Kkszx20hZ3PX0AJcjMPo9iA8rHT5U+TDZxadUJ5EV8Gyck7GpppAQ2Ud8\n",
       "GXDz9xaueON7uwkZRn5Izj8AAABkQZ9gRTRMN/8AEFdkhnhbQeOPHSgvIxtGQ7Sku9KbI5bawOun\n",
       "MwoT6NW/Lln6NWmbXACD5qv3vzufSwop2K1LTUGCWExcn8kBV70bqgEp0RUmWHeDWOhzKSPES6ka\n",
       "GZazUDA2YAAAAFMBn4FqQ38AAo70UBj1FgpWC4OhBX+McHCnklcb4EOEPoW0zWPJfUL2gwG995d7\n",
       "SlhOUxHEPelSffk9fuBJkue7XkpXt6tmKxDbgbgGhHiHneIF7QAAAINBm4NJqEFomUwIIf/+qlUA\n",
       "AG+MaKhIAgeLZ+mH1PWrzuR4DCeVL1Y8HY9MpjdHdIshJCRrJDci5B2vlCzzVX0Ff803h8jMpqBe\n",
       "GqP34HdHUCkyE3JGYCLxAXZgCsgYBckws3wXYRqXfakUaPkhcvA0B+5ewwJj3YCZcDHYeLvJHD3R\n",
       "sAAAAFZBm6VJ4QpSZTBREsEP/qpVAABvMCGBXw/cgfe96jVagbVD6M4M1op2W2Crqi2PZyhF1YAM\n",
       "p59XUgduTlOToEnuMLmGAyWS6X/N19F1jdi8oAnlBkAEnQAAALQBn8RqQ38AEFdkhneGjsizg1DO\n",
       "EFwF2xSGB12zeUGgA8v/YWqlR+ZVJMPwMWefWhbaxU4aHPm20LFHmAWWL/SiNfTW8b9LWhZ8IhMx\n",
       "96YcENGdAOLMfKYpRR8KYmGaxef2q+uzk96CcyuaFFzi28V6zs5uFDMFbmaQYDoBUHKsDIqqjkkV\n",
       "/LFBiXUfM1HJer6mqmmrhgJTUuGX1yej+GF0xJY+IMvzrd1hipUEoYOxxVRLx/kAAAB1QZvISeEO\n",
       "iZTAgh/+qlUAAC7gLxuKUU43ogN90+orN68ytDQGus68WZNVnvNRxgAnfVkp3XFtOpjh/zc7slWr\n",
       "U50jzLDicipEzD+wd4ZMI9hjFncXIV+KzKSLx3K4F3SPCoq5oT3Sin1LtCSmgdr++XJeg+WVAAAA\n",
       "cEGf5kUVPDf/ABBXZIZ3htLqayFl7n04+nES1dEapzk1xEbLCIFG1wCVsFE3y8yMue+hDNygoalJ\n",
       "o5gv2qmnXrPRSooR/Ib291I97kBFO0a5cG6fZCwbZQkRLOT+zi2Ofok3K48OxLRS696Spoplj4EA\n",
       "AABcAZ4HakN/AAE1jJSMNhhOU0fkVQwd7Sye08CHMjaL5FzFcUXuYQAAK9n+lrgtfdWSyAFfOUiY\n",
       "XgGyOeVY019Jfyyg5Xs7FqrIg/P8heUpwO2d1ynLB2ED7tTy3pgAAAC4QZoJSahBaJlMCCH//qpV\n",
       "AABQPE3gCg0eDQxSYa+fXRhNW1qKSnb3WKBbSZcBiGAfSFqQCX+/p57cl1LfjXE27ZEZNIKcD+EY\n",
       "X/9dh/+INACeixKvWnKeyED/jnDSWhcPS1W1SE8ij5xSRlbRiiz868PaERXQAysByuK/7iNwOxCw\n",
       "fsQ96NRRHodoSmRr+LBuHKESiXi6d89VFWT7DB1rG3sOcGoFP+gjnvZEPssC0dLQBJfI2ztr6wAA\n",
       "AGJBmitJ4QpSZTBREsEP/qpVAABQRCGBXw/cf2QFbk8W6vEAAEt+rkO4DwAXuWsIpO3RP0gLlRX0\n",
       "zUzrdq/U3v7gbS8fbHa7vb23p5ozPXQAH9YN7Bg7399WT6X/46XWtekUkQAAAEYBnkpqQ38AEFdk\n",
       "hndOsNavygyfMFj2vUCXqQUtOyp7wopgJaIEALW33WoiIutZdArVBpazFpK5Cg4zIz4hD5q+xLCt\n",
       "pgy4AAAAVEGaTUnhDomUwUTD//6plgAA2VTEckAG2VGpTA1Hwb21nLZKHuGfue8kZLx1ESLXcK+n\n",
       "LRgBBH31fqshjhiyhlVVrggOEmAOQqFn2bsz3/Abd4zhLwAAAJ8BnmxqQ38AEFdkhneHP/0AFF4h\n",
       "BeJQRbQN9igRpiIwqpGaU9MbUJAu7Ioie/1209KrrmdAjFlzctQZPMn5TUdw/gwa9Kr8CxSNzG9N\n",
       "TqnpwxfFoZBu4ff2DDSa5yggEgQstbnLR58ZiQB6m07NxK+ytRvONwQwqbDSKdZ3HlDnKuHhyHIz\n",
       "gdX1s5p42vo7UesjjoG3GKpwNP3Pp2WTDSMAAABbQZpuSeEPJlMCH//+qZYAATl+Fg+ZdE72Yz3Q\n",
       "4JRYMYIVCwl/07l22WCK+KFRL53e7NYAQGEDXO5o31lzhlv9If2bPuMA63JyxOMoKdyPiACEEypJ\n",
       "dZNc2z/0TQAAATNBmo9J4Q8mUwIf//6plgAFvy39zZOdogANFqs9JAgN4skVuYm4/fVZY4ZB1siz\n",
       "ckQCWKfxBGhLtnKZAvmjb2sjwnCja0sZ40OVe6yNUSzxLXDUo3xj8Idt/Itj5mpBXaivmE64DlTe\n",
       "QzYe1+sJjlMX7Unr/hwevtChJCaCPX8G18D9kCpvFx5bOY9GfKO/qU5D01tScq/jOI/I4Gxfl1if\n",
       "2T5Xmtxe0aw6Yd7TdA8sfGYGQ8QR7nzMR939Hlc8we48XrKRKL4Z288Oydg5VPohF4C+7UIndLsG\n",
       "h/F9mtRZm5mmDAHDiqR6FBCgKLFD2+N0ql14jFsuamtmcRYE53W/Mv+/Nh7kmFrQVf2RSI0WAh6A\n",
       "BH9HocJT63WX2C9VJQBmxxh9ZxZhEo7+AMNACt/T64M/AAAAskGasEnhDyZTAgh//qpVAAF4+GhD\n",
       "z/bqDMQVwYtLB9y/gAwtxlT3moRmAAAauhereB9T5C06HAAHJkA9gPDYLxvW5E6Wpq5YpV2vc8ln\n",
       "hzPsUlGEiCgmkbyxavDc5K68yjcsHORAJhnn46JCrvSLlzy00Lq4diiMteH+BzcbJcLayzemX2L8\n",
       "ppZBFtMCkEZgBkUapS2FCDtbpoSLIMB2dzgmgkI1I13yWRw8gwOvdvv1FTAAAABfQZrSSeEPJlMF\n",
       "ETw///6plgAAnCzJ8y4xhgaD68rJ+gAICq9Vb2slTohWMJSNe6W3JQZJUxzfpAp5v7XT1C7XHT/T\n",
       "uZrmodduX6h7eKONE7anvYeI6Rr5t/8BfuDjJpgAAABXAZ7xakN/ABBXZIZ3JUz4KVguDoN7NZeq\n",
       "hWRPTMUjljMC1ymXCh45uC0Ka62CmZmlYQaynoa60E8lZuDr7tBSEXCbG4lOMnYG2YYPafvoPFcR\n",
       "+P3DzJ0xAAAAqUGa80nhDyZTAh///qmWAAGymyWAI+QtSg629C8oi1kakJ5qA9uYekBIyG7COu58\n",
       "4QOWMtWCH4ykUiPT9mN9nJh9LMsbWOJCN7TMeJy3Qtictdt/qHw7U6i+dSFatd4FX06s9UqSraN+\n",
       "BsmNGyxrAOdL66KCExVPHWGUQsL82QWN3bTSZFI2s6tOifslDUFvZnZ0/I5hi0njXOTJBdokprzQ\n",
       "cxHNk6kfCkAAAAC3QZsUSeEPJlMCH//+qZYAAbK5giISYwwi+szGAWs+fqd1XH76rHXBH8Youmfe\n",
       "hsXh9yeODJQ0a2VBGBBcubjH/dhgIctktMnZZbq7zE1pYXY1qj+RgI7O3sw5PT5bHG4ypk/ZgHPo\n",
       "0wc/kTe9/INcQzknhctywqw4VRAYsT4VSEShXa5IR1feNJbRvUM/nl0JF+EU7YNbCZAm/2u+6knq\n",
       "kKhNPcQyAuO/amaB7XNot8+H798MSzsoAAAAuUGbNUnhDyZTAh///qmWAAFvy39zZft8AB2aFnPp\n",
       "6fhN6k/hQHn6IP5gda+YTNNMOMNFN1+2nQxvyGoFT6Ra6XDvgPnufCReuCdEAexgSWluwHTo2a/0\n",
       "OpLZ/7tuuQA6pkGboLH6QB663ZacY51+BTGfgoHxuwiqNN9Fl8NROq3Bv7TgtP7Cgq2OoZA63qc1\n",
       "Zw7X3sK7WUSBEG4Q8sg0qw/+KJPAfo5Z638N54rWG0zsiVNXnib5kvEFAAAAZ0GbVknhDyZTAgh/\n",
       "/qpVAABvMudLj1lyXRQHjvIDGcRbzicYv2qcueJIr8CKoDxb8+XXL16iAnM2Jpl48LmObcj9aoB+\n",
       "1N9TxSEnZGGpdPLvQtJRjnTzfQDSKhKW+sS+4XBtlGZQ3bgAAADkQZt4SeEPJlMFETw///6plgAB\n",
       "srmCIhJjDCN1Z5ICO0CwkaAUm2lywQLn/UT30gYjQ1/rjJKQU3x1r76raKaG7C9QG6Cz//zR2pja\n",
       "OdieLk8FvY0ADDi+/6fA68ZhyMZW3YT00iVN8h+LOALZ/HUW0cz0RE+8W5//8TaKl89Qe7Jk80IZ\n",
       "/kofX99UXUGPan7QsT4NpeD5c+y9Pe6/+1taO/3+QA4/9L+pdMO/vkygTmdtIJGGyWBkEakBhGQT\n",
       "QXKe5/J/JryuT0ZXn/LZZ4gv9EgmLssPcAglPXLP1aaNTAAiwwg5AAAAgwGfl2pDfwAQV2SGd4aO\n",
       "yLODVcabVUPRY+/4dKo7y5hd+NrAnpTCjjn1q7BVdqawHgzHstu7IpmV76W02fV3i70dCHDQLg9d\n",
       "8NgUXfNp8zTtHfFjB1EgTvFFbrntPc26L8eQbFGKfW5A5nxd+wg5fGMeV8wEFgmMxm7KkxqsDtXa\n",
       "ZgPnAAAAdkGbmUnhDyZTAgh//qpVAABvjGioSAIHiFmgwRx/rw2u5HgMJ5UvVjwb/iy3uutwqBJn\n",
       "8ZC/jJ8/+M2KPypLAxwQwURYpzWpFxWgRttlwZdEPDj4wcB5MdVBrR/mvxzdCOt3PgFYDVOBNwEq\n",
       "Lk5+X7Pmz/7ZoOAAAA6CZYiCAAS//vet34FNwEDta7pXOLTLq5Q0PVH2lKZ4tkgAAAMAA44es10a\n",
       "knua0GgABgMD+DO//EFAfurQnNmRy/dxznROOaO99exQFAMAEBAWsN1C4Nlb9hFIdxyTkkpjTwFL\n",
       "5HLn1RASKz0oQREjuYQ8aifynO0+P+Tp3toBeljcyOA+3tskDsK6PmfC+AdieW+RAhLcgUayawkj\n",
       "rkzDyPnbJLHj+5H1PUdQppvberLj9ks0x+8uOucxBhXhg7swY6y/WAprCsimDgIfD2YC5QCK9pO6\n",
       "920z2V5We/144agfFclVG3AC84qs2xfZKXVPcGUjhaX7U/i7O809Ta09eCe6TtspyugtDJPs7mKq\n",
       "93JpBuRko1JQkw7tzJwlBPK2CDV/LmgtBaRzgn8WMcOCR940zrW9kEJuNnfammyz7B1pVhN4CKQv\n",
       "D83w774XgFifI4RxugkAcG6VjMbXaaIDHTQht+eRMDw8hz7Exk5M1rUVH6N3B+Nlo5s5SDHOzxo8\n",
       "HVvD/zIsgRwzNlE+mssWMoJqzAN9duYDJo5AfAbdWUJ0rfPN8fkRMFFBupKyuYAE0gahtnig5lu7\n",
       "71WMDZej0sDONCNOTyftdBXEGZza/hRxIY2nMIehH2QlX6n6cCjL/LzGF8xy+tJmhOLYMurl/3/E\n",
       "saTaZxAbp3ykyvAQeduO9iwC78O0JO70OaZcryv5Qtj5WE0/Wk1mmSjHijySMzLenZDlT5JudR5k\n",
       "8/uIDV9i2/9o3OYRfvVuka22QJPu7kHtx0dQEYOmLzLgTIBsBaWPgd3lyKr06WdzlqV2kmnbTnWj\n",
       "8eAQMtm96yPnCZkzaCFUWIDGj5yaC6AAC7R5QZ1U9cJiUumJlpoeNNjiCcauwjXwirXT1xw/mfFm\n",
       "OwkKXAXTGBH+wxn/3tN+XxqMDh7c7/fEENml8oI1kGR0VgMy36w4sJK/lLRIfwQHUPJdry2/f4xD\n",
       "i4nbs0ql3gtUiy4UVE/bA7p3/SAYbwXpmG2BXOz4rj9Xta29FtTGGTKaqa7USbGq4iQYxcDnbSS/\n",
       "6v66KHrTfobVc+CYpuzfXcBXjYG6v4AMY/kTZxrjq48agy3A3H7eE9aES/yAPxR5BCb+xy26+Bor\n",
       "AwtcFV4/3U2sqKmD8iyBZEcGDc5gWgk4qQV4lAk2IdrxKfMIyskGFyo28Byw3pyL4x8g30WjcDcE\n",
       "bYWZ3j6zB9BR0SxujQ0N/MMiWf3Eh+rr+EIfSrBBQs1hTJfAATzPsTsQiS4y9GmmrTK53/xH7Hb0\n",
       "eTRrbkFNmc6iPF62xjCb+WpTJ8WLCFhu4O514bKiFw1YK5D79aOcAzyRP0PXJWC4Wh0o9QWDtGKu\n",
       "+TZRLYs4VqA5FiRhO6grY/wJbmcEfS+kuSyWRWJbpjfZ0BGYwGkimfTQFXP9nZbMwSFn3hH32S17\n",
       "pMLafrDNX/53nSPPJUNLL0HKAo45HzYu+jUHAdaWUpd6OVU/ksSwbPMS50RRfVFr7pq9JFuxuyLw\n",
       "dSmItC+ikEPKSPvxZB5g9UyutFeUgapgVxlfCTkAd97TNgNPI5CGAPhMsIa9i3OoqQSiwE7HzL5a\n",
       "dbpxCpOLCiftsSk9W6CVJTEurv2Wv6LZ6B2h56teZsKPGCjm/owyYtjxxQW+hxIqcJTYoFJGOeBN\n",
       "yzcz2PVBLQz1Dso4ABCzCbG+q5qDvsIIBhm3jZdyWlCougt0/+IsAp5P5RKtC6D1E2LxjhWIlmk/\n",
       "7tdGczf44Utfm1DI637QGTpWMLtT/jpWn2ji7SNAVEyEEz/9y0ojn04OJfnsdxqE0nJDiKHhCXE2\n",
       "+td0Iccg6Zmwr8ZQ8d/3P+AXKpBZtAuxDOiA/0xuC5bRuNBwCQFzKWhZgOueXtNEYEfVBJXk19nc\n",
       "K+u3HmvYwQzqeCK0iXLfg7wTLG3I3mWQqwyBhJ2FIG3rRVf9fUiYRzTRSiJzvpoV7pRuS9pOv//u\n",
       "RdJjNrJtNvGDPpe9zwZiwIO+Mjfn/BnaXogA9DmecqazFHRZZbJvQvqvZVAi3ZiMyL2W1q6odbZ1\n",
       "5ECHcMHNXTWlS0O3Oi++36i4g1iSuZZKxQUQgd4CMEElo5SJrOZHxs288D06nj42VT5aB3XGSypV\n",
       "XmP09BMH7+OGDy1JS+dAXkERUOpqqhKHEV8MHeL3YKH9tUcY+lyIQkSj92iEAQfrzO7h7w+Mp2rc\n",
       "T/wWXaYqSDxzXn7eblVuP7HoUfy9swn7aC0EWpmnRHTVY2OH2KH2YeM1G1xH/lEPeqpTnv1vtrPY\n",
       "grr9VarOuA5lEWIomsmILwEdY2DjE2utwSvyUqcl7uXqjD73J9/nZh1j+bPU0MACbGb/l1vJMI8J\n",
       "AYwzT1xdLsEhO414rT1ajNGXb6prDEhk75aB3tgy/UOxJV20ETnvgFIQuB8x5L+CkQB/Rd53zCdk\n",
       "jYcG+zv5JAO/DbZrFB2aMWje80TOp5tV+mUVZtaNMap6l092iZS5BOD30CyN/Q8nw5DaCFvKmHnj\n",
       "NBuXhwdtqCbvLbyYjiHZ6S2hAqplV4WtaMFSjMMLMO9CTUoPe4vTaj72l1NM9ygn/ERzHLaQ9vIV\n",
       "5k+ZzRbHomjps/N65T3g9giyzYdVREzD/mblQmoXcuMf0pyfk+ScP/iczf/x+6IC5q5fGF5VH93g\n",
       "gHa1FWD6CRnMuO+5+wmfIRf+7cSdyCNA+Pc5J7rCg4623OSaQDBYriBD2Lqkx5WXRoy8G20en/6H\n",
       "waAs/30mz+D8pJ8lSpwzA52DiAK/jx08KIJQhU3scILQO8iTVWQiUnM5P1gzfosT9vy6oX57F5o7\n",
       "Vn/oyQQtNya3MRFsKHn3Rv6df7xPthopP7ImSAJjDRcFfy9IEsZYJVTdfrSmaayhkPDutqVIFM1L\n",
       "e0Qv+Uouvb3XlShW7iuf8H/HbYkLhjF68ml74NoNRga4oNCekiwHxA9RaaHLA8k8ToCTeT83nNh1\n",
       "gAh9XMkkgkI3x1elywwHSVkUA+1nxYQQB/WFLRh/P7WyjdHYOUwcbdGucxiXSU4KJzhw/n1lul7V\n",
       "uKiBcm5f8Z3dJPG7cNI9IInhHte4Gy3WxJ75QerEbolS7Hj9OM5z1lV0cXRiJ/dtpjTjq48WPvz+\n",
       "7AW/YbeXelq6WZP/XSOzCpiwx+nr1DOr5Rf4B9fJWT9ZT8lVqQAFYga/2pcyTzMOLfVmZ6kUISNR\n",
       "BO8LTwooNCJcDfs9yPLquJXTp6OaTOEcbiRfNFfFc6CmCG7csEueqq2LpUk83ibhLDfIKFn+cQYD\n",
       "57710be1TOkb2J4AY8dLTUKl7Dnk6/HCkczIh9l62F3jF4in8TJDslWYItauCLUnpbTF0BeBipk5\n",
       "Veq3g484AgzMZAjl0LuDxrMAI8VlXEGZIJE2Lm1TgHKv1pJTV1rPwWxg3JycAIsrrG+jRZihIK0P\n",
       "JOzpipeZFFI5IX2ZvLJIHJmLvSIEprWhdK7fWl2SbhjyNpgCWbUcMJpcCnK0Y+B3eesQ4v/ekq3Y\n",
       "+fSnj3TSulnJJ9/7uw/sOgmIKWOCj8WpmkuRCKkiO2/SCEoirx90W2BONEK8DokDT/+l/9jVcE8w\n",
       "AZCniNlYJlRAcRuEPg7NYhUXbdgCIEcBZeXwp1qyLhW/VPiwHcJ61zLYVG7W5tYKl9HgKmBnhFWH\n",
       "xVRI6sDAzCn8NMRHAJ7m1T0wvLvr4nBHyG3ZQug9Uzrlo02IzdkqSeYqSUC5boIKF3vY4OZjJJlX\n",
       "d+M4iPwqH4Btc5XVx7TUeJUcb6AahBXnw0yYx4dY6oR7ZRvwPs8VoFR9fPk72rsbhBYMs9KYLeIv\n",
       "TvcnYMs711vtcIoj2oQMVn01ilQM29eIkLYtGD9E3TrGV2u7GsI3Vd5JBmp5TThkAfxI3fGFI2gJ\n",
       "5ciV6R2zFl7iJ6IVv7JUL0hjfKfa973lQkUffIB/44KQLlQp1EXT20SS41y41vylzZt4wyIoOPWv\n",
       "COc2hor3krAVndUV0Vg8djKETtM9HSeCtuTgOIYRKv+CWBuYZb+IFapwvGrGDVQivYy38fmQihTW\n",
       "le+/GzoYSg7iYniPyw9AR+9lMsS9ATamtvA0SjSx3lwla9UMNmBlucobz4lvlczxYjw+Mn0MYqQF\n",
       "xCQiBLWtCCdg1iA4ZYiS6s/lqKY/bV+dEGc54YyBJziZngbhVcAYQtsEztauBV5RuUfhuBfKB6ZM\n",
       "qFYX0ofa0AF3TkUmGh2Ox5Me4YKQWPqQX3360Ysg7lE8o/gZGtz1AG7TMV1Hnga3n+SBsrSnt/IM\n",
       "T24ojm+bDSS7It/zgaSyGt4X1XQ3j5He0Saq5e1OywasDYwHGuu3VZMmA36L+NOOs1f87rS3QFPg\n",
       "kN5wFzzBY5Fszg4ChuRv2i5hPN3ETWaTuunk038B+zrzQ1rkTlYAL6zvV/+Mt4B6/6RyvIDdF96a\n",
       "K4h2tfjKs0dZ5Wr5uvOWy+uTgJUQ4rtyXUQ4uZypjKytW80vCxdSqWJy4Rk96Vo0tkK6L/cRtwwm\n",
       "DxFezMnaq7ZrbBWErnVoeBpcGV/yiNccUVGh8675lO/lv2J+fhjYSMIL+7Dp1crB6a/gjZblUWsM\n",
       "MY9wd0IQDBjYFVIc2gT4WcXy3qVa/jj5j6VIOUfmwqJDqjhjMn/H/oJII+TLd550unXogq/0KdAc\n",
       "JTyIb+Z/afG9JM/zQ0hcUpUggxvgkSvIi7130f9CpNSLJnYYSr6JbWYwOB0+56z5n20A92iak/mO\n",
       "tZ43gIK76nKCxV4yQVbIcwz6UgSDwAEkswiyNv4/aU+YDwt6m/4H4aZz+dwvEwz3A2z2Pbqfq038\n",
       "WaLQRAE+hGNpAhA1nIOB4Emzh3+e7xA8WuMbSmyDma5Q2vU0buZVthlOJrfEwa88X8F2rH5e7Ibw\n",
       "uX4x7b4jOa7ifXSCXB+JhEGS1PhO219HhR+goQNlrcdur1AA7rEzTYUivj+2pJugtpy+Ep4b+h+j\n",
       "W1bTJlcTmJAeQme7P9M2+iX38r8AAAedAAACGEGaImxBD/6qVQAwuCGYAdFECqV3Eh6+rpl+mNQ0\n",
       "5A9aJttX938K/JtJ0pNcDEmA/OqUP/QmeR2gJEhF6vRKwNLCAPvtH9/OPOL9K+RuH88SyyERm431\n",
       "IRXLisIE3J1sd/hS+//aoXqBvijdM3UW4UKGbmK3os0/U5ZMVPQSF8pYs9xgLcGRr0CQxBHJFumv\n",
       "/G/2fNMn1TuIC5JcQINCc6e9MgUJZCv0Y7bt407iIFkt2xJfAOppdZ7gKZ59MtWkXGaAA9W2DpvV\n",
       "9bOfyxw2r99Z6C98e5ONHAR2M65O60VtEGls3HLwIUmVTP9h/chpAiLtKDsZ8YGf+tOL+RD8lCj5\n",
       "u0hLlTF60Yc7UzccGgORuIVZsgy6LvQClah7C9sWRIyyVdrECPeEAfA5GSiImZGH1OUMb8y81fqI\n",
       "7pPaHBMLaG4jzl87ecYzZVuYWKRtbSxLsk7De0RcAHGzEqbV+sQkxgHuPKtonHWflXkMYVRHWTA5\n",
       "xG5GYUCt40DXkFvgLkqaPw9HYw3jFoReFdynahNS3IG48vEoH+F8uL4DcvHwlh0iNBJpn4UfUFAW\n",
       "Pr41+vBTQHrsJ6nXsnI3+jsKhxTfeM7ZGvefHRov6cUofWDcxsx7QeftO/rU1oOo+cWyqmCQvQUb\n",
       "f10fARgyoFqLD1UiRa4pPxFdCEk8lhWS7LYTp1RLyT8OkpdbZwbWFi8Hf6GoTEXiKKkgAAAAiQGe\n",
       "QXkN/wB/RpGVCWbS52GVgfM/IAhxE8EEKDVYeQzChGS1dn1rVAL1TMYAO5EPURAUtfJigRv/NzOc\n",
       "eQMTA/TJHHzybZK3358iPzzRm/FyQPtddxkXvSFo+zfZPGvvbn3q42xsupCOM69NhCa2oyr/xQIj\n",
       "5OAmyW5DJqCSqxRZQJswb5DjYSuLAAAA0EGaQzwhkymEEP/+qlUAAG8wIYFfD9yB6z8KgBsa8HdU\n",
       "iIwF7qMj2Q4jMP3a4MV/o0rM3dCQ2+lBKrG0mFRoEdsaezXrdPMT3v86dXTmkob02J2Gi+PxCbjc\n",
       "OawcIptEh8l0ALf/9kFsFTXjjM8IMbv+O4wXxfG3VsmdkFijwUCH5b7at3dgN8Jbv5m4rCssoJdQ\n",
       "gON1dCraIfqkTomwAcYDEzQkQoAwO+SyY88Epzr9WCLPmOFP5nlwFAj0tMflBdu4pGSGIFenIlLr\n",
       "j+C6TBEAAADfQZpmSeEPJlMCCH/+qlUAALxlc/8f5yHgA2coJhT1mf5RzwlLAKu/YP7lJoxZbatF\n",
       "bEhuDuZ9qziMK/jSFPTimQpmp1qSJF2l5FdYX9jJ/njgpgeHpNPqyRNzpxmeTgUV/hoML20Q6O+2\n",
       "+RNJYLxFwaHHKP9RXKP5g4LZP046Dt4FRoFcU5spA8BdEj+R6Z3qU5it/X6aHSjizwcVh2PgqTXt\n",
       "WRT/UN4Ar02NQwwgQqMudC5H8EZbj2m9TLT5/vQV/gBxU4mho6eix2ta9s/TLx/QGZdA/gEYovRJ\n",
       "IZ1B8wAAAHlBnoRFETw3/wAB/ChAc56NIbmubLw9FIDmzwWbD22eZGS1fYFJfDN2EAJZTFWHO4bn\n",
       "55ks0sC4wWm/yDT+qRSWcrU/iSgRSIlmIKoSJRrwsjU3S5JRJ4r2jB5nfYoi24VTXwKBR0YWYHHt\n",
       "hmt3mNh4PlsBPvIx3oOgAAAAtgGepWpDfwAB/ChAc56NIdVzpQADIr4wR888BQavyMSPcRvqSXZR\n",
       "jcCDIV8O1eptvLM1pKwGFlAVtCMr0ar/pENRKlfWhH07xOPERdWICF5vnbj8dHxFyPbJMGtS81ZQ\n",
       "zDk5K8UNYnQZPMT3zrQ72eZAMILwZUIhFpd/4Q5KixRv273gzOlYdHcdUwQ/HrugobMyv5ghIoDx\n",
       "stsgDxEMhAvR/QRTneGevA0nFv4hmBI2dbvDHsJfAAAAwEGaqEmoQWiZTBTw//6plgAC3BNj6Ugz\n",
       "/QXR/jjh1YALD8ieM+UVC9Jstb9Zmx9FPgKpVVK9Kq5e1RhsCIGHlP/2MhK4zNMbQ+G4Zf4he4UN\n",
       "atq4jprG3wL0jYe3ccST7p5AVsKE4btRe6h8kn16ZL3Rt0xeiv6HaJRQQ2vUErvn7jxTipj0S6lu\n",
       "NTUaEo1qBM6vMk91X82E8YkxeVNYXMeYLyujIChC3d218wiFKB10WUVA6XlGPLNGzzERGIgW0AAA\n",
       "AHABnsdqQ38AAfvtYRhsMKckE6Mc9eyzxgBxBMn2vy3dZ+qv8NgAi5wqrjkm1ppDaU0y/hI2m/Nz\n",
       "nTWiKRZwoxAhOByUryOe/L0Zlhr0v4l+7PeX0M/JVsO3LbBU42qhWf7+7JZAcVZZETDFytRwnKEH\n",
       "AAAAZ0GayUnhClJlMCCH//6qVQAAbzAhgV8P3IH3Hf6CgAkrZg5psDdxIf+SfUprkEQyMLq+eOPy\n",
       "B0ibskG32JUPhg8lfZ/7OC4oKLISOm6AaUuAAH/52/R4edISZKLZzJKcpB/k5AeGnSAAAAB6QZrq\n",
       "SeEOiZTAgh/+qlUAAF4ySf/xCZqgTj1HVXeW2QsRm5l98slXLncusMwOZRWLGptCXxbhHGkvcOf4\n",
       "b2XbAUF4IDcF0D8v+30Ir+oskjYXKBB4/EfCKOk+pVyuJ1HO6jkis/5xanozfRYpV59LHJK0CrOl\n",
       "llW0+TcAAABfQZsMSeEPJlMFETwQ//6qVQAAXbvOwDSs4mYrEfjYBdglgFpg6H80fitkCg2pymte\n",
       "9dlTq/MvIRYUo9SX4LmaBvHJCigUvEhsETYWNIt6W9YLbS59cuyjK/cqw6te/UkAAADCAZ8rakN/\n",
       "AAE2TlAA0bguv2HmpJRXJd25zegx/5RGi+941G3Do4xtREtPuzgCHjxt0PgmzBxVBg0yhgQOzglu\n",
       "YwLgRpCeckS/RCLiBKmYbObGHtLw9PzASzM3YV9lxSOPyeRnnQPVXwyoVBlHckCOQ8O8+wG1WDDV\n",
       "f7HR7q6sGxvXqm9ts2HsXyBuhoEMGVIEPqjYECEcNBuA0GVbnAggqH7MGlka0MlvkRcUFKCgMBqd\n",
       "+8bpmBrVvT7wd91GER+IJuEAAADPQZstSeEPJlMCCH/+qlUAAFA8TeAKDcI0OYhfGWvUf6NLMa0H\n",
       "5LKAIksXu/4zAU0gslEfCYKUtYoFm0lSfayayW0gnTW6RwtCNMaWm7BEmTzU3UHxN8vBLNuokAVj\n",
       "XqbeVk1qC6d/DTN/8aviqxem17rz8v24NspDCzXc15Q7Kzbahakz4XqNXCspUaSUG+nydSPYp8wg\n",
       "a+h4HBh5MX1KCOPD0cK8ND7FHhKLwxBdciV02MvhiI/xbhSUwP/UUz35Xnim/0iu2WNx7eB7pDah\n",
       "AAAAtUGbUEnhDyZTAgh//qpVAAF4yuf8JXjkBe7UdepugB9OiZTQdWHGPgEMAPbOhK9kfFob9YcS\n",
       "nqrP/vdFTSPpyqbmxEm+aK40h4GE6/ws8/z+3Unw2hDIfm3HPh3eRrEL82ymFJaHaIE4GeVrywoG\n",
       "rqHDBWbPrGLf9Vpe5mNMvo2dtFn6gjZDauq5QQ52UMpL5X7X3sPsTb3ycjhTMOl+NUrgSfCKZvkl\n",
       "VdeIWCnFj2vDACeK6zAAAAC/QZ9uRRE8N/8AAfwoQHOejSHVc2EADRuC6/YeaklFcl3bnN6DH/lE\n",
       "aL73jWYsJjXm28N2/UrAYz5rF1D4JswcVQYNMoYEDs4JbmL4TjbpF1TuoZ0OkTNd0fWaS2aXrtiU\n",
       "U8+T7wu0htKawiR22//KEeZmJT1bSon4qQpc4q8cEdRN3I5VtfVVqgpd2IV7g7+ZCDTNy5V9etaC\n",
       "ovFHdOjoSuQQPK1RGMMp5+4K7ir7szFGwCCqZ4NDDARGrI7N01IAAACeAZ+PakN/AAPjDIE8wXB0\n",
       "I1dpOD5ty1AK9IaHpTR+671NJqumSyHAdvvNDNEbG4MIEKHJlZDAEvRLL5XyBubcx6NAGlpAAA9E\n",
       "bZgsTZ144LR5yI8JjkviA1LhXygzYp7K6tT6FnpAU9ZI2+bnAl+77kG7B+jjywA7forwa0T5YV8N\n",
       "uO7ezqsxM33uV3w+kFXiTEwd0LKeXLYs1ScQ1YEAAABjQZuSSahBaJlMFPBD//6qVQAAwXvSyiq5\n",
       "inwAhs9SubY3vPa07o5Cjfr+HTVDjXtfQGzk2w2QW5/WN/Wz90VK1/FlOMptSkKZFVTXh2ZuQe8a\n",
       "PGHwdLlrEUyvv1r/m91ZcOpAAAAAeAGfsWpDfwACCxk7oyQQAgi4xJ9X434nSSNbPSCIzjrxzTGD\n",
       "y6YceH48zQHxcnX1qEsbyxdc+s2gJCVBWxFHddNsgeFn7l5e4ClZiQ6Asho30YCtP/hfq6husDjt\n",
       "joFEA6MU34yJSjDd4cbYsNE/vFHgZ1FUhQjPgAAAAMdBm7NJ4QpSZTAgh//+qlUAAu4DDH5IrjiB\n",
       "f4AFR1hoUOixTJG4IQXQU/Gsk413Uel3aHcTfTlNpdFPBP75XThVqjOFBOAK8GTzfx0kLNdRra8r\n",
       "wwYulequaElgWvaJ5NWXPeY1M1CuXlD1Pma0ucq2EFjtZfdU0eHbNFNoxt5liSRU8zBPqeUCLjgY\n",
       "Y/SpozTykfY07gI6FaPHeVHr+kbWAhpHACP9DX+FYTMqWKg43pBpS9+mTghRoduhqfzDMNfOCyS2\n",
       "tQPbAAAAaEGb1UnhDomUwU0TBD/+qlUAAXcBbDE3zSdjGDYeDz2GAW+hi1izHc0G1Vd3khM/+632\n",
       "KqbWffaTzABoOBo6Pr45M7qNceoUH3Zt1v4QPDWF3VoV/dRjX/wfzLbWzHGPY0ZwVwQpO6PhAAAA\n",
       "fgGf9GpDfwAEFyLUMybCuXwKFc94vYuX+JJo4crzgA6jZACVMgGHFW6m/wR+O9qAtw05VVaM/jVb\n",
       "vrwmE45ZidlyFVstf4Xnl6rL18RwcJaegD7LU+Ok5e8+lQa7rrgcrGFhY2lWlNE7gvz75JmPBC8v\n",
       "AAg1gHiqr88mCKBiwQAAAFlBm/ZJ4Q8mUwIIf/6qVQABdxudLj1lyXRP6mHTHtZO6yX8f/DtevAA\n",
       "BO98uelypxe/8jo+DJL1pjbGIYYjFACCP610sgzUnQKpKJ7/hryK81eMJmlJ2CcZoAAAANxBmhhJ\n",
       "4Q8mUwURPBD//qpVAAC7gLf+xABuP8uIslYo2PAS+xDWD8PtuaTEvn7RckpKWc2R3WiS2Nj57ShY\n",
       "EbuKT77lYvpfeh8rxK7HZC2AgaP9toGwa1J/7noV43ZuN8HmD/+P7gP/BPTp3+J4Ymb2BFuIga95\n",
       "MCch5NftqkAP4hoI8aiG4bf/4kXJkt6spJoltkkQae8hY0ndnU+5CZoXqAqapSoFgo9Z9ONMaMIt\n",
       "7cCA/4o8+pkhZgcCpMPrQFoOoyY3/DvZxGOAGLKykydAABRdo/oXQ2tTlBJwAAAARwGeN2pDfwAB\n",
       "/DXqCoRk8bBhJKYftmAByM1Xl8osOmpjSEapztKcnrXhXi43XbhDGGZvFK/hPvF72HqPRIR8yiYc\n",
       "ICiGhCphAAAAb0GaOUnhDyZTAgh//qpVAAC7gJzVQ4ABXeHJR9FxOSIdVb2KiYAUNQcyB2MyPjak\n",
       "GxsJvmszTYUqGfP4uM5xXlx6myyKGlVlGQ4g1Dtsq0hNy4XgRJnyfhQ7vN2BUkkua1YAjGvIRMbW\n",
       "urdk3hDKgAAAAGtBmltJ4Q8mUwURPBD//qpVAAC8fF69V2OAjBNddQC+75XKoXnYxq2Pr7SpXOKU\n",
       "aq20AB7vSYxVypUdcJq6oANyEgzBnptXAcd5Ot4okMTqA/H/chHioB8MXCYqPc/v3JHNXUO2MQHT\n",
       "GdQLSAAAAEMBnnpqQ38AAfvtYRhsMKcG12Y8iDrGntTNYzi9rp5DAtQ9tB8NweAFZRLpI0FLKPvJ\n",
       "TyPwfoa0IcqSSRLnwUjByQ0JAAAAXEGafEnhDyZTAgh//qpVAABvMCGBXw/cgfcd5AYziLecTjF+\n",
       "zIAATOc9EpaZ/slHJRHvNDAC43ygPVCssfmkncHX52fNxL9M09hPemlYT7/fjTsAi30WkBNRwNew\n",
       "AAAAZ0GanknhDyZTBRE8EP/+qlUAAG8wIYFfD9yB973qNVqBtUPozg0BCYo1cKbV5fCqHSK5VYAA\n",
       "0HBSwSfV1z8QKg8WNrr665oR4iUAAAMAETnMCf/rv1LveS5sXbjP7KP15Jz0ZhD7TcEAAACJAZ69\n",
       "akN/AAE1jJSMNhheXO1sT7cfWVapyouuAEyxpNX6KC/uCpxKoDgDOIFOD1GIPcFOlfn5ksnSoRY7\n",
       "6cUXo9qrOHwJeaYZ66yQvTN9Hmi4GzVg3T8hmxdiMMDQTfdC8StblSpBLGG7PeMlhjg2YRH39rPQ\n",
       "OxNErgwxKq1Op/k1E6MJBxTSQSsAAABwQZqhSeEPJlMCCH/+qlUAAC8f1cABt13iyLXOj/87MgP1\n",
       "dM/ODrBqqFGAt3g3WUxigXD76lc7pX4jP/KNzOdA9GAkqY5O7y02VfzXfXVQqC+FthRyQ4Hv/qBQ\n",
       "nEFbfbAHgsXTXwwOq7K958PylxEEPAAAAGFBnt9FETw3/wABNP0a2HC0r/axQAsQAcoHJPZ2w+/L\n",
       "/Hz0RJE7sx/+iOoaUvx4IbGr5wuSCn4hmXHRc2EVWPmaiGzfnLNceXph4WS5D1zVhKGotGPbxxwp\n",
       "9+SLMfTlE8XFAAAASwGe4GpDfwABNYyUjDYYT1Tsgl0AF6gQEBK72pvjlsHmmgNsy7eDAAK2XbqP\n",
       "wA5g3ZhW3nU/8OqqzTsPn/rZSWm16mgFlLj3bFBswAAAAMVBmuJJqEFomUwIIf/+qlUAAFA8TeAF\n",
       "dOGlmjEsWUGnRJOuyQBU9UMZrmiOWZikfsyNc2gCuA/79iNdDJRHw0GU9KVYPElSMnb6qHw1CKns\n",
       "jQdHTjWl6x2vTGzXcNAuUqHDz4R4+rR91bQQKok4tm5fZfBJ2wRS8Dvf1pXG9i4xHOZz/KvPmlQl\n",
       "xIqwaPIAHLXdcOqqPN7etw/KrxxXAlKXlHqmJefng9+gyHtmALfbF+fptfhCl0O757JwAKgeutM8\n",
       "WHDjgQAAALBBmwRJ4QpSZTBREsEP/qpVAAXcQqtwnDH+4K67FABKunZTe/XPfdTWlbfx/rw7VM0K\n",
       "B4NIoNu8oNxPr9XybNqbnRTrE6nKIgoHQyZ8o6j0F8qaQ2tm9rjNkBcuoQgrHQX+5k1bKcAcIuS0\n",
       "aX6uo0KEX+l9xvhT+YuyvJbc2AJskMG/eATMq50ypYoJba8asrTBCj+DZMj7mfajUdNlqkgrdMgT\n",
       "wKkjqtQMTrvIUlw44QAAAH0BnyNqQ38AAfwoQHOejSG5rmy8PRSA5qb5w2UAF6WvwlmbIAWnXCAC\n",
       "b0o9dmkpyJV1dCzLoKMo7tnM4RHexvei0FXobdefq9fbrVdGbr+OEq4gvKBV6Zw6+LyZ/wi+mqPF\n",
       "P/F2kxh5C4zutJLMotBO5SztA6E7beX48mqEjAAAAJZBmyZJ4Q6JlMFEwQ/+qlUAALuIDgBiI06X\n",
       "quXjQ1aBe8CzGdvzDw3kIv2vUFf4EoakUChpTBr2ZcJNQwC3fWnfJKjQQdgAHKZGedMlTXpt0ilj\n",
       "HdO2UUXD84GOtVIdmi7A6m8+Tvj2Iinaj+KU/1MeRF7ntzY4V1hhK78ZBopS65asK6xCsL5zZ/uh\n",
       "lcg8beqgp6tcOmAAAACtAZ9FakN/AAH8CMrzPqnDNvADPRTRygyjmvTMiYcnrJRSiTvOf/kwD4AV\n",
       "T74V/xSXz1LWjaFXRwKeuoYaOhS17eN7Hmr6llCT0ZgBohLoZfGmnJnoVbWWaSdD4FZPkTpPMp5s\n",
       "f/Fap2TmeNiYnx+WcMqbpmZjxAGuxpt7TBVjK8ss3QMA19CJ1wSbHagbOxY4tR0Yzw3CFO2jTrPz\n",
       "7UrpD0abGpns27/hIpyVB80AAADBQZtHSeEPJlMCCH/+qlUAALcN1G6CJufU7V64HU6qvQ+4Xcvg\n",
       "2gABnKTeJS3GHwlxc3cj4j5yEo5PuWm9aWfB6zdcjSTW5Qj3xf8lNgHbpf8misBPLG8zziOsX+E1\n",
       "hDqRvC+EQ2h4psUPjBDbmdXEAvOcvEVEvf7fEJETH7011MyRzYTYTtpL/2IeZVX8V48T712SaFy2\n",
       "oAUfDaLR3PLWhP4xP6wqqKhyw0nD8M6YVFIHNgd5+XsYwBobT0vNluiZswAAAFxBm2pJ4Q8mUwII\n",
       "f/6qVQAAXcWkibPN8e9/39mkC7MWAF3dnuV9/91vN9tAJ3gdB6kX1AB/SANJ0FaP8NaRko+Z/bx8\n",
       "SzQCQAiXofhgPlBFnL8+Wyi1wbIJM2fs+QAAAI5Bn4hFETw3/wABNr+QADgDHx6dJzYVZ/71stio\n",
       "BNg8H4LqLyukKDThY0tt/w/JSUfOg3WsYtqOw97kmldXX2YfJJtSp7hq9KHafDG9pIuaCPXma6CG\n",
       "zk64dSI2eqDZSyONwkektgjY3CMkBjonoP64hEkylOd7WS/OcRad2WkpibuZ/NYbg3VGPTnRLB0w\n",
       "AAAAXwGfqWpDfwACaxpGU/NPskz95MLC7mX4wJhAzdNtEwsjIgBawMlFURHW4/VkkGKdXCgR3PtG\n",
       "VrKHyP34n89U23+ACyBd0EyZL4Nck99DlyvQqLORLnqM7kivobaYgJuBAAAAYkGbrUmoQWiZTAh/\n",
       "//6plgABZveEAT5nyc1f3X5BCADw69hZ/9s5bgkNaxxWajISAVcNqZfJB8EwobZGVEEu7xgA+mmo\n",
       "eber/C4Njd+lIo9fbOxze6raYS0uyPRp7QCTktmBAAAAZUGfy0URLDf/AAE1yL1acH1H7eRqQuAo\n",
       "459auJG3jTWA8FG2wm8YcLbs0LS2sLkoiZrOgBx06Sh1C2l4PKmAAA3tFUMDvC86clpC1fwxl42X\n",
       "OkxtacxAFXZMKcdsYD0ke751oBgRAAAASgGf7GpDfwABNYyUjDYYT1TsfSMi/uCIDN/o6ywDACsn\n",
       "KRT/O5Os+A4UFWbi2+If4JdvtgqBigk2BwnIPJ/FvJwAR/+1UZhiYHkfAAAAS0Gb70moQWyZTBRM\n",
       "O//+qZYAANlUhHsIg3e8djBlvpgPeW/Kh9Esd7dACQFSlYw0eCL4Vfv2emsrcQAEcGM54W7LLqGd\n",
       "eoPfK3p6YAAAAHABng5qQ38AATXJsggAdlCUnkriBhekyQDeF9B2AETL7bcZV/R7ktN6BsVZM1AH\n",
       "k4tEA3Xkm0sndq1+XUAIUGoAdWIOr1G30zjL+hYqez/4vHF8iZuVvqpBR9u0Fswp8UFvB7STYD17\n",
       "Na4s10OXUi1JAAAAoEGaEEnhClJlMCG//qeEAAJqXVEAE4xpNX6KC/uCpxK0ygFQkYMjVkp+2pwD\n",
       "6QBLVZYoJ+VCvHMrpECTMEdbptyFZpdXVxdBdzpdu1q/nMKHGQ0eNpspGkqu4P0Zc0zgS6KkP2vF\n",
       "TQ7UkxkNy2ITL2+DgCFYuSiL2v7oo55fxdYcnJqOLFKmh5PeNFmnOww4Kh/qOuzzrQlOTKxyvV/w\n",
       "E6MAAA9WbW9vdgAAAGxtdmhkAAAAAAAAAAAAAAAAAAAD6AAAdMwAAQAAAQAAAAAAAAAAAAAAAAEA\n",
       "AAAAAAAAAAAAAAAAAAABAAAAAAAAAAAAAAAAAABAAAAAAAAAAAAAAAAAAAAAAAAAAAAAAAAAAAAA\n",
       "AAAAAgAADoB0cmFrAAAAXHRraGQAAAADAAAAAAAAAAAAAAABAAAAAAAAdMwAAAAAAAAAAAAAAAAA\n",
       "AAAAAAEAAAAAAAAAAAAAAAAAAAABAAAAAAAAAAAAAAAAAABAAAAAAbAAAAEgAAAAAAAkZWR0cwAA\n",
       "ABxlbHN0AAAAAAAAAAEAAHTMAAAIAAABAAAAAA34bWRpYQAAACBtZGhkAAAAAAAAAAAAAAAAAAAo\n",
       "AAAErABVxAAAAAAALWhkbHIAAAAAAAAAAHZpZGUAAAAAAAAAAAAAAABWaWRlb0hhbmRsZXIAAAAN\n",
       "o21pbmYAAAAUdm1oZAAAAAEAAAAAAAAAAAAAACRkaW5mAAAAHGRyZWYAAAAAAAAAAQAAAAx1cmwg\n",
       "AAAAAQAADWNzdGJsAAAAs3N0c2QAAAAAAAAAAQAAAKNhdmMxAAAAAAAAAAEAAAAAAAAAAAAAAAAA\n",
       "AAAAAbABIABIAAAASAAAAAAAAAABAAAAAAAAAAAAAAAAAAAAAAAAAAAAAAAAAAAAAAAAAAAAGP//\n",
       "AAAAMWF2Y0MBZAAV/+EAGGdkABWs2UGwloQAAAMABAAAAwBQPFi2WAEABmjr48siwAAAABx1dWlk\n",
       "a2hA8l8kT8W6OaUbzwMj8wAAAAAAAAAYc3R0cwAAAAAAAAABAAABKwAABAAAAAAYc3RzcwAAAAAA\n",
       "AAACAAAAAQAAAPsAAAeIY3R0cwAAAAAAAADvAAAAAQAACAAAAAABAAAMAAAAAAEAAAQAAAAAAQAA\n",
       "EAAAAAACAAAEAAAAAAMAAAgAAAAAAQAADAAAAAABAAAEAAAAAAUAAAgAAAAAAQAADAAAAAABAAAE\n",
       "AAAAAAEAAAgAAAAAAQAADAAAAAABAAAEAAAAAAMAAAgAAAAAAQAAFAAAAAABAAAIAAAAAAEAAAAA\n",
       "AAAAAQAABAAAAAADAAAIAAAAAAEAABAAAAAAAgAABAAAAAABAAAQAAAAAAIAAAQAAAAAAQAADAAA\n",
       "AAABAAAEAAAAAAEAAAwAAAAAAQAABAAAAAABAAAMAAAAAAEAAAQAAAAAAQAAEAAAAAACAAAEAAAA\n",
       "AAEAAAwAAAAAAQAABAAAAAABAAAIAAAAAAEAABAAAAAAAgAABAAAAAABAAAIAAAAAAEAAAwAAAAA\n",
       "AQAABAAAAAABAAAIAAAAAAEAAAwAAAAAAQAABAAAAAADAAAIAAAAAAEAABAAAAAAAgAABAAAAAAB\n",
       "AAAQAAAAAAIAAAQAAAAAAQAAEAAAAAACAAAEAAAAAAEAAAwAAAAAAQAABAAAAAABAAAIAAAAAAEA\n",
       "ABAAAAAAAgAABAAAAAABAAAQAAAAAAIAAAQAAAAAAQAADAAAAAABAAAEAAAAAAEAAAgAAAAAAQAA\n",
       "EAAAAAACAAAEAAAAAAEAAAgAAAAAAQAADAAAAAABAAAEAAAAAAEAAAwAAAAAAQAABAAAAAABAAAI\n",
       "AAAAAAEAAAwAAAAAAQAABAAAAAABAAAIAAAAAAEAAAwAAAAAAQAABAAAAAABAAAIAAAAAAEAAAwA\n",
       "AAAAAQAABAAAAAABAAAIAAAAAAEAAAwAAAAAAQAABAAAAAABAAAQAAAAAAIAAAQAAAAAAQAACAAA\n",
       "AAABAAAMAAAAAAEAAAQAAAAAAQAADAAAAAABAAAEAAAAAAEAAAwAAAAAAQAABAAAAAABAAAQAAAA\n",
       "AAIAAAQAAAAAAQAAEAAAAAACAAAEAAAAAAEAAAwAAAAAAQAABAAAAAACAAAIAAAAAAEAAAwAAAAA\n",
       "AQAABAAAAAABAAAIAAAAAAEAAAwAAAAAAQAABAAAAAADAAAIAAAAAAEAABAAAAAAAgAABAAAAAAB\n",
       "AAAIAAAAAAEAAAwAAAAAAQAABAAAAAABAAAMAAAAAAEAAAQAAAAAAgAACAAAAAABAAAMAAAAAAEA\n",
       "AAQAAAAAAQAACAAAAAABAAAMAAAAAAEAAAQAAAAAAQAACAAAAAABAAAMAAAAAAEAAAQAAAAAAwAA\n",
       "CAAAAAABAAAMAAAAAAEAAAQAAAAAAQAACAAAAAABAAAMAAAAAAEAAAQAAAAAAwAACAAAAAABAAAQ\n",
       "AAAAAAIAAAQAAAAAAgAACAAAAAABAAAMAAAAAAEAAAQAAAAAAQAAEAAAAAACAAAEAAAAAAEAABAA\n",
       "AAAAAgAABAAAAAABAAAQAAAAAAIAAAQAAAAAAQAADAAAAAABAAAEAAAAAAEAAAgAAAAAAQAADAAA\n",
       "AAABAAAEAAAAAAEAAAgAAAAAAQAADAAAAAABAAAEAAAAAAIAAAgAAAAAAQAADAAAAAABAAAEAAAA\n",
       "AAEAABQAAAAAAQAACAAAAAABAAAAAAAAAAEAAAQAAAAAAQAADAAAAAABAAAEAAAAAAEAABAAAAAA\n",
       "AgAABAAAAAABAAAIAAAAAAEAAAwAAAAAAQAABAAAAAABAAAIAAAAAAEAAAwAAAAAAQAABAAAAAAB\n",
       "AAAIAAAAAAEAAAwAAAAAAQAABAAAAAABAAAMAAAAAAEAAAQAAAAABQAACAAAAAABAAAMAAAAAAEA\n",
       "AAQAAAAAAQAACAAAAAABAAAMAAAAAAEAAAQAAAAAAQAACAAAAAABAAAUAAAAAAEAAAgAAAAAAQAA\n",
       "AAAAAAABAAAEAAAAAAEAAAwAAAAAAQAABAAAAAABAAAQAAAAAAIAAAQAAAAAAQAACAAAAAABAAAM\n",
       "AAAAAAEAAAQAAAAAAQAAEAAAAAACAAAEAAAAAAEAAAgAAAAAAQAADAAAAAABAAAEAAAAAAEAAAwA\n",
       "AAAAAQAABAAAAAADAAAIAAAAAAEAAAwAAAAAAQAABAAAAAAEAAAIAAAAAAEAAAwAAAAAAQAABAAA\n",
       "AAACAAAIAAAAAAEAAAwAAAAAAQAABAAAAAABAAAIAAAAAAEAABAAAAAAAgAABAAAAAABAAAMAAAA\n",
       "AAEAAAQAAAAAAgAACAAAAAABAAAMAAAAAAEAAAQAAAAAAQAACAAAAAABAAAQAAAAAAIAAAQAAAAA\n",
       "AQAADAAAAAABAAAEAAAAAAEAAAgAAAAAAQAADAAAAAABAAAEAAAAAAEAAAgAAAAAAQAADAAAAAAB\n",
       "AAAEAAAAAAEAAAgAAAAAAQAADAAAAAABAAAEAAAAAAEAAAgAAAAAAQAADAAAAAABAAAEAAAAAAEA\n",
       "ABAAAAAAAgAABAAAAAABAAAIAAAAAAEAAAwAAAAAAQAABAAAAAABAAAMAAAAAAEAAAQAAAAAAQAA\n",
       "CAAAAAABAAAQAAAAAAIAAAQAAAAAAQAAEAAAAAACAAAEAAAAAAEAAAwAAAAAAQAABAAAAAABAAAI\n",
       "AAAAABxzdHNjAAAAAAAAAAEAAAABAAABKwAAAAEAAATAc3RzegAAAAAAAAAAAAABKwAAD/AAAAF6\n",
       "AAAAfAAAAG4AAADRAAAAVwAAAHoAAABwAAAAvgAAAHUAAABaAAAAcgAAALcAAADJAAAAXwAAAGgA\n",
       "AADfAAAAagAAAOQAAADBAAAAeQAAAGUAAADlAAAAfwAAALgAAABvAAAAdwAAAGoAAABhAAAAyAAA\n",
       "AMQAAAB1AAAAfgAAAFQAAABbAAAAegAAAGIAAABPAAAAkgAAAG4AAACNAAAA4QAAAGUAAABfAAAA\n",
       "ngAAAHoAAACFAAAAdAAAANMAAAC6AAAAcwAAAF4AAABpAAAAawAAAIIAAACmAAAAaAAAAFEAAAC2\n",
       "AAAA/wAAAGoAAACsAAAApwAAAM4AAABLAAAAYQAAAFYAAABwAAAAbAAAAD8AAABjAAAAaAAAAKUA\n",
       "AAC/AAAAfQAAAE4AAABZAAAAdAAAAKEAAABgAAAAjQAAAOgAAABCAAAAbAAAAGgAAAB2AAAAigAA\n",
       "AKsAAAEQAAAAiAAAAGgAAADrAAAAhAAAAKoAAABWAAAAcgAAAMgAAABtAAAAYQAAAMwAAACoAAAA\n",
       "hwAAALUAAABWAAAAdAAAAOQAAABmAAAAdgAAAGEAAACbAAAAjAAAAJEAAABUAAAAgAAAAGwAAAB1\n",
       "AAAAYgAAAIEAAAEeAAAAsAAAAN8AAAByAAAAagAAAEwAAADRAAAAYQAAAG4AAACyAAAAYwAAALYA\n",
       "AABtAAAASAAAAGUAAACqAAAAiwAAAJAAAAB2AAAAaAAAANQAAADfAAAArwAAAGQAAABsAAAAcgAA\n",
       "AJ0AAACkAAAAfAAAAD4AAAC1AAABIQAAAOEAAACcAAAAVAAAANIAAABkAAAATAAAANMAAABVAAAA\n",
       "xgAAAG0AAABpAAAAXwAAANcAAACZAAAAaQAAAFsAAABeAAAAYQAAAKwAAADkAAAAWgAAAEMAAABf\n",
       "AAAAlAAAAFUAAABdAAAAfwAAAMcAAAElAAAAegAAAOkAAACTAAAAxQAAAMYAAACuAAAAhQAAAHMA\n",
       "AAB2AAAAjQAAAIQAAABPAAAA0wAAAJMAAABTAAAAXwAAAIQAAACaAAAAggAAALsAAABaAAAAUAAA\n",
       "AHkAAADFAAAA3QAAAHwAAADVAAAAoAAAAFgAAAC1AAAAzwAAAPcAAABnAAAAZwAAAMMAAADGAAAA\n",
       "WwAAAKwAAABdAAAA4gAAALsAAACfAAAAiwAAAOgAAACUAAAAawAAAGgAAABXAAAAhwAAAFoAAAC4\n",
       "AAAAeQAAAHQAAABgAAAAvAAAAGYAAABKAAAAWAAAAKMAAABfAAABNwAAALYAAABjAAAAWwAAAK0A\n",
       "AAC7AAAAvQAAAGsAAADoAAAAhwAAAHoAAA6GAAACHAAAAI0AAADUAAAA4wAAAH0AAAC6AAAAxAAA\n",
       "AHQAAABrAAAAfgAAAGMAAADGAAAA0wAAALkAAADDAAAAogAAAGcAAAB8AAAAywAAAGwAAACCAAAA\n",
       "XQAAAOAAAABLAAAAcwAAAG8AAABHAAAAYAAAAGsAAACNAAAAdAAAAGUAAABPAAAAyQAAALQAAACB\n",
       "AAAAmgAAALEAAADFAAAAYAAAAJIAAABjAAAAZgAAAGkAAABOAAAATwAAAHQAAACkAAAAFHN0Y28A\n",
       "AAAAAAAAAQAAACwAAABidWR0YQAAAFptZXRhAAAAAAAAACFoZGxyAAAAAAAAAABtZGlyYXBwbAAA\n",
       "AAAAAAAAAAAAAC1pbHN0AAAAJal0b28AAAAdZGF0YQAAAAEAAAAATGF2ZjU3LjgzLjEwMA==\n",
       "\">\n",
       "  Your browser does not support the video tag.\n",
       "</video>"
      ],
      "text/plain": [
       "<IPython.core.display.HTML object>"
      ]
     },
     "execution_count": 61,
     "metadata": {},
     "output_type": "execute_result"
    }
   ],
   "source": [
    "test_anim = ut.create_system_animation(frames, n_episodes * episode_length)\n",
    "plt.close()\n",
    "\n",
    "HTML(test_anim.to_html5_video())"
   ]
  }
 ],
 "metadata": {
  "kernelspec": {
   "display_name": "Python 3",
   "language": "python",
   "name": "python3"
  },
  "language_info": {
   "codemirror_mode": {
    "name": "ipython",
    "version": 3
   },
   "file_extension": ".py",
   "mimetype": "text/x-python",
   "name": "python",
   "nbconvert_exporter": "python",
   "pygments_lexer": "ipython3",
   "version": "3.6.3"
  },
  "toc": {
   "nav_menu": {},
   "number_sections": true,
   "sideBar": true,
   "skip_h1_title": false,
   "title_cell": "Table of Contents",
   "title_sidebar": "Contents",
   "toc_cell": false,
   "toc_position": {},
   "toc_section_display": true,
   "toc_window_display": false
  }
 },
 "nbformat": 4,
 "nbformat_minor": 2
}
