{
 "cells": [
  {
   "cell_type": "code",
   "execution_count": 1,
   "metadata": {},
   "outputs": [
    {
     "name": "stderr",
     "output_type": "stream",
     "text": [
      "/home/dsalgador/anaconda3/lib/python3.6/site-packages/h5py/__init__.py:34: FutureWarning: Conversion of the second argument of issubdtype from `float` to `np.floating` is deprecated. In future, it will be treated as `np.float64 == np.dtype(float).type`.\n",
      "  from ._conv import register_converters as _register_converters\n"
     ]
    }
   ],
   "source": [
    "\"\"\" \n",
    "TO DO\n",
    "\n",
    "Author: Daniel Salgado Rojo\n",
    "\n",
    "Note: part of code has been adapted to the product delivery problem data I work with \n",
    "from the Book with repository in https://github.com/ageron/handson-ml .\n",
    "\"\"\"\n",
    "import tensorflow as tf\n",
    "import numpy as np\n",
    "import gym\n",
    "import gym_pdsystem\n",
    "from gym import wrappers\n",
    "import argparse\n",
    "import pprint as pp\n",
    "\n",
    "from datetime import datetime\n",
    "\n",
    "import random\n",
    "from gym_pdsystem.envs.pdsystem_env import PDSystemEnv\n",
    "\n",
    "import gym_pdsystem.utils.utilsq as ut\n",
    "import gym_pdsystem.utils.constants as ct\n",
    "\n",
    "\n",
    "from matplotlib import animation, rc\n",
    "import matplotlib.pyplot as plt\n",
    "from IPython.display import HTML\n",
    "\n",
    "import os\n",
    "\n",
    "#TO OMMIT WARNINGS\n",
    "import warnings\n",
    "warnings.filterwarnings('ignore')"
   ]
  },
  {
   "cell_type": "markdown",
   "metadata": {},
   "source": [
    "# The leftmost-emptiest-tank policy"
   ]
  },
  {
   "cell_type": "code",
   "execution_count": 2,
   "metadata": {
    "collapsed": true
   },
   "outputs": [],
   "source": [
    "# Hard-coded policy\n",
    "\n",
    "def leftmost_emptiest_tank_policy(s, system):\n",
    "    \"\"\"\n",
    "    It is assumed a system with only one Truck (k=1)\n",
    "    \n",
    "    Given a PDSystem and its state 's' this (deterministic function) returns\n",
    "    the tank with minimum load (in case of ties, the leftmost), unless the total load of the truck does not fit\n",
    "    in that tank (in which case the number of tanks is returned, which stands for staying at the depot).\n",
    "    Note that if the load of the truck does not fit in the tank with minimum load, it will fit even less\n",
    "    in the others.\n",
    "    \"\"\"\n",
    "    min_boolean_indexes = np.isin(s, np.min(s))\n",
    "    min_indexes = np.where(min_boolean_indexes)\n",
    "    min_indexes = min_indexes[0]\n",
    "\n",
    "    possible_indexes = []\n",
    "    \n",
    "    for tank_visited in min_indexes:\n",
    "        hypothetical_next_tank_state = s[tank_visited] + system.truck_max_loads\n",
    "        if hypothetical_next_tank_state <= system.tank_max_loads[tank_visited]:\n",
    "                    possible_indexes.append(tank_visited)\n",
    "    \n",
    "    \n",
    "    if len(possible_indexes) != 0:\n",
    "        tank_to_go = possible_indexes[0] # THIS IS WHAT CHANGES WITH RESPECT TO THE emptiest_tank_policy()\n",
    "        return tank_to_go\n",
    "    else:\n",
    "        return system.n #stay in the depot"
   ]
  },
  {
   "cell_type": "markdown",
   "metadata": {},
   "source": [
    "# Creating train, validation and test sets"
   ]
  },
  {
   "cell_type": "code",
   "execution_count": 3,
   "metadata": {
    "collapsed": true
   },
   "outputs": [],
   "source": [
    "################################################################################\n",
    "# Example k = 1 (trucks), n = 3 (tanks)\n",
    "################################################################################\n",
    "\n",
    "# Variables to initialize a gym-pdsystem environment\n",
    "# ENSURE THAT THE FOLLOWING VARIABLES COINCIDES WITH THE CASE k=1 n=3 in the constants.py file\n",
    "# AND ALSO THAT CASE = -1 (or other negative number)\n",
    "\n",
    "TANK_MAX_LOADS = np.array([100., 200, 100.])\n",
    "LEVEL_PERCENTAGES = np.array([ #b , c, e\n",
    "                                                [0.02, 0.31, 0.9],\n",
    "                                                [0.01, 0.03, 0.9],\n",
    "                                                [0.05, 0.16, 0.9]\n",
    "                                                   ])\n",
    "TRUCK_MAX_LOADS = np.array([50.])\n",
    "GRAPH_WEIGHTS = np.array([32., 159., 162., 0.]) #useless in the current notbook\n",
    "\n",
    "DISCRETE = True\n",
    "################################################################################\n",
    "\n",
    "boolean = (not np.array_equal(TANK_MAX_LOADS, ct.TANK_MAX_LOADS) ) or  (not np.array_equal(LEVEL_PERCENTAGES,ct.LEVEL_PERCENTAGES)) \n",
    "boolean = boolean or ( not np.array_equal(TRUCK_MAX_LOADS, ct.TRUCK_MAX_LOADS))\n",
    "boolean = boolean or  (not np.array_equal(GRAPH_WEIGHTS, ct.GRAPH_WEIGHTS))\n",
    "boolean = boolean or not (DISCRETE == ct.DISCRETE)\n",
    "if boolean:\n",
    "    raise Exception(\"ENSURE THAT THE VARIABLES ABOVE COINCIDE WITH THE CASE k=1 n=3 in the constants.py file\")"
   ]
  },
  {
   "cell_type": "code",
   "execution_count": 4,
   "metadata": {},
   "outputs": [
    {
     "name": "stdout",
     "output_type": "stream",
     "text": [
      "Creating train.txt file...\n",
      "Created train.txt file.\n",
      "Creating validation.txt file...\n",
      "Created validation.txt file.\n",
      "Creating test.txt file...\n",
      "Created test.txt file.\n"
     ]
    }
   ],
   "source": [
    "# Environment initialization and random seeds for reproducibility\n",
    "episode_length = 30\n",
    "seed = 42\n",
    "\n",
    "system = PDSystemEnv(tank_max_loads = TANK_MAX_LOADS, level_percentages = LEVEL_PERCENTAGES,\n",
    "                     truck_max_loads = TRUCK_MAX_LOADS, graph_weights = GRAPH_WEIGHTS,  \n",
    "                     discrete = DISCRETE)\n",
    "\n",
    "env = gym.make(\"PDSystemEnv-v0\")\n",
    "env._max_episode_steps = episode_length\n",
    "\n",
    "np.random.seed(seed)\n",
    "tf.set_random_seed(seed)\n",
    "env.seed(seed)\n",
    "\n",
    "\n",
    "# Sizes for the train, validation and test data. And filenames to save them.\n",
    "N_TRAIN = 10**5; SEED_TRAIN = 42; train_file = 'train.txt'\n",
    "N_VAL = 10**4; SEED_VAL = 50; validation_file = 'validation.txt'\n",
    "N_TEST = 10**4; SEED_TEST = 58; test_file = 'test.txt'\n",
    "\n",
    "# Number of decimals to round the outputted data\n",
    "round_decimals = 5\n",
    "\n",
    "# Set to True only when wanting to create the datasets.\n",
    "CREATE_DATASETS = True\n",
    "\n",
    "def create_datasets(outputfile, n_observations, seed = None, round_decimals = round_decimals): \n",
    "    \"\"\"\n",
    "    Creates train, validation and test sets for multiclass classification, initializing\n",
    "    each of the tanks of the gym-pdsystem uniformly. Each observation consists in the initial levels \n",
    "    of each tank (x) and the action that the truck should do according to the leftmost-emptiest-tank policy\n",
    "    (the target y).\n",
    "    \"\"\"\n",
    "    if seed != None:\n",
    "        np.random.seed(seed)\n",
    "        \n",
    "    with open('{}'.format(outputfile),'w') as f:\n",
    "        np.savetxt(f, [np.array(['tank1', 'tank2', 'tank3', 'target'])], fmt = \"%s\", delimiter=',')\n",
    "        print(f\"Creating {outputfile} file...\")\n",
    "        for i in range(n_observations):\n",
    "            if i % (int(n_observations / 100)) == 0:\n",
    "                p = round(i/n_observations *100,1)\n",
    "                print(\"\\rPercentage: {} %\".format(p), end=\"\")\n",
    "            obs = []\n",
    "            for max_load in TANK_MAX_LOADS:\n",
    "                random_load = np.random.random() * max_load\n",
    "                obs.append(np.round(random_load,round_decimals)  )\n",
    "\n",
    "            obs.append(leftmost_emptiest_tank_policy(np.array(obs), system))   \n",
    "            np.savetxt(f, [np.array(obs)], fmt = ('%f','%f', '%f', '%d'), delimiter=',')  #!! fmt only for n=3\n",
    "    print(f\"\\rCreated {outputfile} file.\")\n",
    "    \n",
    "if CREATE_DATASETS:          \n",
    "    create_datasets(train_file, N_TRAIN, SEED_TRAIN) \n",
    "    create_datasets(validation_file, N_VAL, SEED_VAL)      \n",
    "    create_datasets(test_file, N_TEST, SEED_TEST)            "
   ]
  },
  {
   "cell_type": "markdown",
   "metadata": {},
   "source": [
    "# Exploring data sets"
   ]
  },
  {
   "cell_type": "code",
   "execution_count": 5,
   "metadata": {
    "collapsed": true
   },
   "outputs": [],
   "source": [
    "import pandas as pd"
   ]
  },
  {
   "cell_type": "code",
   "execution_count": 6,
   "metadata": {
    "collapsed": true
   },
   "outputs": [],
   "source": [
    "train = pd.read_table(train_file, sep = \",\")\n",
    "test = pd.read_table(test_file, sep = \",\")\n",
    "validation = pd.read_table(validation_file, sep = \",\")"
   ]
  },
  {
   "cell_type": "markdown",
   "metadata": {},
   "source": [
    "## Train set"
   ]
  },
  {
   "cell_type": "markdown",
   "metadata": {},
   "source": [
    "As expected the load of the tanks is initialized with a uniform distribution between 0 and the maximum\n",
    "load capacity of each tank.\n",
    "\n",
    "Note that the dataset is not balanced in terms of the target values, since we have about two times of observations\n",
    "for when the targets are tank 0 and tank 2, compared to tank 1 and ``staying at the depot'' (y=3).\n",
    "\n",
    "The fact that tank 1 appears as target about half the times it does with tanks 0 and 2 is intuitively explained by the fact that tank 1 has de double of maximum capacity than the other two so the probability of being the tank with minium load is half the probability that the other two tanks were the ones with the minimum."
   ]
  },
  {
   "cell_type": "code",
   "execution_count": 7,
   "metadata": {},
   "outputs": [
    {
     "data": {
      "image/png": "[encoded data removed]",
      "text/plain": [
       "<Figure size 432x288 with 4 Axes>"
      ]
     },
     "metadata": {},
     "output_type": "display_data"
    }
   ],
   "source": [
    "train.hist()\n",
    "plt.show()"
   ]
  },
  {
   "cell_type": "markdown",
   "metadata": {},
   "source": [
    "## Validation set"
   ]
  },
  {
   "cell_type": "code",
   "execution_count": 8,
   "metadata": {},
   "outputs": [
    {
     "data": {
      "image/png": "[encoded data removed]",
      "text/plain": [
       "<Figure size 432x288 with 4 Axes>"
      ]
     },
     "metadata": {},
     "output_type": "display_data"
    }
   ],
   "source": [
    "validation.hist()\n",
    "plt.show()"
   ]
  },
  {
   "cell_type": "markdown",
   "metadata": {},
   "source": [
    "## Make data ready for classification"
   ]
  },
  {
   "cell_type": "code",
   "execution_count": 9,
   "metadata": {
    "collapsed": true
   },
   "outputs": [],
   "source": [
    "y_train = train[\"target\"].values#.reshape((N_TRAIN, ))\n",
    "X_train = train[[\"tank1\", \"tank2\",\"tank3\"]].values\n",
    "\n",
    "y_test = test[\"target\"].values#.reshape((N_TEST, ))\n",
    "X_test = test[[\"tank1\", \"tank2\",\"tank3\"]].values\n",
    "\n",
    "y_val = validation[\"target\"]#.reshape((N_VAL, ))\n",
    "X_val = validation[[\"tank1\", \"tank2\",\"tank3\"]].values"
   ]
  },
  {
   "cell_type": "code",
   "execution_count": 10,
   "metadata": {
    "collapsed": true
   },
   "outputs": [],
   "source": [
    "X_train = X_train.astype('float32')\n",
    "X_test = X_test.astype('float32')\n",
    "X_val = X_val.astype('float32')"
   ]
  },
  {
   "cell_type": "markdown",
   "metadata": {},
   "source": [
    "# Stochastic gradient descent classifier "
   ]
  },
  {
   "cell_type": "code",
   "execution_count": 11,
   "metadata": {
    "collapsed": true
   },
   "outputs": [],
   "source": [
    "from sklearn.linear_model import SGDClassifier"
   ]
  },
  {
   "cell_type": "code",
   "execution_count": 12,
   "metadata": {
    "collapsed": true
   },
   "outputs": [],
   "source": [
    "from sklearn.model_selection import cross_val_predict, cross_val_score\n",
    "from sklearn.metrics import confusion_matrix"
   ]
  },
  {
   "cell_type": "code",
   "execution_count": 13,
   "metadata": {
    "collapsed": true
   },
   "outputs": [],
   "source": [
    "sgd_clf = SGDClassifier(random_state = 42)\n",
    "sgd_clf.fit(X_train, y_train);"
   ]
  },
  {
   "cell_type": "markdown",
   "metadata": {},
   "source": [
    "## Cross validation accuracy"
   ]
  },
  {
   "cell_type": "code",
   "execution_count": 14,
   "metadata": {
    "collapsed": true
   },
   "outputs": [],
   "source": [
    "CV = 10"
   ]
  },
  {
   "cell_type": "code",
   "execution_count": 15,
   "metadata": {
    "scrolled": true
   },
   "outputs": [
    {
     "name": "stdout",
     "output_type": "stream",
     "text": [
      "Average cross validation score:  0.8588813596137589\n"
     ]
    }
   ],
   "source": [
    "cvs = cross_val_score(sgd_clf, X_train, y_train, cv = CV, scoring = \"accuracy\")\n",
    "print(\"Average cross validation score: \", np.mean(cvs))"
   ]
  },
  {
   "cell_type": "markdown",
   "metadata": {},
   "source": [
    "We now try to see how changes the accuracy when rescaling the data"
   ]
  },
  {
   "cell_type": "code",
   "execution_count": 16,
   "metadata": {
    "collapsed": true
   },
   "outputs": [],
   "source": [
    "from sklearn.preprocessing import StandardScaler"
   ]
  },
  {
   "cell_type": "code",
   "execution_count": 17,
   "metadata": {
    "collapsed": true
   },
   "outputs": [],
   "source": [
    "scaler = StandardScaler()\n",
    "X_train_scaled = scaler.fit_transform(X_train.astype(np.float64))"
   ]
  },
  {
   "cell_type": "code",
   "execution_count": 18,
   "metadata": {},
   "outputs": [
    {
     "name": "stdout",
     "output_type": "stream",
     "text": [
      "Average cross validation score for scaled train data:  0.9283195229951353\n"
     ]
    }
   ],
   "source": [
    "cvs = cross_val_score(sgd_clf, X_train_scaled, y_train, cv = CV, scoring = \"accuracy\")\n",
    "print(\"Average cross validation score for scaled train data: \", np.mean(cvs));"
   ]
  },
  {
   "cell_type": "markdown",
   "metadata": {},
   "source": [
    "In this case accuracy improves when rescaling train data"
   ]
  },
  {
   "cell_type": "markdown",
   "metadata": {},
   "source": [
    "## Error Analysis"
   ]
  },
  {
   "cell_type": "markdown",
   "metadata": {},
   "source": [
    "Confusion matrix"
   ]
  },
  {
   "cell_type": "code",
   "execution_count": 19,
   "metadata": {},
   "outputs": [
    {
     "data": {
      "text/plain": [
       "array([[32637,   118,   458,    15],\n",
       "       [ 1272, 13778,  1155,   518],\n",
       "       [  144,   186, 32994,     7],\n",
       "       [ 1381,   587,  1327, 13423]])"
      ]
     },
     "execution_count": 19,
     "metadata": {},
     "output_type": "execute_result"
    }
   ],
   "source": [
    "y_train_pred = cross_val_predict(sgd_clf, X_train_scaled, y_train, cv = CV)\n",
    "conf_mx = confusion_matrix(y_train, y_train_pred)\n",
    "conf_mx"
   ]
  },
  {
   "cell_type": "markdown",
   "metadata": {},
   "source": [
    "Note that the squares in the diagonal corresponding to tank 1 and \"staying at the depot (3)\" are \n",
    "slightly darker. This could mean that there are fewer observations of tank 1 and \"staying at the depot\" being targets or that the classifier does not perform as well on 1,3 as on 0,2 targets."
   ]
  },
  {
   "cell_type": "code",
   "execution_count": 20,
   "metadata": {},
   "outputs": [
    {
     "data": {
      "image/png": "[encoded data removed]",
      "text/plain": [
       "<Figure size 288x288 with 1 Axes>"
      ]
     },
     "metadata": {},
     "output_type": "display_data"
    }
   ],
   "source": [
    "plt.matshow(conf_mx, cmap = plt.cm.gray)\n",
    "plt.show()"
   ]
  },
  {
   "cell_type": "markdown",
   "metadata": {},
   "source": [
    "If we look at the errors, we see that there is a tendency to classify observations to class 0 \n",
    "when they do not correspond to class 0:"
   ]
  },
  {
   "cell_type": "code",
   "execution_count": 21,
   "metadata": {
    "collapsed": true
   },
   "outputs": [],
   "source": [
    "row_sums = conf_mx.sum(axis = 1, keepdims = True)\n",
    "norm_conf_mx = conf_mx / row_sums"
   ]
  },
  {
   "cell_type": "code",
   "execution_count": 22,
   "metadata": {},
   "outputs": [
    {
     "data": {
      "image/png": "[encoded data removed]",
      "text/plain": [
       "<Figure size 288x288 with 1 Axes>"
      ]
     },
     "metadata": {},
     "output_type": "display_data"
    }
   ],
   "source": [
    "np.fill_diagonal(norm_conf_mx, 0)\n",
    "plt.matshow(norm_conf_mx, cmap = plt.cm.gray)\n",
    "plt.show()"
   ]
  },
  {
   "cell_type": "markdown",
   "metadata": {},
   "source": [
    "## Test prediction accuracy of the model trained on the whole train set"
   ]
  },
  {
   "cell_type": "code",
   "execution_count": 23,
   "metadata": {
    "collapsed": true
   },
   "outputs": [],
   "source": [
    "y_test_pred = sgd_clf.predict(X_test)"
   ]
  },
  {
   "cell_type": "code",
   "execution_count": 24,
   "metadata": {},
   "outputs": [
    {
     "data": {
      "text/plain": [
       "array([[2727,   97,    0,  478],\n",
       "       [  86, 1343,   16,  213],\n",
       "       [ 370,  301, 1806,  863],\n",
       "       [   0,   36,    0, 1664]])"
      ]
     },
     "execution_count": 24,
     "metadata": {},
     "output_type": "execute_result"
    }
   ],
   "source": [
    "conf_mx = confusion_matrix(y_test, y_test_pred)\n",
    "conf_mx"
   ]
  },
  {
   "cell_type": "code",
   "execution_count": 25,
   "metadata": {},
   "outputs": [
    {
     "data": {
      "text/plain": [
       "0.754"
      ]
     },
     "execution_count": 25,
     "metadata": {},
     "output_type": "execute_result"
    }
   ],
   "source": [
    "test_accuracy = np.trace(np.asarray(conf_mx))/conf_mx.sum()\n",
    "test_accuracy"
   ]
  },
  {
   "cell_type": "code",
   "execution_count": 26,
   "metadata": {},
   "outputs": [
    {
     "data": {
      "text/plain": [
       "0.9321"
      ]
     },
     "execution_count": 26,
     "metadata": {},
     "output_type": "execute_result"
    }
   ],
   "source": [
    "sgdscaled_clf = SGDClassifier(random_state = 42)\n",
    "sgdscaled_clf.fit(X_train_scaled, y_train);\n",
    "\n",
    "scaler = StandardScaler()\n",
    "X_test_scaled = scaler.fit_transform(X_test.astype(np.float64))\n",
    "\n",
    "y_test_scaled_pred = sgdscaled_clf.predict(X_test_scaled)\n",
    "conf_mx = confusion_matrix(y_test, y_test_scaled_pred)\n",
    "test_accuracy = np.trace(np.asarray(conf_mx))/conf_mx.sum()\n",
    "test_accuracy"
   ]
  },
  {
   "cell_type": "code",
   "execution_count": 27,
   "metadata": {},
   "outputs": [
    {
     "data": {
      "image/png": "[encoded data removed]",
      "text/plain": [
       "<Figure size 288x288 with 1 Axes>"
      ]
     },
     "metadata": {},
     "output_type": "display_data"
    }
   ],
   "source": [
    "plt.matshow(conf_mx, cmap = plt.cm.gray)\n",
    "plt.show()"
   ]
  },
  {
   "cell_type": "code",
   "execution_count": 28,
   "metadata": {
    "collapsed": true
   },
   "outputs": [],
   "source": [
    "row_sums = conf_mx.sum(axis = 1, keepdims = True)\n",
    "norm_conf_mx = conf_mx / row_sums"
   ]
  },
  {
   "cell_type": "code",
   "execution_count": 29,
   "metadata": {},
   "outputs": [
    {
     "data": {
      "image/png": "[encoded data removed]",
      "text/plain": [
       "<Figure size 288x288 with 1 Axes>"
      ]
     },
     "metadata": {},
     "output_type": "display_data"
    }
   ],
   "source": [
    "np.fill_diagonal(norm_conf_mx, 0)\n",
    "plt.matshow(norm_conf_mx, cmap = plt.cm.gray)\n",
    "plt.show()"
   ]
  },
  {
   "cell_type": "markdown",
   "metadata": {},
   "source": [
    "# Random forest classifier"
   ]
  },
  {
   "cell_type": "code",
   "execution_count": 30,
   "metadata": {
    "collapsed": true
   },
   "outputs": [],
   "source": [
    "from sklearn.ensemble import RandomForestClassifier\n",
    "\n",
    "rf_clf = RandomForestClassifier(random_state = 42)\n",
    "rf_clf.fit(X_train, y_train);"
   ]
  },
  {
   "cell_type": "markdown",
   "metadata": {},
   "source": [
    "## Cross validation accuracy"
   ]
  },
  {
   "cell_type": "code",
   "execution_count": 31,
   "metadata": {
    "collapsed": true
   },
   "outputs": [],
   "source": [
    "CV = 10"
   ]
  },
  {
   "cell_type": "code",
   "execution_count": 32,
   "metadata": {
    "scrolled": true
   },
   "outputs": [
    {
     "name": "stdout",
     "output_type": "stream",
     "text": [
      "Average cross validation score:  0.9951199849246967\n"
     ]
    }
   ],
   "source": [
    "cvs = cross_val_score(rf_clf, X_train, y_train, cv = CV, scoring = \"accuracy\")\n",
    "print(\"Average cross validation score: \", np.mean(cvs))"
   ]
  },
  {
   "cell_type": "code",
   "execution_count": 33,
   "metadata": {
    "collapsed": true
   },
   "outputs": [],
   "source": [
    "from sklearn.preprocessing import StandardScaler"
   ]
  },
  {
   "cell_type": "code",
   "execution_count": 34,
   "metadata": {
    "collapsed": true
   },
   "outputs": [],
   "source": [
    "scaler = StandardScaler()\n",
    "X_train_scaled = scaler.fit_transform(X_train.astype(np.float64))"
   ]
  },
  {
   "cell_type": "code",
   "execution_count": 35,
   "metadata": {},
   "outputs": [
    {
     "name": "stdout",
     "output_type": "stream",
     "text": [
      "Average cross validation score for scaled train data:  0.9950399829242965\n"
     ]
    }
   ],
   "source": [
    "cvs = cross_val_score(rf_clf, X_train_scaled, y_train, cv = CV, scoring = \"accuracy\")\n",
    "print(\"Average cross validation score for scaled train data: \", np.mean(cvs));"
   ]
  },
  {
   "cell_type": "markdown",
   "metadata": {},
   "source": [
    "The results are the same with scaling and without scaling"
   ]
  },
  {
   "cell_type": "markdown",
   "metadata": {},
   "source": [
    "## Error Analysis"
   ]
  },
  {
   "cell_type": "code",
   "execution_count": 36,
   "metadata": {},
   "outputs": [
    {
     "data": {
      "text/plain": [
       "array([[33126,    35,    64,     3],\n",
       "       [   78, 16566,    32,    47],\n",
       "       [  116,    61, 33154,     0],\n",
       "       [    0,    60,     0, 16658]])"
      ]
     },
     "execution_count": 36,
     "metadata": {},
     "output_type": "execute_result"
    }
   ],
   "source": [
    "y_train_pred = cross_val_predict(rf_clf, X_train_scaled, y_train, cv = CV)\n",
    "conf_mx = confusion_matrix(y_train, y_train_pred)\n",
    "conf_mx"
   ]
  },
  {
   "cell_type": "code",
   "execution_count": 37,
   "metadata": {},
   "outputs": [
    {
     "data": {
      "image/png": "[encoded data removed]",
      "text/plain": [
       "<Figure size 288x288 with 1 Axes>"
      ]
     },
     "metadata": {},
     "output_type": "display_data"
    }
   ],
   "source": [
    "plt.matshow(conf_mx, cmap = plt.cm.gray)\n",
    "plt.show()"
   ]
  },
  {
   "cell_type": "markdown",
   "metadata": {},
   "source": [
    "Note that almost all observation are well-classified, so the fact that squares corresponding to tank 1 and\n",
    "\"staying at the depot\" are darker just due to the fact that its abundancy is half the abundancy of tanks 0 and 2."
   ]
  },
  {
   "cell_type": "code",
   "execution_count": 38,
   "metadata": {
    "collapsed": true
   },
   "outputs": [],
   "source": [
    "row_sums = conf_mx.sum(axis = 1, keepdims = True)\n",
    "norm_conf_mx = conf_mx / row_sums"
   ]
  },
  {
   "cell_type": "code",
   "execution_count": 39,
   "metadata": {},
   "outputs": [
    {
     "data": {
      "image/png": "[encoded data removed]",
      "text/plain": [
       "<Figure size 288x288 with 1 Axes>"
      ]
     },
     "metadata": {},
     "output_type": "display_data"
    }
   ],
   "source": [
    "np.fill_diagonal(norm_conf_mx, 0)\n",
    "plt.matshow(norm_conf_mx, cmap = plt.cm.gray)\n",
    "plt.show()"
   ]
  },
  {
   "cell_type": "markdown",
   "metadata": {},
   "source": [
    "## Test prediction accuracy of the model trained on the whole train set"
   ]
  },
  {
   "cell_type": "code",
   "execution_count": 40,
   "metadata": {
    "collapsed": true
   },
   "outputs": [],
   "source": [
    "y_test_pred = rf_clf.predict(X_test)"
   ]
  },
  {
   "cell_type": "code",
   "execution_count": 41,
   "metadata": {},
   "outputs": [
    {
     "data": {
      "text/plain": [
       "array([[3293,    5,    4,    0],\n",
       "       [   9, 1641,    1,    7],\n",
       "       [  10,    5, 3325,    0],\n",
       "       [   0,    9,    0, 1691]])"
      ]
     },
     "execution_count": 41,
     "metadata": {},
     "output_type": "execute_result"
    }
   ],
   "source": [
    "conf_mx = confusion_matrix(y_test, y_test_pred)\n",
    "conf_mx"
   ]
  },
  {
   "cell_type": "code",
   "execution_count": 42,
   "metadata": {},
   "outputs": [
    {
     "data": {
      "text/plain": [
       "0.995"
      ]
     },
     "execution_count": 42,
     "metadata": {},
     "output_type": "execute_result"
    }
   ],
   "source": [
    "test_accuracy = np.trace(np.asarray(conf_mx))/conf_mx.sum()\n",
    "test_accuracy"
   ]
  },
  {
   "cell_type": "code",
   "execution_count": 43,
   "metadata": {},
   "outputs": [
    {
     "data": {
      "text/plain": [
       "0.9911"
      ]
     },
     "execution_count": 43,
     "metadata": {},
     "output_type": "execute_result"
    }
   ],
   "source": [
    "rfscaled_clf = RandomForestClassifier(random_state = 42)\n",
    "rfscaled_clf.fit(X_train_scaled, y_train);\n",
    "\n",
    "scaler = StandardScaler()\n",
    "X_test_scaled = scaler.fit_transform(X_test.astype(np.float64))\n",
    "\n",
    "y_test_scaled_pred = rfscaled_clf.predict(X_test_scaled)\n",
    "conf_mx = confusion_matrix(y_test, y_test_scaled_pred)\n",
    "test_accuracy = np.trace(np.asarray(conf_mx))/conf_mx.sum()\n",
    "test_accuracy"
   ]
  },
  {
   "cell_type": "code",
   "execution_count": 44,
   "metadata": {},
   "outputs": [
    {
     "data": {
      "image/png": "[encoded data removed]",
      "text/plain": [
       "<Figure size 288x288 with 1 Axes>"
      ]
     },
     "metadata": {},
     "output_type": "display_data"
    }
   ],
   "source": [
    "plt.matshow(conf_mx, cmap = plt.cm.gray)\n",
    "plt.show()"
   ]
  },
  {
   "cell_type": "code",
   "execution_count": 45,
   "metadata": {
    "collapsed": true
   },
   "outputs": [],
   "source": [
    "row_sums = conf_mx.sum(axis = 1, keepdims = True)\n",
    "norm_conf_mx = conf_mx / row_sums"
   ]
  },
  {
   "cell_type": "code",
   "execution_count": 46,
   "metadata": {},
   "outputs": [
    {
     "data": {
      "image/png": "[encoded data removed]",
      "text/plain": [
       "<Figure size 288x288 with 1 Axes>"
      ]
     },
     "metadata": {},
     "output_type": "display_data"
    }
   ],
   "source": [
    "np.fill_diagonal(norm_conf_mx, 0)\n",
    "plt.matshow(norm_conf_mx, cmap = plt.cm.gray)\n",
    "plt.show()"
   ]
  },
  {
   "cell_type": "markdown",
   "metadata": {},
   "source": [
    "# Neural Network Classifier"
   ]
  },
  {
   "cell_type": "code",
   "execution_count": 47,
   "metadata": {
    "collapsed": true
   },
   "outputs": [],
   "source": [
    "def reset_graph(seed=42):\n",
    "    tf.reset_default_graph()\n",
    "    tf.set_random_seed(seed)\n",
    "    np.random.seed(seed)\n"
   ]
  },
  {
   "cell_type": "code",
   "execution_count": 48,
   "metadata": {
    "collapsed": true
   },
   "outputs": [],
   "source": [
    "class NNClassifier(object):\n",
    "    \"\"\"\n",
    "    Input to the network is the state, output is the action\n",
    "    under a deterministic policy.\n",
    "    \"\"\"\n",
    "\n",
    "    def __init__(self, sess, learning_rate, model_file = None):\n",
    "        self.sess = sess\n",
    "        self.learning_rate = learning_rate\n",
    "\n",
    "        # Network architecture\n",
    "        self.action = self.create_network()\n",
    "        self.network_params = tf.trainable_variables()\n",
    "        \n",
    "    def create_network(self):\n",
    "       \n",
    "        with tf.name_scope(\"dnn\"):\n",
    "            tf.set_random_seed(seed)\n",
    "            # 1. Parameters to determine the NN architecture\n",
    "\n",
    "            n_inputs = env.observation_space.shape[1]\n",
    "            n_hidden1 = 20; activation1 = tf.nn.elu\n",
    "            n_hidden2 = 6; activation2 = tf.nn.elu\n",
    "            n_outputs = env.action_space.shape[1]\n",
    "\n",
    "            self.initializer = tf.contrib.layers.variance_scaling_initializer()\n",
    "\n",
    "            # 2. Build the Neural Network\n",
    "            \n",
    "            self.X = tf.placeholder(tf.float32, shape = (None, n_inputs), name = \"X\")\n",
    "            self.y = tf.placeholder(tf.int64, shape = (None), name = \"y\")\n",
    "            \n",
    "            hidden1 = tf.layers.dense(self.X, n_hidden1, activation = activation1,\n",
    "                                     kernel_initializer = self.initializer)\n",
    "            hidden2 = tf.layers.dense(hidden1, n_hidden2, activation = activation2,\n",
    "                                     kernel_initializer = self.initializer)\n",
    "            logits = tf.layers.dense(hidden2, n_outputs,kernel_initializer = self.initializer)\n",
    "            \n",
    "        with tf.name_scope(\"loss\"):\n",
    "            xentropy = tf.nn.sparse_softmax_cross_entropy_with_logits(labels = self.y,\n",
    "                                                                      logits = logits)\n",
    "            loss = tf.reduce_mean(xentropy, name = \"loss\")\n",
    "            \n",
    "        with tf.name_scope(\"train\"):\n",
    "            # Optimization Op\n",
    "            optimizer = tf.train.AdamOptimizer(self.learning_rate)\n",
    "            self.optimize = optimizer.minimize(loss)\n",
    "            \n",
    "        with tf.name_scope(\"eval\"):\n",
    "            correct = tf.nn.in_top_k(logits, self.y, 1)\n",
    "            self.accuracy = tf.reduce_mean(tf.cast(correct,tf.float32))\n",
    "      \n",
    "        with tf.name_scope(\"action\"):\n",
    "            outputs = tf.nn.softmax(logits)\n",
    "            # 3. Select a random action (where to go) based on the estimated probabilities\n",
    "            self.action = tf.multinomial(tf.log(outputs), num_samples = 1)\n",
    "\n",
    "        self.init = tf.global_variables_initializer()\n",
    "        \n",
    "        if model_file != None:\n",
    "            self.saver = tf.train.Saver()\n",
    "        \n",
    "        return self.action#, y, X\n",
    "\n",
    "    def train(self,X,y):\n",
    "        self.sess.run(self.optimize, feed_dict={\n",
    "            self.y: y,\n",
    "            self.X: X\n",
    "        })\n",
    "\n",
    "    def predict_action(self, X, y):\n",
    "        return self.sess.run(self.action, feed_dict={\n",
    "            self.X: X,\n",
    "            self.y: y\n",
    "        })\n",
    "    \n",
    "    def get_accuracy(self, X, y):\n",
    "        return self.sess.run(self.accuracy, feed_dict={\n",
    "            self.X: X,\n",
    "            self.y: y\n",
    "        })\n",
    "\n",
    "    def get_num_trainable_vars(self):\n",
    "        return self.num_trainable_vars\n",
    "    \n",
    "    def fetch_batch(self, X,y,epoch, batch_index, batch_size, data_size, n_batches):\n",
    "        # hands-on book\n",
    "        #np.random.seed(epoch * n_batches + batch_index)  \n",
    "        indices = np.random.randint(data_size, size=batch_size)  \n",
    "        X_batch = X[indices] \n",
    "        y_batch = y[indices] \n",
    "        return X_batch, y_batch\n",
    "\n",
    "    def fit(self, X_train, y_train, X_val, y_val, epochs = 10, batch_size = 50, summary_freq = None):\n",
    "        N_TRAIN = X_train.shape[0]\n",
    "        m = y_train.shape[0]\n",
    "        \n",
    "        n_batches = int(np.ceil(N_TRAIN/ batch_size))\n",
    "             \n",
    "        for epoch in range(epochs+1):\n",
    "            for batch_index in range(n_batches):\n",
    "                X_batch, y_batch = self.fetch_batch(X_train,y_train,epoch, batch_index, batch_size, m, n_batches)\n",
    "                self.train(X_batch, y_batch)\n",
    "            if summary_freq != None:    \n",
    "                acc_train = self.get_accuracy(X_batch, y_batch)\n",
    "                acc_val = self.get_accuracy(X_val, y_val)\n",
    "                if epoch % summary_freq  == 0:\n",
    "                    print(\"Epoch: \", epoch, \" Train (batch) accuracy: \", acc_train, \" Validation accuracy: \", acc_val)\n"
   ]
  },
  {
   "cell_type": "code",
   "execution_count": 49,
   "metadata": {},
   "outputs": [
    {
     "name": "stdout",
     "output_type": "stream",
     "text": [
      "WARNING:tensorflow:From /home/dsalgador/anaconda3/lib/python3.6/site-packages/tensorflow/contrib/learn/python/learn/datasets/base.py:198: retry (from tensorflow.contrib.learn.python.learn.datasets.base) is deprecated and will be removed in a future version.\n",
      "Instructions for updating:\n",
      "Use the retry module or similar alternatives.\n",
      "Epoch:  0  Train (batch) accuracy:  0.98  Validation accuracy:  0.9004\n",
      "Epoch:  25  Train (batch) accuracy:  0.98  Validation accuracy:  0.9796\n",
      "Epoch:  50  Train (batch) accuracy:  0.96  Validation accuracy:  0.9854\n",
      "Epoch:  75  Train (batch) accuracy:  0.99  Validation accuracy:  0.9911\n",
      "Epoch:  100  Train (batch) accuracy:  0.97  Validation accuracy:  0.9872\n",
      "Epoch:  125  Train (batch) accuracy:  0.98  Validation accuracy:  0.9849\n",
      "Epoch:  150  Train (batch) accuracy:  0.99  Validation accuracy:  0.9883\n",
      "Epoch:  175  Train (batch) accuracy:  0.99  Validation accuracy:  0.9929\n",
      "Epoch:  200  Train (batch) accuracy:  1.0  Validation accuracy:  0.9936\n",
      "Epoch:  225  Train (batch) accuracy:  1.0  Validation accuracy:  0.9932\n",
      "Epoch:  250  Train (batch) accuracy:  1.0  Validation accuracy:  0.9895\n",
      "All Train accuracy 0.99069  Test accuracy:  0.989\n"
     ]
    }
   ],
   "source": [
    "reset_graph()\n",
    "\n",
    "seed = 43\n",
    "np.random.seed(seed)\n",
    "\n",
    "epochs = 250\n",
    "batch_size = 100\n",
    "\n",
    "learning_rate = 0.01\n",
    "summary_freq = np.ceil(epochs/10)\n",
    "\n",
    "\n",
    "model_file = None#'./final_nn_classifier.ckpt'\n",
    "\n",
    "\n",
    "with tf.Session() as sess:\n",
    "\n",
    "                nn_clf = NNClassifier(sess, learning_rate, model_file)\n",
    "                nn_clf.init.run()\n",
    "                nn_clf.fit(X_train, y_train, X_val, y_val, epochs = epochs, batch_size = batch_size, summary_freq = summary_freq)\n",
    "                acc_test = nn_clf.get_accuracy(X_test, y_test)\n",
    "                acc_train = nn_clf.get_accuracy(X_train, y_train)\n",
    "\n",
    "                print(\"All Train accuracy\", acc_train, \" Test accuracy: \", acc_test)"
   ]
  },
  {
   "cell_type": "markdown",
   "metadata": {},
   "source": [
    "## Saving and restoring models"
   ]
  },
  {
   "cell_type": "code",
   "execution_count": 50,
   "metadata": {},
   "outputs": [
    {
     "name": "stdout",
     "output_type": "stream",
     "text": [
      "Epoch: 0. Train (batch) accuracy:  0.96  Validation accuracy:  0.9613\n",
      "Saved model with validation accuracy  0.9613\n",
      "Epoch: 200. Train (batch) accuracy:  0.98  Validation accuracy:  0.9851\n",
      "Saved model with validation accuracy  0.9851\n",
      "Epoch: 400. Train (batch) accuracy:  1.0  Validation accuracy:  0.9937\n",
      "Saved model with validation accuracy  0.9937\n",
      "Epoch: 600. Train (batch) accuracy:  1.0  Validation accuracy:  0.9923\n",
      "Epoch: 800. Train (batch) accuracy:  1.0  Validation accuracy:  0.9958\n",
      "Saved model with validation accuracy  0.9958\n",
      "Epoch: 1000. Train (batch) accuracy:  1.0  Validation accuracy:  0.9954\n",
      "Epoch: 1200. Train (batch) accuracy:  1.0  Validation accuracy:  0.9948\n",
      "Epoch: 1400. Train (batch) accuracy:  0.98  Validation accuracy:  0.9942\n",
      "Epoch: 1600. Train (batch) accuracy:  1.0  Validation accuracy:  0.995\n",
      "Epoch: 1800. Train (batch) accuracy:  1.0  Validation accuracy:  0.9952\n",
      "Epoch: 2000. Train (batch) accuracy:  1.0  Validation accuracy:  0.9939\n"
     ]
    }
   ],
   "source": [
    "reset_graph()\n",
    "\n",
    "seed = 42\n",
    "learning_rate = 0.01 #0.01\n",
    "\n",
    "model_file = './final_nn_classifier_{}.ckpt'.format(learning_rate)\n",
    "graph_file =  '{}.meta'.format(model_file)\n",
    "epochs = 2000 #2000\n",
    "batch_size = 50 #50\n",
    "\n",
    "summary_freq = 200#np.ceil(epochs/10) #200\n",
    "\n",
    "\n",
    "hidden1_neurons = 100 #100\n",
    "hidden2_neurons = 50 #50\n",
    "\n",
    "scaling = False\n",
    "\n",
    "if scaling:\n",
    "    scaler = StandardScaler()\n",
    "    X_train = scaler.fit_transform(X_train.astype(np.float64))\n",
    "    X_val = scaler.fit_transform(X_val.astype(np.float64))\n",
    "    X_test = scaler.fit_transform(X_test.astype(np.float64))\n",
    "    model_file = './final_nn_classifier_scaled_{}.ckpt'.format(learning_rate)\n",
    "\n",
    "\n",
    "with tf.name_scope(\"dnn\"):\n",
    "            tf.set_random_seed(seed)\n",
    "            # 1. Parameters to determine the NN architecture\n",
    "\n",
    "            n_inputs = env.observation_space.shape[1]\n",
    "            n_hidden1 = hidden1_neurons; activation1 = tf.nn.elu\n",
    "            n_hidden2 = hidden2_neurons; activation2 = tf.nn.elu\n",
    "            n_outputs = env.action_space.shape[1]\n",
    "\n",
    "            initializer = tf.contrib.layers.variance_scaling_initializer()\n",
    "\n",
    "            # 2. Build the Neural Network\n",
    "            \n",
    "            X = tf.placeholder(tf.float32, shape = (None, n_inputs), name = \"X\")\n",
    "            y = tf.placeholder(tf.int64, shape = (None), name = \"y\")\n",
    "            \n",
    "            hidden1 = tf.layers.dense(X, n_hidden1, activation = activation1,\n",
    "                                     kernel_initializer = initializer)\n",
    "            hidden2 = tf.layers.dense(hidden1, n_hidden2, activation = activation2,\n",
    "                                     kernel_initializer = initializer)\n",
    "            logits = tf.layers.dense(hidden2, n_outputs,kernel_initializer = initializer)\n",
    "            \n",
    "with tf.name_scope(\"loss\"):\n",
    "            xentropy = tf.nn.sparse_softmax_cross_entropy_with_logits(labels = y,\n",
    "                                                                      logits = logits)\n",
    "            loss = tf.reduce_mean(xentropy, name = \"loss\")\n",
    "            \n",
    "with tf.name_scope(\"train\"):\n",
    "            # Optimization Op\n",
    "            optimizer = tf.train.AdamOptimizer(learning_rate)\n",
    "            optimize = optimizer.minimize(loss)\n",
    "            \n",
    "with tf.name_scope(\"eval\"):\n",
    "            correct = tf.nn.in_top_k(logits, y, 1)\n",
    "            accuracy = tf.reduce_mean(tf.cast(correct,tf.float32))\n",
    "            \n",
    "with tf.name_scope(\"action\"):\n",
    "            outputs = tf.nn.softmax(logits)\n",
    "            # 3. Select a random action (where to go) based on the estimated probabilities\n",
    "            action = tf.multinomial(tf.log(outputs), num_samples = 1)\n",
    "\n",
    "init = tf.global_variables_initializer()\n",
    "        \n",
    "if model_file != None:\n",
    "            saver = tf.train.Saver()\n",
    "        \n",
    "\n",
    "def fetch_batch(X,y,epoch, batch_index, batch_size, data_size, n_batches):\n",
    "        #np.random.seed(epoch * n_batches + batch_index)  \n",
    "        indices = np.random.randint(data_size, size=batch_size)  \n",
    "        X_batch = X[indices] \n",
    "        y_batch = y[indices] \n",
    "        return X_batch, y_batch\n",
    "    \n",
    "    \n",
    "best_acc_val = 0\n",
    "acc_val = 0\n",
    "# early_stopping = True\n",
    "# stopping_counter = 0\n",
    "# max_stopping_counter = 100\n",
    "\n",
    "with tf.Session() as sess:\n",
    "        init.run()\n",
    "        N_TRAIN = X_train.shape[0]\n",
    "        m = y_train.shape[0]\n",
    "        \n",
    "        n_batches = int(np.ceil(N_TRAIN/ batch_size))\n",
    "             \n",
    "        for epoch in range(epochs+1):\n",
    "            print(\"\\rEpoch: {}\".format(epoch), end=\"\")\n",
    "            for batch_index in range(n_batches):\n",
    "                X_batch, y_batch = fetch_batch(X_train,y_train,epoch, batch_index, batch_size, m, n_batches)\n",
    "                #print(\"Xbatch shape\",X_batch.shape, \"y_batch shape\", y_batch.shape)\n",
    "                sess.run(optimize, feed_dict={\n",
    "                                    y: y_batch,\n",
    "                                    X: X_batch\n",
    "                                })\n",
    "    \n",
    "            if summary_freq != None: \n",
    "                            \n",
    "                if epoch % summary_freq  == 0:\n",
    "                    \n",
    "\n",
    "                    acc_train = sess.run(accuracy, feed_dict={\n",
    "                                        y: y_batch,\n",
    "                                        X: X_batch\n",
    "                                    })\n",
    "                    acc_val = sess.run(accuracy, feed_dict={\n",
    "                                        y: y_val,\n",
    "                                        X: X_val\n",
    "                                    }) \n",
    "                                    \n",
    "                    \n",
    "                    best_acc_val = max(best_acc_val, acc_val)\n",
    "\n",
    "                    print(\". Train (batch) accuracy: \", acc_train, \n",
    "                          \" Validation accuracy: \", acc_val)\n",
    "                    if best_acc_val <= acc_val:                        \n",
    "                        save_path = saver.save(sess, model_file)\n",
    "                        print(\"Saved model with validation accuracy \", acc_val)\n",
    "                                     \n",
    "        #save_path = saver.save(sess, model_file)   "
   ]
  },
  {
   "cell_type": "code",
   "execution_count": 51,
   "metadata": {},
   "outputs": [
    {
     "name": "stdout",
     "output_type": "stream",
     "text": [
      "INFO:tensorflow:Restoring parameters from ./final_nn_classifier_0.01.ckpt\n",
      " Test accuracy of the best model saved (according to validation accuracy):  0.9954\n"
     ]
    }
   ],
   "source": [
    "with tf.Session() as sess: \n",
    "    saver.restore(sess, model_file)\n",
    "    acc_test = sess.run(accuracy, feed_dict={\n",
    "                                    y: y_test,\n",
    "                                    X: X_test\n",
    "                               })\n",
    "    print(\" Test accuracy of the best model saved (according to validation accuracy): \", acc_test)\n",
    "    \n",
    "    "
   ]
  },
  {
   "cell_type": "markdown",
   "metadata": {},
   "source": [
    "## Adding summaries to visualize performance metrics with TensorBoard"
   ]
  },
  {
   "cell_type": "code",
   "execution_count": 52,
   "metadata": {},
   "outputs": [
    {
     "name": "stdout",
     "output_type": "stream",
     "text": [
      "Epoch: 0. Train (batch) accuracy:  0.94  Validation accuracy:  0.9443\n",
      "Saved model with validation accuracy  0.9443\n",
      "Epoch: 100. Train (batch) accuracy:  1.0  Validation accuracy:  0.9854\n",
      "Saved model with validation accuracy  0.9854\n",
      "Epoch: 200. Train (batch) accuracy:  0.98  Validation accuracy:  0.9942\n",
      "Saved model with validation accuracy  0.9942\n",
      "Epoch: 300. Train (batch) accuracy:  1.0  Validation accuracy:  0.9937\n",
      "Epoch: 400. Train (batch) accuracy:  1.0  Validation accuracy:  0.9903\n",
      "Epoch: 500. Train (batch) accuracy:  0.98  Validation accuracy:  0.9847\n",
      "Epoch: 600. Train (batch) accuracy:  1.0  Validation accuracy:  0.9963\n",
      "Saved model with validation accuracy  0.9963\n",
      "Epoch: 700. Train (batch) accuracy:  1.0  Validation accuracy:  0.9954\n",
      "Epoch: 800. Train (batch) accuracy:  0.98  Validation accuracy:  0.9915\n",
      "Epoch: 900. Train (batch) accuracy:  1.0  Validation accuracy:  0.9931\n",
      "Epoch: 1000. Train (batch) accuracy:  0.98  Validation accuracy:  0.9866\n",
      "Epoch: 1100. Train (batch) accuracy:  1.0  Validation accuracy:  0.9936\n",
      "Epoch: 1200. Train (batch) accuracy:  0.98  Validation accuracy:  0.9925\n",
      "Epoch: 1300. Train (batch) accuracy:  1.0  Validation accuracy:  0.9881\n",
      "Epoch: 1400. Train (batch) accuracy:  1.0  Validation accuracy:  0.9849\n",
      "Epoch: 1500. Train (batch) accuracy:  1.0  Validation accuracy:  0.9932\n",
      "Epoch: 1600. Train (batch) accuracy:  0.98  Validation accuracy:  0.9894\n",
      "Epoch: 1700. Train (batch) accuracy:  1.0  Validation accuracy:  0.9903\n",
      "Epoch: 1800. Train (batch) accuracy:  1.0  Validation accuracy:  0.9923\n",
      "Epoch: 1900. Train (batch) accuracy:  1.0  Validation accuracy:  0.9855\n",
      "Epoch: 2000. Train (batch) accuracy:  1.0  Validation accuracy:  0.9916\n"
     ]
    }
   ],
   "source": [
    "reset_graph()\n",
    "\n",
    "seed = 42\n",
    "learning_rate = 0.01 #0.01\n",
    "\n",
    "model_file = './final_nn_classifier_{}.ckpt'.format(learning_rate)\n",
    "graph_file =  '{}.meta'.format(model_file)\n",
    "epochs = 2000 #2000\n",
    "batch_size = 50 #50\n",
    "\n",
    "summary_freq = 100#np.ceil(epochs/10) #200\n",
    "\n",
    "\n",
    "hidden1_neurons = 100 #100\n",
    "hidden2_neurons = 50 #50\n",
    "\n",
    "scaling = False\n",
    "\n",
    "if scaling:\n",
    "    scaler = StandardScaler()\n",
    "    X_train = scaler.fit_transform(X_train.astype(np.float64))\n",
    "    X_val = scaler.fit_transform(X_val.astype(np.float64))\n",
    "    X_test = scaler.fit_transform(X_test.astype(np.float64))\n",
    "    model_file = './final_nn_classifier_scaled_{}.ckpt'.format(learning_rate)\n",
    "\n",
    "with tf.name_scope(\"dnn\"):\n",
    "            tf.set_random_seed(seed)\n",
    "            # 1. Parameters to determine the NN architecture\n",
    "\n",
    "            n_inputs = env.observation_space.shape[1]\n",
    "            n_hidden1 = hidden1_neurons; activation1 = tf.nn.elu\n",
    "            n_hidden2 = hidden2_neurons; activation2 = tf.nn.elu\n",
    "            n_outputs = env.action_space.shape[1]\n",
    "\n",
    "            initializer = tf.contrib.layers.variance_scaling_initializer()\n",
    "\n",
    "            # 2. Build the Neural Network\n",
    "            \n",
    "            X = tf.placeholder(tf.float32, shape = (None, n_inputs), name = \"X\")\n",
    "            y = tf.placeholder(tf.int64, shape = (None), name = \"y\")\n",
    "            \n",
    "            hidden1 = tf.layers.dense(X, n_hidden1, activation = activation1,\n",
    "                                     kernel_initializer = initializer)\n",
    "            hidden2 = tf.layers.dense(hidden1, n_hidden2, activation = activation2,\n",
    "                                     kernel_initializer = initializer)\n",
    "            logits = tf.layers.dense(hidden2, n_outputs,kernel_initializer = initializer)\n",
    "            \n",
    "with tf.name_scope(\"loss\"):\n",
    "            \n",
    "            xentropy = tf.nn.sparse_softmax_cross_entropy_with_logits(labels = y,\n",
    "                                                                      logits = logits)\n",
    "            loss = tf.reduce_mean(xentropy, name = \"loss\")\n",
    "            \n",
    "tf.summary.scalar('average_cross_entropy', loss)\n",
    "            \n",
    "with tf.name_scope(\"train\"):\n",
    "            # Optimization Op\n",
    "            optimizer = tf.train.AdamOptimizer(learning_rate)\n",
    "            optimize = optimizer.minimize(loss)\n",
    "            \n",
    "with tf.name_scope(\"eval\"):\n",
    "            correct = tf.nn.in_top_k(logits, y, 1)\n",
    "            accuracy = tf.reduce_mean(tf.cast(correct,tf.float32))\n",
    "tf.summary.scalar('accuracy', accuracy)\n",
    "\n",
    "            \n",
    "with tf.name_scope(\"action\"):\n",
    "            outputs = tf.nn.softmax(logits)\n",
    "            # 3. Select a random action (where to go) based on the estimated probabilities\n",
    "            action = tf.multinomial(tf.log(outputs), num_samples = 1)\n",
    "\n",
    "merged = tf.summary.merge_all()\n",
    "init = tf.global_variables_initializer()\n",
    "        \n",
    "if model_file != None:\n",
    "            saver = tf.train.Saver()\n",
    "        \n",
    "\n",
    "def fetch_batch(X,y,epoch, batch_index, batch_size, data_size, n_batches):\n",
    "        #np.random.seed(epoch * n_batches + batch_index)  \n",
    "        indices = np.random.randint(data_size, size=batch_size)  \n",
    "        X_batch = X[indices] \n",
    "        y_batch = y[indices] \n",
    "        return X_batch, y_batch\n",
    "    \n",
    "    \n",
    "best_acc_val = 0\n",
    "acc_val = 0\n",
    "\n",
    "now = datetime.utcnow().strftime(\"%Y%m%d%H%M%S\")\n",
    "root_logdir = \"tf_logs\"\n",
    "log_dir = \"{}/run-{}/\".format(root_logdir, now)\n",
    "\n",
    "with tf.Session() as sess:\n",
    "        train_writer = tf.summary.FileWriter(log_dir + '/train', sess.graph)\n",
    "        val_writer = tf.summary.FileWriter(log_dir + '/val')\n",
    "        \n",
    "        init.run()\n",
    "        N_TRAIN = X_train.shape[0]\n",
    "        m = y_train.shape[0]\n",
    "        \n",
    "        n_batches = int(np.ceil(N_TRAIN/ batch_size))\n",
    "        #print(n_batches)\n",
    "             \n",
    "        for epoch in range(epochs+1):\n",
    "            print(\"\\rEpoch: {}\".format(epoch), end=\"\")            \n",
    "            for batch_index in range(n_batches):\n",
    "                X_batch, y_batch = fetch_batch(X_train,y_train,epoch, batch_index, batch_size, m, n_batches)\n",
    "                #print(\"Xbatch shape\",X_batch.shape, \"y_batch shape\", y_batch.shape)\n",
    "                sess.run(optimize, feed_dict={\n",
    "                                    y: y_batch,\n",
    "                                    X: X_batch\n",
    "                                })\n",
    "    \n",
    "            if summary_freq != None: \n",
    "                            \n",
    "                if epoch % summary_freq  == 0:\n",
    "                    \n",
    "\n",
    "                    summary, acc_train = sess.run([merged, accuracy], feed_dict={\n",
    "                                        y: y_batch,\n",
    "                                        X: X_batch\n",
    "                                    })\n",
    "                    train_writer.add_summary(summary, epoch)\n",
    "\n",
    "                    summary, acc_val = sess.run([merged, accuracy], feed_dict={\n",
    "                                        y: y_val,\n",
    "                                        X: X_val\n",
    "                                    }) \n",
    "                                    \n",
    "                    val_writer.add_summary(summary, epoch)\n",
    "\n",
    "                    best_acc_val = max(best_acc_val, acc_val)\n",
    "\n",
    "                    print(\". Train (batch) accuracy: \", acc_train, \n",
    "                          \" Validation accuracy: \", acc_val)\n",
    "                    if best_acc_val <= acc_val:                        \n",
    "                        save_path = saver.save(sess, model_file)\n",
    "                        print(\"Saved model with validation accuracy \", acc_val)\n",
    "        train_writer.close()\n",
    "        val_writer.close()                            \n",
    "        #save_path = saver.save(sess, model_file)   "
   ]
  },
  {
   "cell_type": "code",
   "execution_count": 57,
   "metadata": {},
   "outputs": [
    {
     "name": "stdout",
     "output_type": "stream",
     "text": [
      "INFO:tensorflow:Restoring parameters from ./final_nn_classifier_0.01.ckpt\n",
      " Test accuracy of the best model saved (according to validation accuracy):  0.9959\n"
     ]
    }
   ],
   "source": [
    "with tf.Session() as sess: \n",
    "    saver.restore(sess, model_file)\n",
    "    acc_test = sess.run(accuracy, feed_dict={\n",
    "                                    y: y_test,\n",
    "                                    X: X_test\n",
    "                               })\n",
    "    print(\" Test accuracy of the best model saved (according to validation accuracy): \", acc_test)"
   ]
  },
  {
   "cell_type": "markdown",
   "metadata": {},
   "source": [
    "## \"Playing\" the product delivery game with the learnt policy"
   ]
  },
  {
   "cell_type": "code",
   "execution_count": 58,
   "metadata": {
    "collapsed": true
   },
   "outputs": [],
   "source": [
    "episode_length = 30\n",
    "seed = 80\n",
    "\n",
    "system = PDSystemEnv(tank_max_loads = TANK_MAX_LOADS, level_percentages = LEVEL_PERCENTAGES,\n",
    "                     truck_max_loads = TRUCK_MAX_LOADS, graph_weights = GRAPH_WEIGHTS,  \n",
    "                     discrete = DISCRETE)\n",
    "# ENSURE TO SET CASE = -1 (or another negative number) in the pdsystem_env.py\n",
    "env = gym.make(\"PDSystemEnv-v0\")\n",
    "env._max_episode_steps = episode_length\n",
    "\n",
    "test  = True"
   ]
  },
  {
   "cell_type": "code",
   "execution_count": 59,
   "metadata": {},
   "outputs": [
    {
     "name": "stdout",
     "output_type": "stream",
     "text": [
      "INFO:tensorflow:Restoring parameters from ./final_nn_classifier_0.01.ckpt\n"
     ]
    }
   ],
   "source": [
    "frames = []\n",
    "n_episodes = 10\n",
    "\n",
    "with tf.Session() as sess:\n",
    "        sess.run(init)\n",
    "        saver.restore(sess, model_file)\n",
    "        for episode in range(n_episodes):\n",
    "            state = env.reset()\n",
    "            for step in range(episode_length):\n",
    "                system.state = state\n",
    "                img = system.visualize()\n",
    "                frames.append(img)\n",
    "\n",
    "                action_val = action.eval(feed_dict={X: state.reshape(1, n_inputs)})\n",
    " \n",
    "                state, reward, done, info = env.step(action_val[0])\n",
    "                #print(action_val[0],emptiest_tank_policy(state, system))\n",
    "        \n",
    "                if done:\n",
    "                    break\n",
    "        env.close()\n",
    "    "
   ]
  },
  {
   "cell_type": "code",
   "execution_count": 60,
   "metadata": {},
   "outputs": [
    {
     "data": {
      "text/html": [
       "<video width=\"432\" height=\"288\" controls autoplay>\n",
       "  <source type=\"video/mp4\" src=\"data:video/mp4;base64,AAAAHGZ0eXBNNFYgAAACAGlzb21pc28yYXZjMQAAAAhmcmVlAADHwW1kYXQAAAKuBgX//6rcRem9\n",
       "5tlIt5Ys2CDZI+7veDI2NCAtIGNvcmUgMTUyIHIyODU0IGU5YTU5MDMgLSBILjI2NC9NUEVHLTQg\n",
       "QVZDIGNvZGVjIC0gQ29weWxlZnQgMjAwMy0yMDE3IC0gaHR0cDovL3d3dy52aWRlb2xhbi5vcmcv\n",
       "eDI2NC5odG1sIC0gb3B0aW9uczogY2FiYWM9MSByZWY9MyBkZWJsb2NrPTE6MDowIGFuYWx5c2U9\n",
       "MHgzOjB4MTEzIG1lPWhleCBzdWJtZT03IHBzeT0xIHBzeV9yZD0xLjAwOjAuMDAgbWl4ZWRfcmVm\n",
       "PTEgbWVfcmFuZ2U9MTYgY2hyb21hX21lPTEgdHJlbGxpcz0xIDh4OGRjdD0xIGNxbT0wIGRlYWR6\n",
       "b25lPTIxLDExIGZhc3RfcHNraXA9MSBjaHJvbWFfcXBfb2Zmc2V0PS0yIHRocmVhZHM9OSBsb29r\n",
       "YWhlYWRfdGhyZWFkcz0xIHNsaWNlZF90aHJlYWRzPTAgbnI9MCBkZWNpbWF0ZT0xIGludGVybGFj\n",
       "ZWQ9MCBibHVyYXlfY29tcGF0PTAgY29uc3RyYWluZWRfaW50cmE9MCBiZnJhbWVzPTMgYl9weXJh\n",
       "bWlkPTIgYl9hZGFwdD0xIGJfYmlhcz0wIGRpcmVjdD0xIHdlaWdodGI9MSBvcGVuX2dvcD0wIHdl\n",
       "aWdodHA9MiBrZXlpbnQ9MjUwIGtleWludF9taW49MTAgc2NlbmVjdXQ9NDAgaW50cmFfcmVmcmVz\n",
       "aD0wIHJjX2xvb2thaGVhZD00MCByYz1jcmYgbWJ0cmVlPTEgY3JmPTIzLjAgcWNvbXA9MC42MCBx\n",
       "cG1pbj0wIHFwbWF4PTY5IHFwc3RlcD00IGlwX3JhdGlvPTEuNDAgYXE9MToxLjAwAIAAAA06ZYiE\n",
       "AD///vdonwKbWkN6gOSVxSXbT4H/q2dwfI/pAwAAAwAArqxz6KZIGF3rxgACj2n8FdriCfXOBNGh\n",
       "6VcuBeweCg3DE6CHzVnEdyvoyFxMZMcqywiLjEDyl4tnK4Kto9MUliD3sbaB2qRtLD/ia2dVBkq6\n",
       "Wklf75dOjsR9RD5gQcuQPAPpBmvGJy2nLCKgG/hwZ4WkkLWJtAsvtk8plebl87MhWZugXTRq8MEu\n",
       "5qJD4VpRgfZuYQgL14LTvt8/u4qjhwofHqfU/lzj1jhY+/y1RKCscwiVfXR5LFwy5wYtFWesY36r\n",
       "A6tOBYgQNlPRHjjr/Nj3fNiX95ooPeSAYJsKtuw9ljYINT70rnXnWX2EmehJlIUe4prrDa7qM0Vt\n",
       "xl7BeVVuuSMkNkJc0TspnDofpWzHGN1p1vtkJ7ctXVjBqnQ3qQYRhXFV7o1a6IA9Z1+2MxkPom9A\n",
       "cVve8PDJ9ww4aIpuEcubdi08VIDyAVcVUpEfDIoT6NqOHbXMg/Nwidko8wYrl/0+rHlr9mej2l/t\n",
       "ZEYXMSHeChDR+i/yFrImUkU0ahotGosC7IN4JFsExaD+kOfApXReVWypRdAATx6ce/Sjduwwqz9s\n",
       "OuitEO2XsTwCxpPXFM9/dt/KX1C9h4nfv6WkcCPIAY3yTFxjRfD5DF+IFJH352+sHET41RcCh0z4\n",
       "ZPzvmlo6+2qr/Dmx58Inbp/ImXr1pBWOWd8O4yAfyFTLwK2ZgBM0AEJq3/YDaIolTcDPrnu4G97p\n",
       "qy11KFNtUap7CG/oT0cYlzDs5wCR1xCILUHdZbRbEsIldFN/QMgalPNJUTR3ynYj7crtPPg6BcWv\n",
       "dL596BsZBO3mxGZEQeg0WrN0Khj/s5x10kcm1RVqT67Sss+3BbypfOAe4yvDI+d5Rem5tMJuf0JB\n",
       "dWVr1ArcyDPOY8bQstPlQ0k/g5Rsszevy9NknJg5wSOh7d+pOxl3ADpag7j8UCPvx2iX5hDXjuI9\n",
       "Ai+s6UIIqV6VB5w3obRBnGsd44uFKefsEEdMlTxXpSRf+EuiecNJrarwi5nkZnjY5D2biQwD20QD\n",
       "WtoCNHjTrL/d1bYkmH4HJ3nC6OI/1p/vY8Xvmlyn5I9p0Gcn+wilP2Xus/6oHDa4wiImnFKTBrle\n",
       "ZRMyh+bdSJ3A3zLj7eo+kbgNKjbLGfsHORHV+YvgovM3mjMPEGwykMLhUqWnhnRhoK9iqb47GKa9\n",
       "jbGKm//zVw3a33Aj7FH9+JGVRagnYKxQSlYoLJCHzOP0VjkdEoryP/tzoPh86j0IMtHsXumKqzaZ\n",
       "D57DBbBODN7LELFVwQE5gfeeVvWGytQyfo8g7kVdyLVKJr2Xlmp4wDkuLvArpuFdXMKOoIE2cKOO\n",
       "mnLevI58k7umnuF/h6xdYJhPZ0tSf2WFXIHhPLIAT8wPgbaQiZ0uX5MdaQ8jG0jdtWsb+PX/Uyav\n",
       "W0OX1t5NoYwTxQPyWVkfT7mkihJfOc9vdxOJYIJBcqc1DNTfhCm3WS72m98iCIKKi/sJpuIE1FP0\n",
       "nacoFFxjIx2jEhqXRZ7LdJU0/z8kLz3NYKzOO4nCvCzm1ound1jB6MmZyKdsCMeCtA2/BCLl49s5\n",
       "imouLX8oaOXKA/CuPrt5T3rn5ZnAUbG2PAkgoccAAAMAJGdJhFKrZIWd8qam+u8cnX8YSsAPmC17\n",
       "LK418O+sI9E5SiaLYmEb6eiC6ehJeZLoOnfk7j3sQoHojIRpEqSynE/uBS+WJWCYXCWtRN3+jYSh\n",
       "OtVJT6oUIFOlX7uVwIg2RXcuwls7O2dllfPp5NXYOHOKU/ETnocfjgesrwmdcgaY6DnR5kZS5Ozs\n",
       "C+3Hdq3P2jdm9v0M57f06R9S/uPQWxSEKNkaTwQzz5k2k/z9czqd7O2gNZJrjq/O3QDPuGsocWut\n",
       "+eVrsj3rJy1Gca2le6zvY3KPRSwUoXGa2mgwGfHai4ddVyR4UKXkXZmf9LhNH5Fg7+C/yym7mtfX\n",
       "bfyOxGSfxAosHIyWmXmX2MKtN7nEje0KRTRai52H/PWy87sMpixSxcw5/4B2fV7CXh1hZkQmC6wE\n",
       "FWiL9rMQo5ZTeDDGU7Ze6zrVbZTL2Clp6JVSPSIQzTxWhLuQtQZJeTjXkjdMFFScgDbu8n1NRDZW\n",
       "AsNcufGHpLRpprXN4YNiLiagVkBOZavN6C65Ik3b+WJkDxg8hk/ke2E5U+5iPX409K8CXtfSq5M2\n",
       "/uQSkRvdJaCICZMDFbqXMO6s4xFOVRNwDw0+xF7U1/RRhsZ1eT2TBRCN3j1V/bRSjR+s+EwvgGnQ\n",
       "7a30zGeHf4d/VBBkYXals/QRy6z2jOG3aJX3md9bBr6LrD/6f3pmTxDbMIffQMvUpocCsHEk55ER\n",
       "6Qk5be4r9HcVvsBOCDW/OBcdyjJ8CC1RFB7Uk1osoYSNntlzYp+mE8demo5OZW+PgrqtChrYH6ml\n",
       "K3vI+fK0lvviuCgEs+9LncXbTPoDVEh6WInijFuDb9UAlTURMc+X4Dgw1xlpTHlpdGKkOnQ6XaBR\n",
       "sGsPnwjuRsI9dfpEbZa5s58WOpcV3xc8dpjaCVMoNWzck+lDxnOMtGuCjhMJqNO6STQNslePgkbX\n",
       "0KMwU4cv9fAgSnRiZuUB/E3dYLWn5TQ72cV3kr/Vb8DaNIONkwd7qR/BcIX7Qm/gqRZ2KsHknqtl\n",
       "6hXN+ff8BH+NcPkBIxNYhsUMzmc+ppVUCFOjWxzoNRAueAapfxbtXgeWpjGlUNk/D5P0chf2qsr2\n",
       "MjYJVQHgMhW4OsuOPZNQaszPYtoHZGvIWFWrE1/lYG2wImwkF7jzMQCKyuWr9GXvhnuphHkfaXAx\n",
       "dbjHfFjd9wAfn21M5ptX67mwpIeOPEx2B8tGZkNL+VDliCrBOV2obIEk647oKVUwkDW0csHV0S/9\n",
       "uh9bqysdeMeXAXg6GmLhJQ120ad+C/pTxk0wK/oHaz2D9LXpCD24NwZb8+1KwS4GJMFrC+lP7UTi\n",
       "kWcX7GVwFa+O7SpGyKWr+njAWAq4qD6BD8lGmreFzC2gUfDWHx9j5FDRvx9TpbynsawyV687pDlb\n",
       "j/eTk8FkinrW9/j4RlkWO9BW7MBC20Ec1nFMHNdRzHBJZ6szCDgXDXKQtXCQxrqVVZxZ7M1UTMhV\n",
       "hzx8a3W2+xBOoCpQlsLqoeYAWJ5XTXeUVF/aHWyRkRC2Hyocn+MZ9jJI2QV6CdM5rAlC+nxcHf7o\n",
       "jrPAVJHloP2coGDOugZUvf+L0R0wuHECZfrz3yYMoykPoI1FwcHqgc0k//4v/5zEMslZrvhwsSQh\n",
       "X8Ua7iXRv2B4QZJ+NhLOxkpx3sRvUKeOOcgQGhTUL63JYYwMKDaEPlRDENTqmdNzXlUxP+1ZkIz+\n",
       "0AyQ7zm+sBX/bKKhVsrVXILuKijF3x6HGuBxGKmK1bJAoBIjHddoOa/seWX5XzA42lJSZRsA++ob\n",
       "DYRcRaZHuLMU/sJB96CxEBvqlIcsFV/XRMQakcTFc/uzl04/9OiDrBaDYQwvs8F4Rn+9mKfUU7cR\n",
       "wp4l6ya06GZXyivkux6pSsjlqzr96CUzCJSOxsEhsPuqVXBw74AqppaC68el0wksRlDSh/BR4x4n\n",
       "qcs39SXorurhxtbw3wC1Em7MXKW+tABZ9OGJd/VlLlrBGEvnsSqeV+2QUZn7Ra0Z/l5doWyg/Uht\n",
       "3ROGsCAIq+XUjPJzLQMFVzWpSbH7/5d2xxlNJN49VjCEX22fq4PG5Wr68rcQvjzWlmdPxXsjr3XX\n",
       "ZALnrFl54x8f+bO438tBJMrkMEunXoV5IQ71102gK+kSXCHMdtHICW6KwIh+OXYSVSEQtjNuDNfz\n",
       "J+shi7zysY9TpsO7oExqbEzOp4uDuij03YCjfETI9GkrJwNyjV6GVwmFSvcWetxNxOyetmZ5m24U\n",
       "CjKpwKj1xPNQgMANVIn9v4uhQhzqzL0qqQ1YTcDBPCT02f+3MNUW0zH/p2GrmKwwmQ4rrL0/ZS9Q\n",
       "6yJfXVZvXz2a2FLa+Q6jM+g0Snoo4LngXnAWCf6YInPAHSJKwiYVJnApTrVdZAyy+V2syvx0D3Lx\n",
       "Det9qdQQHtp+mJ3lfsTYcPACeNW6RrWekcrc2iEKdh23cQHUPIRv+KDiW1u0pK4F6qTz0QrcYDjs\n",
       "QijlS/GjlzXtczqbduiWa/qHQ5GaeWj7Ur2krnJjDlhVrplLtDfQd3dMOyQDR+d8hHQEv/PVknTa\n",
       "3YU5myX63DYSj4ys0UpjrYp/L0Yz+wGFMZhGrH9E2EGaoHjGzuFHFmzNhA1NzrvUMfr5h5PLxTC6\n",
       "PyCqQqclqO9Uh8EHOTtVEFfKmQiXN2fWgMhovbhPYBj5sdJRAv4IlxzXh81tODMipSBdOkpF9s8e\n",
       "x/unDbPXHkofT8rlP64xrq0qficON1/wraLJrtNUM2GGSr/+acO1qBSDRzNMKap/jSgfECRDfUmL\n",
       "LWS0dtTtc31N/VE4HyWgFlMTfh1bOmW1zDxPZlBp31pwlyy+pGioRsZOV1PD4+lrs+X0OTIqDaJ+\n",
       "j3CticchAAT7PNlJskpcC4B0QjcAAAJKQZohbEEP/qpVADDgBhugAHLRi0g1gD24F/pbx/p7S3g5\n",
       "UIQ011xjdwJENTCVMv2z+Y7jnFd5ArNmCb4yN5vU70JsiaFS+MHesdeES5x3QuwGHj8ly2J7re3h\n",
       "JOyP3Njc9ffof9aRzxUoDqxIRCiU0XYmlxdvt4N/nBzxC1su4ovmiwryilVRoa6TCpVyy4dTQPJA\n",
       "YTvrjxW/urX7V8DwC1FeiXCdXrKAe0FIh8YiJ5H0yJG7ziV1PlxfY0n91TDayrz2f3G+H5GN/XF3\n",
       "AMTpmMKlR/BpS2gMBvTUjJY4+kXdO7r7mPIuZ9Hu2rX5B8V+rreI7PbbrJ4mcbjfFUfv3URJxivr\n",
       "K1s2nCPdHozxMHfmLrChQnjL3vPx8N4D6oT2wAAA3QFKQ/mkwVVJwNYRondwnk/HgVZWyP0zZdjt\n",
       "LLjljEErjPpf5L/ZlPo9DN2/3ohm9na0x6i0HHIi1yy0os7xKy9+LkyJ/B9osBoYJqCntZd7Hcaf\n",
       "Qkxb/+MSGvU4qau5cALP2Tg+Ewnnw3FQODdS+UrxGfs1wIi98aqpwwpYjn/xsZJydRsEFIgK+Z9k\n",
       "2YIhqok+kEwkNWBcWNGiGMel9CkWnx+REy01vfLVJ3Xijt78DrzgPEG9TfBZS3LjoRTqcg6GfDfy\n",
       "8UtoaK/k7i275U+bx3Y/SuulJ8A3LyG5Cf06jyaQux8nElS4mQ20+wg7CSDidDg2ioDdYQ2OjqWj\n",
       "qyFqqowHsc5o9AbYrdNY4pde4NtQxMH7YUU1o5pflvqR3tbO0oQ5oAAAAH5BmkI8IZMphBD//qpV\n",
       "AAC7i0UNnOUe9/4c9eYT24X4oB2JwRc4q8mHvYv8GLcDYHrCUN2DdTSyP93vBqlmJa65pw1sNRUg\n",
       "T4BR8t2uB8qrgZiVUYhSPajAcgEAjKbJi7S3D0iHctILKMbvYQbmUMcCezuYX7+H68Kvq5h6pYEA\n",
       "AAB3QZpjSeEPJlMCCP/+tSqAAF4+gwy9mwdVZrbSlt4d55SADaq0xHFTJwwWvcoV3wNgv7Of8z/w\n",
       "Z7GJVQbfpr6TRl2E3H+NyLSkIXZM/cWln00I+rQVApMAAAWNFd8jbqIiLxbW6l6kKwm5CxnvQGRn\n",
       "ojPwBtnKSSAAAAB6QZqGSeEPJlMCCP/+tSqAAC7myEVkABJbO35aqbLLiZ2BeYhQWpt7kHBBYLGQ\n",
       "GtrO+mvVNASGyESL8SyPz+p/P6pxDbZua6GOn/qGG/yDTnqDm17YOE1eO/opFL05Zo/o1gzLSRQX\n",
       "9/LxCq469RXqqtdEMxgH3DQlQqcAAAC3QZ6kRRE8N/8AATZR8AAyK10PsbyBtyQNOMyyCRuWkEQP\n",
       "/rCXTYiSAhT8CcBSGAvAcGb9UD/5cb1tzm9yfPcZWEBn2BtthrP4V8+xXzhcr7KDuXnE3xcjk7Cv\n",
       "YZPnVsILGz6z0ylOdeLkFrHdqcWPvQ90e822/47Nx/PsmqatmqrqonZ3hpb1K5ebBOIDbgk+4i9Y\n",
       "z/XeLpqXUHMEOwJ25iSFD1oPCxCcrJ5XRAq8pcdbHoIyHJ9BAAAATgGexWpDfwABNYyUjDYYQX0l\n",
       "0jM2qKmZkoMCqAA2/LNTq751coF8bVDOGpvo/eQBXPnWpgkiQG5K5A0b5qwfp0+xT9J7zboIXPq3\n",
       "WmyygQAAANBBmslJqEFomUwII//+tSqAAC8fQYZezYOqs1lSbwAUG9LqhVGZUpS4cTXdbpxOLw3T\n",
       "ABos4sCOm4LUo+QuF4uf/tl2pnNsVUa7RL7lUDelIwQH/gnsDRXEd5St651SMNr5Wnh8wA6wuYGs\n",
       "9K76MYp3xo//8ShkX7CoNaG+vAgom50i6ChnurzdF2881g4Hykrw0LOOYx0Dq3VAouTd6f5P1LeD\n",
       "ImqOddFFi8lhYkQJWLm0EpdjR/ykR/Mi57/twR7sbHkSdmZa23ScezKfSTq3AAAAokGe50URLDf/\n",
       "AAE0/SfK/WgAuIK/0Dk7IWJ6ZD5XAzXVMkj96Cy+m4tMEwNLv7cFfcoLGqF8jM4dn9SOw0S8PY/a\n",
       "RoBoBJm2NL2PskgLvyfth/9NuXmoxOjEu3zMNB7Sf+3spHSZOjcIgKoXhhghHGDqnmh8PmM9SAAc\n",
       "V8dOdeLAtHD8s5iBvujSjSGG0YnY7jD59NY96MrDmIkYc2KgmFN6gAAAAIYBnwhqQ38AAmsaRlPz\n",
       "T7JNApi/sNAo459auAV6EqG1tV/iCilGHCyjQpaW1sRvvnwHnewtucAG9k/wWFH0vlfYMFOS95eW\n",
       "yU2kRUpjGHea0Tom+uCqK8PpInv45TuTm+I26oIzq0iw61O7mLeg9MFFSjNeXFqtD7FUmqeEvvPQ\n",
       "+e/BSYqBvQAAAM5Bmw1JqEFsmUwIIf/+qlUAApQhVce8L9gOv/1lABUbmwOosOAsSDjbTNd6sZHn\n",
       "636IlBUL1CqB3gelHiy6HmDmcE8SmOjoVxFqwxE1WUwAF3Uha3QeK+pq3WNvUhdRCVpj6BfXuXzP\n",
       "34eSNBo5/auh0RHvBS09JFVD54ECHa4w6DOlic+PDQLTFEBk9s4DkPaio/ZaHoo5F8ZHujWBJvuG\n",
       "kTy3Lm/sdsy4JRkWqBbtJdYdJsdncvRVBj3Nw422DSW9uOl6PUhKdbWC3hC9gQAAAIRBnytFFSw7\n",
       "/wAC3IirNWlwARbEvn55m2WxbrzSRDmHgf1yYvgvvWyKxXllJd7/kYRkcVjLLN50pmvuUuSxZqlb\n",
       "O0Ddgiz5x1BJFvB2qo29tXPz1zpxCliOWw6uHvHTCfbYWXQvnRjAG1cUIkXQODUA5+RroMSQhg5N\n",
       "uGEdErd/ULZvs4AAAACeAZ9KdEN/AAP4e9rEBRY9Z9BGvDJoV7fEAFsnxRbTyejBaN//D7KsBHE4\n",
       "TRMirRPxHFTQ/6HOfLKh3RLAskBFzo2qCUWq2XeR3hqkc2Dpqlj78l5uOIKHUDtc8Z27Yopthw7M\n",
       "IEZN8UuNb8EgAAUARG84ibHXtjY/ePK2kZrZML3TUr6il8gLhaqmdIqIZRZhQ2TNi7hz4wGZYlKY\n",
       "C9gAAABvAZ9MakN/AAP32sjwEVcaZkmTp4xwg/zInqf9SGBN3zDtGv1eRIyneRTPNRRowwOGQoWM\n",
       "rwGQ/6XlAAB/ngze1phRIDiwsY0gZku7tCgebrcU0kjabaZdNF01uFne3Amj/F480E/jri41YZy0\n",
       "KHDBAAAAaUGbUEmoQWyZTAgh//6qVQACljSztG67LwDyYp8i12JrWD7FPSeRXIEImarekuE6vYxE\n",
       "DkTncCC9crO8r3BJYCkj9LXPIUoNZ1IU8nv6VOx70iMgT0dpGVW/g452AALbapNANKPS7MADpwAA\n",
       "AHlBn25FFSw3/wACjzBYKSSeWNTC2IAWtzVXwJWMWuDsCGMQGScnKrNn0kMOcwWA4TI38x1SzC1s\n",
       "AADomyLWFyXL6qGSpHRahkqV8iU8ikxuDtnhScov+XDYFWLfajX301rfgEorL2teMrM/1FFuo1ls\n",
       "kzbGg6oKunXNAAAAWwGfj2pDfwACh2/dpAxeV844l89QGuEDhJaA1NkRjPGI/ri7Uu9zyfX/lau6\n",
       "mfeWjvwIIIyhU3tyWwLgDsRSfo2uJa4PzVuBHYsg0pST2czLv7guTX6piS1QjIAAAABmQZuSSahB\n",
       "bJlMFEw///6plgACze8IAnzPk5q/uuSiFvTACG70hQ9/BeJNww6gf21UUdNB0AnA9HE4jHqftQQ3\n",
       "DT+MABLJM4XWGg9ccMgMWLpGF/K0h8Y2LdsJGAjMdiQ00yBQBvJeAAAAkQGfsWpDfwACh2/dpjbd\n",
       "sNsaJsLNSGk8G5kuGM8jDkyrJaj7jff+Zp4j3UzKVgv26O++0sy3y1j67OtYIBWes2dFGZMnAG5d\n",
       "605RVo9NkgAABTcsswXg7YKe0WstLsr8fsAP8L8bLLI6wIeBGZdg/zW+sf8UdRLh/hFuw9b5ceU9\n",
       "1q4+DhJ8PeSQgGTL5nCPQ2EAAADVQZuzSeEKUmUwIIf//qpVAABdxaORs83x73/gfmsAWu4RofCu\n",
       "54ES6HmRZ5SdQgPYVjZGOvnhKWY1ow01LCN0F5f/qiSxjase4uMS2IqosRBxU+6aNGdN5iWVq2PY\n",
       "kQbcQ4WkiPmllUCUS+1569kixC/y//8SZ0XjwIYyp547g9o1UjpeyqRriddT2oWJ8G1EM1yz9env\n",
       "df/eTfN2P/YdPR/p15JZppZnD6ZAmVjIVtqMkSa3ReER0lj/DuaBf96ffloIUaYWrD+0nor1qaTB\n",
       "mwbvIShgAAAAxEGb1EnhDomUwIIf/qpVAABvKK8gCISLfT02HVOVjiSpn3dLK3P/+euCWCPO1dMh\n",
       "Pc84GhRowepS2mCQdWxP/8WAlcZ0z5FZENyPnIT9DapTFsOlyg1NcMWwTuZnt5noc+lKyrOqOV38\n",
       "wK2Fi6qpsVGwAkSV0lhK2zuzlxmgQV1gQpUg2rLyXMqkwdBkZtmD1jKTaOXAibKm9UXnAen6E66w\n",
       "nv3PtBQcm+w+WyS1NxruocsZoxhMKc7xpuArTlEM3yV0toAAAABjQZv2SeEPJlMFETwQ//6qVQAA\n",
       "bzAhgV8P3IH0/kOAWKB/sNa9zeya1DOFhIUbJHkX7fb8ACHuuF8GvRmi1ABa4ODL3JUmj1TXc1vH\n",
       "X73UXZ3xAJux9e8Er4WEY4IiAh+J2ZltAAAAXwGeFWpDfwABNYyUjDYYXSse2NE2FmpDUovREYQO\n",
       "8kGZlWS1H5dxae52NtZGw8NFlA2uTIMX82ygDona7ZK0VD46yPCAFjOqk84hcIAeeHPL6SeB3nBi\n",
       "cnVRZgKBq5RuAAAAXUGaGUnhDyZTAgh//qpVAAAvHw0Ief7dQZiB0KE379ZneADSZwZ1tZ3B1h76\n",
       "84PeqPqVjSodvp5HZGRcEAsC2a5uudBGRRn/036oy8h2kQ2o+fbTu9StnH1SMXzI+QAAAGFBnjdF\n",
       "ETw3/wABNP0ypcFpX+1if06wn9feAOKslpjMTTjhDQ8/SqWnQ+eT2wpUbeQLggkKUwo459asoe+G\n",
       "noVdO8Bwv7zcw9xAXEWBOLtoRnNXfdNWC62or7hfzS/pLP/fAAAAtgGeWGpDfwABNYyUjDYYV8f6\n",
       "IAPLIuRkFglR+ZS28PwLgRYzgrIDjw0OfNtoWKPMAssT+Sm/K0gJmRc483NmNFyhxB7RwHgOLMfG\n",
       "tBhh21H2c42Yvf4sE/jvseOtsBtY5LRWazAcXNbuZMXFxM+Mtr6bfNCbFk9ePx2oAf2FxjI9D8pT\n",
       "Rfe3tut3Oznvsu6/DIlrUzUEKHI6GhptIj+FL+ey1xpoM7wxNchnEvIRwgWCoqVIidBwAAAArUGa\n",
       "XEmoQWiZTAh///6plgAC35dX+P82xAAQ/Z6Y2YeQAJ+PVUCTrR7YEzTTDiU9VYP9Ltni8dbNvkYY\n",
       "03WEUduHRH7ethKRPVhd9MamU3BFnNDxgJ3ySi7dPOH2PmNfdiiHTtcPA9EU1TGtEWVTGrM1CrmH\n",
       "eFssH4v1NWO3K/ZR9hm4iC00Bzysfvz/DS4K/iPMnaBSthXH2Ziu1qZpRQ8DEgiMIKiXFZkuEneh\n",
       "AAAAkUGeekURLDf/AAIFH/TGpdZ+OY9h8zSWxQwAc5Kup1+VLwT469eyReV0hQacLGltwQaSlZPd\n",
       "RvnntbDiQoCrZ9wh4gyCeuxZI87/tLfzeZ18nhbC2NHdmks/sdmxgeddCUPeEqvnE/7Pjd7W7eQE\n",
       "guEGZWcyQ10+N8acot/ayI2EBHx4Nd1/cpw6TQ/spFty04AAAABGAZ6bakN/AAILXlMelbDLhAC1\n",
       "egYKYmdVOmPMF8c6eAnEaTE2gicq7hfyn8wfa7VrOolhaxYoSTcI+uazv1s7RgijvBSmjQAAARNB\n",
       "mp1JqEFsmUwIIf/+qlUAC8fF7U006Tr/81QAVHU6DsX65yxb7ZzZTj/RpZT45D+QO7Rfd0pu+sHu\n",
       "qcmml0eBq1O1g9U9HCxncfiLG9s1SFhjFDdPrVBmbbIpSD3RNzk36JVv50NpErLd7tGo2/aOec8P\n",
       "ZPkOrnXsHxy/7z+zNsWVVGEPvTbOk5ZEPI+lHOlKzaO7zinEOhyUcXlwO5PPnCsnhGxIVCn2qzqH\n",
       "GCddv+Qcd9IxeSbLlelp91xmsrPULlNQ0UOlHxVi6LWpxAzfMWtP+6lF+XadhoEApjGuRzyl8QXJ\n",
       "Be9z5IZWCQqlL3VZApIsCDaWGga2Q9/fhbkYe6J1kqXR4Ax0+F0wAmILP7JJlQAAAHNBmr9J4QpS\n",
       "ZTBRUsP//qmWAC3oAKI3Gf/D04rTG6gBXMIXnHyxiB7JX494ziOwHO4/RDtoTPPtUauQf4EFAlyJ\n",
       "LrIDuRJ6a/s7p60Y9uB3vOxv/NznKksOCWVrrCTqXH9wAAEjd74yGX4jCvsswI0YpJWAAAAASgGe\n",
       "3mpDfwAftxr7GSrjju43p3aOxcfw7qvAwPq/zriTmygj+qGhu/LWj5fEuDILEmj/DgAFxZCn1Enj\n",
       "DzssBCPIuYaNEhwPdVwgAAAA3UGawEnhDomUwIf//qmWAC3+mqAKrwxt7ECxABf+1f99BK6BSNaJ\n",
       "nnX+mvpCdYWV2OSdWaCzYkKn6RP4eFtOjHjBOTdKWhMnxuqMMWMcXK5++h8je0f/4+4JY7cxZnSi\n",
       "vmGWFpwiZaVYp6VCVdDUoyf/59Qk0GabBXTWHdXUPnfn63LOFM1cP2xkvgg2CpD89rY2qpGiXj1f\n",
       "dC2MM2Qq2eHZaA99MUlFRJrfTTXFrPthZAAlLAaHg6bsNz1ENOwwMaH2TxGNc0pDvPM9sAA8Ax3g\n",
       "HC+ByXODiRb/LHVBAAAAnkGa4UnhDyZTAh///qmWAC3RbNoBsR489G8/frk+hVdHVyu285Fp7Q+l\n",
       "371rYBO7hTHAWAlwyMHWyaI/Kgp9RZhVsZ/ysT7pCZEjkGD+ySLnn4CVv5cukHfye1YyJWa40nxi\n",
       "AVUobkuryOXpmRkSZe+1Iv12tuG5UcsIMtTkR09pHmcHgnz9AkZTNrMIAOXn9SVco0EP3swXnO8U\n",
       "7hKCAAAAekGbAknhDyZTAh///qmWABePhTEpUlaf4AQ3gA1z+BNy2W+BVc29/TP2zBb9yLb2JE++\n",
       "ZZJ0kcW35IYfhGCdHY0xKH8aZbDLRuT2T5QjJO91JIU0D1djGuHoxI09d99kJWyl1JaWwjgj69Dm\n",
       "7sCaVYWxGFY63vXgmKHhAAAAe0GbI0nhDyZTAgh//qpVAAXcBOSkgBaJLYE23uKz3UUqXGOtvrp3\n",
       "16td+X5hhH7zzg3UHX/Yj0arSNo6ymj5JLYyTzszrAlE5qHMBq4nk9mmjEd4uY5TU1o+Zwi4jqus\n",
       "HsCNES7FJi75JzDrv7ZFmOOWg6cUs/N2hbp8wAAAALtBm0VJ4Q8mUwURPD///qmWABb/fwOdfUwH\n",
       "hqgoBsw+ubHrI4sV3fpoIR0mD61vjoBCraXLBc1w7PiN4/fVbRTQ3YXqA3Pub48y1XCcA8l1dHga\n",
       "3Bz+JQ87Z/GIDFPSTppVEeJfgQi5eG7CsaBFMre0RpoeJ1dSWR/KxSGcmZtnXJuDNWp+Ff3Zg3SU\n",
       "Xm0Y/DzDCyLURBLWqyyQAkRzZpjVs5fwbo1AlG4zP58o1SFtvUZYGFFKXfOdBD5hAAAAYwGfZGpD\n",
       "fwAP32sIw2GE8AdimZt3Bb1vLogAAA4ebu6O06w21CkUlbqoCAUHvApQFKPZXQRC8T+J1JLpiaHY\n",
       "m+9pbIpWjkdU1GzFl/IVxi6HH5+Al+7L7Jso/n7otUowjn3g4QAAAKNBm2ZJ4Q8mUwIf//6plgAL\n",
       "b8hZBw77gwyjBRDW07SIHx4jBR2t373KApNtLlgua4dm/VD3DVbRTQ3YXqA3PlPAYFV63KA+9nmP\n",
       "foA9EfllPQDXJvQxRPcigukdvU+CdXUlke+mxBqjMmD9rW12Nan+fA9gsd71p038JWixRqlYAmmk\n",
       "IBJuYAIymLZknXXp/1lESBMK5ZCFX4FBO6iH0qMncyM3AAAAT0Gbh0nhDyZTAh///qmWAAtwhnH4\n",
       "qg2G8hatwdk+Urf6E1PF++7ZpiOu4ADJQaTaQqdCQZ+SHXtoR13jlrT0t24JQYeNXO33ZLe0FXEx\n",
       "soEAAABdQZuoSeEPJlMCH//+qZYAC3/Ctrw9QTR2bWWhOy/2WMiPwTEuuEDeV4rrjYNyUND5WwAD\n",
       "i4py/RI4l/VmjnD66rOuxVTAHDTRVSM2OK1YCIu1pGmOGlmvkEsbkJmAAAAArUGbyUnhDyZTAh//\n",
       "/qmWAAW35Ov2mgL80eGAX3u6chfui5dTACrpalB1sGIbfN/w6mjggcyf/4+4JYM87V0yEw3lSPj1\n",
       "cvlQa/MpBKa6//nCErjLwB3ucRLK8ihamfLqp4B0mAXb6XfZghzMYa1gtMyT9flr8bgnmBWwoBZM\n",
       "8Nf7lNn5Y5MmCh2bb5NZMepzUJ97ntBLPBLEzIDJkcJAbZ7T0mAqs+qj2fadr/swAAAAYEGb6knh\n",
       "DyZTAgh//qpVAAKF8XtnKYP0PiKAA63CwilwaiKJdDOdQm2yuHCBlrHzUwcv2cj4SScGf/uQNIqh\n",
       "2YVb+oe5p7tI4/fGNbVYW0ptdK2n/qm+dm7E4knteTdDvQAAAL5BmgtJ4Q8mUwIIf/6qVQABdwE5\n",
       "KSAFoktgQSgGRCJ7/wUYZuDBf1VIXdyi0Le0f0Pn7q/UlWM58RlG3eiZ0P9GlmNadXJ4r3wtJW/j\n",
       "WmP69hekua8N/x4B8cBuI7eCOH1ZI3KtbZ2kPuH9UgBhZ15PQS1yjJU85ZFYPqWbdRHiMEBKSDV8\n",
       "s6C7Pt//6zL5JizEepOT15ShUQoNGLx6YbezR5wkLnKVEDTzvQNvfwvedNOZuwILeThI3IITYpO6\n",
       "AAAAkEGaLknhDyZTAgh//qpVAAF4+L16rscBGCa6XGEdbNvGG//2AwpfV+qtDz3ZBKNKtq3GTxbE\n",
       "AEJzrUCg9EBNiQRMwKYAkJ/qCNhMk6vS7EOND+wX/i6E+qtgLSLHziDqXc8oJr67WvEALpGdOlGJ\n",
       "DDoUJTpR2+cFKTP5V/vUSw6w8/TtxKDX3PGqB4xrUxqFtAAAAJ9BnkxFETw3/wAD99rCMNhhOUpd\n",
       "CrsA8igLkUuoNwIAAZXJRYZHC2Y0Z3KaT5ohK0LXSEG5fA8Xf24VbvPLeLtpB2Mgqfeeo4fBMssR\n",
       "tBXs/P6xkvD4EbLB9+L4BAAoQBATigBUOWZgwvcKpbkRMBprrMLYH0a4a+9NVyNqpPE54valaoJL\n",
       "FLeH36dTdrlP0mnjsyF985hyXDkk2ODSsPkAAABZAZ5takN/AAH8NcLkAAQ1gsGrtIy+G2GlUY01\n",
       "Nz+w56TQqYZPVfNM6d+c3IbNPODHKjIZHmq3cHAtjMeq0vcYdpDL+erc73PnmnEpdmzUDnG4O9CF\n",
       "O8qDRmUAAACJQZpvSahBaJlMCCH//qpVAAC7gIUEkAJhToq+zvBWLxFXfu59sMuRT7gSYapzKmUD\n",
       "BkzmSgRuBb/0VXqZNMfz+cmA0Jq0npD+kqkp2iM9dYI0haFLePqRZJxtL+znDV+QuvzsMY/rt91N\n",
       "8X35U28Kve/lN0ASFiUAxG4ZnSJzUrdHXcs0104pfdEAAABqQZqRSeEKUmUwURLBD/6qVQAAvHxe\n",
       "vVdjgIwTXXUAvu+VyqF6QvW9coPJhlOpy6rihAf6mJsDaCw1U+yprOjA277iFsdPDkABklzKG/vD\n",
       "L9xDfZDOYXfhd+1Bao26L/m/SQVlWefz2KCDgAAAAGUBnrBqQ38AAfvtYRhsMKcG12Y8iDrGntTX\n",
       "U0GFQADkVml97VxzNqFIpK3VQD7x1qabLkuQWWB8JCBHeY+39K7mM1oV2XCMpGuMkycm1v1jPya9\n",
       "EyoMlc2voyl2xFQuqKBjNTuUHQAAAH1BmrRJ4Q6JlMCCH/6qVQAAXj4vXquxwEYJrpaLkyADIImH\n",
       "I538kWZ9vSWIyD5c8JSsH/Z6s4rl3d9gbLffdezuek2ush8X7tUm/xJf1JbIsgwyzF17lIgS2mP2\n",
       "6l/Ww2RSr2Jc9QbrfaTrH3I7NBUdgIeEr/ilU0hutpXXiwAAAEVBntJFFTw3/wABNP0cf/lTCe/J\n",
       "Bh+7I467GWAEX6xdquhLhqdePYpkMQAtzxp+/TXHJd63fwUg69SXp1M484dH4AD8ogcAAABlAZ7z\n",
       "akN/AAE1jJSMNhhegw1nedTcyMAPJo8gJ2wAB1k19SyoQLj2dENi9sMb8zkXnjwZPCUIfE9V1iKR\n",
       "qlHVI8hCP6iKq+iy9RiBc9tWtGCq/ToGrXfgk8cQVi0Q9ai21/EQUkAAAACPQZr1SahBaJlMCCH/\n",
       "/qpVAABOD5pAEXVxpOfWI3ibmbg/3seF0y4hc84HY017tnDtbAZJYfSeJMLNX5IT/W6OvPVqXTt/\n",
       "tUk9W1Fa3Z7re2a2d+8s4fXaLPHwzBHDdrwji1Bl65V/RDgyRzJmyLVXGuif/FYhDg0iqO3jtji+\n",
       "SLvGjl08+/uz0QUxsztLaIEAAABkQZsYSeEKUmUwIf/+qZYAATBZubFECn2jSePE2tncy/Qp5stJ\n",
       "I2V0YBwAghHnRF4UkUG4MT7pQfmR7Uj3GJXGcyvd/eyeNdDW8+z8f3+C/3rM/RFRW4xt87ve0XYy\n",
       "2xfv3uYiogAAAHFBnzZFNEw3/wAAmnmhHGgAtk+KLaeUjloBgPiRI9xHFTQ/6HP604RZdpDsOexw\n",
       "A9IcqUR6tgAVLVnvzTtCMr0ar7KXYpEmjB9F+sy18+v0vjl8fy3JsRk0h/p86HT5AtO4/dD4GP05\n",
       "dtT9TrpfXHE0kwAAAGEBn1dqQ38AAJrGSkYbDBxgleBPSmFHHPrVs389UNrarPfN+iiJnYz+ltT3\n",
       "gAFeM5hz76eWVfh63aDWgup36L3KmeSMqG9mxK3Bu8Ra4xDoWWlGoc8+9iBZTdR+tSqZvxTBAAAA\n",
       "SUGbWUmoQWiZTAh///6plgAA2izYsW3kaAFiHbaWZv7OlhSSwvBaN5J7gJYAFxuT+2Jwa9qN7TE7\n",
       "T7fI+qV19RR7KD/4K3aK44AAAADDQZt6SeEKUmUwIIf//qpVAABQPE3gDcIvA7NRv1Q3tuvxkfFo\n",
       "3Tcn1B+8xYKh9racLiIJMw0I8yynX7/RUPOLU40+natIahFT2RoNp1U1VF+8UyY8VBzsAp14PArv\n",
       "NXJWl9MlByHNdBkg9xfVgG42Jguh+My+UYaUkqy79tED9G7Z8p86gmS8MZr7UYLnV4K9Gi3cnHtA\n",
       "ugnpyktP/NiDavljrWtVVOWT7D6r3UbncfmypdxRvVtdWwqKM2StXQ9YNjghAAAAyUGbm0nhDomU\n",
       "wIIf/qpVAAXjKy6Tr/81QAS9PTSregQ2wl1IYm88JSwDFWJLei3u70MCjHsQVxNLo8DXN2zP2BMs\n",
       "+OjVK2PRpF8TsNsmvC6TyESJJEgdnugHnItkyv5bTQmAcs4E/2diQhpEHObC7TGIf+aXyC/l/uJx\n",
       "OD4vJxgDV6rucQ5Xkut+09JV+YNWw8afZNg2OZ1F/FQt4tnuxUKReXvePrzMHt0wIBPT1WW/mkiF\n",
       "PUpk5yfsUDDEYWYxw2htHL00b5iyoAAAAG9Bm71J4Q8mUwURPBD//qpVAAXcQqVoCXWFdbIUz7DG\n",
       "FPbDOur4cAAAHoAAUQEhx4Xi9viGXV2ycM5PscHK66vRuMDUl/3DZxrhIjkLVd7ZhagDSkPENrmn\n",
       "wANDsArBiLoa+Z7kmQnm9H9F7hO9i7kAAABNAZ/cakN/ABBci5xn47O375/K0eLIfrAACbDoDlg/\n",
       "o8wm3cJjWKv7gBwCa9wad+ACvol0kIFL5vd04Njw8ZxGa86p8SCuuD7OwirF7oEAAABnQZveSeEP\n",
       "JlMCCH/+qlUAAFCUaSpBi93+LCSPOQz3aAIo/Qq+f/zj+oLuXGSqZz/7IXHfo9bY/mFfODfDQqYA\n",
       "dweFGV4dkGhOnwMEF2WgT40gK/d8FfmDcZCo1gF6bYAjsq+oe6ONZwAAAPlBm+FJ4Q8mUwIIf/6q\n",
       "VQAUoQqte7wx/uCuuxQAXFvQYvegROVFM/gat5l902bk+xAf/4hFfdVZiIR8T0AJ+BDdD6/V9Mt8\n",
       "R+KHP6/377aKovWjvG80KmhvBSano11tIIdjYBpI2fjfOWjpAOc27piPG2sKeOkAhnzMDcnpsV87\n",
       "M5f93od2hBBvcde6PJ3NdB6GNFpMFS/dcNm9iVeYLmyg2qrIFz8fBsHe82Si/2uelkIHs0LNVgP0\n",
       "32seplo+RuFP4T3j3uQ9oKnOpOa1aMTPCcvSFZnymYWQqa0EuSgX7aBfV0oy5HntHtFRQGymDlVa\n",
       "JEPWCTTUU2YAAACnQZ4fRRE8N/8AAfwoQHOejSHVc6UAA44zDOr/8kIfwDRTWUpPUKvkk6lahfwO\n",
       "XiiZOS8fIyLID9ExZaBinSFrDfaIKvF/fvPZUV72YEqyQbO7kX1JbDy7BGszgRQ8ZjC4ckdVtWub\n",
       "i4zJn5UyfXmlfRBA4CCkHfHvWlx411lrfa4bneiU0XCNmQ3d734ILYQgda0cp093R4IRmZK90HM2\n",
       "jk7lpy4p+4EAAABHAZ4gakN/AAH8CLaIAAhLBVEakSVsrFWJVuUGe75+DAqZtq/qdIY9lndvBAAC\n",
       "q6WQdNoVVeNol2oDlQqMqJEQlEER/Px3VLwAAACFQZoiSahBaJlMCCP//rUqgABdzYY5fH/6E6NQ\n",
       "A4gESwEJySrwDgp16Sg84GCpWHfOBAq7H2bl8jlZO3ofJ6sE+FiBdLlUFHS3aNx9e9A94G1cgDl4\n",
       "g5t21Y4d4qyUClukh+HTi2ZaDrq7+xSPfFsJmi/kBIEzaJkyzsL0H6VcilfuZeHOmQAAAIZBmkVJ\n",
       "4QpSZTAgh//+qlUAALuN1G9St1hXWyYVB5ri63/mNkYpAQ1UAElVuoW1WuJlxXFY8QHSjN9EqqeR\n",
       "sn44Kly/uXyTbqTWG2+fIUc5+AFqWWfxXd2offSojs/bdFAWTRpXZKFmpzbshWBC+/vpkKDukBNz\n",
       "HXHTjMUilMkybJhBPHJVBAAAAJVBnmNFNEw3/wAB++1hGGwwpwbXZjyH8u4AQUerOntxsIKtdTGP\n",
       "4cWRgxzjexSVIPpBXvzTR/Cfk6Se1zts1wrM5tGy13/RntYGKTKYN+Y4LY1mA5s1SxKYgVNJUYWk\n",
       "xTFxJPrVvU+QoNmAwTYI2Zvw6Xk30la0A33G+EyY56q+PonLYIMhiXcAPeBee8Ku810cw9r/YQAA\n",
       "AGEBnoRqQ38AAP4ENEQABC0s3zLVTeDvM+ZVR+WU0X1OYIoYKGLzPFcyT5+D9qdVmiXNaGwjcCjo\n",
       "jjJXf+mS1eaLOWkqWDQsSup7d3gk3dY+9vzOeqquG8ViJwUqF6AYJTfdAAAAyEGah0moQWiZTBTw\n",
       "R//+tSqAAC8fQYZezYOqs1k86mgCCIK2HCu6JoHNDzIa8Szt8A3uzDNYCy43Yrpy3hLdYi8rMXsf\n",
       "RAfxx8I9OVZ0sz0RVIgM9JcI7VhWGjg2hqk5i5TmF5VcrMYKCBoXZ8mHhByl+TTAN4136YZntCa6\n",
       "SoPdTFKvMaMqvAcCWmL+JlXSNTKBQ3Em+93Eqiam0xevcOYnEPLPzR714HKhCxa4iA0Rjo1JcTPM\n",
       "jNHmXUJqRwgd3vfw09R9zlf5AAAAXgGepmpDfwABAo/6AbciWj0P5589UTA+zN2UOJ1t1eX1UUAD\n",
       "pNpyJT3P2kbPYaPfrG4L+buj37o8xhzuN0QJ1sIFgRpScKWEBB/ZOxenDZGvzanrX0Z/j9DX3Smy\n",
       "aoEAAADEQZqrSeEKUmUwIIf//qpVAABQRCGBXw/cf2QkHrhKrUDbWHWkaExRquFtyDGsAmO4oRQA\n",
       "UEINGU7QvCgox6TOZBIpkfEei425MUJ/7eErP3vzBNeIiICKWF1lkgr0wgzk03HBmY7ihyfdO9HK\n",
       "Fx6mTWF+5K4DBF6llZlsi0scVoX+t5eCDm9nXoKtH16x4+6VIaNGUZ/g/WbRXjII7fVnQIwB9doF\n",
       "c6HqkqPL8Hreoou9xNsEEfAjc0pPjogMTt0eRZhBxwAAAJJBnslFNEw7/wALnjBcO3KHg5xmKPNf\n",
       "0speGg7yR5sos2AE4f9P864jZel8ZeiFgg87mPpkK4aNZRETU8B+QmqTet5dVb+z106wVwjrgzqg\n",
       "HDBfkgn8p5SgJYRjsugOVlHEuXAjPszu7Y0WdUgZwxATqao6KmqNZm5b5s3HLTAIM5eEthkkbBTF\n",
       "BacGtvtTABGx4AAAAIMBnuh0Q38AEFfZQAtmznK6ACi8QgvEoItoG+xQI0xEYVUjNKemNqEgXdhA\n",
       "Jcvn2hOoba5nQIxZc3LUGTzJ+U1HcP4MGvSq/FVgu6nQ2mp4nSdgXc6yjEa+JfGCJu2rPB5e3375\n",
       "zquGmi2DVbNwU/3NlD1hkuGg2Fg+qVQfvqMszyiu3QAAAIoBnupqQ38AEFr2IBK3hOJVr+TeAb+y\n",
       "OqcuAFXYKJvl5PQhjMt4Sd/WbB80ChTc2OIjaQvAiA2ddzTZuHcXQP7OfakGp6DErtjDcn0LnrHW\n",
       "50f4k74k7WSH2XhJiU7lVYpJBP3gUMhCnAB4ovgJzx0ycqOI6NJIIjLIaw07g30CoVRM6IrJEZW4\n",
       "bMgAAABqQZruSahBaJlMCCH//qpVAAAXcBh8ziA8mKfItdibIp7WgXvAsriLHCB3nuNxpUAGGG8W\n",
       "aYAsiBYCDPP0krr1Y4avf8/OgIBMmJWjh+GDn9Jicf3tNvH12Qh8GO2RUelxk1+GSYbvZjYDjgAA\n",
       "AFlBnwxFESw3/wAQXIyZ7qXRxju553YuoFgAIe2/DwZVTaeOADF/eHv0B/lgncvNgcvWoR/bYAn4\n",
       "LuD8AEtm5ElqL5+8mu2y+dmVDR6hM0x0/EUGNkSvLq66gQAAAF8Bny1qQ38AEFr2IBK3hOJVr+Tf\n",
       "+MQ/GycKsR0RyWNwajVZEc3ukJM6SpQbJGwDEptV7oTgm7z9bS6mgIQtL+xPaW0wpEjKbiybC7U9\n",
       "jhrladltiTJqyrP8/lQc4vZSWwAAALpBmzBJqEFsmUwUTBD//qpVABShCq1t3hfsB1/+soAL5c2F\n",
       "dtPgG2qsAKZrSFjK0MdG+x+FCFd9QHha/aeu7lTazxJnC1VxoZHBT7KKUrZhpOeG/raPFKqQrWw+\n",
       "ONusCYFaQ3SfI5FcNcr4/Gm8l7KB6cbndsg04sYrYPS/jTV9bfibylH9hg6fPAfYWZ8V2yvpwdqM\n",
       "n3O6rxl5rEbcvWXSwCKzL6XJ4LXgV2G7bpcLYnQ710CcZxfAsP8AAAB9AZ9PakN/ABBcjJnupdHG\n",
       "KySuG2pG9FevnUGyABHqhpIY9PqKj0dkxY607AUb+/JDuFUZFZ828dNm5PALf9ZVHyE9a4rZyX11\n",
       "H3sD0GJFrDKhrRPkK8xz2W6fflkzKmEfgRLr8YTCfMIUyk2r1b4yaJE9iQDSt+ZVagBIhb4AAADX\n",
       "QZtRSeEKUmUwIIf//qpVABSwmgrkjY2+wYABDeFFqRX/tcNNGEqMcpbdBde8RyKGHlpF4Gwww/HO\n",
       "KleofMSLM0xLIj90uw+gxfeB9xSF2QR6PkzB2b5wwCO+MhaqaH0K7s9suY1i8EtObqzBWZTz/TqN\n",
       "bVpVX5B9Vy+5dIyAeE7uAnNe7IHay24hwozaYxAYADhCojQEHu0adaoK/xUZ4l+LDnxAFaQGLO0x\n",
       "l69wgYi6an+6pyyRhlgBV+fEQnxQYXXe2Lkb7BcItdBz/Jm9nDKAEiiShJwAAABmQZtzSeEOiZTB\n",
       "TRMEP/6qVQAAXcbqN6lbrCutkq+yxufbpugSLshtJ3SajHDvQJ3nSJbLDABCi1YjGUcNUsMagCB/\n",
       "zCNUFjiCCMuHyc7OouEKP71Cqj0Ta9b7eaANc+x3zm3b/TulAAAAWgGfkmpDfwAA/iuX+qMlX+d7\n",
       "qpnewqTRlRrX3jgKAEqWvJMW8XtHZ4FWxj0WuhGeH5ltUscdAQVhPqnfHEh+M81dhZhl3NCN892J\n",
       "cL4EgPxijkwB9TcngxQgiAAAAL5Bm5RJ4Q8mUwIIf/6qVQAAbyivIAiErMndO+6p1BwXxI5dwYF2\n",
       "NUU//nrglgjzFmdKK/NXnEnnLcuK2I3/g4dUjxgz7RQdpSESgOgPtfpk/Q2qUrhiq90xTF6XK2BR\n",
       "u7L28z0T2tjb+ZUkeULoPiSsgrGsUiyumvQZ5B6zcafYX80wZvceMh94BE3f1v+eWWd/+vsnBxI1\n",
       "wHhXMod6ZxqLl2v6zNEazBArkrXKx43uJIgz5Ym97fqccbrgMEj4AAAAd0GbtknhDyZTBRE8EP/+\n",
       "qlUAAG8wIYFfD9yB2vjGgLdZV56gdOUdYD3WKqchV8iYeMSLwyIG6BbAArCNHMSALnpj4JMfne4+\n",
       "4oZD/5EsG1+uJz1WX4YP8wqN9vgPQRTHOBPEg52EZBIEeaX4DeACdTJGLhvuuEJPAAAAkwGf1WpD\n",
       "fwABNYyUjDYYV8fQAA/obWluqnt6HoOVS3+B3r+zyzEU+F45b7/958X+mr9nza3XKMf9nSpgtreC\n",
       "jw9bdT3HGzSw69Sky1Ua9GonKUzgtxvrX3SW6w+i40Cf2njxsPfyUHu7+1/C1b8faS/NVSgef3Ci\n",
       "qBxyTc0Kb7vrvFBzPIQgrwrTbtAZADUFBy61oAAAAGFBm9hJ4Q8mUwU8P//+qZYAANlUxTGEQ7LB\n",
       "194ECbElJ9OK5Y6CACeg9rnlfA7xfy7Cxm7MY5M0X97J4O7JiTl6pMAHDzixR9fa+c9HwlT873TK\n",
       "DOCuLSv7/jm//7n5to+BAAAAjgGf92pDfwABNk5QANG2MXYwdf3ScN2SVAHgDd4hkth1Y+lsb/ne\n",
       "v5HPuzgB0BoC+WRWNWwEz0malG/2vK8X8jP9MG7GOcEVslA8cIOxOz86t3BH2XylKG/H2YYkcMgY\n",
       "MaLXA1dioTFR9J1uj7ALU7r/xT/UxeEL4oFIJli0oTwrqCPwP49zkLUWqA9fGCEAAAE/QZv5SeEP\n",
       "JlMCCH/+qlUABeMrLpOv/zVABL09NKt6BDbCXUhibzwlLAMVYkt6Le7vQwKMexBXE0ujwNc3bM/Y\n",
       "Eyz46NUrY9GkXxOw2ya8LpPIRIkkSB2e6Aeci2TK/ltNCYByzgT/Z2JCGkQc5sLtMYY1tXugf7tu\n",
       "oW2AVNWDULNRI3H1BxSRVvV7qHbg15ryiUmx3WUQtaQ5es4efKiTPqnM6dRGRQVXfRK9LMCds7qs\n",
       "fMyimNcPO+gMXgkMo5n4kYgGvldlDo5Dzhnkykp2yoThssuaUZIorH21vJq/yQwlgrK7EMX1yc1/\n",
       "5EYI80DX6Zz7nTp7GEqjuAVOkrmSFQtgbl0AJIc8DuuHpdGOKAKLMlApJfnxK6dNqqK8/2i7iSTe\n",
       "qhtMXHhrpiTjQDlqnzt1Id0C6WK3XMgXmhxGwAAAAKVBmhpJ4Q8mUwIIf/6qVQAF3EKlaAl1hXWy\n",
       "FM+wxhT2wzrq+O3cB388QAaAi3pMgp/9Ddz8NcYipfASRXtqPZHGlMhZSUONV6/f7fntDo93ETx2\n",
       "QMsc5zsVwTfCZetaQlt88uha92qxnc9eR9WImSXkTx3siB4HSsWKaQqdNA4owKd08/r1KQmLnKOi\n",
       "FxgCAkUbaysxoxW/rbq9yzxihbl/hqR0kf8AAACaQZo8SeEPJlMFETwQ//6qVQABdxuo3qVusK62\n",
       "TCV+LZ+wAGWLrGSoKNFv+6wGLUdicoGk0UDqZDzt/a/14xdv0dLgAbdE0AKcQFzQm74Bd4/vUuxX\n",
       "Iwmcs1KTRtHPbk8dfR98IGfUxDZUwsxL6+5BF10bsCNbYJDYEToDh8vOT8Xt2bMZuyTfgA30zRZo\n",
       "2097XBapRbozvmVh3QAAAEoBnltqQ38AA/fawjDYYTlEs/eamkxPgkydJD6X2QaA/bAAROToHBoA\n",
       "jwAOPr6Uawps/s9halS+gMKm0KmoVaWqaNBAmOof55OZcQAAAG1Bml5J4Q8mUwU8EP/+qlUAALuL\n",
       "SVrZ5vj3v/O6gApn3H6qCOewCj5cPcUKt0GRF0vQtp6oiVqhT/iPikxyszuGQjVJWAmRh0vDOoeq\n",
       "imS5w86by9AeLTGQGmXRQM5X4auEz8gvJTpvjFht+re1AAAAegGefWpDfwACC5FqGdbngA+zqDN+\n",
       "a4gi62SLPftkuAKjDazJjouTRwCuyrMfAlFfvJy8k+Zu3tDfsLMnxExEZM3XPpoaUIazv2gapZrq\n",
       "v4+jJ0Z4QMuEAbY3a7l5/MXSDPmFNxHnZLMCAMCd4MeBLQ85uCdGyutkzLrAAAAAy0Gaf0nhDyZT\n",
       "Agh//qpVAAC8fF67vzJAKkEFbmoEK3sX82EE4ADcIvB266oon4PGCfnquV0/2kW3ZjFGsnadOuYi\n",
       "OX/8LC7fMUFUSQoYUP/5FpD+eXlP7U6NG7BfuP+3PezYUcxoBROhYqgOvayqrub6lLdWf/iRbIDN\n",
       "Srp3aZZVQFl4r14nLmLpzlt1ZNN1NX2dAkDcQpHaT1OG7ttqu+znvXPSxKEiozNw2N/Zjxbf3YRX\n",
       "DmWZwS8v2QAAGoLyHtBKnyMyWPJUG9tAAAAAXEGagknhDyZTAgh//qpVAABdwF43FKKcb0QG+6fU\n",
       "Vm9eZFrNiKOWure5WxM/qSfrZ0PQuLiwvcOysU8Ab5JZABijKndAUY3CU3yJN+Hip3DvTqURXPz/\n",
       "TUVOB7PnAAAA5EGeoEURPDf/AAD+GvUvGxMiclOFXTVdiDektJjN8LjbPX4kADtLmEhTKsBHFC9R\n",
       "MirRPxHFTQ/6HOfLKiHuQvA7livMDMk2Q6WWssyG9w3MycMe3vTzMqxIJkSEHTSBIXCBs6DPhweS\n",
       "5fGxR5enp5xFk/ISRAh4ufnbIfFLs+qhDTk7ohnhr+n031XRF9lpEfFeVRj8CdQUY4/ub+r3/L92\n",
       "kD4tytrJsUdkailVIGca9g5YGRirDPL/Q19lmrU9T+fSvtgPJzAM313itlQUCa4k9pFo0dEhm5t6\n",
       "YpK6Ew92HJ0K4AAAAFABnsFqQ38AAP4EZXmfEuu43n4i5amXyEgoZapj4pP4fKRN4giVMJpgz4Di\n",
       "ug1HrN3AUjlDzj8mKeFJ3Fk1V2p7HDXK09pubkmrn3vz+VB7iQAAAGxBmsNJqEFomUwIIf/+qlUA\n",
       "AF4+L16rscBGCa66gFjA2UmeL3Qd1cAAMs7J7OmnyU5QY/w3UbnTqCW9A7DPDdBTTWKIWPpfNan6\n",
       "zTB9K/DFcdwmmAXZNcq5htvuRBL5fSR/9aYODbg9DWMLMqAAAAC7QZrkSeEKUmUwIIf//qpVAABQ\n",
       "PE3gCg3nCOPXz6/DX09w/xun8hOLYgbMMMCgJU2LTmCoPdf//yr2Sl78jemOSPLnSGoRU9kaDadV\n",
       "Fl5U9uSIO/oK8hLb1enyapAnaY+628YQcb3xbhb5z+Wj0iXAYvMxpWGztnQaGTrsHdUIq72tcUIx\n",
       "By6JE7IhU7F0O4EKO/3AVrwhlbrMMemv/DarAt7jfujZtVAtksYbouMcN+3KqDxy717KIeAMeQAA\n",
       "AIxBmwdJ4Q6JlMCCH/6qVQAAUEQhgV8P3H9kJB64Sq1A21h1pGhMUarhbc7um4TYgAvUbTCJ/bxh\n",
       "8PqD7nDESsAABt5Pbg0wu/uEHTUG/ex/pE9UiS2S6f71Xtztv1PnJWoW7v5uzvWRDc7hzvg7uRU2\n",
       "QCESIhfaNB3Wm1Gzw29cJJqqVnkY7TYtyS5OmQAAAJRBnyVFETw3/wABNr+QADhd4otp5PRgtG//\n",
       "h9lWAjiheomRVon4jipof9DnPllQ7qupJO4IuQEc+7OKfWuGi0CicS/lSyL+S83HGlDqB2ueM7ds\n",
       "UU2w4dmECMm+oAnEoARiJkHy2Vy5BIBcR2LM12/pMZ0YFIX0Cxjp2r3kA+2QA635v1/fboGcC9yW\n",
       "dCmFJfdCHOj5AAAAZgGfRmpDfwACWxkpGGw++P7o1xYIPntTNAhn5JBXXiQwaOh8FKwXB0DwbScF\n",
       "t2RPOREjbzAAQzTZKKhMjSKziUrm3BEPMDrtFZUsaXlqVE0GAkxOElSa7OdiU5JQfJglsZpxgbOl\n",
       "qQAAALNBm0pJqEFomUwIIf/+qlUAALt3nYDw/QO2Ra7E2RT2tAveBiuEz/wy8tezbCu43/9p95oL\n",
       "yGF3/srhA5P/c3xK+OgSm8Di3nUx0E5Wr7hwDexPOH6bA3pC5cOEdcT6u4tpfKT1/67XP4z6da8G\n",
       "ezuMTcBUfLGwSPl4s/O9MmAq2ynxCDObIePGx6eAdA70V0MdHiXFvFxW4gzox0BI39uVBR3o8+9f\n",
       "oQp2Z0nUlnMubMCIuAAAAKxBn2hFESw3/wAB8XRguDoSC2k4PoUkroACHK6+poAKGFdD7G8e7bCs\n",
       "WEvnPmltIIbx555nkLMN9aAhZDdTjFCSKH9gW3j5YVK25vdI2Ub9cYglG2loK+4yHngDImxQzc8M\n",
       "TiZ5WEiz+AAbGChWKEtDO6l9N3WjOOcC5spBUpykI0sFTXrt90UdlJLOGVx46DASWtovyNuRq8SH\n",
       "EMMXTAVnfCZgzIRXPwUAI0vtAAAAoQGfiWpDfwAB8XTm0QTYq6yJiyG7uGLTKDpzlcrPLQCDaWjG\n",
       "5MQCJI83u7Li7rF4FsuD8lR6iAC4EmJMfJPkWOPYe4YAS8tm65OwYU8f4H0XcLR4Nkg4mifBtB/+\n",
       "mLJmiKC+FSrPfRsZzPaYsj9RljP7joJ251DrE6pOW2xeeyKnQbwU7grY5knP+QJIUII/IYTNjXEK\n",
       "ZjnB0vXirTOsAGH/AAAAf0GbjEmoQWyZTBRMEP/+qlUAALuN1G149Y0IJwu3HYjB2kLjXOgy75hU\n",
       "5UUx0OKB4sZuhn7P6QV8qdzR9oN3W6GfO3qhalvMpp0Dyn+NI4QAGg4F3TzIyhAAEw8VjXGhxcDy\n",
       "lwCkPVHKhhsG4wQ+9NDT9ZG3fDRNCKHFWX0Ul4AAAAB5AZ+rakN/AAHxdObRBNirrImLIbu4YtMo\n",
       "OnOVys8tAINpaMbkxAISIyaqgAp4sN+PsVOEWC8Busd77uWcqaEFIKzGuFfN8ZydVV3OO+oegYaN\n",
       "1kf1tOgbbUQfdElTMVeRM2eZjJ3eaIaGBPLlDKjBvLtHbQT98eIFiAAAAMpBm61J4QpSZTAgh//+\n",
       "qlUAAF3ATmEzBJojjOsWpb61jwAJ4JGhzCXUxLxF3AyJLO3rzwlLMZo+7ctZlA12Vm/cG85z3jW4\n",
       "ti5Twx7PFBE+JRAD0GQfjUvQnX8lHxBCThyq65MsE9G2TmUYOyEaeDnB7jqSXQmY9XvmZ9T4LHGJ\n",
       "4rlB1EjXCDjBoDjEkV/BDktjAO29XERdrczAvTUtEPgt7TvObazNqBUqztD+hAn/6NVKcuLUBYor\n",
       "ylF4nOvMwzHReqe76KVrYxDxAAAAXUGb0EnhDomUwIIf/qpVAABePi9eq7HARgmmCsmHqs0RlaX0\n",
       "2sOQgAymg0qfjpsi8Ksg/tZ3Q7O3PAD40kWt2bZYRneAaG58moaHkoZyVsGQbCt4z4SG6usDTKCF\n",
       "gQAAAGFBn+5FETw3/wABNPP8uRlWuAAOrufw1yl5jD2K41H9Ky5HzsNR70/Q9Nb1u16C4Ai/l31Y\n",
       "QU2iX9TwvKRm/vUtfUtz2LV1r8JIvHI/x9vTH0/yIFeKeiFdFIPrbFztbVTBAAAAaAGeD2pDfwAB\n",
       "NYyUjDYYXkKuzG4uzg7gAcgxkSrqnqbwRAjfDnSQPGBb5P2FFrP1DmJ0Ng6UuYK1tWp5jBOi6gL1\n",
       "eRBlUi1EpinJ/s2KOUKi6nb1abWxoL7zqcBRnimK0X0m98JqGMBwAAAAbUGaEUmoQWiZTAgh//6q\n",
       "VQAAbzBu/gCKjE8eXYgRU+WVYokNyPnIT9EBCJi+Jno3YAhQ8iMWOenLMbHwMF+BsZV9Lv+5/eT7\n",
       "SzZG1RylzvB4n61S/BdSL4YLKqcuigldxJKLRdfUl2oKht5puOAAAABdQZozSeEKUmUwURLBD/6q\n",
       "VQAAbzAhgV8P3IHa+MaAt1lXnqB04QSeJVpIit5ifDU+3OAobMViAMx3Eu6ADFOyezpp8kn0q89/\n",
       "CitaHbpvoBBN2GH0DQLXDBD7cGndAAAAogGeUmpDfwABNYyUjDYYV8fQAA/obWluqnt6HoZVb8Xe\n",
       "sGMqoy01FjFQyTIyUTbZRlqqrgCOzv8fOje6xprt+hh+2YRT7q+Y9sJRoNhs6qMkJ8zPvPaXLzEi\n",
       "iALLI5KAw9eRL6WqKq2QgXzUIRgKKd0LSw6GuliwBVKe+XC3WanntX94iTLOMhuSOPGpeMhc8Q0F\n",
       "kn0RUQiTVAvlx9x6ScwVxAAAAHJBmlVJ4Q6JlMFEw//+qZYAANlUvvCUAFdPZAoyFkgJ0O+bPm6R\n",
       "B2yNhwvVEwPHPgtO3/pL52ZkA9bewoQelJXjqdkp2rjg/VWT97SiB46DqLTaSWmq08mh418UiN6t\n",
       "xB3qZ69ixHvcVQ6ypmTVuPSP6tgAAABfAZ50akN/AAE0/TRlwWlf7WJ/Tq3MWYTXNlp/ya9iqW+u\n",
       "W0qaH+llY35nrLMzZR+n5mVRLT9lqFW1NJKPczrQq2xbcozjbunAs6+5dWod24IHbfA4MoP4gk1u\n",
       "+4Bh4B0AAADmQZp2SeEPJlMCH//+qZYAAThA/4Ba7aXK4/ZltV1qqzN+PGzuZJT8vsda++q2imci\n",
       "igMIVYr/9REK774DiwgYmK4zswDFyoWtX53Gn08Tk6TlHwy/+tWsWlHeK6QqDyd6CHSjmdVal8xa\n",
       "Jt//E2ijRMzQBlwzGkREaZHVbL0kjLUGPan8IyHBtzFMb7d9D5ADALaDxn9XRr0F2tzF/FZ5n+RA\n",
       "zF/9H5zRtVyLf1CsQmVSZwcF7JX6RYXPPwXavT3ueW/9KmooA1t4RLy/3eZPz0R/xi83rBT9RIhn\n",
       "sQnhWI+qoNzEhYAAAAERQZqXSeEPJlMCH//+qZYAFvy39zZf8yQAZbVZ6SBAhtaircxNx++qyxwy\n",
       "DrZFm5IgEsU/iCNCXbOUyBJSRvr+BTweu4J0HcF2rF4HzR+uERTtCkWKBe+kn78i2PmdCDsog+fW\n",
       "bMuwkmPF0Jst+8wP1i0fF9vbhaSRMo6YCO/5/SEAtHmdyRnqM2kdGsp/OOqpcvtEJzhmSlj4d6Zi\n",
       "wkZX5bgtqmV8kEuBVjjZsk+RQlYe2eqlRE4KSEsymp6oQVZXnCi8heVXOTKf39P2YIrSMUaE7faG\n",
       "/htw0Wb5GrxqdLlX1vxgTsqQCltZufQQBX/j+TTOBaAAA8kWvQqNBk/XGwTKCH+XA5L5n55xity1\n",
       "rIOBAAAAcUGauEnhDyZTAgh//qpVAAXcQqVoCXWFdbIUz7CUbMANRXEGFrnJhFFqlorxO+GICeQx\n",
       "k/nV6EXegw1HkmjxAkjYXV1slRPYTl4P9FbbLm6Dn1ds/ct/hQpxCg233c/uE2lJ5PMxOrwsKl2B\n",
       "CrppXwuBAAAAa0Ga2UnhDyZTAgh//qpVAALf7/gVjMgnDAqZSNSq9ABcNZOkfvKGpVinRVTJPXUE\n",
       "/SFNs29h2ScCvgG7H2e1zTf+cdx1T9MSjGLDcJtRgWSKxUAd2A4dE3KP5ZqUWJkQzZ/CsAYEuL8e\n",
       "ujPgAAAAkUGa/EnhDyZTAh///qmWAAW/+kCAoWcYKdE2VGe0HDum0ptbodyN54dQMH3RvOiqhDLZ\n",
       "SLlywmxAhSyScVmqhsm9ThmtfO43Hg6bEBIjC3ru2E905Xkhe51b6yFV0j7xZ0pG5TS/dc9XZfKx\n",
       "5AwiKEdjTrz/8HJYgws2VXNfQ5K5/Cb+ssOdhT1MBe5IAtOm7oEAAACQQZ8aRRE8N/8AA/hr08gA\n",
       "CGuNDlQYe2WlQLGb6Lq1tlCnAf1Y5C5UkXWWAz/6JJaQRA/+sJXB/60BCn4E3yuEOLYweD0wG8fL\n",
       "jSKEZjrJ89xlYQGfYG22GnaHlso4V0H8/Y4AOEhE/+rXXBxhDvA/3evlvUJkMQn+56PpGtHHAdon\n",
       "A4xA7MvCeUHqqWA02onrAAAAZAGfO2pDfwAD+GvUvGyG2YyU4P4dhh0MHOOKU9lyXi4btqyScORh\n",
       "QKM19HpcNhBseAGeTJjX+Y8qD3Bx5nMYo1NTQ8ndwx8ND5oxjJlAdcR6+vhkPiAgN3LfXpf2LWst\n",
       "Hq5CWUEAAACrQZs9SahBaJlMCCH//qpVAAF4+GhDz/bqDMmcoVcbaU7ABnetqnNDBdoqzobRp3D0\n",
       "dQgEVYiRapW9UlkZUhixFKLjGeYCFuDZ45nweNli0/3mkUkp/ZoKwPfTgS4BPKdOw3QjsdFImIHU\n",
       "wCBlSbaWkfjVOijJUaRw+W5cJPpsEW8Jq7XScqwcv4zWwhTnJcKqoPi78hKd9tLi1/w7f1TJGg5N\n",
       "H8eL30mAljFhAAAAUEGbX0nhClJlMFESw//+qZYAAtvy3N7c5BrBpWtCEXNy1DbaEAjh6VMSkJxL\n",
       "ztU0AAAoQ/y0AAFiMGMYFLMNOkRU/nTAS5yvqQS/ncbjqdgwAAAARgGffmpDfwAB/DXC5AAENcaG\n",
       "XNSRJL9/bc89fzKjW36NJ1FUZ6PksX5ELRGqLALzI6hWCDoRzyHuVKeO83JcT2CXempqn1AAAADI\n",
       "QZtgSeEOiZTAgh/+qlUAALuPCIm1LYTmQtiijEP/wAj4//G3ERZcLJgqYJZBTLsKAu9ad8T///n0\n",
       "B6hEmbYf4AAlihKAVdDmU4bowz0iLttxUEG66qv/wtlmbbRfZup6425lW8tbsb3RkXQFE+SJm5WD\n",
       "GNQUyeAJ2ROaRxrymwCIRxt0UNo6BpPU1AM9y4Fz1NoIamPX6fI5SmK1AUlIWpXRHhDZPGhd9Ew9\n",
       "MKe2379KQ33hqMXh0ouO7n9gq4mPZWpYpDdcl4EAAADLQZuBSeEPJlMCCH/+qlUAALx8Xr1XY4CM\n",
       "HGqwulLm9fQ08k/LGpB5h+2BriLMxgGsReDuqxmVKUAPE13WMMTi7xElCaiuB/jdSmgpeoP3jtT/\n",
       "7ZdqinWeTxj+rMvp9KRgASwEGR1/2XYEbcudUX5LJGAkU2qspayBTHNGNT7Rr//+JFlyF40wztul\n",
       "+bym50i6ChnuYZmnd55rBwPlKgo1+cKG+9bT5aK5tGbgN8yLtGtyYAGMd2QqHiG2ncKj0G7VM5rr\n",
       "OO6MHTrjgYEAAABiQZujSeEPJlMFETwQ//6qVQAAXcBYEYgA+4ObTAPnCVAUWdO0ZDU3amhv5/el\n",
       "oP0haYddl+nyReRfhxQ2kxh5+MOiY59P09RkgLoYHGKKTJaO5/uC099TnNpBH5dUopl7OaEAAABT\n",
       "AZ/CakN/AAD+GvUjfjzUM73ZG2tHqwkFnt1mCRHARYH0KJK//Rt/gxPEz0L8+MAKBM+ygzGnecBW\n",
       "+tld1GVzba6MCkUd/Kdxb2GrTNLpX0dx6SgAAABbQZvFSeEPJlMFPBD//qpVAABePi9eq7HARgl3\n",
       "1LHivR7LITghmAp0x3bQSWMELffRhdJVxpWk0LEYHO7H+4ZoNAP+UETMOeTMgHMOqaVf3VfaNgPf\n",
       "D6Ptj50esQAAAHUBn+RqQ38AAP32sjwEVcaZkmTp4xwg/zInqf9SGBNh2Uj/p2cpNVs6VL7TNEw3\n",
       "RxmjUY4CAmPeuY/kUJiWamESNnOfA2DVN3xR63lddtJnt5JxzL/0RpXRF8rivyhk4Fq85S5QnoZs\n",
       "ZJ7WuTkSspf3p3Y3GpEAAAC8QZvmSeEPJlMCCP/+tSqAACgk/SAE8OXVCqMypS/K4mu6N6Yfu1+d\n",
       "FgalPVVgYQ9V8vvZey2tf0YWE7qMTfVy7ZeueKPAuj38yVjF+/mINa8iRH2PxpAAeW201CeqYPVl\n",
       "N0n//2SkjenBsnf0sKIuHcYMD5rco4/Of3P4ue41eive9apfmoXSn2UoTuXGNklfr3sVl+Nn1OOr\n",
       "Y0H+XPXv1IBd9rjItA9IazvM84KagQCvGV8sgy095X4hAxcAAABqQZoJSeEPJlMCCH/+qlUAAFBE\n",
       "IYFfD9x/ZCQeuEqtQNtYdaKOLwiqpOSkngABySBzz/9tGVirwa9vqRxee04VZKPu61cQ3/kWOQeJ\n",
       "d1G6YIVI23TqM2oxWq6y72h/b2Bm3FSL/yT/5Kx0wQAAAHNBnidFETw3/wAA3QAoazoMEykk67kb\n",
       "rqvAA64CTu8G/4BoprKUnqFXySewnbv5qDa5batqFnajr9euP34/YtyrKXa+uhvf8lmOfar2Dq82\n",
       "a1E0RtL5e3rodLfkjVeeRfgRjwUH3Opcayp8XA/HrMEYOakgAAAASwGeSGpDfwAAmsZKRhsMLyFX\n",
       "Zi9OmUfTQAAaLIV+5Kdz3WMl2Y5hVfRZQG2OUp6QR5Sl3AgopcHlgU6rultm5/bX+kO0AkliDQRE\n",
       "3AAAAGJBmktJqEFomUwU8EP//qpVAABQljk3XVxpfWixwaobMBNXou3g+vEba0BCTRxII2UAF64f\n",
       "eB8OBlQ3rQA+0a5QRYfaN4VhNgM5omjVGnWBKKE2L3R/Ep4mDALTHIBa+F2PgQAAALABnmpqQ38A\n",
       "AN0XSYgrtEhEYZCy8ZuOiAAtx3rgiO+7kgiaJ62Cj+xNcFejtynu84qNWXAQvddqlxuMjBbgOVGQ\n",
       "uE297MIDmbjg9XhrDTM5IDJ/FnKcA1DaWH/vY9RgMaKWjB/8nuVDsnlm1qmWuWtGZxkiqRlbEFCO\n",
       "wLYP/Bp8ojM8wi4HoxbDYq90fF2BiOvdI0ORK08TnLiKO+we9amIxMthEO5RYA+GNqzkya+GEAAA\n",
       "AK9Bmm9J4QpSZTAgh//+qlUAAF4yuf+P85DwAS9BGB5d6D0m0KsqFjI8/W/Rr5bewQHnnLu/p300\n",
       "tZNlgxsinqOjR2IB/U0jSYtJtONj9YlPXJkUl0KTRI1ehzpdpr/RuR9FtCF38oD4u7jDSfBoaNoq\n",
       "g0RdKzy2YqIuBh57ARdFloNwIINllbqWRZxi74gajbOObLky0P0hgZ4IW0gjxNERe2E4IG24T6Xk\n",
       "AaJBxDLgAAAA2UGejUU0TDv/AAueMFw7cod5Xo5WzIAOdWYAr+lU88ap5CLDE1yWCyD2NQeWIOnq\n",
       "+Ef0zDWkff5pdbL3s+y6SNfkLEbNzI7NbxLP3Vjkh9VOBmU4lVedPA1zpv6SltnBXxT3H2fxnpa0\n",
       "2/9tqE58YnS/2Uqu2PxCbriUr0BqIV5dnj338wE4T4M6MJItEqX8HQ02SMUM3G1pEUCwz24Cpyn9\n",
       "gzj0t9h9ehyqAIe0oyVIaiKLbBui8wFkcAzDxHG5kA/jesEXLZ1POeBUhOepAndBBA1R55Mh0rEA\n",
       "AAC1AZ6sdEN/ABBX2UALZs7cUAA4Ax8enSc2FWf+9bLYqATYPB+C6i8rpCg04WNLbf8PyUlHzoNq\n",
       "d2JWOIyF3P4/q6+zD5JNqVPcNXpQ7T4Y3tJFzQR68zXQQ2cnXDqRGz1PGYgpk6otd1Lira3i7+lW\n",
       "4yt3WfVTFU6VVtCM96FJjXfzf3G/2plcQORY+/l7Z2s6c4SFJlmqFVmcFWcn7orAQ0zTa5wst3pl\n",
       "TAxpp1lmUZZsjJ5CdwAAAGUBnq5qQ38AEFr2IBK4BVGo75AALhyXVMVPTFcmUSJ4x2uPT/wWpufz\n",
       "utr2doFiyCOoKhkyvqr8pJ5u/DfaTWVI0zkXjE7ATyWIGhdz6HB2hyEzShP4m781i/WL5Ik8eWr2\n",
       "JVJmgQAAAHdBmrBJqEFomUwIIf/+qlUAAF4/q4AFI1cQYWuxNjgGb07TnGmX+7yb2PLGMU8FJf8A\n",
       "FnveOKNap4mgvGUiCLgUOv+BfEeIU0+DoMXqm/pzVjwaYh7/3zdpzd+zh4AKwGLkrFl0cXT1xZAo\n",
       "dG2ZJ6ZRynn92GRr8AAAAIBBmtJJ4QpSZTBREsEP/qpVAABb/f8CsZkE4Y6vIWLivvVmVU2NIoAJ\n",
       "bZaiyWe6HO8FDf52sVUlukkZHOIxDyadwSOLF3voUtkX7h1VMrFe0LyPscEZQnzirtYPJEMbkysv\n",
       "fojwuZYOx3OLq2E7X14KvjefM0qakw6So8QenUwg4AAAAJgBnvFqQ38AAPi6c/IE2KusiYsh6IjF\n",
       "plB050yrPLQCDa7/3o1wCJI83u7MmEYpnS64AZumg9+H6Fm93NxfjTteHCMv0trF0wMhpwu+w1bV\n",
       "QSAP0OKMEDwKOMil648xFziT/YJE9Gf15Ln/cm31UhjXMlGpv/pGdnaeX39aFL2b3ECUyw/mdwzo\n",
       "nxhHwNa4AYzrjhpXCb90yQAAAHtBmvRJ4Q6JlMFEwQ/+qlUAADeUV5ABR4c+nNE4Jv4lkWE8uKtR\n",
       "aLDs99+6367M/y7oZCImm3WC6xB7t59D8cZrscXNKWuAAApKEngCZ8LoorxwDOlITpcz8ypWj8Vf\n",
       "2f5R79Gjw7KVKOCNxHXkIY4GUzO+RzrcPZojshYAAACPAZ8TakN/AAE2TlAA0bYxdjB1/dJw3ZJU\n",
       "AeAN3iGS2HVj6Wxv+d6/kc+7OAHQGgL5ZFY1bATPSZqUb/a8rxfwpppA0wfYT6br/G6fBNembyH8\n",
       "k1Qq1VTjquBbmS3fsSYQ0dX17MSiUjhqcGWaUKfhJpSmzl3C3kH/kTIpzALJLPvl9iQQFPfabVLL\n",
       "vhM9SSAAAAFKQZsVSeEPJlMCCH/+qlUABeMrLpOv/zVABL09NKt6BDbCXUhibzwlLAMVYkt6Le7v\n",
       "QwKMexBXE0ujwNc3bM/YEyz46NUrY9GkXxOw2ya8LpPIRIkkSB2e6Aeci2TK/ltNCYByzgT/Z2JC\n",
       "FYT5w7STmmoofQYRK0q1P4ZE3/yiK8kVb1fHh24NfvkxgVMiB3n92mimc195+WFenlpXb3V79gGk\n",
       "+IR54KCq7YhsY0JhWyEtAhk9gHZVVv80AyklB6I48IMPMDLGura3QtaABcJwpiDipfPUcGDrT8Ij\n",
       "MJ3c8H2y+6yRBsQnHxzaXaSO91JluDSsnbk9HuvXpbHwcGt+9PYtBKTpQ3jNvVXJxyxCuV0sR2dL\n",
       "cSlNVvp9NIKs8yODZorMIe0/6y4MvoHJkEq5jvwx41QO/1K8pwJFz9EwQOUnJktJFuSiUtvDAAAA\n",
       "kUGbOEnhDyZTAgh//qpVAAXcQqVoCXWFdbIUz7DGFPbDOusAtdGq6bRTUAFyVpgqX3cBHZCQ8rJD\n",
       "XdCaKVAoXsixKzewo7L09fkr2m89pPUm36f222WIU1ByBe7rfgxMaDbXuyBJBJoFiRIT2LoN9N0w\n",
       "YOaEasjFFWIbFWe8T8FPnu66J3Q5slUhNmDIyJz8VJAAAAB8QZ9WRRE8N/8AD99rCMNhhRjKEuFI\n",
       "ADP3Za0wZ0wr45bHt5qMEZSuyhfv1KG2l3y9amacrBnTJMa5ZoZwfMugf99eUSuASl0s9ZXvspvF\n",
       "VGJ2HbEATTNCgLhwkiyyLqt9PvysG/pkZ/tA1Gf47ABFJaHEYJJQ8i5xTJ9UgQAAAEIBn3dqQ38A\n",
       "B++1hGGwwnKJZ+81NJifBJk38+wANigAJEOvjwFIxBqXILwsp8mgvgAFxdXkRouzcQYx2Rjtlk4q\n",
       "akEAAAC3QZt5SahBaJlMCCH//qpVAAF3AQnYgArq5pvI7V4KJNcaVB6IaPHvtmQxo3t9rvH1oUvO\n",
       "ZO6d91wXvircfCW/I0fAVSs8UD0gWJ4AkpAfwsYf/VyErl3GTu+uCNgHEug78hcrwAtqFUt9aaI/\n",
       "3llSJBRO8gK2FbYktZndQ+Wpb77UL+U+nZT7VR0EX264Ko7WqEheqJRktMLyq1+wCrh8wEco3BjU\n",
       "Rs/ywpX+mKkGmtVuOicVI3UgAAAAhkGbm0nhClJlMFESwQ/+qlUAAXj4vXquxwEYJrpalsPD2X4L\n",
       "YwxKTCSD5+IytqHa4XmMn/QRgLh2Z3+AErmSc6owPzBNTFmdTBptil6zUTXFqxjVO1D2GT5sGgWO\n",
       "60QRS/O/zXcT1bjdJQfZv3RIwuTMYeKFOXxL+GfU/SF7IxPUrMuwAPaBAAAAUwGfumpDfwAD+BGU\n",
       "xGljePH1ME58CWcLfJYbJ8IXntjEGxwAbbcK7XtrMxJEUwsjEg1fYAdyIeCjLyJL2Eg0/3oSCRW4\n",
       "ET7m0M4a1IbCbL1Vn1EwAAAAc0GbvUnhDomUwUTBD/6qVQAAu4C3/sQAV2PnQtptjAfaJskCr3sN\n",
       "AxM0pta04ZlIVvQqJ14nabx9kik6CNVBy7VCQ6cedVR0MY/5d9tMSXR3lDfah4p4B2Z2skSppIto\n",
       "u+n/Nv1HklVTh+qOXT1OnX9v/ukAAABHAZ/cakN/AAH8CMrzPpy6G0cRWB5hpY62c6ElXSApsVFw\n",
       "jC20WkQy+l1xJkQIH8AKycpFP87k5hDNhqo3rT0fpEji/KmtAvkAAADhQZveSeEPJlMCCH/+qlUA\n",
       "ALuLSLbH0jQMYrwyp39xQH8m2ezgeSKt6ZiRTPKtquQxaRMfqhIStimJyEiYLyT7BcjAwWXbRDZb\n",
       "ZzR4JoSgypE/Qh7szfg44PTvILzvRFQU50/y4hQCioWyLBatkSqmYr1FFK2COC3CcgkQyYVumOM0\n",
       "ZQyn01rc/Q+qQdJf+uvzmTArJS03j8wTRpjiAsl4z9x51UF/sKNtzCvMXUIRS7jDU3eCps7kICQy\n",
       "spChKQoQP3/pDrdvXLCul9hRfu/SZU50etnAEkUQomTf/YLl0FBAAAAAckGb4UnhDyZTAgh//qpV\n",
       "AAC3+/4FYzIJwwKmXvNL9EAEbtOkf6alwhVJB9gd9HzpMttIMdIjat7ahp/+Ru5Mvoc3Z1YpTWNx\n",
       "+gJaeOVzrj6fYLM3FHc3XzCZSixzywjRZCdwtdTjiWXluf3mMk1BsdPFfAAAAM1Bnh9FETw3/wAB\n",
       "91U/SxONFIw16BcyhiU3oicdMxuF0KZjlcftrT2uwmow49t2hhD5DQAUb4JXY4uTipbiQqckLn4o\n",
       "X2thqYGl39tbuMCE5NUj+HGUt8BNLZSz6dMpu4yX031zi14xbCtqC0Pff/jjXL/pIVbewD0uOddi\n",
       "2fmk6BLKbHK+KnAAFWQAAAMAy+AAABegAAAPXY7SmjV54WGcBZLQpqvLsFLjVUOCBJgsgGNfC6BE\n",
       "F91gyNoUKZwMtntGaYtIcIN3MMKjOLPhAAAATwGeIGpDfwABNYyUjDYYXiOho8AAuHQhiold3Oh9\n",
       "F7o9Gj0GMK1bns9kXI1oquVUKIo/fVfvfnc+lgmoaJ2hkiWlXOngMMXLcBe/O8YLD0gAAABlQZok\n",
       "SahBaJlMCCH//qpVAAC7iFVqeozWnG0Q6iHk1eOYvRH18WjI4AGjc40Y2/T1BERzQxnP41hhm/wU\n",
       "WBQtad9YcgVHnvasoA03761dOhSWb7vA/vgvhxTVGbg57fxUfjd8sTcAAACHQZ5CRREsN/8AAP31\n",
       "dAA1DoxQ0cdBNhZqQ1CiXgiXDGeSbPs9I/f7qnCMkzTt5ABZq4hzBqwuyyBduch/MqQ1swxhuD9K\n",
       "P98IUrOhvfM0MyDJAOYAcEWr5ymqMKnQxxeT5oUe5kLtABn0OPdUSCwZgLXrnEwzwD/YesTlyYeF\n",
       "ny8Qb1OTOPMuAAAAYAGeY2pDfwAA+Lp2GgUcc+tXAuehKhtbVfhUybxhwtSZA+ltZSljze7s1AJH\n",
       "aLpunghyv0hjMAp3a/G0cKGbWtfj3O91K6RatJ5OjCVWh9jDOAQ5TzVVg2MLiRP1gCsFbQAAAHpB\n",
       "mmZJqEFsmUwUTBD//qpVAAA2U+dgJ4R/4gRhrmequT5Df8FR9AnBUHwCyCm2zF5YFOYrDuJbC4Pz\n",
       "H89vBVDJPN82dsD1EsPIS1umdyhfuPNQCznw2dvvMy9L9F4BGZBDWA9JYN8henznn+lpvWmrI6Ao\n",
       "j7g6mRS+swAAADcBnoVqQ38AAJrOdX7tTE8Zw7fK9H0f6BFA8OCoyWJxXZPl1wnRM2cYOLxxl66/\n",
       "Owqt3EucFoyLAAAAqEGah0nhClJlMCCH//6qVQAAUDxN4A2F+uXBXFf8LJgv9pFt2YXdv/9vC39Q\n",
       "7q/3pSuIXDQJEVN+pa2elB72XiF71+2ZNIKcD+F1cLAYCApYS1JZc4Dkg4iwLqPJijKr5C/lAH7I\n",
       "dAyl2B1J/8WHmJy8o76PuM8RCMnCkrnTX/KRIXd7KhHntQpuPj/WuCbO5FtEmZOD8FXgBpWKmVBz\n",
       "71YySdOOhn2C2wAAAMdBmqlJ4Q6JlMFNEwQ//qpVAAC8ZXP4nbl5gAXSXBmZEbKT1/jIR35YVfY1\n",
       "ahTjVExMH/28dDLDzes5uEOVH/0YO+hLX1+oxw5SfZhkNWWtnJQHHg0V6Futes2RyQh80HTvjvru\n",
       "pIr8f5JJXW587px/EFeO+ith7SiuqRJ2a0NxJxO6XkaHSWkwZ1hFaqxzvAayIDZ2OLv9HQpuuC63\n",
       "IkXwoNaYX0c4C8bwFtWexWlMRO7/sym66bG8u3m88t+zpIKmWNdSqBCwAAAAXgGeyGpDfwAB/ChA\n",
       "c56NIbmubLw9FIDmpvuw8vJ9m6IABcNGURhnt51liq0V9t7aYkoczjl94dwzbaCcAdbiocUdqDvr\n",
       "mWin2Pv1DBGLnADbhu91Pj1yXcqNMZD8E0IAAADYQZrKSeEPJlMCCH/+qlUAALuIDgEVri6Y3UQ2\n",
       "p/uDpaKj+QHO+glP0aJ/FV7WX/kGZEzExSKvXm+5rVqj3zFmdKK/NXtH0sFSfyqUrUOFg7mehBP9\n",
       "c4SZ2KIfSPlJYh2+1kt19/oj4V7J3/89cEkVLQaWa2gi+e1sbfyP8jyiTNgrg1xWsaoonCiyTkAV\n",
       "Zf3lGKNLHd2oIdf49HMXjNQTnWGbE7PB2Vo7ikp5AVd3bzMTJIsZadkGVnbJ8DwAJzfA2HIgkBFR\n",
       "iRqFqWKin+QHx9B19OhF4Q2ZAAAAlUGa7EnhDyZTBRE8EP/+qlUAALf7/gVjMgnDHC6ywfq3R1kd\n",
       "fHzCMwgA5SopUKAZFYYAYasnxB/JOjrx1SxvfGKaR/97vJrct7PTV8/NOEJ0dgDWIFJ5Sf5xTRIy\n",
       "GHUwvXZv35lslhdr2VLqPO3WH+o9USg3um7FzyxjXjKzJQAnHfMrKrgUJjJsZIvOctXP1kxWA0kn\n",
       "AAAAYwGfC2pDfwAB8XTvWcFIJHT/rxgqcXxpNpaxoEFSXtPYXg36N57a9Wo6WPN7uzUAkdoum6eC\n",
       "HK/SGPyAYTjfV96iHo67SeC/Ry3OWl4LOk4DlGzDabHORI4OX+sCb17IaQ+PgAAAAH5Bmw9J4Q8m\n",
       "UwIf//6plgABb/fwOdfUwHhqgxj9Di0coweeq5Nykb/0hTW4VAYcOgExvqPTZXh8Sab3RanhgpGC\n",
       "WKBV74scfwGXyMANj7/yzXeWL4s0wZbfv6ZpS+mZtfqEDvSGVzo9CCFnp+HL1+gBqPPEC+pE0q4u\n",
       "FBIIdUEAAACaQZ8tRRE8N/8AATZOUADRuC6/YeaklFcl3bnN6DH/lEaL73jUbcOjjG1ES0+7OAIe\n",
       "PG3Q+CbMHFUGDTKGBA7OCW5fGvGyR6xbRMAUNe7JLekhf0EygXlBYmcG6N0Zup+l3e/rruT4G2aT\n",
       "glGv5GqbSZo/GKkraIPcfDhMBJFjeAjHwIxyX7RC0R/nqqZdjCJ7uqD9RNSgl1TIgQAAADgBn05q\n",
       "Q38AATWMlIw2GCTiVoYbiZ16T9cGRxCB0Cz1SHM+gWHgLeBykfU0dH24lk8mAMcaSsDCJwAAAINB\n",
       "m1BJqEFomUwIIf/+qlUAAG+MaLm8AIJBsbkvKRAclSBPg4OSemBDDh+LI1+mTyperJde70ZJl5HL\n",
       "ydSAxYFvb3Lt69bPA34H+xWMqzGUZb6NvMxNEre81DD+/l327vGC9qUXA8AjtkOwUfnTn7wNCw71\n",
       "NZZybP/E7IP86O1xeYT4+AAAAK1Bm3FJ4QpSZTAgh//+qlUAAG8wIYFfD9yB38ucAALbcKoN1HsM\n",
       "+IBBfygUmuPWe9/6Fz+PmT4WGbEImQ7lR58HqpQSHPtGb5lW5c5P2GIxA6L4MzYUk+1PymSbMQp9\n",
       "VDo13GAQqatv5dkK7pdVXBVoJeLyFXMP+gI/rd1Zi+WdM0MhAiMFKmhZrNWf/vHd8dMScAABE0Nr\n",
       "OZdm+C0mz8QH3XHhQIs8o6gQcZl6wAAAAQ5Bm5NJ4Q6JlMFNEwQ//qpVAAXjKy6Tr/81QAS9PTSr\n",
       "egQ2wl1IYm88JSwDFWJLei3u70MCjHsQVxNLo8DXN2zP2BMs+OjVK2PRpF8TsNsmvC6TyESJJEgd\n",
       "nugHnItkyv5bTQmAcs4E/2diQhpEHObC7TGIf+aXyC/l/uJxN/YX7GvQHfg9saRY8qbsoKrZAUMB\n",
       "QmFAZaPK7ptadlUcCPcqcSbudR4OxCfKJ0M/BpPZAw9M7vY794XRNKW3/+6MDSD+MMfaVJvZ8la/\n",
       "js6pezn0eVpEnZQP7NbEPXUE9gX1ARHO+dzpvExB2vi9IHwfYnJt6WB4FtUsa/SL+Oz9FROekgb0\n",
       "yj2j+3D9sWKYOmEAAACWAZ+yakN/AA/hQgOc9GkNzXNmaSgs4WZAAANawsT2b8Bs55mCTvnQoghT\n",
       "SY9DX8DNLaw3g3KTngAcQsSX8Y7IhTlb3neGXw9plw3D/a1Gu5z1D35KnJhDd8xR2WDVxbhSDJ2t\n",
       "4fFjziEbwq/5yiUK1h/vWvUKXyh7W7F2OFuRDX8OVtBw95zr8AdQAAADAAK8pMCGO6BwAAAAt0Gb\n",
       "tUnhDyZTBTwQ//6qVQAF3EKlaAl1hXWyFM+wxhT2wzrq+HAAAB6AAFq3W2b2cAQOsRVbFEfu9l7+\n",
       "AHhGftPAoqmvo88K5mWZyL4lAtt3k7Zf3CJt/w31ogFsgCjpopVWKBR/QCL7JrumYL18gJSYmHTC\n",
       "zKF3lDCno+f+6Fvh6oHm3rylpw2Apj9VFYvj2jCPCA3zKjSfdlZTCR0qvy3nC3/XCm9Fajpm8co5\n",
       "vKT2zWtB/XBswAAAAIoBn9RqQ38AD99rCMNhhN5LTjVDBjdJ+Wznl3wAA24IduvSlwOtOCllMKOO\n",
       "fWrb23amsB4IzSb9FETOVn9Lam3Pb+Og0idUKiuAVyaHFOm42nzY12/IrCGokCahvXGuY1tVsOHs\n",
       "pNnYWJKQjlNESvz7xvYvsS2p+ss/ZSdYGUasJMDp2ODBisA8vJcAAACoQZvXSeEPJlMFPBD//qpV\n",
       "AABvMCGBXw/cgfewx/+P9h44AFp/Tw+7eg9JtCrKhYyPP1v0a+W3sEB55yzX5d9NLQzXwLLGJ6kF\n",
       "nsPCf1NAmoMSUKcbH6xQHJFy3uTqYwoiHsl1vGUDEjc7Gy+zK85OC2iEAnmhBBVZbZUpGcVe4Jet\n",
       "nz+qibwFcof76KxD8BNQzRC3nW8QggNgLS/7fYOSF4XYaT0F6GltAAAAkAGf9mpDfwABNYyUjDYY\n",
       "Xn0nRjnmNBKAAld9O6ypb/U9GuR3+zCgtB+u8D1/Ha4DbCmzMFwtpx3ea06MLp+Q3oE90K8YdTMb\n",
       "J7rtCrvYSTSZIdrSiErRHIr6YLebcYIpcT4bcZfmFfKFow1UbkY/e52vAxr6NO7SsUK7KJb258n7\n",
       "joNtTqESi3PjIhwvCmXbEQAAANpBm/hJ4Q8mUwIIf/6qVQAAbyivIAia3/7TkIUuQinS/uOshEaV\n",
       "5ecIrlxWEBflrY8oVl9/+1W41XrjfDhd4yTfOQn6G1gE9oT2MUVidQacBynuMBbgyNegSGII5It0\n",
       "1/2y0tFAdDKdxA08LH/j/OWvJj+FbDbz6CfO9FmvxJgbDfpiNkml/k2nDkafjSGeXPwr4/F5rwmk\n",
       "qLUFcsfE4fVl4rBsHU20daHYPwEiGPd+3gGs3c6NIPjP4/2O0SASFKkt7LiaUbpzusZjUdCDTAMO\n",
       "cG/l5mTAiRCTgQAAAJRBmhpJ4Q8mUwURPBD//qpVAABvMCGBXw/cgfbFffUcrUjbzqeuBGmEUFMK\n",
       "TzpDvH5+dsv5J6va/kElv8Sob+gA2q8xzttkSIERpXyAxgxg4m0bBZnUf8q8R17XG7AiVc5V5qSL\n",
       "tgoGxobqMT7ThB+oCVr0qUpFj3tNh2Iu95B7aWc2RZ8zkx/0y3rA/4wQ67N3/heAAAAAiwGeOWpD\n",
       "fwABNYyUjDYYQWK7BqR7wwUsphRxz61deXdqawHgyrWm8YcNkzP6W1soErTZGd0LL6fbO2eTsxB6\n",
       "5RLNWbEdXtSpNWED3V/EMzoyVrODeh2aBvKxv2y2IP7q+GeONpHd62VS3mgn3JhTmOXi2oquSPuM\n",
       "Fn68USaAD9jVrXDrtHcEJQSMRKkAAACVQZo9SeEPJlMCH//+qZYAALf/VwAPlygeg8q8RSZMcBbI\n",
       "rmSplalR+YIn/Z9yqfWESVaqTuR1ElVgNrXszUfYiX4EPks/yYaXReyct9YMk5wbzw6gYPujedF+\n",
       "9GaiAB2bSkI80eeZgNCGWP8ARN8iF+hmErPXbHLaIWqdIpQVb0I3P91/NfJ+aW7Iub7Kiij/OeGk\n",
       "Z4MAAACpQZ5bRRE8N/8AAQW7w1wxoAPLIuRkFglR+ZStsPwLgRYzgrIDjw0OfNtoWKPMAssTlsj/\n",
       "LFwmH8kV9ZYuzr70w4IaM5/9ANFL034BUCgxY0ic+sMvTe8cTwDqbPv4OFplBPj5QVFf/w6Dt31N\n",
       "Y8ExPjpWK9x8mDXwGd2FRWJgb9smUa+2qQ658z6pAflH8t538NYZZQqoz1tc1Y1PTtBYAab4gSJR\n",
       "JGRiYwAAAFYBnnxqQ38AAQWveicfhyt7JultHuIi4AFzQ9s470pxQYZCEIilCo3rAPonqEw1ABB/\n",
       "H5DOoTnhyiL6Zrfz42zNM3X2+iwDIXNt/5nHdtMai5RFgmqoIQAAALVBmn5JqEFomUwIIf/+qlUA\n",
       "AG8qD8AR8i8yd00NcZFS1cDxwQTSm3QtxTDMKQjv/5Pe6K4AjhwPBew/H59CKjg5Q3Rg4p4VR/HM\n",
       "Q7P/+PwJhHzxC35usCPJ1H777JN85Cfoq/ZWDAxIGjVcj5XNYNAUAoc9LORAXlvjaHhL7qobCuB+\n",
       "fnEHWxGb/D3DzGyOU627tfA45g6+/+fDnIx1971Do8jkcOvNNfJmEBp76Icw8ZG/nQXkAAAAW0Ga\n",
       "n0nhClJlMCCH//6qVQAAbzAhgV8P3IHbVycQnAeAC+BX0loI2FfuC3u6sHbT9hjkWeJU5upPHMIq\n",
       "P+a++Myy5NTMid2FNn9gC2rEhEgBWx8A01kIRNx4TcAAAACBQZqhSeEOiZTBTRMEP/6qVQAAN971\n",
       "KyV9dbJdcutRhCABoOBo6Pr438JRg3UtEuPUPKAbOtFMjmGUA5fdrFeiXxSVRTcoSLLl8UqPV5Vc\n",
       "IARIYtOWtL+2/hcLvK9wWA7VKWb4vGuWFUZdz9UEBIrDGwPUzlzYSpFQFKVDc6RdALiBAAAAggGe\n",
       "wGpDfwAA3XDcAJq4JUt1U/WDbHmEy39/IRV3/y0aXHmDRz71CcaGMMHya1yJ2to9VTQB3b8/xNDg\n",
       "0YOAsW0VwQCuy29M/klr0qLmrbo04sN4Mt3yVqHS4v9Ty2tjJ8tGZ7+Vx7gdRxmuIYu2LU6hQA/M\n",
       "VPV/ueDu1RQYaiiZ/kAAAAC1QZrDSeEPJlMFPBD//qpVAABeMrn8Ttz+eACVHPD8r36577qa0rb+\n",
       "P9eHapmjS/smrWe5QCmyKm95NaZqz3Qdo8dTlEQcyC7HZ9Ud5/RJZkeQlgNhuK1hE1Xyl88BZlnA\n",
       "nZRSlTYqIdrjE+AC2vsrkh/93t3NwMY5eKgwk/qFiVXERKz31Tg240QSUiYcwCDhDVD3yXfrKozO\n",
       "0E89UUBzuksIeaE38Sz+eSXguyEsKUAoBV2wIQAAAEsBnuJqQ38AAP4UIDnPRpDqheCy+dY6gBKm\n",
       "aqVPS8WXX4103UQFoAnv4Zy08qHAYhFOBXglMxkj/NA0WoROt7YUAltBd0uRkFJ1fGwAAACeQZrl\n",
       "SeEPJlMFPBD//qpVAABdxAcAFeJBEzFcwY5T3yAb/f/4c+n7783iKfanFWldZl4jt8+mWf3SSaol\n",
       "1EIKIkGJqRpuhUv6FWQvOO2Q1FtfGx5k3fhOQGzsjsBtk8ev9cZrma9AO1TP603I4/6Y9lyXEtSW\n",
       "nPJB9JTE/ntAz9BVwp/vZ6kJKLYJr4+WNYnfOZa1MpmEplUgZ4FF0OEAAACgAZ8EakN/AAE2UfAA\n",
       "Mo/CC8Sgi2gb7FAjTERhVSM0p6Y2oSBd2TGA4Ttvc/oQBs085i798AfI3xPymo7h/Bg16VX5URNe\n",
       "gcSNEAxPhOe7E+4RlmtdOleUgRdglWi6mfnqSB9O9lDNRQLJijjuvgQwI1smORXSHB2qJy2MV/gU\n",
       "hCaYxmvjgYF4obLvDVVrqaDvO68us29EXQj0ppnwx9ZjVQAAAGlBmwZJ4Q8mUwIIf/6qVQAAW4bq\n",
       "N0ETc+p+lgpjFqmtx9aGuRBF+987+aw5lEFyNLRDG21JouK7Cx1EwDUWnE0+Ra5xIqck+7V2pC8V\n",
       "CzicBBirwNy2mGupCglj3/ochoxnFMmSCEZkdSEAAABlQZsoSeEPJlMFETwQ//6qVQAAN5gR2wyB\n",
       "vFBz4Ec7ic8Vx4uMpLTp29di+F+3Ro+RCAwyI7UvyIQTdZYnka+6worZgHMpjQYIABoOBd08yMoQ\n",
       "B1JURiiY3OvpUD/fPWfrcbyFpWEAAAB3AZ9HakN/AACaznmInKAAcis/3fYEHWOHtyP7OCDMtgo/\n",
       "ZnMOKpSD1dqvtFIhwU+foz8eqvZz0a25vbYLbbIV2J5JUQH3aJ7XlvATr3pWHBmUBk3XGsgRNRvS\n",
       "y3++lGVh21U60Faqv0CdEDFXQ7F0Wb0qXwgOSVAAAADTQZtJSeEPJlMCCH/+qlUAAFA8TeANjXg7\n",
       "ddUmA8HjAz9Ek67I+K4DLlupuRcwPioZG00tw2E7jID/v2I7BDLbI6OPbJJ8zWi35nw1CKnsjQZH\n",
       "nNC6HevCD//MgsvGJ0P7XU4jCFbpqcwa3LE7vu4xVpp2pDm5YZf/Gr43sXF4cGuxHDf1LOhJWAVQ\n",
       "4kSzXqhwHBIQyICPmLz7WGnKVu2fJ2wrQGMim72FQJj7UkNr6RGZP3c9l3DX0UBrk2DZ67Mri24o\n",
       "fpQXSKU1HchSHcX2Oo5EdgAAALlBm2xJ4Q8mUwIf//6plgAC35dX+P82xAAQ+2Tm4lhQcgB0wZSo\n",
       "dPAX6N9j8KEYJ1ghUCVtVVIUH8guqb0yNqKdR2K0MJjNqO4bl0K1EXOmpFiVpln4SdvhV5DlYGxF\n",
       "PN4JW0He6tMlFBFogBjX336/JtMQnUtM+gLJeXz0Q2lRoR/V1ZoJGueUQ/ub438UKXT2EPhY/yrZ\n",
       "RM8Ad2JwAVDpJjzipARuRqFQSyUClntVAwI0vWajp2P33QAAAN1Bn4pFETw3/wAB/ChAc56NIdVz\n",
       "YQANG4Lr9h5qSUVyXduc3oMf+URovveNZiwmNebbw3b9SsBjPmsXUPgmzBxVBg0yhgQOzgluXxY3\n",
       "XR8uNR0TUXt0iZruj6zSWzS9dsSinnyfeF2k4aFqCbhh2Dvxw4wjfm/lE1izzyuYTzGWwwP2DmtO\n",
       "uCOqiU5xUAIW3PRdD47EpK1okLuIdvDJRgXC3n42wiXG87C2wqFprcQomkVxZ4ZzVKVDgWzdrul2\n",
       "NTlaM0XCCOStQbd2LWD94G8/DZms4n9mZayqcMk0XgAAAJMBn6tqQ38AAfwI6zzUd/QAlTt4abIK\n",
       "IirluxsIYp0QQ9Mr74FSLztnX+xmqIcWJ6ZD5XAMcETNkAImarefPpe/GVN3Hyr5AUHtsp2x5IAB\n",
       "Jys3Zv564zTyzfcmt3BgCOEGwwDpQbIzqLyNU0vkAFWsmB0zvUooh4TlTPz16pCLTyg4y1+L+zEh\n",
       "zMWXZfHQ9bQcaYAAAACRQZutSahBaJlMCCH//qpVAAC7gIUyXRkt3wlF5AjehABkqiQSJN6/bjST\n",
       "08LoIigXsrqag37ErsTIuUv4AMlS4M7nS1sypap9pd7SBTm3k/2uZydQqC1guMrfV+7oBndqGBoE\n",
       "R+RlYGv0/veTV6Bu4A083yGwODZeMlXK+8KuKZj+rbIP0dDH8XI2TMHv900npQAAAMFBm85J4QpS\n",
       "ZTAgh//+qlUAALx8Xr1XY4CMD+4AHIz7a3rlVq8FzLnDivf8tnnQCRzWZHpwZ1ijvn5cW05sDmRa\n",
       "cXr/ZGRKFCF24M6EnikbEVRQdfXATEVPYJ1ovjVqohS4XAsN0IXSNEFzWqoRe+qWYCstq0mRUbXV\n",
       "FQWGnn2MjQ37lS/ogNX/xKQKPEqwn00UIgEYzo4OVJj3535yqvApz7glYqmCj8NyKFATrAUSGnXD\n",
       "h1TmZkOheRo/P+ZZXwjTAAAAqUGb8EnhDomUwU0TBD/+qlUAAG8ovEgCgn6NdbXarFHWL/+HTJI8\n",
       "yL32j6LqGZf/5QeCFX//V0EuCiWZJwGYfa/TJ+htWs//rV6mHetv8v5cqzJ7wv5WMn6+85bjPfbj\n",
       "9fh5G98a6rbTKrHBymYl8FpA80ZNQp0Cc+YSwRdc/84b6R2t1BkO2AAAO1fpT9GQUkp6Uc+mMui/\n",
       "O43jsHMtpcT+TVGVzZ2xU0EAAABCAZ4PakN/AAE1r0A5z0aRBOmgZhP0pq9XibAoAB92HA/jXLSo\n",
       "NzueneFeBP40YgBa1o1i560saikhCfOgkBswTTXRAAAA2UGaEUnhDyZTAgh//qpVAAXjKy6Tr/81\n",
       "QAS9PTSregQ2wl1IYm88JSwDFWJLei3u70MCjHsQVxNLo8DXN2zP2BMs+OjVK2PRpF8TsNsmvC6T\n",
       "yESJJEgdnugHnItkyv5bTQmAcs4E/2diQhpEHObC7TGIf+aXzg8IpGwQUN8/xxJYNoC0tV87Waw+\n",
       "JNrzXyLE3Slno/JnKAoyL0rxmKertLSHPm2vqYKwbVJazysxJSBCTLPNj+6/wru4HjbVzIAGDmOB\n",
       "EjU4nwzjeGRO2iprZXRnBEA69pRyEm4AAABwQZozSeEPJlMFETwQ//6qVQAF3EKlaAl1hXWyFM+w\n",
       "xhT2wzrq+HAAAB6AAVeYFr+iYTkjp1UsAC2tEVkSZi4+5q5MKqjcCADerv/gqirFoNOKnpt05INP\n",
       "GnEeWArRdzuGUjl9vVKN1PJpP5h9NJAfMQAAAHgBnlJqQ38AD99rCMNhhN5LTjVDBjDsIAAAL8UT\n",
       "AnpTCjjn1q4GcuTWA8E81pvGHDbuwihXdGQYUnhWjOZx40CSYmxz2mDmnHkdWKMfF9RrrShrOBjZ\n",
       "fRGSBxQiWYiwwhX5vNSauhA/0CtqMwzu1EZu7i1PYlnrM8AAAAC7QZpUSeEPJlMCCH/+qlUAADeZ\n",
       "or/ABEhuQKpv4r7hn9YzPOPs8pTaxfVfSOOksTGne4NE6nXpe2R+mlZg6zGrT+H/qAMV7EgsHZuE\n",
       "ysC5rXrKufXWe3rXxfOR0hCpvMJrh2FthHSZ90s/vd2ou0oSLjNDfDRGjQrUfyTxfypasURsW3L1\n",
       "wwRmxFvrOilbLzAGtm6G31hi7s9AWc29n4+9Z1OU9ji1EcxzQiNwbgL9K376QAEmaxMNOZUG9AAA\n",
       "AKFBmnZJ4Q8mUwURPBD//qpVAAA3mBUrQEusK62TC2Dg51ABoOClglCAAKAXtuv9lIuPsCaNDE3+\n",
       "Y3DMTn/9lbAP3XUyTdYpqoIPPyjx2MGOnQG3FKy4+eb68pkfHhn/Mev0i70dVc8SjXopRFIQqXoK\n",
       "uweAAAFKZ5RdrdLAlswADFnJd6SOlU5VH3Ir59k6xZTwWEw/JrBkN3gmB3BsPuAqYQAAAH4BnpVq\n",
       "Q38AAN1w3ACauCVLdVP1g2x5hMt/fyEVd/8tGlx5g0c+9QnGhjDB8mtcidraPVU0Ad2/P8TQ4NGD\n",
       "gLFtFcEArstvTP5Ja9Ki5q26NOLDeCUaUycAVoC/qPz7yLSVb+07ACt3juOyDiF2lRZdjWZexxv/\n",
       "896JOMhCxP0AAADZQZqYSeEPJlMFPBD//qpVAABeMrLpOv/zVABUdYaVb0CYdjbykKzj/RpZT45D\n",
       "+QO7Rfd0pu+sHuqcmml0eBrm1HAl9YawcRY3tZyLA2lknBT5PsBm2yKUg90Tc5N+iV7Nz2uW9Z77\n",
       "3x7so/m0MEyTpgYjzSQ2BP47ptQdXcs2LrhMTQmHJNQSLxn42Yfhu2u+Kcr8cEn0ECgSaXtP+rl7\n",
       "E7ZhonBxEnwbrYedXvLK0X3GLxBK+zrNeuTstHoyGDGuXkfak7u8ZBCHFD5ei6nslAb87hf2LEEr\n",
       "YQAAAJQBnrdqQ38AAP4UIDnPRpDqkpTJ0iXAAuqqnxY0Wf02Th16+BXEMDzZ5jaFUaXVUvi60+xR\n",
       "NEbFa662/RQJHlfifwZ8btrkKMHlZxTiAcuBHg8/YZLbgZ3B/phtmOPtkPto2KWl+RiiLSBmmjXY\n",
       "tvXTIom5BZuDeKudXclXB84+QF0ehQ2l8FabcIClM6zKvVQmbypBAAAAs0GauUnhDyZTAgh//qpV\n",
       "AABvKLxIAoJ+jXW12qxR1i//h0ySPMi99o+i6hmX/+UHghV//1dBLgolmScBmH2v0yfobVrP/61e\n",
       "ph3rb/L+XKsydav5WMn6+85bjPfbj9fh5G98a6rb+T7erc68G6Z9jNQp9VEpyb/inUWIN3zewX9K\n",
       "Ka4ngOtntiY9BCd0tfF6cqsuWkSr3RY6svlQ3gz7x2wAkDcFcmDzSbVtZkAaPBHc60OmAAAAhUGa\n",
       "20nhDyZTBRE8EP/+qlUAAG8wIYFfD9yB9sV99RytSNvOp65yeCzjLUdctgdVAAl2vVMNzjkCgAs/\n",
       "iu4dzJq2fo/oXwALIPadLQ+qf+qXBrXtTLEQfqWPQOKh2PHG0YfD3G4gPh/RsmZL77NWGglLPjKm\n",
       "zWZUN8lOVEreXZ+3k1UORq0AAAByAZ76akN/AAE1jJSMNhhegw0DsjkfYmdF/1u1QAm7v/AGCNgN\n",
       "/gS4Mt+am+DLse8n7o1u+qmu50dgry30k3D3siZhbAvw8A+WNqnpEB2rgJBjplwX9XxEW40kCnOl\n",
       "CMITYIvyXIFPMqwilthUGk7pVkFgAAAAWEGa/UnhDyZTBTw///6plgAA2g6ZWGXR1CWnUO6WaODh\n",
       "e07zuyZUjoAKpKbcG9M1PuJX63w+4T9CzSCIHb3koieWnvugSlv4YFOmbUkjEoAxWqfoCZcC/NEA\n",
       "AABlAZ8cakN/AAE0/TRlwWlf7WJ/TrCf1930kB0gACGuNOXHt1v5u6IRVQPfJcZ4XUWZwXWRw54Q\n",
       "EPm+DHwy7EzLpLo0nd6jBCWkJqw87vv8hgd/9aj32w5+2nu97fdm6+Yo/C+9gIEAAADNQZseSeEP\n",
       "JlMCH//+qZYAAThA/4Ba7spI3r59h8rxNbVYe7IJQnDSOy/ujwJlkO2gbBrK//y6FPQUwYTCdL1s\n",
       "yesdVAf+CgkOErh6OegXKjWthUuD+t4rpCoPJ3oBf8OluMpU70jx//EtV5DQCGp8uTFINfPdxAGo\n",
       "ZtjrG8XWMu80xZ3jrtodXaKOIpRFPGDdrcxfxWeZ/kQMylNtJT3aJ0twyxAlGncE6vAyoyUvYK0c\n",
       "l6x1be8+3r2pkmbo0402usElHGu+bm9gFa0TjgAAAIhBmz9J4Q8mUwIIf/6qVQAAUEQ08AQj5xUS\n",
       "nwh/k/yJypfe6XpzEPEv3PvBXLMvNmjirxzq+2ZNIKcDwa06wG6ELpGik5rWHRvh9Nz7Nb0MmO9j\n",
       "XVHnK8ZJYelii0DW9sg1hHPDsyc+CVdHtCEVA8VvQ3+YkU2Rr5RGZKjhZUdv4Lj/GQKI/2BAAAAA\n",
       "nUGbQUnhDyZTBRE8P//+qZYAAt+XV8Tt0caADVCsq3G+Lrs/GE0l5uQJx/5Bx9mZswOzqkono9qv\n",
       "X6q2f/J8IQNCdqz4S2LZ6BVrogdqdAeM4OcsVVQanRdsj3675CIHmX5CQOv6jH2UF6x8KkG0bmUh\n",
       "rlnNjZc9jZDpLpCv1n5z4YAsU+uVDAJhUHE6T53VuxFINlXs4AWzPUywQsEAAABjAZ9gakN/AAH8\n",
       "KEBzno0hua5svD0UgOam+bfloIAS1uUCGisypGBwbP2z2MgBhy7sEtqh2TxJLNtF6Rfzpg0tdrXD\n",
       "NN5FDdltWj4tBCXxvKt5sekHlLTqXiS59e946VNZFP9+AAAAx0GbYknhDyZTAgh//qpVAAC7gIUy\n",
       "XPZgAtszWtS0k4TkRnhnA1LQky85k7poa4yKlq4HjggmlNuhbimGX2Ed//8+gPUIkzdf/Bew/H59\n",
       "CMbg5Q3YjJA2th/HMQ/P/8fgTCOvr7dyuOOoRUFTbeN/xqI8OWThZAEGjVcj6TNYNtXkp7D1mRAX\n",
       "UvjaHp4bqoZZ4BkaLZ9gS7AjRdZCMYoicanQeMrcIhfUBfIKdIsnBIwee6IAIG9/ic/ueG/czlz8\n",
       "+C88xL6s0h8AAACHQZuDSeEPJlMCCH/+qlUAALuAu08EBFnA+18Eq2t7/Rj/065ecQrvUAGjkC8U\n",
       "PR+DMAPAx7OMVq/d4gb7yecd5rfKoxUnmDoNjpKFEi2UpLYtqaScMo5ikVlOKjp6cKNT7NPLTcjZ\n",
       "JUkhzSb1toa9B8/PbJIjNr/n+9Ofm/yjQoM/C6KQsAZUAAAAgkGbpUnhDyZTBRE8EP/+qlUAALcL\n",
       "Sxb2eb4+ClqUlj1ABLbtGnXOlRekFwyDbhCJLBK47PrW/yr4ZmneM7tYoefPyMBG/6giNaX3muKv\n",
       "z7vPgpQcniYEv4BDiz2ybv2IUwzNeiW5Y99AP5KhWWGQiktwfZ/TGqvuMfGGxZGKzq0rAYEAAABe\n",
       "AZ/EakN/AAHxdGCikEvltn7kthTOA2f4KitUpAtRrucpMK5t7u/2gNCAGz7mV22eY6DW/GQ0NBFA\n",
       "ugAFbph6hHEU4TABeUZ8QMROIksm50OmIG2EyI0fmZYIHM0DgQAAAFZBm8dJ4Q8mUwU8EP/+qlUA\n",
       "AF3FpImzzfHvgGLF70LGjPZvBm/XB+6ME335jmjMIuSAyKk0WIluI8lHPmDHfWuRAGsD2UhABiPQ\n",
       "8ydeK67TjWP/53gl4QAAAGIBn+ZqQ38AAP4EZXmfEuu43n4i5anAROan5TmeamAH6wAORD1wL4Xg\n",
       "1EJ2Am0N32kAghoy4V3mFxMM0PvWZN/RrEKmmKeX+80cA1+pK4yp0YCM6q5MwaBlL0hsQfgUIaq6\n",
       "YQAAAGJBm+hJ4Q8mUwIIf/6qVQAAW/3/ArGZBOHas5dEbACFrpmY9qXSiXnLAfGnYFWuuqV/o54Q\n",
       "79naqzI0KdkmUz8s6kC2zLlj1Kx7NaHol6hDhe/JyB7czOJglQggKvR+vMSL0AAAAElBmgtJ4Q8m\n",
       "UwIf//6plgABOFmT5lxjDA0H1MkbfpwNy0baBoS7sR20J36LAAfAtyFDUp0B+G5sAAuWqS/4IM4A\n",
       "+qyfnvnqVQMyAAABK0GeKUURPDf/AAE2L5oAKN8EsMjhbMaM7lNJ8khSonbe5/In4Hi7+3Crd55b\n",
       "xdtIOxh4UB5Bq8vbq+yHgknurdjXcvmQ99sA06ywW2N/YGnzJlK4F8/1qE2kOGi7I+mnQveCe3+b\n",
       "fX/1vnK2tvTElPjZRW/j7hRBPafq+Pp4lMb8rlVKm1k70VnAsVhSW+Roy168VJNg/gvOjQsN6H5I\n",
       "ch3ltdmodlEZtv+7Sz1ztx36AjiTOY4ZH0DjEMgriD0bhj547xqwSSxuQC2Upm2YYzZT8tld6Ogn\n",
       "E/HieIOTN+6HzxgAT79KZ8TYH2NaduCcbFvHryMxTP58OebZ1WpzBU8ZFDZscfyq1E7EpFgJ3++d\n",
       "AbfBu8HuM9qG2ccIYZAAF4k9sVVtJ2uAuevFAAAAOQGeSmpDfwABNYyUjDYYTeS0xz4Vo0slXAnd\n",
       "yUqSnBgz/tT9DmrCxHViGM4/loLxKWNztn/vM8HCPgAAAHBBmkxJqEFomUwIf//+qZYAANos3gBZ\n",
       "iACzHiyxMeh52Z72sTuVnxllSbcBwUQYme414rCd+AOyk9C6Pr7iDoZUVACNFkzf4GEuvA1C63ci\n",
       "qnkAt4Db+kGeHYcwVY5FiMXHg9tigge43HNLuBemN1W0AAAAh0GabUnhClJlMCH//qmWAAE5fh0N\n",
       "QExBh1g3dn0onkWcy1esqCr1Oh920mEXGDkEwc/eCVHqgPbJ7XTOxfpWgd5tFrtQAFtfQGmxuBnE\n",
       "v3TZVITEupz0bPiOGRwwdgZPNB4iJEDnLKPcUHxw7KbEQGopdyL4IbAewdlSbTPALp/lHwdez8QG\n",
       "DQAAALVBmo5J4Q6JlMCCH/6qVQAAbzMtAAK385jwys5m2ZN/miksi6B7c3MRZj96///PoD1CJM2w\n",
       "/wH1EwqXjp/MZic7+Pl05HXjGBtRnP/cSBThv+ACZu3hpEgB6dbI1+mT9FX7KwbdOquwjtsgr+xY\n",
       "6mbH33EikX2+zm87Bspq9X2a6wRQm5iRVHxF9yGPgwySH/WIZGPu9fN1mpo68q3jbowtfPSJ3wDX\n",
       "qOIV2mKDrRtjv6jfF0+ZAAAA2UGar0nhDyZTAgh//qpVAAXjKy6Tr/81QAS9PTSregQ2wl1IYm88\n",
       "JSwDFWJLei3u70MCjHsQVxNLo8DXN2zP2BMs+OjVK2PRpF8TsNsmvC6TyESJJEgdnugHnItkyv5b\n",
       "TQmAcs4E/2diQhpEHObC7TGIf+aXyDBjtTDEHKiC0PGLWHV4gGwv1V4RjfPjj43fKatDvdxZfWBG\n",
       "GBUsj/FFVKM5fwIPrQXeFXWSGw7DPIRC06klJteoWFDtYdBrIBml3Aa3k1pEkeCfjFbzoLol5wG8\n",
       "6LaU6oOKa2EAAACUQZrRSeEPJlMFETwQ//6qVQAF3EKlaAl1hXWyFM+wxhT2wzrq+HAAAB6AAFEB\n",
       "ITBTysqXjSsu3+SCM5kAH3CQZh5CScLzf5suAap8edDmH4DwWIJIASpC6P8IzBIeSAiTtv8xvCYq\n",
       "z/0JtC+3NLyFX3jYP7UNqMyXcHpLbLj6xRry2Y8eG4/uTwGGeGJ6qzxnd3qCZgAAAFoBnvBqQ38A\n",
       "D99rCMNhhN5LTjVC//5wAAMiYmiAA0bkpaYMKXR/ePDNzNMt0uuabkFQ5e3oDRtP71u3jRj03DC3\n",
       "umUmdfPg/7yocN5YgCef76HwF09BMyDrSQoAAACgQZrzSeEPJlMFPBD//qpVAAA33nOAAFQ36aQ1\n",
       "R7DPiAQX8oFJrj1nZf+hcJrJ4ICz8NaRrhMLZxT0hsBcqrDLzpSwYp0o5O63kY2dFz6EKzJSIcwp\n",
       "gNEUVgh04NXXA+qS5LCWo/WaFUyeZ8NiHrLLfhdCSHHI3CG87TFOdxWgujwlejwU3f7N0MgaWQsZ\n",
       "E8uWxosSK3RLX4yP3AAGTBIouQAAAKABnxJqQ38AAJrOel2coAByKz/d9gQdY4e3I/s4FE0z6KgA\n",
       "jBxt6ZbbKCmnr/z2JNitp4fb19i0Es7gQliQTt6LcpJgXecZAntMa38cYSEc8oC3fVpytVxqxzK0\n",
       "evjkN/GzpBsNHqkWUmoxeRnV5iGSY7/9QR85Gs11xKDl0CJagA5jtvTCBp0G/lQBtlVVlnWKjuhZ\n",
       "wdVSVRu8yE6yTiqgAAAAakGbFEnhDyZTAgh//qpVAABQYtxBWgVVWZLvgEAJ9b8a4NZw3q6FJ8yE\n",
       "fsV0ItdMUAMQby2PwlPVvGb9j+i/yp8dUnNsZcDnOG8zSYxD7Zi3S6mMWvPWayZs4KPdehzCunQr\n",
       "3efmiQDCB9wAAADXQZs3SeEPJlMCCH/+qlUAALt3nYF67yzkKvkURjRG7zq+wCK4TP/DLy1ABGFd\n",
       "xwn8yN93FlUf//ZXCBxv+5viV48+1NzvFvMIrUhIFq/AcAtMPyzymwN5/aBf4Nk6sik2NLG39DT2\n",
       "0+ti/EVrInBIN6kZ0bB7hOV3YazSqFwGqlhkvZlDohu17St+RyKGRvchE9wmgkChSI0eIofElHa/\n",
       "4SALTW6wKfSVCsl/AGzzAxe5Z4zUIMD8bOKS6PeD6HNRtO88gVbOEqUurL+7lOYcsxnEjNKnhjcA\n",
       "AABnQZ9VRRE8N/8AAfF0YLg6EgtpOD6FJK6AAhym0D85EANeZZW8J4nLH1ZYG9rtgADraAp+4b2U\n",
       "uYHFyQLZG1bSv3WQLI3tNrXGsBSpehUkWXcj3jqmT79rxX/W4lq4aeZN5j0ND11k4AAAAFMBn3Zq\n",
       "Q38AAfwIyvM+JddxvPxFyuxe8AAhYiJq70vdXFD3edKgAAbLwRFagpvV2hN9hZJQnUkatX/gElnm\n",
       "fP769LKXDTlv/Nw2cvVfwufE2BBiwQAAAIBBm3lJqEFomUwU8EP//qpVAAC3+/4FYzIJwwKzxbPd\n",
       "IAQfVLTEJbZRC71LiV2OHmiitqon+yHmXFlX5gitPkBxuB9XB60xTNftlqsnmMuBOaZiNNXp0OKo\n",
       "hro02tHMa7t2mZJ4TDWbBo9zbdCgfUEM7Xqh/YX1HRfrEWBj2/hC7wAAAI0Bn5hqQ38AAfF05+Rp\n",
       "o1h0XH6Y1MDoineObXvWG215DiY8n/AAFcPoq3ChL2iO31TIRqpWceEBbTWV3y9UbqGmIAG5JK80\n",
       "Kzgh4vEAt3NuPsz3Hm3j/5WZZM7AV4jCQV4U/UgYawHCk0DvTaJKKaflxmB/B8evYmkSNu6yl1us\n",
       "VdGZj9SvLmrnRD7rvrIAAA5XZYiCAAT//vexj4FNyAANlzqKeh/hFbH0kFF6sdmgZOoAAAMAAImB\n",
       "jhZAtblacVAAAOlh/wZ4n5gW7WCPs66LCaiezSdqtzHkV+/1UpKYNfwTREhMxenRcFwpDuQiHfq7\n",
       "ATqdczN6+QcqEQt4KySL15inRkHnpjT6uXxv2P33y+bQXkOQXi9AJUviREIHP+GD5b4/8CtJsICw\n",
       "zsCODCKSf/Sw0uKB1PSornW4GGouD4/24i3TH7y5Bi2ujT2GDuzBrrL9YJ7OGuydBJfLXHT+rq7H\n",
       "wR0dXpMWp5+od/ZnUL29ZyVUbcALzVLeZhRz4fUkihyOFpfpR56uigX1dx48Jvismm/5FvwWBJPM\n",
       "SrdNopNHGcGNt9qa3I7oGtUHSt2wQav5mj8oLSOcE/ixjhwSPvHGda3sghNxul9U43AWJjCtZjvc\n",
       "hU4TLNqZ/m6+AWJ8jNHG6CQBwbpWMxtdppAsdNCG355EwPDyHPsS2TkzWtRUfo3cH42WjizlIMc7\n",
       "PGjwdW8P/MiCBJOc/CQ4GssZsXdqzAN9h7YDEfNORDA8gU8QxfNFmTzzVF19fFdtejPNqkehBYA8\n",
       "s5wpHyJ+UmB2lI5vHEZuTyfwVBXEGZza/hRxIY3nMIehH2QlX6n6cCjL/L0UF8xy+tJmhOLYMtbl\n",
       "/3/EsaTaZxAbp3yky2gQeduO9iwCldgzWE184aZcryv5Qtj2WE0/Wk1mmSjHijGSMzLenZDlT5Ju\n",
       "dR5S8/uIDV9i2/9o3O9GMbZhjFm2QJPu7kINx0dQEYOmLzLgTIB2WSCzgd3lyKr06WcFTUZk2uxf\n",
       "i55xzlMpJM86Mq2ejgapMBCqLEBjR8tkGxgAAu0Zql+p3rhMSl0xMtNDxpscQTkV2Ea9EVa6euOH\n",
       "8z4sx2EhS4A6YwI/2GM/+9pvy+NRgdPbnf74ghs0vlBGsgyOiqBmW/WHFhJX8paJD+IAw/EgTep/\n",
       "8427cXE7dmlUu8FqkWXCioobYHdO/6RfJA3OieVQDwfIsPfr6CrkZVwn0KkCT2D45mg1XESDGLgc\n",
       "7aSXvV/XRQ9ab9DarngTFN2b67gK8bA3JXABjH8ibOGpLTM02LRTdIVAxwGfRR6wB+J/IITf2OW3\n",
       "XwNFAGFrgqvH+6m1lRUwfkToHnPdjfJw5KCTipBXiUCTYh2vEpwwjKyQYXKjbwHLDbnIvjHyDfRa\n",
       "NwNwRthbnePrMH0FK9LG6NDQ38wyJZ5k31Ad4RrB9KsEBCzWFMl8ABPM+xOxCJLj0i+7bmvg2pw2\n",
       "Ed0to8mjW3ILTM51EeL1tjGE38tSsjaILnrUE5ploS0DNaXUgrkPv1o5wDPJE/QdclYLhaHSj1BY\n",
       "O0Yq7pNlEtizhWoDkWJGE7qCtj/AluZwR9L6S5LJZFYlumN9nQEZi3+axozXVhfeKOLVpjuOZlNn\n",
       "bg+vdJhbT9YZrHQArJnZ5KhpZeg5QFHHJRKNFIUG5CpSYWE1he3ZIeRLBs8xLnRFF9UTWuZEnk5G\n",
       "kAHGDHrEZnX0Ugh5SR8+LIPMHqmV1orykDVMCuMr4ScgDvvaZsBp5HIQwB8JlhDXsW51FSCUWAnY\n",
       "+ZfLTrdOIVJxYUT9tiUnq3QSpKYl1d+y1/RbPQO0PPVrzNhR4wUc39GGTFseOKC30OJFThKbFApI\n",
       "xzwJuWbmex6SJaGeodlHAAIWYTY31XNQd9hBAMM28bLuS0n9xOdr9qrXHpu0Fc0TJp2xdLLdB5An\n",
       "jVl/F/sFktivK9whbxJMWan5Q/9z54g/lumb+uU+95mxGdODl4uBhgydlfW3s/Xf0M2RtstgQ9mS\n",
       "5Yo0CaeUonBa6rtxza6Z2JA9R3EiEKAIH5KS9rwk38RiqZ63b8bymL428dtK3klEPIoHW6HUZY2C\n",
       "0UhyAIpSlvX5LOyZAYnX/7Gk/TxQh67+lQEh5eHCEu//dgUfJllQZHlU+AUk7H/MVW/MpwcS1Sd7\n",
       "fDQedS5hZs3KSKyIkon4SUqsFh6VPP2GMlMY5lZg6KLM+/xUWhHXzK6+P2+TM6AwXEaZdQQ1Qqms\n",
       "dpJ50w7S9LZW2k2lO1ZjjfqkyWGXBBSRJdvwdujMle9FPQxa73Awk73PwNiPpKF6soz8r4/t7NcK\n",
       "7ShzYUqPTKUTnBrWNtACCElpYnxb/r/1iwPugypn2TByJ9Ur+gCOXbQ6/vAYZvANJ8zfBzJjKRNo\n",
       "TKhOWXuiAFb90Ll6qD8nach+8cVwfiMa4PteAbhA5D9xuHdgRVZsiUPwfR8Jqb7eRR795l5YOnbW\n",
       "VIyn5tc9NutaKh8yBTU2rQGGDM2kCfdejeWyFatGM/e7B8z/i5mPM1PitY/sdGSBd8/7gTDivRp/\n",
       "7TfP4Bp3gaD7W4N2DbL+NOkZ/qH3dSWHL39m6PrqZBpWzzNKFNoKJQ2K9eMSAEeG/3sVZvgU7Lyw\n",
       "jqXJQ5K4JOJYnSFksUJCaRRKLSpBDXe6GBUoTk/RbhZGTc00Al6+9JbQgVUyq8Kt/ZM5veZ2/vSH\n",
       "z9GvLQOdyLEvjMA6MZ21LveiBlDP99efn5UvWd7fwG076KpzC2nI9VThsUKPf80rbz2kfo8RcP5f\n",
       "GF5VH93ggHa1FWIv29W3zRz3Cyth9cD2vNX6o7awwzd6nusKDjm6T4fpvT6OAR8djbNlI7gLti/X\n",
       "4Nto9P/0Pg0BVSp4I8kYxST5ZkPJ8pPjrLk/Ai4rzkbMjZY+ecagZsCHHYwxSiczk/WDN+ixP3FY\n",
       "0y/PYvNHas/9J3d6YNvcZERbCh8zxvPZYjvT7YaKT+5Ewdb92OP6OP1fwYSbPd8sJAniUE8EQ7Tp\n",
       "diZPjMn0NmiF/ylF17e68qUK3cVz/g/47bEhcMYvXk0vfBtBrKb6mbxwMx8kmmzrIno4XzREfb2+\n",
       "4oIetGEH6XvATv/vAbmRiIj3B4ZvS5YsjjzF1qKEDM56MWi+wiIsJS/v3+2lSgU8gpRESQEuaCPu\n",
       "5ClCQ4Eqq5FHLBt/6dx/oBkXd9+JNFZWHwOnCehbEEhDgdFKc8o81d2edM+kJJo2clvqu4MLjIjr\n",
       "xpx1ceLH35/dgfYvql2EohqM13/rpHZhUxYZA7WjzFZ2dTP3VoMZLZrbpvhBbJJVh2ONdXFyQE1j\n",
       "rK2FwoLc9oRU/E9ZqsSwFPM+9Sno1pFM5DpULNmnNCSQRFYpH+EqrQdTUvLT+Hm4gBDyjRUxMu8m\n",
       "Klr3Ef/gfNWzyAZjSvbNV+AngJOXBkyWYHmVe63kJ2vWbMEp+WgK28hN14i7OpQ2RTNotk45QmHg\n",
       "7CKzdcJXg2g77mwJunt9VbwcecAQZmMgut9QIU0mVOD/NzddOTKUTogjY7hGqrBX4I76lLm4usD4\n",
       "nWvpD0BdPbNV7Biq4waQbbc+smUKEMUTPlw/E2MHnmLvSIEprXYSrhPWl2SbhjyNpgCXEX3uOt6L\n",
       "vyd1n1lvR9yN3aKWRUF6t0YxjKBraH/dZv15X52HQTEFLHBR+LUzmmdNbyRHbfpBChybx90W2BON\n",
       "EK8DokDT/9//9fncKNEfvaACQva+6CtvMYmiWUJqs3A+4/ZGWkMdibNMrkarj+7XbhNUWbCtmL3T\n",
       "YG99FN9vRkoDrdMlg9ftmJHVgYMuU/hpiI4BPc2qemR0vSil+Fq4xJWA73LjNdpKYcR0Ed/O3F9z\n",
       "QXLdBFH/d7HBzMZJMq75MTR7prRJ9VvaTEK3sWQh+TjfQDUIK8+GmTXX3rHVCfGnnFogxXwIkYy5\n",
       "8nhR9x4C7UIN5aCuhQKd7k7Blneut9rhFEelCBis+msUqBm3rxEtbNQ+aEEdcXjbC7hmeXcmrkSd\n",
       "EsGzx+CiMho93ZlhvJgXIlexMZbsvcRPRCt/ZKhekMcBT7Xve8qEikyZYw3dNlVw3r7UR9PbRJLj\n",
       "XLjW/KXNm3j/Fig49a8I5zqGiveSsBWd1RXRWDx28oRO0z0dJ4K25OVPlhEq/4JYG5hlv4gVunC8\n",
       "asYNVCK9jWNB+JjgfuaV778bOhjKDuJieI/LD0BJrx1LVeDFs6U30p00BDFo03JR/mw2YGq9ihPP\n",
       "iW+ZLHWc2sXzTqqKWrUyku35welx4FKK8DVTiJLqz+Wopj9tX50QZ0ByDIEnOJmeBuFVwEENJwdZ\n",
       "g4aJwGqDF3df09TW0b1XO5MBDi/qVWnOlyvgpGuAdFhT8kgsfJQvvv1oxZB3KJ5R/AyNn/VZZdya\n",
       "Rp/kacd9NmAM93FRNpqZlsqRW35kKn4977st8d+0Mb7nJVvDfeORvkX4/0qrIcD1F2HGuu3VZNGC\n",
       "R6L+NOOs1hE7g2ct4ce3XWEFzzBY5Fs3g4ChuRv4F4FY3G2vR/AZFIpzKjCfs680Na5E5WAC9s71\n",
       "f/jLeAev+kcryA2RfemiuIdrX4yrNHeAMi7xIAgs5U6Qsp+2dMWl1EOLmcqYysrVvNQmbc+xLE5c\n",
       "Iye9K0aWx1dF/uI24YTB4ivt4DYe7ZrbBWErnVoeBpnyLv5WwZgAAddXWTrvmU77xbYtZ+GNhIwg\n",
       "v7sOnWGcHpr+CNluVRawwxj3B3QBAMGNgVUhzaBQZZxfLepVr+OPmPpUg5R+bCokOqOGMyb8f+gk\n",
       "gj5Mt3nnS6ddyCr/Qp0Bwlduhv5n9p8b0kz/NDSFxlNNlDG+CRK8iLvXPR/0Kk1IsmdhhKvoltcj\n",
       "A37abHZc2fbQb3aJqT+Y61njeAgrvqboLFXjJBVshzDQABS2Oep/86ecVdwNwmIcec1ILusoAHKG\n",
       "lT4LxMNNzoU9j26n6tN/Fmi0EQBPoRjaQIQNZyDgeBJs4d/nu8QPFrjG0psg5muUNr1NG7mVbYZT\n",
       "ia3xMGvPF/uoSsfl7shvC5fjHtviM5ruJ9dIJcH4mEQZLU+E7bX0eFH6ChA2Wtx26vUADusTNNhS\n",
       "K+P7akm6C2nL4Snhv6H6NbVtMmVxOYkB5CZ7tGddp8j/G1zKiAAACUkAAAIJQZoibEEP/qpVADC4\n",
       "IZgB0UQKpXcSHr6umX6Y1DTkD1om21f3fwr8m0nSk1wMSYD86pQ/9CZ5HaAkSEXq9ErA0sIBHqvq\n",
       "AJ4f6Mu3/hn+CmFQjDM+aAOmcrba1F3um5EUdz1vPVFYYcnQRLPMk2BUYzKmsB+235XMYQPNObZl\n",
       "v84UYK9usR5NoABFQfQB9+gW1wCAPYzuwXlIV7tIhE9v4fz+IKMHB3YVc02tWIjyojoOvxNLTaTa\n",
       "4q6KESlE67v2zzrPs6rmWiwAArtQ4EDHQIboONi07Cm6Ncslngf5t7nLEEygYHrEOJ4qoqnEkTY8\n",
       "ccMKAn6iWStNd55XtHrLhht2K1lhMom9Jvq7JaSA4rLRqQ0ygz633OMtsxA1j8KH9GAG3CSsqO7b\n",
       "OJQKYE0Y+L4aH0k9Ojp1SAJlCRc0DmyK3TmCiucAVYphIpHWTkoG7Nj2rR0p+VeQxddwe6joeI3I\n",
       "zHcXcdbriBJ+3h4vjJtgrf+bYLi8i8Ft+54ZQ3wcF8AdY36S2zcRbPzWx8JYdIa7cf8v/xTtyelG\n",
       "Hc+0lyooyLTp4GSyJKDIuGhheDV4BWtyGdDyq7uwQtoFp3ccLNvjRzHtFvzQqMuVUoxJhxbKqTkB\n",
       "Z6eTRNtAXSOraiMEsdiQuI81/9ewiAhpwhpNlinKmvzEIQMxzx4ybtiY23R9zjh2MmUhOPgAAACX\n",
       "AZ5BeQ3/AH9GkZUJZtLnYZVxJLfag98KBPMFwdANu0nAf9kTvB5I25Xar2fmMDAL/V7zdEepok5+\n",
       "u/tATpHVA6tShqZ91S2pYLEFkQtcSuDNWMDcduCZMbDd3B88PRxAp8u6vVYNWGpwqZ85U7iBCcs1\n",
       "N/adUd5kpcMTJS7Bf7uH+MK3kLJfzyGicRW9KCjwLTQ5ixdlnQAAAMZBmkM8IZMphBD//qpVAABQ\n",
       "PE3gDcIvB3VIiMBSGvp7h/jdSmgpeoP3mLBUTjP86cNCPMsp1+/0VDzi1ONPp2qREfprdI4WhMDO\n",
       "8PXSdTK+SbDnXIs6nBs7GFXJWl9MlByHNdBkg9Mf/tryuSpzqJKyxeIASnQ6X4ZIeKlXXx9h1OL3\n",
       "FArfw5ebzRb6emtwqafBbkXI/di/rd7c5Aw2hh+KX7QrgxV7Sf3unu807TWuUQRoCm2Y75j92RDv\n",
       "mS8yXZRXYFDgi5kAAABqQZplSeEPJlMFPBD//qpVAABQRCGBXw/cf2QkH8fUBb1yP/ECMjyH/Lep\n",
       "iSCuUUUhD8f3cIlIuuFrcv761bHzxoxlbl6hOiw7TYjpA7KdTRfDU26sALUg/r22kOoz9fTGK6jM\n",
       "apxMb1AJOAAAAFQBnoRqQ38AAN0AKGs6DBMpsFp1y0ItCgBKm94VFWR73PRq0DhH81IZputu1b1Q\n",
       "pZLpUX2D8mE3uuhZG2g5+CL02TVxxEuERgF9BfWhP9LaTY+NFbAAAAC3QZqGSeEPJlMCCH/+qlUA\n",
       "AG8ovEgCgn6NdbXarFGsb/+HTJI8yL32j6LqGZf/5QeCFX//V0EuCiWZJwGYfa/TJ+htWs//rV6m\n",
       "Hetv8v5cqzJ1q/lYyfr7zluM99uP1+Hkb3xrqoVmDN7qRrBHQ+/ro/NlpLWpySpeX1fj7tO4m/SK\n",
       "mJXKO7rm+LbgN4qSWg5dgIcm7DFmnDHLKgq61PCK8D4LGIFaOeQUvFoYxD3RFpfU8ZCBkgPnAAAA\n",
       "80GaqUnhDyZTAgh//qpVAAC8ZXP/H+ch4AL5qdB2KS/cwDvGsnasXsHreA0gwvyk7fAXwrCB6rw2\n",
       "Y8pqi33XFI17jQH7zIxNsWBwQstrzV1nJHNkrMMgYPnu2HF1xRUGpGJl0TvsUg3roZ8EvewjmXkQ\n",
       "e6mUs9UUxpZiFvVzrdi0VzJYGaf8wRxS+TLxdTb03PQ8FiBCKrM/J1jwo5KQ4o0iMC4Z8NNipzgk\n",
       "UFSM1AKE631Pu98kGPmUHohygMj1wfrno7AsUJH3T6ZLY5z/PlkB0TL8AJbHae6dQp64AGwMWpIr\n",
       "NpcAMpKRDDHl4ZHSuayggAAAAL5BnsdFETw3/wAB/ChAc56NIdUUZcXBJbon2AoATLGk1fooL+4K\n",
       "nEqnQzZTOZCGaX3tWXUacsT7/KoSGXpkUGUexL0omPsaFs4beV1+FdFwZX7puiYSBFzb/wzqke6G\n",
       "FP7pNF+LWi5Oq09KNem3qeD71zy+KCxsa/WMEsOWM9ExauT6FmG2DLFKSWj+JhlLAu7HysqOQMHu\n",
       "Yzt9/wcWlopdAol39s95mpEW+xanQ6iysLWvSdsRXu1P6GxnQghZAAAATgGe6GpDfwAB/AjK3ajC\n",
       "jnhiz2M7hM8bl8s4LzrdoABzP6zuBPY71Vti25OgN+1Mm28yQTljbOtOmDMad50hXK2V4Ld9Dzkh\n",
       "VPaa6hsBQwAAAHhBmuxJqEFomUwIIf/+qlUAALuIVK0BLrCutkwlofOOEZElbYb1IkBGEBHus+Bq\n",
       "UkHWUs42AAAGQIQ+xAyIAEEf1roIEV0X9dKKrMkKhH8AB/+CH27JWo82VGPPRHHRvXpo0MPRww2g\n",
       "psIiPuwMLh9H6i6j7SxpzcEAAADDQZ8KRREsN/8AAguRdC8ADUOgx/ECMJsLNSGnXm4IlwxnkcDQ\n",
       "8Xxr90kOGSZp2zIvJJfefz/AONbChAjAyRbxjLz9ehwwHNZMAOL18wAWFez2oYU0gkGefd6skj+i\n",
       "h7M0BduoWDt3GWktfLjm0rnEGOmAOvMjU71ZvF5t2Us/3vOWLU2fOl6jecwIAWFQVdJnkEv+0UMD\n",
       "jd24i4yYuQlVIrYJ8BPTawjf6pwTnBxVG3pg1U+OC7uHiL+tmXCYKfCIZzphAAAAfQGfK2pDfwAB\n",
       "8XTsNAo459auBc9CVDa2q/Cpk3jDhakyB9Lax/S+pbtvxk74AFcd4IT0QdZz9IM7cjwZ3MRgTZQ9\n",
       "QPDICoxUSITU67V6Xb1HuXVGFl0urVIU+awYZBTO3VZzm7zjGDc2B1imbZnb2Fp7omg3mjQ6sKFK\n",
       "LGLBAAAAgUGbLUmoQWyZTAgh//6qVQAAXcBSMJIAQWkkK39gup3f/glkBfkpsyotbch2VB5A2rL5\n",
       "1kM+/7LgQYfmMb0t7K7KdVtgOYSp1y/3/hgBae7Waj88fQ/H0C25lo6MO21xUs/2jXkDboenOEA6\n",
       "PLRcU5RCdUZS5qUrPoSgMaxlFH7wCQAAAHpBm09J4QpSZTBRUsEP/qpVAABePi9eq7HARgmuuuvR\n",
       "9F6k2pOh6PUA5CRFhixIMBIyz7WHPR4U8soAA6x/nNeR/pCGZVqZGP9dVlTugKMbY1SIu/JnN5w+\n",
       "lNpm7wZcFupktJ0lQ6Mvz5x8IhQO/1TUXTu8ZvOK/3YImAAAAKABn25qQ38AAgrsnGdBW7uRReBw\n",
       "NUhRxPAAH7yoeYBj8DHkACsn/rn0QLtb+kHpiADe8AY6HUDwUlsGNbH6y7NonPHF2buMXLT/WhJz\n",
       "+ARWNPpzw0hYf0/tIvCcti4RYMxH6qlUbLOQUtUmdyy715cGGdIyqMQZBP7QUcSNJ5XZCsJZCsX6\n",
       "dPKumUnQKmk4t/ys/MEgsfFKlYP0rjHFmCKgAAAA2UGbcUnhDomUwUTBD/6qVQAAUEbufAE8EjQ5\n",
       "hLqYl4jgiQGGqjPJAFUZq9IpNazKBrsrNwwzA+0xrFsZDfQPEQYpJ3EC0DFKxIJ1eZJX5XdIUC1g\n",
       "/UwaOnGtLzaPqfrCYGLBnjy0ZHWHMNiiFd91Ex6r8lZk1t0rwzAIePUAUFZb33JK8BmSVbLMGKPL\n",
       "Opg18pm9yQR9Jmp7am/oxA1wATob8HPLLyPwq3GZbjkiPQy+KzxWeBUlC9Qsw7qaP4ed0qwjoOXQ\n",
       "krXt89amNDNVLlzpPd1KCw6jRi8AAABwAZ+QakN/AAIK7Jtgt6jq82FUrZ+GPLi6sCgE8wv4hPbw\n",
       "tBe7nsAFfRLpBiM96DoE+BrrZc85n4LWDAdQ2t/vQsNpTBr66/0WOuTuptPLdNdUmeLmQRsa8CVt\n",
       "/i5Fcd8bSF1n6QnKMq9EiG3BIhybgAAAAOBBm5NJ4Q8mUwU8EP/+qlUAC7fbsAA2n259i60tLGzv\n",
       "ZgOv5m79tB60n65yxb7ZzZTj/RpZT45D+QO7Rfd0pu+sHuqcmml0eBpsYkvKrRzsN0W9OnetIy/E\n",
       "zMY8kIxQ4WNEFM24ZE7PdE3OTNYlT8hjtri6yXKBZubQzlLpXbcvbOteiOBYQ1AwB65i16lRzQ9F\n",
       "AwM/2a37Xd7XW9HWQDswJ1Lnv34ru4PBIaeTrW8JschNknEC4Zbk1KX6zAvfYWsDAOOSB0vLnqOD\n",
       "gyYmFQMKV5uV0Bzvna/UiNFX1gPjHAAAAGQBn7JqQ38AD+FCA5z0aQ3Nc2ZpKOqPZwFFs5o3QA0U\n",
       "Dl1T8gUg3JHP+bWYUbmVB/E9jwYO1tk/WDhg1s9eAg7niww8U1c6GeNWDYGPxhcUABoYBfKxTnz4\n",
       "JSinuOiKT6a3ZgSdAAAAiUGbtUnhDyZTBTwQ//6qVQAF3AWwxN80nYrla7PTnOH8AUUanM4lBt2N\n",
       "fwgAaAtlv6ytb5s50PYrLoeXlyhkba1SAlwcI/dJxhf1TUMcNwWFOAY+pJaMLgE6J1Ox3lFRn+IF\n",
       "U93tVBiizIKDFyB8sc9RWsgjgzjCqMNy7cblrHcUJxu3TmckINWxAAAATgGf1GpDfwAP241Wal20\n",
       "uDB2WKJaA8nc2oaMprRUyrxtKYGgc4QAs3eTbPtW5cwtIALKCdr3BxK2TqS5S6ZeQT7ytBmG4cdJ\n",
       "q+VoVGgXcQAAAMNBm9ZJ4Q8mUwIIf/6qVQAF4+LqO8g2R9vTEvVoLe+weYOli4q57dAETW//adgL\n",
       "i5CKhu+4+2Z8ZJiPBYkP/4V+J9bjy6z/4H1GCQb7z8chCc8fLpyn2ItbHf4Uvv/2qF6gCb/AIVNp\n",
       "0XTEXL3/rcL7yIS3Ulk4W7HPovBgueBgxis1/GoS/X38g/AtcdONjIgEIGWAgLe3wfs7rylxl/JI\n",
       "CqJi+MzxllVmqhSzDsXuUZ991ur0Kwtgjzs0qEbXha52vYAAAABjQZv4SeEPJlMFETwQ//6qVQAC\n",
       "7gLYdcUG/gKNiLAQpGvaI/3CRPhBWCq9wf24BQnsGOA2Ec1kMoZQ4sP2QlUFMV/akSnHzJp0ZCim\n",
       "P726d/1ZnzEtIZ7hf9oj6luFOSZRLC0gAAAAWAGeF2pDfwAH8NcMMpogBK4+HfBjGzOvmppSTMet\n",
       "Ds0LXFJatSVxelfVlS9zFwb8DTGgiFKikcRljUCMwbMJK4cWXzHtZ5Q37KY2MuO0I4/iSYCN109Q\n",
       "VMEAAABgQZobSeEPJlMCH//+qZYAC3/Ctrw9QTR2bWWhe07/ZY4378YssFIfIwROhDZI9DgbZnp0\n",
       "FJcuE+HwACcOzdgFuABZfB8CaQuHqDwTg1K/eFIg9hieq8L/Xzi/j1a5LktoAAAAi0GeOUURPDf/\n",
       "AAfwJEgIAAmos+1yYwm+XlQPfKBPDjT5gXxT0ltTzLL8CP4anLqc/3nMZNnrW0+DhaE6lF9E7FCX\n",
       "QBT0IevZ/mqsAcQ7JST/YfgwpST/PioIIS6p1wN28zfmf0moRdlczrqXk4p3ZrbUnBkO6mkLVsxN\n",
       "DJyZqI7yMUImauw/pWUQJ2AAAABJAZ5aakN/AAfvtYRhsMJ4A7FMzbuC3rkz2AALGLdXn+wadiO8\n",
       "BanQAEg81lNGN4AEeqGkkMQYomVnYOsf0AwurjIy+z7BqnS6gQAAAMtBmlxJqEFomUwIIf/+qlUA\n",
       "AXcWjkbPN8e9/4eDVzgtTMAL/eVSGLhyeKMgdOeQtP2GH26zY/pMsp/l/9KrXWFDSvvlRAy2Y2mA\n",
       "tuTEopmhruXu3EhtW8kK539jCQbHpBGpEkjyrSIFxZjIk/+ki3pI6bw6DGTOVP1p4sEd7JwLp0p9\n",
       "sbsOovcdosm1vT20x2LZNUxN9e6FgvqWb5KKXRqQJJrMC3PXzDtrnQEF2LtJ1Pwd7UAvefFK5rcH\n",
       "6oKjQUTD6hmz2+2x3Ac42AAAAF1Bmn5J4QpSZTBREsP//qmWAAW/4VteHqCaOzay3G96E14JUnRj\n",
       "WBax1oazMPg6GVV+f/0QAZ846q8PmNtVYP0uv26cupvzr5Qr1vuleQIJOdXuQ5MiqoHOnYTaGLEA\n",
       "AABoAZ6dakN/AAP32sjwEVvkxQI3/mwOuXJrAeClf8tu7InPwz+ltUI4U40NYem42omosaTv/7pZ\n",
       "WfAVlWHGONE4wAAAPxJuVzMhr04nB5U29N7QawZ6FLFFpx4VgMk7hkF/iqSHfY2wlYEAAADEQZqf\n",
       "SeEOiZTAh//+qZYAAt6JNlhHOAih48XpESfJligAEZWytXHEpNJtKeNsNp8zOXTHDcx4/1Blnm4U\n",
       "1EM83HFpCyM8BKkKeHW9ICMzUHT2Gdv/c8lhuj+5DFbMa0I22nDrfTAkzBTKrBgxKpbq442N9u8y\n",
       "+ksYf1AiHV69bTqXEwCUK12wtLefa03ac3dvbtFAV+srto59zPr/R85m+MNOhi9puxREbQFlSof/\n",
       "vd4W58Oyvwvekm1UqymdgLRVB/S2YAAAAGlBmqBJ4Q8mUwIf//6plgAC2/IWOyg0gA0DgNdA8jvk\n",
       "oW6ogZkTcj81IPY6pR+vm7tQKQuHfZAwAmbBEfz9Rovfen9aj80/XiN4eT6azdI7bqvd0nJ7Yb+b\n",
       "7yDd30y/wHlK7CiJSYRi1IEAAADPQZrBSeEPJlMCH//+qZYAAtvydUJACC0vOMEd2oa06Hhqi4yB\n",
       "ALqhB50yBa+YS+iWCUtbGaJhWkMFUw1U3/rjH/QuoVjC+K/2r0mNpgGR8JCNYMhxQRO/1IP0TPRl\n",
       "VDLDNF20GWceXkSyLVw3/TjTUht/3Be6fbNOWbGw7T7GVLoU924Uq6AcRIsEEPVFwH9b1d+3KU4I\n",
       "1urhx1P9s9+/R7OtlnKAFG6qF1bxrtQyB0CA7teozSE6bZLXawO82UYm5M1zNg+/BbBrcjkAnYTA\n",
       "AAAAuEGa4knhDyZTAgh//qpVAAC8fF69V2OAjBNdLUnNh7LHoCFh28AAbs0tbk5F6Bz2xOBvEmV6\n",
       "KxfHtGEeEBvoc2NmQnP2Xlme22o8WnNsXJlXg/EdCrFe4QZ7H8KVhojeW7MBU2aRh/ov0vpcLq51\n",
       "hnTTeEM+aFgT+suArjxP8uCtCaQ0TaR+UIsyM2AIAabSGKFHwjc1cSXmE0EqcgffMwKhnbAEkzFN\n",
       "cHZyC71AHy0Vtt1cjaVBpSUAAACQQZsESeEPJlMFETw///6plgABbfl1T+GPmkNadULqWOyb1yov\n",
       "lx+1nR667ZgcBOkwkK4iDABbwZvzfl90wapWH+d63WwKypLSqcnWp+UewWPBgHrCkGokks+/non2\n",
       "p/7Lf0/CFO3nykFZ33C835ebIEAlxtiszkcEKIRJnir1ByL+R3iVgxxu7iBAxuwPAIOBAAAAZQGf\n",
       "I2pDfwACC4k9yvHBxEUAJUK1tnL7dlXdDIVmt5OZtnoz1rHwEDjAZKPG1UX/ORmSHdcY2U99HMWo\n",
       "/9zSgdYFhr5rUUIZZpnw/IxcEkdK1yNbhWvcAMMDIdJpYkYFOxwHfumAAAAAp0GbJUnhDyZTAgh/\n",
       "/qpVAABvKLxIAVyqA2ilOpSMjf/4GkjzLNpHalzZ3BZdi//1UA9s8yM1ka/TJ+htZcPhFM+rIKI0\n",
       "rs3i5xyF4Y6Sz43/7HNnupm7Yj8MANC4D0i6xfB//2/pYiNLAa0jtMUfULtqbb62fzQZX9h3pINn\n",
       "ncRgt4NmlL3PhbAZnTNMBNHVBfgznrM8N53tEeZPom5VX2tpNp/v16boAAAAiEGbR0nhDyZTBRE8\n",
       "P//+qZYAAbK5giISYwwh4xbVkCegBGLr7vObiCih/jagyvgBEJBnGZIu3LO05Fd4BwSxjVh02ZKV\n",
       "WKxC2ubMhm+92LBaZRd45hFhZNvoZZUaxOA9GJMKNrQroJ3j3JFvZMvw8hPYmL3kqNyRgfy2SCa/\n",
       "Ju+9LapU/vX1jMkAAAB3AZ9makN/AAE1jJSMNhhWjQe+C2E4AC+VQMnhlYKRSVuqgHvnKFsErdHH\n",
       "DN5tEYUTwRVRiX4RioR6Mc2h5BwHQawmftnnQOG0FLYoD2vGGNWFkLTVObIWBbx8ko6+IqwE3/AA\n",
       "f0Jje3xHMRSiUaoamNHpEIykMxYAAACMQZtoSeEPJlMCH//+qZYAAbKbJYAS1QLVwimf8nvWQznc\n",
       "eNPWr3VI+/4QZLlwLU78QhqIzY3pCFGSgeUikTD33eHU+IGBQMVyejDu6qhL5gwjWVeFuUdUfe6l\n",
       "wKrk+EXMjE4ATq91keLHBCJ/cLsjUUPA9dJYAzn4QwWxqXvLyD1QY1gl9gPnbY4xCicAAABiQZuJ\n",
       "SeEPJlMCH//+qZYAAbK5giISYwwiSMDL1AZr0p00HQCcIccMio7MLrUi/mvsm+VSbp32VLH1KGAO\n",
       "fk1HBWg+vnuFEuwE5nx0C7Mc+s79OH4CIzQDQcWOiOm9i613y6gAAACsQZuqSeEPJlMCH//+qZYA\n",
       "ATg91wAEBwFy4TAg5Ie1v+mW4LDCm9aXTz8XfSao4CmpluHqZr9VNt9jphp7vTeAA2CyDWU3fifX\n",
       "DTpcMmT8GhqtdA2YC94nPVwDsOTf69HxQPDerb77AKy6KHRiMSlCGzCsXa4gW183+gUQS9tekpj1\n",
       "pR0vH3TefZXqgq6H5N+kbgRRRgTnEk8iGcYposyxHJUV1BTpY0FhiezBlQAAAJFBm8tJ4Q8mUwIf\n",
       "//6plgABspslgA/oN3NMm2ezkg00bWab47tVuf5ziqyyO+SgeUikSBE4WEc1RWxIxMcmROmFwk5k\n",
       "yfrLZ/+GAWBGmaP826kDDAgkoCG1g+HZqdFGJMxG3ApmBKHqUqA0Yd8Tk0r/1H2RtB4bEzVvDZuk\n",
       "8KS5k/p7TNqvchpWW570yAWw1iDhAAAAwUGb7EnhDyZTAh///qmWAALfl1f4/zbEAA0Vsm+V4UPS\n",
       "XheylQ6Wi9b9GvloFwjwOCVCM2SVW1HBxelw6JDrDCM1LZLgztz6HOmU9U7xfnr0duHMKmb3KB63\n",
       "2f46SboyvFuvAlNLdJEj1/ntR4b41JLnSzeafO/ua05aZQUMnDoNQyAgq2HU3hPXb5CYavl07xo8\n",
       "M7EZOYtqShXoEjOMsqmDCCM8cJrYsS9BKde//32qy/zWdSBSUHNfLizKBRiy2XEAAABrQZoNSeEP\n",
       "JlMCH//+qZYAAtwTBEQkxir9KmoHK17J8gj8/XkOpRX6te7RFrbu4IeQanAFQW9+oE5k/ZG4hw7D\n",
       "uELnoAKLl0CjIWkNZOSjKg2Gyh1btjUhB8X1/1Vss/kWFKPC8AFl6CiR/dMAAABdQZouSeEPJlMC\n",
       "H//+qZYAAbLHAruHHBupBflTOqqnQAaTKP1rJLTwhaFASyIKSv1ktYP6st//HFeursORdKoIlfzu\n",
       "pT0ifbwVP922JwsA6kYB10Pfkya5TcPexT/AAAAAjkGaT0nhDyZTAh3//qmWAAGyuaKn0qmL+mw1\n",
       "F1ABsXEPGFt2HMxweuyePgurh8SkR5kLMFBhFcoCbpPMAofVDqifuRfbaXkzfbyrdxXtkRSbMqRF\n",
       "6P6z5/x3z+AbQRJyfGn4NqCO/YGN4eqsMsnsd+EwmRfZ1H73XazcfNeFSfe0oUt7UACwemOPRKMD\n",
       "7YEAAABfQZpwSeEPJlMCG//+p4QAAtXnqVd4E5iTXK0kvN4HOFSZYRw7spaCf2zSzTusyxI9DP/v\n",
       "EALWAf+cQqXOgQK/nM/exUf6uP7yz11J41gbKe6Fc4itELtB7tT1dVVDRVsAAA8ebW9vdgAAAGxt\n",
       "dmhkAAAAAAAAAAAAAAAAAAAD6AAAdMwAAQAAAQAAAAAAAAAAAAAAAAEAAAAAAAAAAAAAAAAAAAAB\n",
       "AAAAAAAAAAAAAAAAAABAAAAAAAAAAAAAAAAAAAAAAAAAAAAAAAAAAAAAAAAAAgAADkh0cmFrAAAA\n",
       "XHRraGQAAAADAAAAAAAAAAAAAAABAAAAAAAAdMwAAAAAAAAAAAAAAAAAAAAAAAEAAAAAAAAAAAAA\n",
       "AAAAAAABAAAAAAAAAAAAAAAAAABAAAAAAbAAAAEgAAAAAAAkZWR0cwAAABxlbHN0AAAAAAAAAAEA\n",
       "AHTMAAAIAAABAAAAAA3AbWRpYQAAACBtZGhkAAAAAAAAAAAAAAAAAAAoAAAErABVxAAAAAAALWhk\n",
       "bHIAAAAAAAAAAHZpZGUAAAAAAAAAAAAAAABWaWRlb0hhbmRsZXIAAAANa21pbmYAAAAUdm1oZAAA\n",
       "AAEAAAAAAAAAAAAAACRkaW5mAAAAHGRyZWYAAAAAAAAAAQAAAAx1cmwgAAAAAQAADStzdGJsAAAA\n",
       "s3N0c2QAAAAAAAAAAQAAAKNhdmMxAAAAAAAAAAEAAAAAAAAAAAAAAAAAAAAAAbABIABIAAAASAAA\n",
       "AAAAAAABAAAAAAAAAAAAAAAAAAAAAAAAAAAAAAAAAAAAAAAAAAAAGP//AAAAMWF2Y0MBZAAV/+EA\n",
       "GGdkABWs2UGwloQAAAMABAAAAwBQPFi2WAEABmjr48siwAAAABx1dWlka2hA8l8kT8W6OaUbzwMj\n",
       "8wAAAAAAAAAYc3R0cwAAAAAAAAABAAABKwAABAAAAAAYc3RzcwAAAAAAAAACAAAAAQAAAPsAAAdQ\n",
       "Y3R0cwAAAAAAAADoAAAABAAACAAAAAABAAAQAAAAAAIAAAQAAAAAAQAAEAAAAAACAAAEAAAAAAEA\n",
       "ABQAAAAAAQAACAAAAAABAAAAAAAAAAEAAAQAAAAAAQAAEAAAAAACAAAEAAAAAAEAAAwAAAAAAQAA\n",
       "BAAAAAACAAAIAAAAAAEAAAwAAAAAAQAABAAAAAABAAAQAAAAAAIAAAQAAAAAAQAAEAAAAAACAAAE\n",
       "AAAAAAEAAAgAAAAAAQAADAAAAAABAAAEAAAAAAQAAAgAAAAAAQAADAAAAAABAAAEAAAAAAYAAAgA\n",
       "AAAAAQAAEAAAAAACAAAEAAAAAAEAAAgAAAAAAQAADAAAAAABAAAEAAAAAAEAABAAAAAAAgAABAAA\n",
       "AAABAAAIAAAAAAEAABAAAAAAAgAABAAAAAADAAAIAAAAAAEAAAwAAAAAAQAABAAAAAABAAAIAAAA\n",
       "AAEAABAAAAAAAgAABAAAAAABAAAIAAAAAAEAABAAAAAAAgAABAAAAAABAAAMAAAAAAEAAAQAAAAA\n",
       "AQAAFAAAAAABAAAIAAAAAAEAAAAAAAAAAQAABAAAAAABAAAQAAAAAAIAAAQAAAAAAQAADAAAAAAB\n",
       "AAAEAAAAAAEAAAgAAAAAAQAADAAAAAABAAAEAAAAAAEAAAgAAAAAAQAADAAAAAABAAAEAAAAAAEA\n",
       "AAwAAAAAAQAABAAAAAACAAAIAAAAAAEAAAwAAAAAAQAABAAAAAABAAAMAAAAAAEAAAQAAAAAAQAA\n",
       "CAAAAAABAAAQAAAAAAIAAAQAAAAAAgAACAAAAAABAAAQAAAAAAIAAAQAAAAAAQAAEAAAAAACAAAE\n",
       "AAAAAAEAAAwAAAAAAQAABAAAAAABAAAIAAAAAAEAABAAAAAAAgAABAAAAAABAAAIAAAAAAEAAAwA\n",
       "AAAAAQAABAAAAAABAAAMAAAAAAEAAAQAAAAABAAACAAAAAABAAAQAAAAAAIAAAQAAAAAAQAACAAA\n",
       "AAABAAAMAAAAAAEAAAQAAAAAAgAACAAAAAABAAAMAAAAAAEAAAQAAAAAAQAADAAAAAABAAAEAAAA\n",
       "AAEAAAgAAAAAAQAAEAAAAAACAAAEAAAAAAEAAAwAAAAAAQAABAAAAAABAAAUAAAAAAEAAAgAAAAA\n",
       "AQAAAAAAAAABAAAEAAAAAAEAAAgAAAAAAQAADAAAAAABAAAEAAAAAAEAAAwAAAAAAQAABAAAAAAB\n",
       "AAAIAAAAAAEAABAAAAAAAgAABAAAAAABAAAIAAAAAAEAAAwAAAAAAQAABAAAAAABAAAMAAAAAAEA\n",
       "AAQAAAAAAQAACAAAAAABAAAQAAAAAAIAAAQAAAAAAQAAEAAAAAACAAAEAAAAAAEAAAwAAAAAAQAA\n",
       "BAAAAAABAAAIAAAAAAEAAAwAAAAAAQAABAAAAAABAAAIAAAAAAEAAAwAAAAAAQAABAAAAAABAAAQ\n",
       "AAAAAAIAAAQAAAAAAgAACAAAAAABAAAMAAAAAAEAAAQAAAAAAQAADAAAAAABAAAEAAAAAAEAAAwA\n",
       "AAAAAQAABAAAAAABAAAIAAAAAAEAAAwAAAAAAQAABAAAAAABAAAQAAAAAAIAAAQAAAAAAgAACAAA\n",
       "AAABAAAMAAAAAAEAAAQAAAAAAQAADAAAAAABAAAEAAAAAAEAAAwAAAAAAQAABAAAAAABAAAIAAAA\n",
       "AAEAAAwAAAAAAQAABAAAAAABAAAIAAAAAAEAABAAAAAAAgAABAAAAAACAAAIAAAAAAEAAAwAAAAA\n",
       "AQAABAAAAAABAAAIAAAAAAEAAAwAAAAAAQAABAAAAAABAAAIAAAAAAEAAAwAAAAAAQAABAAAAAAB\n",
       "AAAMAAAAAAEAAAQAAAAAAQAACAAAAAABAAAMAAAAAAEAAAQAAAAAAQAADAAAAAABAAAEAAAAAAIA\n",
       "AAgAAAAAAQAADAAAAAABAAAEAAAAAAIAAAgAAAAAAQAADAAAAAABAAAEAAAAAAEAAAwAAAAAAQAA\n",
       "BAAAAAABAAAIAAAAAAEAABAAAAAAAgAABAAAAAAEAAAIAAAAAAEAAAwAAAAAAQAABAAAAAABAAAM\n",
       "AAAAAAEAAAQAAAAAAQAACAAAAAABAAAQAAAAAAIAAAQAAAAAAQAADAAAAAABAAAEAAAAAAEAAAgA\n",
       "AAAAAQAADAAAAAABAAAEAAAAAAEAAAgAAAAAAQAADAAAAAABAAAEAAAAAAEAAAgAAAAAAQAAEAAA\n",
       "AAACAAAEAAAAAAEAABAAAAAAAgAABAAAAAABAAAIAAAAAAEAAAwAAAAAAQAABAAAAAABAAAMAAAA\n",
       "AAEAAAQAAAAAAQAADAAAAAABAAAEAAAAAAEAAAwAAAAAAQAABAAAAAABAAAIAAAAAAEAAAwAAAAA\n",
       "AQAABAAAAAABAAAQAAAAAAIAAAQAAAAAAQAACAAAAAABAAAMAAAAAAEAAAQAAAAABAAACAAAAAAB\n",
       "AAAMAAAAAAEAAAQAAAAAAQAACAAAAAABAAAMAAAAAAEAAAQAAAAACQAACAAAAAAcc3RzYwAAAAAA\n",
       "AAABAAAAAQAAASsAAAABAAAEwHN0c3oAAAAAAAAAAAAAASsAAA/wAAACTgAAAIIAAAB7AAAAfgAA\n",
       "ALsAAABSAAAA1AAAAKYAAACKAAAA0gAAAIgAAACiAAAAcwAAAG0AAAB9AAAAXwAAAGoAAACVAAAA\n",
       "2QAAAMgAAABnAAAAYwAAAGEAAABlAAAAugAAALEAAACVAAAASgAAARcAAAB3AAAATgAAAOEAAACi\n",
       "AAAAfgAAAH8AAAC/AAAAZwAAAKcAAABTAAAAYQAAALEAAABkAAAAwgAAAJQAAACjAAAAXQAAAI0A\n",
       "AABuAAAAaQAAAIEAAABJAAAAaQAAAJMAAABoAAAAdQAAAGUAAABNAAAAxwAAAM0AAABzAAAAUQAA\n",
       "AGsAAAD9AAAAqwAAAEsAAACJAAAAigAAAJkAAABlAAAAzAAAAGIAAADIAAAAlgAAAIcAAACOAAAA\n",
       "bgAAAF0AAABjAAAAvgAAAIEAAADbAAAAagAAAF4AAADCAAAAewAAAJcAAABlAAAAkgAAAUMAAACp\n",
       "AAAAngAAAE4AAABxAAAAfgAAAM8AAABgAAAA6AAAAFQAAABwAAAAvwAAAJAAAACYAAAAagAAALcA\n",
       "AACwAAAApQAAAIMAAAB9AAAAzgAAAGEAAABlAAAAbAAAAHEAAABhAAAApgAAAHYAAABjAAAA6gAA\n",
       "ARUAAAB1AAAAbwAAAJUAAACUAAAAaAAAAK8AAABUAAAASgAAAMwAAADPAAAAZgAAAFcAAABfAAAA\n",
       "eQAAAMAAAABuAAAAdwAAAE8AAABmAAAAtAAAALMAAADdAAAAuQAAAGkAAAB7AAAAhAAAAJwAAAB/\n",
       "AAAAkwAAAU4AAACVAAAAgAAAAEYAAAC7AAAAigAAAFcAAAB3AAAASwAAAOUAAAB2AAAA0QAAAFMA\n",
       "AABpAAAAiwAAAGQAAAB+AAAAOwAAAKwAAADLAAAAYgAAANwAAACZAAAAZwAAAIIAAACeAAAAPAAA\n",
       "AIcAAACxAAABEgAAAJoAAAC7AAAAjgAAAKwAAACUAAAA3gAAAJgAAACPAAAAmQAAAK0AAABaAAAA\n",
       "uQAAAF8AAACFAAAAhgAAALkAAABPAAAAogAAAKQAAABtAAAAaQAAAHsAAADXAAAAvQAAAOEAAACX\n",
       "AAAAlQAAAMUAAACtAAAARgAAAN0AAAB0AAAAfAAAAL8AAAClAAAAggAAAN0AAACYAAAAtwAAAIkA\n",
       "AAB2AAAAXAAAAGkAAADRAAAAjAAAAKEAAABnAAAAywAAAIsAAACGAAAAYgAAAFoAAABmAAAAZgAA\n",
       "AE0AAAEvAAAAPQAAAHQAAACLAAAAuQAAAN0AAACYAAAAXgAAAKQAAACkAAAAbgAAANsAAABrAAAA\n",
       "VwAAAIQAAACRAAAOWwAAAg0AAACbAAAAygAAAG4AAABYAAAAuwAAAPcAAADCAAAAUgAAAHwAAADH\n",
       "AAAAgQAAAIUAAAB+AAAApAAAAN0AAAB0AAAA5AAAAGgAAACNAAAAUgAAAMcAAABnAAAAXAAAAGQA\n",
       "AACPAAAATQAAAM8AAABhAAAAbAAAAMgAAABtAAAA0wAAALwAAACUAAAAaQAAAKsAAACMAAAAewAA\n",
       "AJAAAABmAAAAsAAAAJUAAADFAAAAbwAAAGEAAACSAAAAYwAAABRzdGNvAAAAAAAAAAEAAAAsAAAA\n",
       "YnVkdGEAAABabWV0YQAAAAAAAAAhaGRscgAAAAAAAAAAbWRpcmFwcGwAAAAAAAAAAAAAAAAtaWxz\n",
       "dAAAACWpdG9vAAAAHWRhdGEAAAABAAAAAExhdmY1Ny44My4xMDA=\n",
       "\">\n",
       "  Your browser does not support the video tag.\n",
       "</video>"
      ],
      "text/plain": [
       "<IPython.core.display.HTML object>"
      ]
     },
     "execution_count": 60,
     "metadata": {},
     "output_type": "execute_result"
    }
   ],
   "source": [
    "test_anim = ut.create_system_animation(frames, n_episodes * episode_length)\n",
    "plt.close()\n",
    "\n",
    "HTML(test_anim.to_html5_video())"
   ]
  },
  {
   "cell_type": "markdown",
   "metadata": {},
   "source": [
    "## Testing the trained model on extreme (hand-crafted) observations"
   ]
  },
  {
   "cell_type": "markdown",
   "metadata": {},
   "source": [
    "Coming soon...\n",
    "\n",
    "* See if when two plants are empty the model is able to predict well the left most empty tank.\n",
    "  if not, try to train the model with data that has this situations. And if the problem persists,\n",
    "  try to use the sigmoid function as activation function, since it is not zero when the input is zero."
   ]
  },
  {
   "cell_type": "code",
   "execution_count": null,
   "metadata": {
    "collapsed": true
   },
   "outputs": [],
   "source": []
  }
 ],
 "metadata": {
  "kernelspec": {
   "display_name": "Python 3",
   "language": "python",
   "name": "python3"
  },
  "language_info": {
   "codemirror_mode": {
    "name": "ipython",
    "version": 3
   },
   "file_extension": ".py",
   "mimetype": "text/x-python",
   "name": "python",
   "nbconvert_exporter": "python",
   "pygments_lexer": "ipython3",
   "version": "3.6.3"
  },
  "toc": {
   "nav_menu": {},
   "number_sections": true,
   "sideBar": true,
   "skip_h1_title": false,
   "title_cell": "Table of Contents",
   "title_sidebar": "Contents",
   "toc_cell": false,
   "toc_position": {},
   "toc_section_display": true,
   "toc_window_display": false
  }
 },
 "nbformat": 4,
 "nbformat_minor": 2
}
